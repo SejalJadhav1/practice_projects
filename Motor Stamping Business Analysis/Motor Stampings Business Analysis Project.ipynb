{
 "cells": [
  {
   "cell_type": "code",
   "execution_count": 1,
   "metadata": {},
   "outputs": [],
   "source": [
    "import pandas as pd\n",
    "import numpy as np\n",
    "import os"
   ]
  },
  {
   "cell_type": "code",
   "execution_count": null,
   "metadata": {},
   "outputs": [],
   "source": []
  },
  {
   "cell_type": "code",
   "execution_count": 120,
   "metadata": {},
   "outputs": [],
   "source": [
    "data = pd.read_excel(\"bdm.xlsx\" , \"Sheet2\")"
   ]
  },
  {
   "cell_type": "code",
   "execution_count": 121,
   "metadata": {},
   "outputs": [
    {
     "data": {
      "text/html": [
       "<div>\n",
       "<style scoped>\n",
       "    .dataframe tbody tr th:only-of-type {\n",
       "        vertical-align: middle;\n",
       "    }\n",
       "\n",
       "    .dataframe tbody tr th {\n",
       "        vertical-align: top;\n",
       "    }\n",
       "\n",
       "    .dataframe thead th {\n",
       "        text-align: right;\n",
       "    }\n",
       "</style>\n",
       "<table border=\"1\" class=\"dataframe\">\n",
       "  <thead>\n",
       "    <tr style=\"text-align: right;\">\n",
       "      <th></th>\n",
       "      <th>Date</th>\n",
       "      <th>Size</th>\n",
       "      <th>Quantity Sold Kgs</th>\n",
       "      <th>cost of material(rs per kg)</th>\n",
       "      <th>labor cost (per kg)</th>\n",
       "      <th>electricity cost (per kg)</th>\n",
       "      <th>selling price (per kg)</th>\n",
       "      <th>Production Cost (per kg)</th>\n",
       "      <th>Profit</th>\n",
       "      <th>Total Profit</th>\n",
       "    </tr>\n",
       "  </thead>\n",
       "  <tbody>\n",
       "    <tr>\n",
       "      <th>0</th>\n",
       "      <td>2021-10-01</td>\n",
       "      <td>105 X 63</td>\n",
       "      <td>187</td>\n",
       "      <td>78</td>\n",
       "      <td>22</td>\n",
       "      <td>8.0</td>\n",
       "      <td>148</td>\n",
       "      <td>108.0</td>\n",
       "      <td>40.0</td>\n",
       "      <td>7480.0</td>\n",
       "    </tr>\n",
       "    <tr>\n",
       "      <th>1</th>\n",
       "      <td>2021-10-01</td>\n",
       "      <td>140 X 76</td>\n",
       "      <td>146</td>\n",
       "      <td>78</td>\n",
       "      <td>20</td>\n",
       "      <td>7.0</td>\n",
       "      <td>148</td>\n",
       "      <td>105.0</td>\n",
       "      <td>43.0</td>\n",
       "      <td>6278.0</td>\n",
       "    </tr>\n",
       "    <tr>\n",
       "      <th>2</th>\n",
       "      <td>2021-10-02</td>\n",
       "      <td>105 X 58</td>\n",
       "      <td>18</td>\n",
       "      <td>78</td>\n",
       "      <td>22</td>\n",
       "      <td>8.0</td>\n",
       "      <td>148</td>\n",
       "      <td>108.0</td>\n",
       "      <td>40.0</td>\n",
       "      <td>720.0</td>\n",
       "    </tr>\n",
       "    <tr>\n",
       "      <th>3</th>\n",
       "      <td>2021-10-02</td>\n",
       "      <td>210 X 135</td>\n",
       "      <td>87</td>\n",
       "      <td>78</td>\n",
       "      <td>12</td>\n",
       "      <td>4.8</td>\n",
       "      <td>148</td>\n",
       "      <td>94.8</td>\n",
       "      <td>53.2</td>\n",
       "      <td>4628.4</td>\n",
       "    </tr>\n",
       "    <tr>\n",
       "      <th>4</th>\n",
       "      <td>2021-10-02</td>\n",
       "      <td>140 X 88</td>\n",
       "      <td>5</td>\n",
       "      <td>78</td>\n",
       "      <td>20</td>\n",
       "      <td>7.0</td>\n",
       "      <td>148</td>\n",
       "      <td>105.0</td>\n",
       "      <td>43.0</td>\n",
       "      <td>215.0</td>\n",
       "    </tr>\n",
       "  </tbody>\n",
       "</table>\n",
       "</div>"
      ],
      "text/plain": [
       "        Date       Size  Quantity Sold Kgs  cost of material(rs per kg)   \\\n",
       "0 2021-10-01   105 X 63                187                            78   \n",
       "1 2021-10-01   140 X 76                146                            78   \n",
       "2 2021-10-02   105 X 58                 18                            78   \n",
       "3 2021-10-02  210 X 135                 87                            78   \n",
       "4 2021-10-02   140 X 88                  5                            78   \n",
       "\n",
       "   labor cost (per kg)  electricity cost (per kg)    selling price (per kg)  \\\n",
       "0                   22                        8.0                       148   \n",
       "1                   20                        7.0                       148   \n",
       "2                   22                        8.0                       148   \n",
       "3                   12                        4.8                       148   \n",
       "4                   20                        7.0                       148   \n",
       "\n",
       "   Production Cost (per kg)  Profit  Total Profit  \n",
       "0                     108.0    40.0        7480.0  \n",
       "1                     105.0    43.0        6278.0  \n",
       "2                     108.0    40.0         720.0  \n",
       "3                      94.8    53.2        4628.4  \n",
       "4                     105.0    43.0         215.0  "
      ]
     },
     "execution_count": 121,
     "metadata": {},
     "output_type": "execute_result"
    }
   ],
   "source": [
    "data.head()"
   ]
  },
  {
   "cell_type": "code",
   "execution_count": 122,
   "metadata": {},
   "outputs": [
    {
     "data": {
      "text/plain": [
       "array(['105 X 63', '140 X 76', '105 X 58', '210 X 135', '140 X 88',\n",
       "       '73 X 38', 'V 4', '126 X 72', '140 X 70', '87 X 52', '180 X 95 ',\n",
       "       '180 X 95', '87 X 48', '180 X 115', '150 X 100', '222 X 120',\n",
       "       '165 X 85', 'V 6', '165 X 104', '126 X 63', '126 X 80'],\n",
       "      dtype=object)"
      ]
     },
     "execution_count": 122,
     "metadata": {},
     "output_type": "execute_result"
    }
   ],
   "source": [
    "data.Size.unique()"
   ]
  },
  {
   "cell_type": "code",
   "execution_count": 123,
   "metadata": {},
   "outputs": [
    {
     "data": {
      "text/plain": [
       "array(['2021-10-01T00:00:00.000000000', '2021-10-02T00:00:00.000000000',\n",
       "       '2021-10-04T00:00:00.000000000', '2021-10-05T00:00:00.000000000',\n",
       "       '2021-10-07T00:00:00.000000000', '2021-10-08T00:00:00.000000000',\n",
       "       '2021-10-09T00:00:00.000000000', '2021-10-11T00:00:00.000000000',\n",
       "       '2021-10-12T00:00:00.000000000', '2021-10-13T00:00:00.000000000',\n",
       "       '2021-10-14T00:00:00.000000000', '2021-10-15T00:00:00.000000000',\n",
       "       '2021-10-16T00:00:00.000000000', '2021-10-18T00:00:00.000000000',\n",
       "       '2021-10-19T00:00:00.000000000', '2021-10-20T00:00:00.000000000',\n",
       "       '2021-10-21T00:00:00.000000000', '2021-10-22T00:00:00.000000000',\n",
       "       '2021-10-23T00:00:00.000000000', '2021-10-25T00:00:00.000000000',\n",
       "       '2021-10-26T00:00:00.000000000', '2021-10-27T00:00:00.000000000',\n",
       "       '2021-10-28T00:00:00.000000000', '2021-10-29T00:00:00.000000000',\n",
       "       '2021-10-30T00:00:00.000000000', '2021-11-01T00:00:00.000000000',\n",
       "       '2021-11-02T00:00:00.000000000', '2021-11-03T00:00:00.000000000',\n",
       "       '2021-11-08T00:00:00.000000000', '2021-11-09T00:00:00.000000000',\n",
       "       '2021-11-10T00:00:00.000000000', '2021-11-11T00:00:00.000000000',\n",
       "       '2021-11-12T00:00:00.000000000', '2021-11-13T00:00:00.000000000',\n",
       "       '2021-11-15T00:00:00.000000000', '2021-11-16T00:00:00.000000000',\n",
       "       '2021-11-17T00:00:00.000000000', '2021-11-18T00:00:00.000000000',\n",
       "       '2021-11-19T00:00:00.000000000', '2021-11-20T00:00:00.000000000',\n",
       "       '2021-11-22T00:00:00.000000000', '2021-11-23T00:00:00.000000000',\n",
       "       '2021-11-24T00:00:00.000000000', '2021-11-25T00:00:00.000000000',\n",
       "       '2021-11-27T00:00:00.000000000', '2021-11-29T00:00:00.000000000',\n",
       "       '2021-11-30T00:00:00.000000000', '2021-12-01T00:00:00.000000000',\n",
       "       '2021-12-02T00:00:00.000000000', '2021-12-03T00:00:00.000000000',\n",
       "       '2021-12-04T00:00:00.000000000', '2021-12-06T00:00:00.000000000',\n",
       "       '2021-12-07T00:00:00.000000000', '2021-12-08T00:00:00.000000000',\n",
       "       '2021-12-09T00:00:00.000000000', '2021-12-10T00:00:00.000000000',\n",
       "       '2021-12-11T00:00:00.000000000', '2021-12-13T00:00:00.000000000',\n",
       "       '2021-12-14T00:00:00.000000000', '2021-12-15T00:00:00.000000000',\n",
       "       '2021-12-16T00:00:00.000000000', '2021-12-17T00:00:00.000000000',\n",
       "       '2021-12-18T00:00:00.000000000', '2021-12-20T00:00:00.000000000',\n",
       "       '2021-12-21T00:00:00.000000000', '2021-12-22T00:00:00.000000000',\n",
       "       '2021-12-23T00:00:00.000000000', '2021-12-24T00:00:00.000000000',\n",
       "       '2021-12-25T00:00:00.000000000', '2021-12-27T00:00:00.000000000',\n",
       "       '2021-12-28T00:00:00.000000000', '2021-12-29T00:00:00.000000000',\n",
       "       '2021-12-30T00:00:00.000000000', '2021-12-31T00:00:00.000000000'],\n",
       "      dtype='datetime64[ns]')"
      ]
     },
     "execution_count": 123,
     "metadata": {},
     "output_type": "execute_result"
    }
   ],
   "source": [
    "data.Date.unique()\n"
   ]
  },
  {
   "cell_type": "code",
   "execution_count": 124,
   "metadata": {},
   "outputs": [
    {
     "data": {
      "text/plain": [
       "array(['105 X 63', '140 X 76', '105 X 58', '210 X 135', '140 X 88',\n",
       "       '73 X 38', 'V 4', '126 X 72', '140 X 70', '87 X 52', '180 X 95 ',\n",
       "       '180 X 95', '87 X 48', '180 X 115', '150 X 100', '222 X 120',\n",
       "       '165 X 85', 'V 6', '165 X 104', '126 X 63', '126 X 80'],\n",
       "      dtype=object)"
      ]
     },
     "execution_count": 124,
     "metadata": {},
     "output_type": "execute_result"
    }
   ],
   "source": [
    "data.Size.unique()"
   ]
  },
  {
   "cell_type": "code",
   "execution_count": 125,
   "metadata": {},
   "outputs": [],
   "source": [
    "data.Size.replace('73 X 38' , \"A\" , inplace = True)\n",
    "data.Size.replace('87 X 48' , \"B\" , inplace = True)\n",
    "data.Size.replace('87 X 52' , \"C\" , inplace = True)\n",
    "data.Size.replace('V 4' , \"D\" , inplace = True)\n",
    "data.Size.replace('105 X 58' , \"E\" , inplace = True)\n",
    "data.Size.replace('105 X 63' , \"F\" , inplace = True)\n",
    "data.Size.replace('126 X 72' , \"G\" , inplace = True)\n",
    "data.Size.replace('126 X 63' , \"H\" , inplace = True)\n",
    "data.Size.replace('126 X 80' , \"I\" , inplace = True)\n",
    "data.Size.replace('V 6' , \"J\" , inplace = True)\n",
    "data.Size.replace('140 X 70' , \"K\" , inplace = True)\n",
    "data.Size.replace('140 X 76' , \"L\" , inplace = True)\n",
    "data.Size.replace('140 X 88' , \"M\" , inplace = True)\n",
    "data.Size.replace('150 X 100' , \"N\" , inplace = True)\n",
    "#data.Size.replace('L X 56' , \"O\" , inplace = True)\n",
    "data.Size.replace('165 X 85' , \"O\" , inplace = True)\n",
    "data.Size.replace('165 X 104' , \"P\" , inplace = True)\n",
    "data.Size.replace('180 X 95 ' , \"Q\" , inplace = True)\n",
    "data.Size.replace('180 X 115' , \"R\" , inplace = True)\n",
    "data.Size.replace('210 X 135' , \"S\" , inplace = True)\n",
    "data.Size.replace('222 X 120' , \"T\" , inplace = True)\n",
    "data.Size.replace('180 X 95' , \"Q\" , inplace = True)\n"
   ]
  },
  {
   "cell_type": "code",
   "execution_count": 126,
   "metadata": {},
   "outputs": [
    {
     "data": {
      "text/plain": [
       "array(['F', 'L', 'E', 'S', 'M', 'A', 'D', 'G', 'K', 'C', 'Q', 'B', 'R',\n",
       "       'N', 'T', 'O', 'J', 'P', 'H', 'I'], dtype=object)"
      ]
     },
     "execution_count": 126,
     "metadata": {},
     "output_type": "execute_result"
    }
   ],
   "source": [
    "data.Size.unique()"
   ]
  },
  {
   "cell_type": "code",
   "execution_count": 127,
   "metadata": {},
   "outputs": [
    {
     "data": {
      "text/html": [
       "<div>\n",
       "<style scoped>\n",
       "    .dataframe tbody tr th:only-of-type {\n",
       "        vertical-align: middle;\n",
       "    }\n",
       "\n",
       "    .dataframe tbody tr th {\n",
       "        vertical-align: top;\n",
       "    }\n",
       "\n",
       "    .dataframe thead th {\n",
       "        text-align: right;\n",
       "    }\n",
       "</style>\n",
       "<table border=\"1\" class=\"dataframe\">\n",
       "  <thead>\n",
       "    <tr style=\"text-align: right;\">\n",
       "      <th></th>\n",
       "      <th>Date</th>\n",
       "      <th>Size</th>\n",
       "      <th>Quantity Sold Kgs</th>\n",
       "      <th>cost of material(rs per kg)</th>\n",
       "      <th>labor cost (per kg)</th>\n",
       "      <th>electricity cost (per kg)</th>\n",
       "      <th>selling price (per kg)</th>\n",
       "      <th>Production Cost (per kg)</th>\n",
       "      <th>Profit</th>\n",
       "      <th>Total Profit</th>\n",
       "    </tr>\n",
       "  </thead>\n",
       "  <tbody>\n",
       "    <tr>\n",
       "      <th>0</th>\n",
       "      <td>2021-10-01</td>\n",
       "      <td>F</td>\n",
       "      <td>187</td>\n",
       "      <td>78</td>\n",
       "      <td>22</td>\n",
       "      <td>8.0</td>\n",
       "      <td>148</td>\n",
       "      <td>108.0</td>\n",
       "      <td>40.0</td>\n",
       "      <td>7480.0</td>\n",
       "    </tr>\n",
       "    <tr>\n",
       "      <th>1</th>\n",
       "      <td>2021-10-01</td>\n",
       "      <td>L</td>\n",
       "      <td>146</td>\n",
       "      <td>78</td>\n",
       "      <td>20</td>\n",
       "      <td>7.0</td>\n",
       "      <td>148</td>\n",
       "      <td>105.0</td>\n",
       "      <td>43.0</td>\n",
       "      <td>6278.0</td>\n",
       "    </tr>\n",
       "    <tr>\n",
       "      <th>2</th>\n",
       "      <td>2021-10-02</td>\n",
       "      <td>E</td>\n",
       "      <td>18</td>\n",
       "      <td>78</td>\n",
       "      <td>22</td>\n",
       "      <td>8.0</td>\n",
       "      <td>148</td>\n",
       "      <td>108.0</td>\n",
       "      <td>40.0</td>\n",
       "      <td>720.0</td>\n",
       "    </tr>\n",
       "    <tr>\n",
       "      <th>3</th>\n",
       "      <td>2021-10-02</td>\n",
       "      <td>S</td>\n",
       "      <td>87</td>\n",
       "      <td>78</td>\n",
       "      <td>12</td>\n",
       "      <td>4.8</td>\n",
       "      <td>148</td>\n",
       "      <td>94.8</td>\n",
       "      <td>53.2</td>\n",
       "      <td>4628.4</td>\n",
       "    </tr>\n",
       "    <tr>\n",
       "      <th>4</th>\n",
       "      <td>2021-10-02</td>\n",
       "      <td>M</td>\n",
       "      <td>5</td>\n",
       "      <td>78</td>\n",
       "      <td>20</td>\n",
       "      <td>7.0</td>\n",
       "      <td>148</td>\n",
       "      <td>105.0</td>\n",
       "      <td>43.0</td>\n",
       "      <td>215.0</td>\n",
       "    </tr>\n",
       "  </tbody>\n",
       "</table>\n",
       "</div>"
      ],
      "text/plain": [
       "        Date Size  Quantity Sold Kgs  cost of material(rs per kg)   \\\n",
       "0 2021-10-01    F                187                            78   \n",
       "1 2021-10-01    L                146                            78   \n",
       "2 2021-10-02    E                 18                            78   \n",
       "3 2021-10-02    S                 87                            78   \n",
       "4 2021-10-02    M                  5                            78   \n",
       "\n",
       "   labor cost (per kg)  electricity cost (per kg)    selling price (per kg)  \\\n",
       "0                   22                        8.0                       148   \n",
       "1                   20                        7.0                       148   \n",
       "2                   22                        8.0                       148   \n",
       "3                   12                        4.8                       148   \n",
       "4                   20                        7.0                       148   \n",
       "\n",
       "   Production Cost (per kg)  Profit  Total Profit  \n",
       "0                     108.0    40.0        7480.0  \n",
       "1                     105.0    43.0        6278.0  \n",
       "2                     108.0    40.0         720.0  \n",
       "3                      94.8    53.2        4628.4  \n",
       "4                     105.0    43.0         215.0  "
      ]
     },
     "execution_count": 127,
     "metadata": {},
     "output_type": "execute_result"
    }
   ],
   "source": [
    "data.head()"
   ]
  },
  {
   "cell_type": "code",
   "execution_count": 273,
   "metadata": {},
   "outputs": [],
   "source": [
    "dataA = data[data.Size == \"A\"]\n"
   ]
  },
  {
   "cell_type": "code",
   "execution_count": 67,
   "metadata": {},
   "outputs": [],
   "source": [
    "import matplotlib.pyplot as plt"
   ]
  },
  {
   "cell_type": "code",
   "execution_count": 117,
   "metadata": {},
   "outputs": [
    {
     "data": {
      "text/plain": [
       "Text(0.5, 1.0, 'Bubble Plot with Matplotlib')"
      ]
     },
     "execution_count": 117,
     "metadata": {},
     "output_type": "execute_result"
    },
    {
     "data": {
      "image/png": "[encoded data removed]",
      "text/plain": [
       "<Figure size 432x288 with 1 Axes>"
      ]
     },
     "metadata": {
      "needs_background": "light"
     },
     "output_type": "display_data"
    }
   ],
   "source": [
    "plt.scatter(dataA.Date , dataA.Size, \n",
    "             s=dataA[\"Quantity Sold Kgs\"],\n",
    "             alpha=0.5)\n",
    "plt.xlabel(\"X\", size=16)\n",
    "plt.ylabel(\"y\", size=16)\n",
    "plt.title(\"Bubble Plot with Matplotlib\", size=18)\n"
   ]
  },
  {
   "cell_type": "code",
   "execution_count": 90,
   "metadata": {},
   "outputs": [],
   "source": [
    "import plotly.express as px\n",
    "px.scatter?"
   ]
  },
  {
   "cell_type": "code",
   "execution_count": 96,
   "metadata": {},
   "outputs": [
    {
     "data": {
      "text/plain": [
       "<matplotlib.collections.PathCollection at 0x1b51a97a130>"
      ]
     },
     "execution_count": 96,
     "metadata": {},
     "output_type": "execute_result"
    },
    {
     "data": {
      "image/png": "[encoded data removed]",
      "text/plain": [
       "<Figure size 432x288 with 1 Axes>"
      ]
     },
     "metadata": {
      "needs_background": "light"
     },
     "output_type": "display_data"
    }
   ],
   "source": [
    "plt.scatter(data.Date , data[\"Quantity Sold Kgs\"])"
   ]
  },
  {
   "cell_type": "code",
   "execution_count": 112,
   "metadata": {},
   "outputs": [
    {
     "data": {
      "text/plain": [
       "<pandas.core.groupby.generic.DataFrameGroupBy object at 0x000001B51A9A8C70>"
      ]
     },
     "execution_count": 112,
     "metadata": {},
     "output_type": "execute_result"
    }
   ],
   "source": [
    "data.groupby(by = [\"Date\"] )"
   ]
  },
  {
   "cell_type": "code",
   "execution_count": 111,
   "metadata": {},
   "outputs": [
    {
     "data": {
      "text/plain": [
       "<pandas.core.groupby.generic.DataFrameGroupBy object at 0x000001B51A9A1A60>"
      ]
     },
     "execution_count": 111,
     "metadata": {},
     "output_type": "execute_result"
    }
   ],
   "source": [
    "gp"
   ]
  },
  {
   "cell_type": "code",
   "execution_count": 122,
   "metadata": {},
   "outputs": [
    {
     "data": {
      "text/plain": [
       "'C:\\\\Users\\\\sejal Jadev'"
      ]
     },
     "execution_count": 122,
     "metadata": {},
     "output_type": "execute_result"
    }
   ],
   "source": [
    "os.getcwd()"
   ]
  },
  {
   "cell_type": "code",
   "execution_count": 124,
   "metadata": {},
   "outputs": [],
   "source": [
    "data.to_excel(\"bdm_coded.xlsx\")"
   ]
  },
  {
   "cell_type": "code",
   "execution_count": 125,
   "metadata": {},
   "outputs": [],
   "source": [
    "import seaborn as sns"
   ]
  },
  {
   "cell_type": "code",
   "execution_count": 132,
   "metadata": {},
   "outputs": [
    {
     "data": {
      "text/plain": [
       "<AxesSubplot:xlabel='Size', ylabel='Quantity Sold Kgs'>"
      ]
     },
     "execution_count": 132,
     "metadata": {},
     "output_type": "execute_result"
    },
    {
     "data": {
      "image/png": "[encoded data removed]",
      "text/plain": [
       "<Figure size 432x288 with 1 Axes>"
      ]
     },
     "metadata": {
      "needs_background": "light"
     },
     "output_type": "display_data"
    }
   ],
   "source": [
    "sns.boxplot(x = data.Size , y = data[\"Quantity Sold Kgs\"]  )"
   ]
  },
  {
   "cell_type": "code",
   "execution_count": 139,
   "metadata": {},
   "outputs": [],
   "source": [
    "px.box?"
   ]
  },
  {
   "cell_type": "code",
   "execution_count": 149,
   "metadata": {},
   "outputs": [
    {
     "data": {
      "application/vnd.plotly.v1+json": {
       "config": {
        "plotlyServerURL": "https://plot.ly"
       },
       "data": [
        {
         "alignmentgroup": "True",
         "hovertemplate": "Size=%{x}<br>Quantity Sold Kgs=%{y}<extra></extra>",
         "legendgroup": "",
         "marker": {
          "color": "#636efa"
         },
         "name": "",
         "notched": false,
         "offsetgroup": "",
         "orientation": "v",
         "showlegend": false,
         "type": "box",
         "x": [
          "F",
          "L",
          "E",
          "S",
          "M",
          "A",
          "L",
          "F",
          "M",
          "S",
          "D",
          "G",
          "M",
          "K",
          "M",
          "F",
          "C",
          "M",
          "Q",
          "M",
          "C",
          "E",
          "F",
          "Q",
          "K",
          "Q",
          "G",
          "K",
          "B",
          "M",
          "G",
          "E",
          "M",
          "E",
          "G",
          "L",
          "F",
          "G",
          "E",
          "F",
          "R",
          "M",
          "S",
          "F",
          "A",
          "M",
          "F",
          "E",
          "Q",
          "E",
          "F",
          "S",
          "F",
          "E",
          "G",
          "C",
          "K",
          "N",
          "G",
          "D",
          "N",
          "K",
          "G",
          "L",
          "M",
          "N",
          "C",
          "G",
          "T",
          "B",
          "L",
          "F",
          "F",
          "A",
          "F",
          "C",
          "Q",
          "B",
          "O",
          "M",
          "G",
          "J",
          "C",
          "F",
          "M",
          "L",
          "P",
          "G",
          "J",
          "M",
          "C",
          "B",
          "H",
          "K",
          "B",
          "C",
          "R",
          "B",
          "J",
          "C",
          "R",
          "M",
          "I",
          "M",
          "M",
          "C",
          "R",
          "M",
          "G",
          "H",
          "F",
          "C",
          "F",
          "B",
          "C",
          "E",
          "T",
          "K",
          "L",
          "M",
          "C",
          "K",
          "C",
          "F",
          "B",
          "E",
          "F",
          "F",
          "L",
          "T",
          "C",
          "F",
          "N",
          "G",
          "A",
          "J",
          "F",
          "B",
          "M",
          "F",
          "E",
          "I",
          "H",
          "O",
          "E",
          "S",
          "F",
          "E",
          "L",
          "H",
          "S",
          "B",
          "E",
          "H",
          "K",
          "C",
          "R",
          "P",
          "K",
          "P",
          "B",
          "M",
          "C",
          "B",
          "F",
          "C",
          "A",
          "C",
          "O",
          "L",
          "Q",
          "R",
          "L",
          "I",
          "F",
          "B",
          "E",
          "M",
          "Q",
          "N",
          "S",
          "T",
          "J",
          "C",
          "B",
          "E",
          "O",
          "K",
          "E",
          "H",
          "P",
          "K",
          "F",
          "A",
          "C",
          "S",
          "E",
          "M",
          "B",
          "L",
          "F",
          "C",
          "G",
          "C",
          "F",
          "G",
          "C",
          "E",
          "K",
          "F",
          "L",
          "F",
          "H",
          "Q",
          "A"
         ],
         "x0": " ",
         "xaxis": "x",
         "y": [
          187,
          146,
          18,
          87,
          5,
          36,
          100,
          105,
          397,
          15,
          266,
          43,
          104,
          114,
          151,
          64,
          76,
          89,
          226,
          36,
          27,
          120,
          42,
          95,
          144,
          222,
          45,
          121,
          32,
          40,
          38,
          9,
          58,
          26,
          16,
          20,
          170,
          6,
          62,
          130,
          41,
          107,
          201,
          70,
          20,
          49,
          60,
          198,
          67,
          30,
          35,
          31,
          42,
          106,
          13,
          30,
          82,
          127,
          65,
          93,
          256,
          108,
          150,
          153,
          69,
          40,
          50,
          126,
          251,
          147,
          51,
          17,
          323,
          72,
          90,
          18,
          200,
          82,
          138,
          123,
          52,
          15,
          12,
          78,
          35,
          178,
          59,
          25,
          52,
          15,
          26,
          39,
          108,
          17,
          32,
          66,
          263,
          60,
          29,
          11,
          80,
          128,
          326,
          30,
          79,
          84,
          76,
          78,
          108,
          155,
          100,
          20,
          62,
          30,
          44,
          51,
          316,
          64,
          67,
          195,
          18,
          110,
          60,
          40,
          35,
          13,
          176,
          100,
          27,
          87,
          35,
          80,
          264,
          105,
          28,
          277,
          60,
          20,
          10,
          79,
          60,
          100,
          223,
          107,
          72,
          201,
          16,
          25,
          180,
          65,
          281,
          93,
          32,
          244,
          58,
          40,
          38,
          161,
          11,
          6,
          50,
          137,
          90,
          38,
          48,
          20,
          25,
          120,
          7,
          50,
          16,
          108,
          9,
          18,
          133,
          25,
          8,
          17,
          200,
          281,
          79,
          26,
          325,
          60,
          29,
          83,
          36,
          295,
          11,
          5,
          136,
          98,
          200,
          73,
          112,
          26,
          76,
          11,
          6,
          33,
          48,
          63,
          80,
          72,
          18,
          54,
          80,
          77,
          55,
          100,
          55,
          144,
          61,
          192,
          8
         ],
         "y0": " ",
         "yaxis": "y"
        }
       ],
       "layout": {
        "boxmode": "overlay",
        "legend": {
         "tracegroupgap": 0
        },
        "margin": {
         "t": 60
        },
        "template": {
         "data": {
          "bar": [
           {
            "error_x": {
             "color": "#2a3f5f"
            },
            "error_y": {
             "color": "#2a3f5f"
            },
            "marker": {
             "line": {
              "color": "#E5ECF6",
              "width": 0.5
             },
             "pattern": {
              "fillmode": "overlay",
              "size": 10,
              "solidity": 0.2
             }
            },
            "type": "bar"
           }
          ],
          "barpolar": [
           {
            "marker": {
             "line": {
              "color": "#E5ECF6",
              "width": 0.5
             },
             "pattern": {
              "fillmode": "overlay",
              "size": 10,
              "solidity": 0.2
             }
            },
            "type": "barpolar"
           }
          ],
          "carpet": [
           {
            "aaxis": {
             "endlinecolor": "#2a3f5f",
             "gridcolor": "white",
             "linecolor": "white",
             "minorgridcolor": "white",
             "startlinecolor": "#2a3f5f"
            },
            "baxis": {
             "endlinecolor": "#2a3f5f",
             "gridcolor": "white",
             "linecolor": "white",
             "minorgridcolor": "white",
             "startlinecolor": "#2a3f5f"
            },
            "type": "carpet"
           }
          ],
          "choropleth": [
           {
            "colorbar": {
             "outlinewidth": 0,
             "ticks": ""
            },
            "type": "choropleth"
           }
          ],
          "contour": [
           {
            "colorbar": {
             "outlinewidth": 0,
             "ticks": ""
            },
            "colorscale": [
             [
              0,
              "#0d0887"
             ],
             [
              0.1111111111111111,
              "#46039f"
             ],
             [
              0.2222222222222222,
              "#7201a8"
             ],
             [
              0.3333333333333333,
              "#9c179e"
             ],
             [
              0.4444444444444444,
              "#bd3786"
             ],
             [
              0.5555555555555556,
              "#d8576b"
             ],
             [
              0.6666666666666666,
              "#ed7953"
             ],
             [
              0.7777777777777778,
              "#fb9f3a"
             ],
             [
              0.8888888888888888,
              "#fdca26"
             ],
             [
              1,
              "#f0f921"
             ]
            ],
            "type": "contour"
           }
          ],
          "contourcarpet": [
           {
            "colorbar": {
             "outlinewidth": 0,
             "ticks": ""
            },
            "type": "contourcarpet"
           }
          ],
          "heatmap": [
           {
            "colorbar": {
             "outlinewidth": 0,
             "ticks": ""
            },
            "colorscale": [
             [
              0,
              "#0d0887"
             ],
             [
              0.1111111111111111,
              "#46039f"
             ],
             [
              0.2222222222222222,
              "#7201a8"
             ],
             [
              0.3333333333333333,
              "#9c179e"
             ],
             [
              0.4444444444444444,
              "#bd3786"
             ],
             [
              0.5555555555555556,
              "#d8576b"
             ],
             [
              0.6666666666666666,
              "#ed7953"
             ],
             [
              0.7777777777777778,
              "#fb9f3a"
             ],
             [
              0.8888888888888888,
              "#fdca26"
             ],
             [
              1,
              "#f0f921"
             ]
            ],
            "type": "heatmap"
           }
          ],
          "heatmapgl": [
           {
            "colorbar": {
             "outlinewidth": 0,
             "ticks": ""
            },
            "colorscale": [
             [
              0,
              "#0d0887"
             ],
             [
              0.1111111111111111,
              "#46039f"
             ],
             [
              0.2222222222222222,
              "#7201a8"
             ],
             [
              0.3333333333333333,
              "#9c179e"
             ],
             [
              0.4444444444444444,
              "#bd3786"
             ],
             [
              0.5555555555555556,
              "#d8576b"
             ],
             [
              0.6666666666666666,
              "#ed7953"
             ],
             [
              0.7777777777777778,
              "#fb9f3a"
             ],
             [
              0.8888888888888888,
              "#fdca26"
             ],
             [
              1,
              "#f0f921"
             ]
            ],
            "type": "heatmapgl"
           }
          ],
          "histogram": [
           {
            "marker": {
             "pattern": {
              "fillmode": "overlay",
              "size": 10,
              "solidity": 0.2
             }
            },
            "type": "histogram"
           }
          ],
          "histogram2d": [
           {
            "colorbar": {
             "outlinewidth": 0,
             "ticks": ""
            },
            "colorscale": [
             [
              0,
              "#0d0887"
             ],
             [
              0.1111111111111111,
              "#46039f"
             ],
             [
              0.2222222222222222,
              "#7201a8"
             ],
             [
              0.3333333333333333,
              "#9c179e"
             ],
             [
              0.4444444444444444,
              "#bd3786"
             ],
             [
              0.5555555555555556,
              "#d8576b"
             ],
             [
              0.6666666666666666,
              "#ed7953"
             ],
             [
              0.7777777777777778,
              "#fb9f3a"
             ],
             [
              0.8888888888888888,
              "#fdca26"
             ],
             [
              1,
              "#f0f921"
             ]
            ],
            "type": "histogram2d"
           }
          ],
          "histogram2dcontour": [
           {
            "colorbar": {
             "outlinewidth": 0,
             "ticks": ""
            },
            "colorscale": [
             [
              0,
              "#0d0887"
             ],
             [
              0.1111111111111111,
              "#46039f"
             ],
             [
              0.2222222222222222,
              "#7201a8"
             ],
             [
              0.3333333333333333,
              "#9c179e"
             ],
             [
              0.4444444444444444,
              "#bd3786"
             ],
             [
              0.5555555555555556,
              "#d8576b"
             ],
             [
              0.6666666666666666,
              "#ed7953"
             ],
             [
              0.7777777777777778,
              "#fb9f3a"
             ],
             [
              0.8888888888888888,
              "#fdca26"
             ],
             [
              1,
              "#f0f921"
             ]
            ],
            "type": "histogram2dcontour"
           }
          ],
          "mesh3d": [
           {
            "colorbar": {
             "outlinewidth": 0,
             "ticks": ""
            },
            "type": "mesh3d"
           }
          ],
          "parcoords": [
           {
            "line": {
             "colorbar": {
              "outlinewidth": 0,
              "ticks": ""
             }
            },
            "type": "parcoords"
           }
          ],
          "pie": [
           {
            "automargin": true,
            "type": "pie"
           }
          ],
          "scatter": [
           {
            "marker": {
             "colorbar": {
              "outlinewidth": 0,
              "ticks": ""
             }
            },
            "type": "scatter"
           }
          ],
          "scatter3d": [
           {
            "line": {
             "colorbar": {
              "outlinewidth": 0,
              "ticks": ""
             }
            },
            "marker": {
             "colorbar": {
              "outlinewidth": 0,
              "ticks": ""
             }
            },
            "type": "scatter3d"
           }
          ],
          "scattercarpet": [
           {
            "marker": {
             "colorbar": {
              "outlinewidth": 0,
              "ticks": ""
             }
            },
            "type": "scattercarpet"
           }
          ],
          "scattergeo": [
           {
            "marker": {
             "colorbar": {
              "outlinewidth": 0,
              "ticks": ""
             }
            },
            "type": "scattergeo"
           }
          ],
          "scattergl": [
           {
            "marker": {
             "colorbar": {
              "outlinewidth": 0,
              "ticks": ""
             }
            },
            "type": "scattergl"
           }
          ],
          "scattermapbox": [
           {
            "marker": {
             "colorbar": {
              "outlinewidth": 0,
              "ticks": ""
             }
            },
            "type": "scattermapbox"
           }
          ],
          "scatterpolar": [
           {
            "marker": {
             "colorbar": {
              "outlinewidth": 0,
              "ticks": ""
             }
            },
            "type": "scatterpolar"
           }
          ],
          "scatterpolargl": [
           {
            "marker": {
             "colorbar": {
              "outlinewidth": 0,
              "ticks": ""
             }
            },
            "type": "scatterpolargl"
           }
          ],
          "scatterternary": [
           {
            "marker": {
             "colorbar": {
              "outlinewidth": 0,
              "ticks": ""
             }
            },
            "type": "scatterternary"
           }
          ],
          "surface": [
           {
            "colorbar": {
             "outlinewidth": 0,
             "ticks": ""
            },
            "colorscale": [
             [
              0,
              "#0d0887"
             ],
             [
              0.1111111111111111,
              "#46039f"
             ],
             [
              0.2222222222222222,
              "#7201a8"
             ],
             [
              0.3333333333333333,
              "#9c179e"
             ],
             [
              0.4444444444444444,
              "#bd3786"
             ],
             [
              0.5555555555555556,
              "#d8576b"
             ],
             [
              0.6666666666666666,
              "#ed7953"
             ],
             [
              0.7777777777777778,
              "#fb9f3a"
             ],
             [
              0.8888888888888888,
              "#fdca26"
             ],
             [
              1,
              "#f0f921"
             ]
            ],
            "type": "surface"
           }
          ],
          "table": [
           {
            "cells": {
             "fill": {
              "color": "#EBF0F8"
             },
             "line": {
              "color": "white"
             }
            },
            "header": {
             "fill": {
              "color": "#C8D4E3"
             },
             "line": {
              "color": "white"
             }
            },
            "type": "table"
           }
          ]
         },
         "layout": {
          "annotationdefaults": {
           "arrowcolor": "#2a3f5f",
           "arrowhead": 0,
           "arrowwidth": 1
          },
          "autotypenumbers": "strict",
          "coloraxis": {
           "colorbar": {
            "outlinewidth": 0,
            "ticks": ""
           }
          },
          "colorscale": {
           "diverging": [
            [
             0,
             "#8e0152"
            ],
            [
             0.1,
             "#c51b7d"
            ],
            [
             0.2,
             "#de77ae"
            ],
            [
             0.3,
             "#f1b6da"
            ],
            [
             0.4,
             "#fde0ef"
            ],
            [
             0.5,
             "#f7f7f7"
            ],
            [
             0.6,
             "#e6f5d0"
            ],
            [
             0.7,
             "#b8e186"
            ],
            [
             0.8,
             "#7fbc41"
            ],
            [
             0.9,
             "#4d9221"
            ],
            [
             1,
             "#276419"
            ]
           ],
           "sequential": [
            [
             0,
             "#0d0887"
            ],
            [
             0.1111111111111111,
             "#46039f"
            ],
            [
             0.2222222222222222,
             "#7201a8"
            ],
            [
             0.3333333333333333,
             "#9c179e"
            ],
            [
             0.4444444444444444,
             "#bd3786"
            ],
            [
             0.5555555555555556,
             "#d8576b"
            ],
            [
             0.6666666666666666,
             "#ed7953"
            ],
            [
             0.7777777777777778,
             "#fb9f3a"
            ],
            [
             0.8888888888888888,
             "#fdca26"
            ],
            [
             1,
             "#f0f921"
            ]
           ],
           "sequentialminus": [
            [
             0,
             "#0d0887"
            ],
            [
             0.1111111111111111,
             "#46039f"
            ],
            [
             0.2222222222222222,
             "#7201a8"
            ],
            [
             0.3333333333333333,
             "#9c179e"
            ],
            [
             0.4444444444444444,
             "#bd3786"
            ],
            [
             0.5555555555555556,
             "#d8576b"
            ],
            [
             0.6666666666666666,
             "#ed7953"
            ],
            [
             0.7777777777777778,
             "#fb9f3a"
            ],
            [
             0.8888888888888888,
             "#fdca26"
            ],
            [
             1,
             "#f0f921"
            ]
           ]
          },
          "colorway": [
           "#636efa",
           "#EF553B",
           "#00cc96",
           "#ab63fa",
           "#FFA15A",
           "#19d3f3",
           "#FF6692",
           "#B6E880",
           "#FF97FF",
           "#FECB52"
          ],
          "font": {
           "color": "#2a3f5f"
          },
          "geo": {
           "bgcolor": "white",
           "lakecolor": "white",
           "landcolor": "#E5ECF6",
           "showlakes": true,
           "showland": true,
           "subunitcolor": "white"
          },
          "hoverlabel": {
           "align": "left"
          },
          "hovermode": "closest",
          "mapbox": {
           "style": "light"
          },
          "paper_bgcolor": "white",
          "plot_bgcolor": "#E5ECF6",
          "polar": {
           "angularaxis": {
            "gridcolor": "white",
            "linecolor": "white",
            "ticks": ""
           },
           "bgcolor": "#E5ECF6",
           "radialaxis": {
            "gridcolor": "white",
            "linecolor": "white",
            "ticks": ""
           }
          },
          "scene": {
           "xaxis": {
            "backgroundcolor": "#E5ECF6",
            "gridcolor": "white",
            "gridwidth": 2,
            "linecolor": "white",
            "showbackground": true,
            "ticks": "",
            "zerolinecolor": "white"
           },
           "yaxis": {
            "backgroundcolor": "#E5ECF6",
            "gridcolor": "white",
            "gridwidth": 2,
            "linecolor": "white",
            "showbackground": true,
            "ticks": "",
            "zerolinecolor": "white"
           },
           "zaxis": {
            "backgroundcolor": "#E5ECF6",
            "gridcolor": "white",
            "gridwidth": 2,
            "linecolor": "white",
            "showbackground": true,
            "ticks": "",
            "zerolinecolor": "white"
           }
          },
          "shapedefaults": {
           "line": {
            "color": "#2a3f5f"
           }
          },
          "ternary": {
           "aaxis": {
            "gridcolor": "white",
            "linecolor": "white",
            "ticks": ""
           },
           "baxis": {
            "gridcolor": "white",
            "linecolor": "white",
            "ticks": ""
           },
           "bgcolor": "#E5ECF6",
           "caxis": {
            "gridcolor": "white",
            "linecolor": "white",
            "ticks": ""
           }
          },
          "title": {
           "x": 0.05
          },
          "xaxis": {
           "automargin": true,
           "gridcolor": "white",
           "linecolor": "white",
           "ticks": "",
           "title": {
            "standoff": 15
           },
           "zerolinecolor": "white",
           "zerolinewidth": 2
          },
          "yaxis": {
           "automargin": true,
           "gridcolor": "white",
           "linecolor": "white",
           "ticks": "",
           "title": {
            "standoff": 15
           },
           "zerolinecolor": "white",
           "zerolinewidth": 2
          }
         }
        },
        "xaxis": {
         "anchor": "y",
         "domain": [
          0,
          1
         ],
         "title": {
          "text": "Size"
         }
        },
        "yaxis": {
         "anchor": "x",
         "domain": [
          0,
          1
         ],
         "title": {
          "text": "Quantity Sold Kgs"
         }
        }
       }
      },
      "text/html": [
       "<div>                            <div id=\"f4011bc1-783e-45b3-8c73-6c70fe8e269c\" class=\"plotly-graph-div\" style=\"height:525px; width:100%;\"></div>            <script type=\"text/javascript\">                require([\"plotly\"], function(Plotly) {                    window.PLOTLYENV=window.PLOTLYENV || {};                                    if (document.getElementById(\"f4011bc1-783e-45b3-8c73-6c70fe8e269c\")) {                    Plotly.newPlot(                        \"f4011bc1-783e-45b3-8c73-6c70fe8e269c\",                        [{\"alignmentgroup\":\"True\",\"hovertemplate\":\"Size=%{x}<br>Quantity Sold Kgs=%{y}<extra></extra>\",\"legendgroup\":\"\",\"marker\":{\"color\":\"#636efa\"},\"name\":\"\",\"notched\":false,\"offsetgroup\":\"\",\"orientation\":\"v\",\"showlegend\":false,\"type\":\"box\",\"x\":[\"F\",\"L\",\"E\",\"S\",\"M\",\"A\",\"L\",\"F\",\"M\",\"S\",\"D\",\"G\",\"M\",\"K\",\"M\",\"F\",\"C\",\"M\",\"Q\",\"M\",\"C\",\"E\",\"F\",\"Q\",\"K\",\"Q\",\"G\",\"K\",\"B\",\"M\",\"G\",\"E\",\"M\",\"E\",\"G\",\"L\",\"F\",\"G\",\"E\",\"F\",\"R\",\"M\",\"S\",\"F\",\"A\",\"M\",\"F\",\"E\",\"Q\",\"E\",\"F\",\"S\",\"F\",\"E\",\"G\",\"C\",\"K\",\"N\",\"G\",\"D\",\"N\",\"K\",\"G\",\"L\",\"M\",\"N\",\"C\",\"G\",\"T\",\"B\",\"L\",\"F\",\"F\",\"A\",\"F\",\"C\",\"Q\",\"B\",\"O\",\"M\",\"G\",\"J\",\"C\",\"F\",\"M\",\"L\",\"P\",\"G\",\"J\",\"M\",\"C\",\"B\",\"H\",\"K\",\"B\",\"C\",\"R\",\"B\",\"J\",\"C\",\"R\",\"M\",\"I\",\"M\",\"M\",\"C\",\"R\",\"M\",\"G\",\"H\",\"F\",\"C\",\"F\",\"B\",\"C\",\"E\",\"T\",\"K\",\"L\",\"M\",\"C\",\"K\",\"C\",\"F\",\"B\",\"E\",\"F\",\"F\",\"L\",\"T\",\"C\",\"F\",\"N\",\"G\",\"A\",\"J\",\"F\",\"B\",\"M\",\"F\",\"E\",\"I\",\"H\",\"O\",\"E\",\"S\",\"F\",\"E\",\"L\",\"H\",\"S\",\"B\",\"E\",\"H\",\"K\",\"C\",\"R\",\"P\",\"K\",\"P\",\"B\",\"M\",\"C\",\"B\",\"F\",\"C\",\"A\",\"C\",\"O\",\"L\",\"Q\",\"R\",\"L\",\"I\",\"F\",\"B\",\"E\",\"M\",\"Q\",\"N\",\"S\",\"T\",\"J\",\"C\",\"B\",\"E\",\"O\",\"K\",\"E\",\"H\",\"P\",\"K\",\"F\",\"A\",\"C\",\"S\",\"E\",\"M\",\"B\",\"L\",\"F\",\"C\",\"G\",\"C\",\"F\",\"G\",\"C\",\"E\",\"K\",\"F\",\"L\",\"F\",\"H\",\"Q\",\"A\"],\"x0\":\" \",\"xaxis\":\"x\",\"y\":[187,146,18,87,5,36,100,105,397,15,266,43,104,114,151,64,76,89,226,36,27,120,42,95,144,222,45,121,32,40,38,9,58,26,16,20,170,6,62,130,41,107,201,70,20,49,60,198,67,30,35,31,42,106,13,30,82,127,65,93,256,108,150,153,69,40,50,126,251,147,51,17,323,72,90,18,200,82,138,123,52,15,12,78,35,178,59,25,52,15,26,39,108,17,32,66,263,60,29,11,80,128,326,30,79,84,76,78,108,155,100,20,62,30,44,51,316,64,67,195,18,110,60,40,35,13,176,100,27,87,35,80,264,105,28,277,60,20,10,79,60,100,223,107,72,201,16,25,180,65,281,93,32,244,58,40,38,161,11,6,50,137,90,38,48,20,25,120,7,50,16,108,9,18,133,25,8,17,200,281,79,26,325,60,29,83,36,295,11,5,136,98,200,73,112,26,76,11,6,33,48,63,80,72,18,54,80,77,55,100,55,144,61,192,8],\"y0\":\" \",\"yaxis\":\"y\"}],                        {\"boxmode\":\"overlay\",\"legend\":{\"tracegroupgap\":0},\"margin\":{\"t\":60},\"template\":{\"data\":{\"bar\":[{\"error_x\":{\"color\":\"#2a3f5f\"},\"error_y\":{\"color\":\"#2a3f5f\"},\"marker\":{\"line\":{\"color\":\"#E5ECF6\",\"width\":0.5},\"pattern\":{\"fillmode\":\"overlay\",\"size\":10,\"solidity\":0.2}},\"type\":\"bar\"}],\"barpolar\":[{\"marker\":{\"line\":{\"color\":\"#E5ECF6\",\"width\":0.5},\"pattern\":{\"fillmode\":\"overlay\",\"size\":10,\"solidity\":0.2}},\"type\":\"barpolar\"}],\"carpet\":[{\"aaxis\":{\"endlinecolor\":\"#2a3f5f\",\"gridcolor\":\"white\",\"linecolor\":\"white\",\"minorgridcolor\":\"white\",\"startlinecolor\":\"#2a3f5f\"},\"baxis\":{\"endlinecolor\":\"#2a3f5f\",\"gridcolor\":\"white\",\"linecolor\":\"white\",\"minorgridcolor\":\"white\",\"startlinecolor\":\"#2a3f5f\"},\"type\":\"carpet\"}],\"choropleth\":[{\"colorbar\":{\"outlinewidth\":0,\"ticks\":\"\"},\"type\":\"choropleth\"}],\"contour\":[{\"colorbar\":{\"outlinewidth\":0,\"ticks\":\"\"},\"colorscale\":[[0.0,\"#0d0887\"],[0.1111111111111111,\"#46039f\"],[0.2222222222222222,\"#7201a8\"],[0.3333333333333333,\"#9c179e\"],[0.4444444444444444,\"#bd3786\"],[0.5555555555555556,\"#d8576b\"],[0.6666666666666666,\"#ed7953\"],[0.7777777777777778,\"#fb9f3a\"],[0.8888888888888888,\"#fdca26\"],[1.0,\"#f0f921\"]],\"type\":\"contour\"}],\"contourcarpet\":[{\"colorbar\":{\"outlinewidth\":0,\"ticks\":\"\"},\"type\":\"contourcarpet\"}],\"heatmap\":[{\"colorbar\":{\"outlinewidth\":0,\"ticks\":\"\"},\"colorscale\":[[0.0,\"#0d0887\"],[0.1111111111111111,\"#46039f\"],[0.2222222222222222,\"#7201a8\"],[0.3333333333333333,\"#9c179e\"],[0.4444444444444444,\"#bd3786\"],[0.5555555555555556,\"#d8576b\"],[0.6666666666666666,\"#ed7953\"],[0.7777777777777778,\"#fb9f3a\"],[0.8888888888888888,\"#fdca26\"],[1.0,\"#f0f921\"]],\"type\":\"heatmap\"}],\"heatmapgl\":[{\"colorbar\":{\"outlinewidth\":0,\"ticks\":\"\"},\"colorscale\":[[0.0,\"#0d0887\"],[0.1111111111111111,\"#46039f\"],[0.2222222222222222,\"#7201a8\"],[0.3333333333333333,\"#9c179e\"],[0.4444444444444444,\"#bd3786\"],[0.5555555555555556,\"#d8576b\"],[0.6666666666666666,\"#ed7953\"],[0.7777777777777778,\"#fb9f3a\"],[0.8888888888888888,\"#fdca26\"],[1.0,\"#f0f921\"]],\"type\":\"heatmapgl\"}],\"histogram\":[{\"marker\":{\"pattern\":{\"fillmode\":\"overlay\",\"size\":10,\"solidity\":0.2}},\"type\":\"histogram\"}],\"histogram2d\":[{\"colorbar\":{\"outlinewidth\":0,\"ticks\":\"\"},\"colorscale\":[[0.0,\"#0d0887\"],[0.1111111111111111,\"#46039f\"],[0.2222222222222222,\"#7201a8\"],[0.3333333333333333,\"#9c179e\"],[0.4444444444444444,\"#bd3786\"],[0.5555555555555556,\"#d8576b\"],[0.6666666666666666,\"#ed7953\"],[0.7777777777777778,\"#fb9f3a\"],[0.8888888888888888,\"#fdca26\"],[1.0,\"#f0f921\"]],\"type\":\"histogram2d\"}],\"histogram2dcontour\":[{\"colorbar\":{\"outlinewidth\":0,\"ticks\":\"\"},\"colorscale\":[[0.0,\"#0d0887\"],[0.1111111111111111,\"#46039f\"],[0.2222222222222222,\"#7201a8\"],[0.3333333333333333,\"#9c179e\"],[0.4444444444444444,\"#bd3786\"],[0.5555555555555556,\"#d8576b\"],[0.6666666666666666,\"#ed7953\"],[0.7777777777777778,\"#fb9f3a\"],[0.8888888888888888,\"#fdca26\"],[1.0,\"#f0f921\"]],\"type\":\"histogram2dcontour\"}],\"mesh3d\":[{\"colorbar\":{\"outlinewidth\":0,\"ticks\":\"\"},\"type\":\"mesh3d\"}],\"parcoords\":[{\"line\":{\"colorbar\":{\"outlinewidth\":0,\"ticks\":\"\"}},\"type\":\"parcoords\"}],\"pie\":[{\"automargin\":true,\"type\":\"pie\"}],\"scatter\":[{\"marker\":{\"colorbar\":{\"outlinewidth\":0,\"ticks\":\"\"}},\"type\":\"scatter\"}],\"scatter3d\":[{\"line\":{\"colorbar\":{\"outlinewidth\":0,\"ticks\":\"\"}},\"marker\":{\"colorbar\":{\"outlinewidth\":0,\"ticks\":\"\"}},\"type\":\"scatter3d\"}],\"scattercarpet\":[{\"marker\":{\"colorbar\":{\"outlinewidth\":0,\"ticks\":\"\"}},\"type\":\"scattercarpet\"}],\"scattergeo\":[{\"marker\":{\"colorbar\":{\"outlinewidth\":0,\"ticks\":\"\"}},\"type\":\"scattergeo\"}],\"scattergl\":[{\"marker\":{\"colorbar\":{\"outlinewidth\":0,\"ticks\":\"\"}},\"type\":\"scattergl\"}],\"scattermapbox\":[{\"marker\":{\"colorbar\":{\"outlinewidth\":0,\"ticks\":\"\"}},\"type\":\"scattermapbox\"}],\"scatterpolar\":[{\"marker\":{\"colorbar\":{\"outlinewidth\":0,\"ticks\":\"\"}},\"type\":\"scatterpolar\"}],\"scatterpolargl\":[{\"marker\":{\"colorbar\":{\"outlinewidth\":0,\"ticks\":\"\"}},\"type\":\"scatterpolargl\"}],\"scatterternary\":[{\"marker\":{\"colorbar\":{\"outlinewidth\":0,\"ticks\":\"\"}},\"type\":\"scatterternary\"}],\"surface\":[{\"colorbar\":{\"outlinewidth\":0,\"ticks\":\"\"},\"colorscale\":[[0.0,\"#0d0887\"],[0.1111111111111111,\"#46039f\"],[0.2222222222222222,\"#7201a8\"],[0.3333333333333333,\"#9c179e\"],[0.4444444444444444,\"#bd3786\"],[0.5555555555555556,\"#d8576b\"],[0.6666666666666666,\"#ed7953\"],[0.7777777777777778,\"#fb9f3a\"],[0.8888888888888888,\"#fdca26\"],[1.0,\"#f0f921\"]],\"type\":\"surface\"}],\"table\":[{\"cells\":{\"fill\":{\"color\":\"#EBF0F8\"},\"line\":{\"color\":\"white\"}},\"header\":{\"fill\":{\"color\":\"#C8D4E3\"},\"line\":{\"color\":\"white\"}},\"type\":\"table\"}]},\"layout\":{\"annotationdefaults\":{\"arrowcolor\":\"#2a3f5f\",\"arrowhead\":0,\"arrowwidth\":1},\"autotypenumbers\":\"strict\",\"coloraxis\":{\"colorbar\":{\"outlinewidth\":0,\"ticks\":\"\"}},\"colorscale\":{\"diverging\":[[0,\"#8e0152\"],[0.1,\"#c51b7d\"],[0.2,\"#de77ae\"],[0.3,\"#f1b6da\"],[0.4,\"#fde0ef\"],[0.5,\"#f7f7f7\"],[0.6,\"#e6f5d0\"],[0.7,\"#b8e186\"],[0.8,\"#7fbc41\"],[0.9,\"#4d9221\"],[1,\"#276419\"]],\"sequential\":[[0.0,\"#0d0887\"],[0.1111111111111111,\"#46039f\"],[0.2222222222222222,\"#7201a8\"],[0.3333333333333333,\"#9c179e\"],[0.4444444444444444,\"#bd3786\"],[0.5555555555555556,\"#d8576b\"],[0.6666666666666666,\"#ed7953\"],[0.7777777777777778,\"#fb9f3a\"],[0.8888888888888888,\"#fdca26\"],[1.0,\"#f0f921\"]],\"sequentialminus\":[[0.0,\"#0d0887\"],[0.1111111111111111,\"#46039f\"],[0.2222222222222222,\"#7201a8\"],[0.3333333333333333,\"#9c179e\"],[0.4444444444444444,\"#bd3786\"],[0.5555555555555556,\"#d8576b\"],[0.6666666666666666,\"#ed7953\"],[0.7777777777777778,\"#fb9f3a\"],[0.8888888888888888,\"#fdca26\"],[1.0,\"#f0f921\"]]},\"colorway\":[\"#636efa\",\"#EF553B\",\"#00cc96\",\"#ab63fa\",\"#FFA15A\",\"#19d3f3\",\"#FF6692\",\"#B6E880\",\"#FF97FF\",\"#FECB52\"],\"font\":{\"color\":\"#2a3f5f\"},\"geo\":{\"bgcolor\":\"white\",\"lakecolor\":\"white\",\"landcolor\":\"#E5ECF6\",\"showlakes\":true,\"showland\":true,\"subunitcolor\":\"white\"},\"hoverlabel\":{\"align\":\"left\"},\"hovermode\":\"closest\",\"mapbox\":{\"style\":\"light\"},\"paper_bgcolor\":\"white\",\"plot_bgcolor\":\"#E5ECF6\",\"polar\":{\"angularaxis\":{\"gridcolor\":\"white\",\"linecolor\":\"white\",\"ticks\":\"\"},\"bgcolor\":\"#E5ECF6\",\"radialaxis\":{\"gridcolor\":\"white\",\"linecolor\":\"white\",\"ticks\":\"\"}},\"scene\":{\"xaxis\":{\"backgroundcolor\":\"#E5ECF6\",\"gridcolor\":\"white\",\"gridwidth\":2,\"linecolor\":\"white\",\"showbackground\":true,\"ticks\":\"\",\"zerolinecolor\":\"white\"},\"yaxis\":{\"backgroundcolor\":\"#E5ECF6\",\"gridcolor\":\"white\",\"gridwidth\":2,\"linecolor\":\"white\",\"showbackground\":true,\"ticks\":\"\",\"zerolinecolor\":\"white\"},\"zaxis\":{\"backgroundcolor\":\"#E5ECF6\",\"gridcolor\":\"white\",\"gridwidth\":2,\"linecolor\":\"white\",\"showbackground\":true,\"ticks\":\"\",\"zerolinecolor\":\"white\"}},\"shapedefaults\":{\"line\":{\"color\":\"#2a3f5f\"}},\"ternary\":{\"aaxis\":{\"gridcolor\":\"white\",\"linecolor\":\"white\",\"ticks\":\"\"},\"baxis\":{\"gridcolor\":\"white\",\"linecolor\":\"white\",\"ticks\":\"\"},\"bgcolor\":\"#E5ECF6\",\"caxis\":{\"gridcolor\":\"white\",\"linecolor\":\"white\",\"ticks\":\"\"}},\"title\":{\"x\":0.05},\"xaxis\":{\"automargin\":true,\"gridcolor\":\"white\",\"linecolor\":\"white\",\"ticks\":\"\",\"title\":{\"standoff\":15},\"zerolinecolor\":\"white\",\"zerolinewidth\":2},\"yaxis\":{\"automargin\":true,\"gridcolor\":\"white\",\"linecolor\":\"white\",\"ticks\":\"\",\"title\":{\"standoff\":15},\"zerolinecolor\":\"white\",\"zerolinewidth\":2}}},\"xaxis\":{\"anchor\":\"y\",\"domain\":[0.0,1.0],\"title\":{\"text\":\"Size\"}},\"yaxis\":{\"anchor\":\"x\",\"domain\":[0.0,1.0],\"title\":{\"text\":\"Quantity Sold Kgs\"}}},                        {\"responsive\": true}                    ).then(function(){\n",
       "                            \n",
       "var gd = document.getElementById('f4011bc1-783e-45b3-8c73-6c70fe8e269c');\n",
       "var x = new MutationObserver(function (mutations, observer) {{\n",
       "        var display = window.getComputedStyle(gd).display;\n",
       "        if (!display || display === 'none') {{\n",
       "            console.log([gd, 'removed!']);\n",
       "            Plotly.purge(gd);\n",
       "            observer.disconnect();\n",
       "        }}\n",
       "}});\n",
       "\n",
       "// Listen for the removal of the full notebook cells\n",
       "var notebookContainer = gd.closest('#notebook-container');\n",
       "if (notebookContainer) {{\n",
       "    x.observe(notebookContainer, {childList: true});\n",
       "}}\n",
       "\n",
       "// Listen for the clearing of the current output cell\n",
       "var outputEl = gd.closest('.output');\n",
       "if (outputEl) {{\n",
       "    x.observe(outputEl, {childList: true});\n",
       "}}\n",
       "\n",
       "                        })                };                });            </script>        </div>"
      ]
     },
     "metadata": {},
     "output_type": "display_data"
    }
   ],
   "source": [
    "import plotly.express as px\n",
    "df = px.data.tips()\n",
    "fig = px.box(data , x = \"Size\" , y = \"Quantity Sold Kgs\" ,  boxmode = \"overlay\" )\n",
    "fig.show()"
   ]
  },
  {
   "cell_type": "code",
   "execution_count": 637,
   "metadata": {},
   "outputs": [
    {
     "data": {
      "application/vnd.plotly.v1+json": {
       "config": {
        "plotlyServerURL": "https://plot.ly"
       },
       "data": [
        {
         "alignmentgroup": "True",
         "hovertemplate": "Size=%{x}<br>Quantity Sold Kgs=%{y}<extra></extra>",
         "legendgroup": "F",
         "marker": {
          "color": "#636efa"
         },
         "name": "F",
         "notched": false,
         "offsetgroup": "F",
         "orientation": "v",
         "showlegend": true,
         "type": "box",
         "x": [
          "F",
          "F",
          "F",
          "F",
          "F",
          "F",
          "F",
          "F",
          "F",
          "F",
          "F",
          "F",
          "F",
          "F",
          "F",
          "F",
          "F",
          "F",
          "F",
          "F",
          "F",
          "F",
          "F",
          "F",
          "F",
          "F",
          "F",
          "F",
          "F",
          "F"
         ],
         "x0": " ",
         "xaxis": "x",
         "y": [
          187,
          105,
          64,
          42,
          170,
          130,
          70,
          60,
          35,
          42,
          17,
          323,
          90,
          78,
          100,
          62,
          40,
          176,
          100,
          80,
          60,
          79,
          16,
          48,
          133,
          200,
          48,
          18,
          100,
          144
         ],
         "y0": " ",
         "yaxis": "y"
        },
        {
         "alignmentgroup": "True",
         "hovertemplate": "Size=%{x}<br>Quantity Sold Kgs=%{y}<extra></extra>",
         "legendgroup": "L",
         "marker": {
          "color": "#EF553B"
         },
         "name": "L",
         "notched": false,
         "offsetgroup": "L",
         "orientation": "v",
         "showlegend": true,
         "type": "box",
         "x": [
          "L",
          "L",
          "L",
          "L",
          "L",
          "L",
          "L",
          "L",
          "L",
          "L",
          "L",
          "L",
          "L"
         ],
         "x0": " ",
         "xaxis": "x",
         "y": [
          146,
          100,
          20,
          153,
          51,
          178,
          67,
          27,
          180,
          50,
          9,
          33,
          55
         ],
         "y0": " ",
         "yaxis": "y"
        },
        {
         "alignmentgroup": "True",
         "hovertemplate": "Size=%{x}<br>Quantity Sold Kgs=%{y}<extra></extra>",
         "legendgroup": "E",
         "marker": {
          "color": "#00cc96"
         },
         "name": "E",
         "notched": false,
         "offsetgroup": "E",
         "orientation": "v",
         "showlegend": true,
         "type": "box",
         "x": [
          "E",
          "E",
          "E",
          "E",
          "E",
          "E",
          "E",
          "E",
          "E",
          "E",
          "E",
          "E",
          "E",
          "E",
          "E",
          "E",
          "E",
          "E",
          "E"
         ],
         "x0": " ",
         "xaxis": "x",
         "y": [
          18,
          120,
          9,
          26,
          62,
          198,
          30,
          106,
          51,
          13,
          60,
          72,
          25,
          32,
          8,
          83,
          11,
          76,
          77
         ],
         "y0": " ",
         "yaxis": "y"
        },
        {
         "alignmentgroup": "True",
         "hovertemplate": "Size=%{x}<br>Quantity Sold Kgs=%{y}<extra></extra>",
         "legendgroup": "S",
         "marker": {
          "color": "#ab63fa"
         },
         "name": "S",
         "notched": false,
         "offsetgroup": "S",
         "orientation": "v",
         "showlegend": true,
         "type": "box",
         "x": [
          "S",
          "S",
          "S",
          "S",
          "S",
          "S",
          "S",
          "S"
         ],
         "x0": " ",
         "xaxis": "x",
         "y": [
          87,
          15,
          201,
          31,
          201,
          281,
          79,
          26
         ],
         "y0": " ",
         "yaxis": "y"
        },
        {
         "alignmentgroup": "True",
         "hovertemplate": "Size=%{x}<br>Quantity Sold Kgs=%{y}<extra></extra>",
         "legendgroup": "M",
         "marker": {
          "color": "#FFA15A"
         },
         "name": "M",
         "notched": false,
         "offsetgroup": "M",
         "orientation": "v",
         "showlegend": true,
         "type": "box",
         "x": [
          "M",
          "M",
          "M",
          "M",
          "M",
          "M",
          "M",
          "M",
          "M",
          "M",
          "M",
          "M",
          "M",
          "M",
          "M",
          "M",
          "M",
          "M",
          "M",
          "M",
          "M",
          "M",
          "M"
         ],
         "x0": " ",
         "xaxis": "x",
         "y": [
          5,
          397,
          104,
          151,
          89,
          36,
          40,
          58,
          107,
          49,
          69,
          123,
          35,
          15,
          128,
          30,
          79,
          78,
          195,
          10,
          137,
          17,
          11
         ],
         "y0": " ",
         "yaxis": "y"
        },
        {
         "alignmentgroup": "True",
         "hovertemplate": "Size=%{x}<br>Quantity Sold Kgs=%{y}<extra></extra>",
         "legendgroup": "A",
         "marker": {
          "color": "#19d3f3"
         },
         "name": "A",
         "notched": false,
         "offsetgroup": "A",
         "orientation": "v",
         "showlegend": true,
         "type": "box",
         "x": [
          "A",
          "A",
          "A",
          "A",
          "A",
          "A",
          "A"
         ],
         "x0": " ",
         "xaxis": "x",
         "y": [
          36,
          20,
          72,
          28,
          25,
          73,
          8
         ],
         "y0": " ",
         "yaxis": "y"
        },
        {
         "alignmentgroup": "True",
         "hovertemplate": "Size=%{x}<br>Quantity Sold Kgs=%{y}<extra></extra>",
         "legendgroup": "D",
         "marker": {
          "color": "#FF6692"
         },
         "name": "D",
         "notched": false,
         "offsetgroup": "D",
         "orientation": "v",
         "showlegend": true,
         "type": "box",
         "x": [
          "D",
          "D"
         ],
         "x0": " ",
         "xaxis": "x",
         "y": [
          266,
          93
         ],
         "y0": " ",
         "yaxis": "y"
        },
        {
         "alignmentgroup": "True",
         "hovertemplate": "Size=%{x}<br>Quantity Sold Kgs=%{y}<extra></extra>",
         "legendgroup": "G",
         "marker": {
          "color": "#B6E880"
         },
         "name": "G",
         "notched": false,
         "offsetgroup": "G",
         "orientation": "v",
         "showlegend": true,
         "type": "box",
         "x": [
          "G",
          "G",
          "G",
          "G",
          "G",
          "G",
          "G",
          "G",
          "G",
          "G",
          "G",
          "G",
          "G",
          "G",
          "G"
         ],
         "x0": " ",
         "xaxis": "x",
         "y": [
          43,
          45,
          38,
          16,
          6,
          13,
          65,
          150,
          126,
          52,
          25,
          108,
          105,
          80,
          54
         ],
         "y0": " ",
         "yaxis": "y"
        },
        {
         "alignmentgroup": "True",
         "hovertemplate": "Size=%{x}<br>Quantity Sold Kgs=%{y}<extra></extra>",
         "legendgroup": "K",
         "marker": {
          "color": "#FF97FF"
         },
         "name": "K",
         "notched": false,
         "offsetgroup": "K",
         "orientation": "v",
         "showlegend": true,
         "type": "box",
         "x": [
          "K",
          "K",
          "K",
          "K",
          "K",
          "K",
          "K",
          "K",
          "K",
          "K",
          "K",
          "K",
          "K"
         ],
         "x0": " ",
         "xaxis": "x",
         "y": [
          114,
          144,
          121,
          82,
          108,
          17,
          64,
          110,
          58,
          11,
          295,
          98,
          55
         ],
         "y0": " ",
         "yaxis": "y"
        },
        {
         "alignmentgroup": "True",
         "hovertemplate": "Size=%{x}<br>Quantity Sold Kgs=%{y}<extra></extra>",
         "legendgroup": "C",
         "marker": {
          "color": "#FECB52"
         },
         "name": "C",
         "notched": false,
         "offsetgroup": "C",
         "orientation": "v",
         "showlegend": true,
         "type": "box",
         "x": [
          "C",
          "C",
          "C",
          "C",
          "C",
          "C",
          "C",
          "C",
          "C",
          "C",
          "C",
          "C",
          "C",
          "C",
          "C",
          "C",
          "C",
          "C",
          "C",
          "C",
          "C",
          "C",
          "C",
          "C"
         ],
         "x0": " ",
         "xaxis": "x",
         "y": [
          76,
          27,
          30,
          50,
          18,
          12,
          26,
          66,
          11,
          84,
          20,
          44,
          18,
          60,
          35,
          40,
          90,
          20,
          120,
          60,
          112,
          63,
          72,
          80
         ],
         "y0": " ",
         "yaxis": "y"
        },
        {
         "alignmentgroup": "True",
         "hovertemplate": "Size=%{x}<br>Quantity Sold Kgs=%{y}<extra></extra>",
         "legendgroup": "Q",
         "marker": {
          "color": "#636efa"
         },
         "name": "Q",
         "notched": false,
         "offsetgroup": "Q",
         "orientation": "v",
         "showlegend": true,
         "type": "box",
         "x": [
          "Q",
          "Q",
          "Q",
          "Q",
          "Q",
          "Q",
          "Q",
          "Q"
         ],
         "x0": " ",
         "xaxis": "x",
         "y": [
          226,
          95,
          222,
          67,
          200,
          16,
          200,
          192
         ],
         "y0": " ",
         "yaxis": "y"
        },
        {
         "alignmentgroup": "True",
         "hovertemplate": "Size=%{x}<br>Quantity Sold Kgs=%{y}<extra></extra>",
         "legendgroup": "B",
         "marker": {
          "color": "#EF553B"
         },
         "name": "B",
         "notched": false,
         "offsetgroup": "B",
         "orientation": "v",
         "showlegend": true,
         "type": "box",
         "x": [
          "B",
          "B",
          "B",
          "B",
          "B",
          "B",
          "B",
          "B",
          "B",
          "B",
          "B",
          "B",
          "B",
          "B",
          "B"
         ],
         "x0": " ",
         "xaxis": "x",
         "y": [
          32,
          147,
          82,
          39,
          32,
          60,
          30,
          35,
          20,
          93,
          50,
          38,
          25,
          29,
          6
         ],
         "y0": " ",
         "yaxis": "y"
        },
        {
         "alignmentgroup": "True",
         "hovertemplate": "Size=%{x}<br>Quantity Sold Kgs=%{y}<extra></extra>",
         "legendgroup": "R",
         "marker": {
          "color": "#00cc96"
         },
         "name": "R",
         "notched": false,
         "offsetgroup": "R",
         "orientation": "v",
         "showlegend": true,
         "type": "box",
         "x": [
          "R",
          "R",
          "R",
          "R",
          "R",
          "R"
         ],
         "x0": " ",
         "xaxis": "x",
         "y": [
          41,
          263,
          80,
          76,
          38,
          108
         ],
         "y0": " ",
         "yaxis": "y"
        },
        {
         "alignmentgroup": "True",
         "hovertemplate": "Size=%{x}<br>Quantity Sold Kgs=%{y}<extra></extra>",
         "legendgroup": "N",
         "marker": {
          "color": "#ab63fa"
         },
         "name": "N",
         "notched": false,
         "offsetgroup": "N",
         "orientation": "v",
         "showlegend": true,
         "type": "box",
         "x": [
          "N",
          "N",
          "N",
          "N",
          "N"
         ],
         "x0": " ",
         "xaxis": "x",
         "y": [
          127,
          256,
          40,
          264,
          281
         ],
         "y0": " ",
         "yaxis": "y"
        },
        {
         "alignmentgroup": "True",
         "hovertemplate": "Size=%{x}<br>Quantity Sold Kgs=%{y}<extra></extra>",
         "legendgroup": "T",
         "marker": {
          "color": "#FFA15A"
         },
         "name": "T",
         "notched": false,
         "offsetgroup": "T",
         "orientation": "v",
         "showlegend": true,
         "type": "box",
         "x": [
          "T",
          "T",
          "T",
          "T"
         ],
         "x0": " ",
         "xaxis": "x",
         "y": [
          251,
          316,
          87,
          26
         ],
         "y0": " ",
         "yaxis": "y"
        },
        {
         "alignmentgroup": "True",
         "hovertemplate": "Size=%{x}<br>Quantity Sold Kgs=%{y}<extra></extra>",
         "legendgroup": "O",
         "marker": {
          "color": "#19d3f3"
         },
         "name": "O",
         "notched": false,
         "offsetgroup": "O",
         "orientation": "v",
         "showlegend": true,
         "type": "box",
         "x": [
          "O",
          "O",
          "O",
          "O"
         ],
         "x0": " ",
         "xaxis": "x",
         "y": [
          138,
          107,
          7,
          36
         ],
         "y0": " ",
         "yaxis": "y"
        },
        {
         "alignmentgroup": "True",
         "hovertemplate": "Size=%{x}<br>Quantity Sold Kgs=%{y}<extra></extra>",
         "legendgroup": "J",
         "marker": {
          "color": "#FF6692"
         },
         "name": "J",
         "notched": false,
         "offsetgroup": "J",
         "orientation": "v",
         "showlegend": true,
         "type": "box",
         "x": [
          "J",
          "J",
          "J",
          "J",
          "J"
         ],
         "x0": " ",
         "xaxis": "x",
         "y": [
          15,
          52,
          29,
          277,
          325
         ],
         "y0": " ",
         "yaxis": "y"
        },
        {
         "alignmentgroup": "True",
         "hovertemplate": "Size=%{x}<br>Quantity Sold Kgs=%{y}<extra></extra>",
         "legendgroup": "P",
         "marker": {
          "color": "#B6E880"
         },
         "name": "P",
         "notched": false,
         "offsetgroup": "P",
         "orientation": "v",
         "showlegend": true,
         "type": "box",
         "x": [
          "P",
          "P",
          "P",
          "P"
         ],
         "x0": " ",
         "xaxis": "x",
         "y": [
          59,
          161,
          6,
          136
         ],
         "y0": " ",
         "yaxis": "y"
        },
        {
         "alignmentgroup": "True",
         "hovertemplate": "Size=%{x}<br>Quantity Sold Kgs=%{y}<extra></extra>",
         "legendgroup": "H",
         "marker": {
          "color": "#FF97FF"
         },
         "name": "H",
         "notched": false,
         "offsetgroup": "H",
         "orientation": "v",
         "showlegend": true,
         "type": "box",
         "x": [
          "H",
          "H",
          "H",
          "H",
          "H",
          "H",
          "H"
         ],
         "x0": " ",
         "xaxis": "x",
         "y": [
          108,
          155,
          223,
          65,
          244,
          5,
          61
         ],
         "y0": " ",
         "yaxis": "y"
        },
        {
         "alignmentgroup": "True",
         "hovertemplate": "Size=%{x}<br>Quantity Sold Kgs=%{y}<extra></extra>",
         "legendgroup": "I",
         "marker": {
          "color": "#FECB52"
         },
         "name": "I",
         "notched": false,
         "offsetgroup": "I",
         "orientation": "v",
         "showlegend": true,
         "type": "box",
         "x": [
          "I",
          "I",
          "I"
         ],
         "x0": " ",
         "xaxis": "x",
         "y": [
          326,
          100,
          18
         ],
         "y0": " ",
         "yaxis": "y"
        }
       ],
       "layout": {
        "annotations": [
         {
          "arrowhead": 1,
          "showarrow": true,
          "text": "F (323 kgs)",
          "x": "F",
          "y": 323
         },
         {
          "arrowhead": 1,
          "showarrow": true,
          "text": "E (198 kgs)",
          "x": "E",
          "y": 198
         },
         {
          "arrowhead": 1,
          "showarrow": true,
          "text": "M (397 kgs)",
          "x": "M",
          "y": 397
         },
         {
          "arrowhead": 1,
          "showarrow": true,
          "text": "K (295 kgs)",
          "x": "K",
          "y": 295
         },
         {
          "arrowhead": 1,
          "showarrow": true,
          "text": "B (147 kgs)",
          "x": "B",
          "y": 147
         },
         {
          "arrowhead": 1,
          "showarrow": true,
          "text": "R (263 kgs)",
          "x": "R",
          "y": 263
         }
        ],
        "boxmode": "overlay",
        "font": {
         "color": "black",
         "family": "Courier New"
        },
        "legend": {
         "title": {
          "font": {
           "color": "green"
          },
          "text": "Size"
         },
         "tracegroupgap": 0
        },
        "showlegend": false,
        "template": {
         "data": {
          "bar": [
           {
            "error_x": {
             "color": "#2a3f5f"
            },
            "error_y": {
             "color": "#2a3f5f"
            },
            "marker": {
             "line": {
              "color": "#E5ECF6",
              "width": 0.5
             },
             "pattern": {
              "fillmode": "overlay",
              "size": 10,
              "solidity": 0.2
             }
            },
            "type": "bar"
           }
          ],
          "barpolar": [
           {
            "marker": {
             "line": {
              "color": "#E5ECF6",
              "width": 0.5
             },
             "pattern": {
              "fillmode": "overlay",
              "size": 10,
              "solidity": 0.2
             }
            },
            "type": "barpolar"
           }
          ],
          "carpet": [
           {
            "aaxis": {
             "endlinecolor": "#2a3f5f",
             "gridcolor": "white",
             "linecolor": "white",
             "minorgridcolor": "white",
             "startlinecolor": "#2a3f5f"
            },
            "baxis": {
             "endlinecolor": "#2a3f5f",
             "gridcolor": "white",
             "linecolor": "white",
             "minorgridcolor": "white",
             "startlinecolor": "#2a3f5f"
            },
            "type": "carpet"
           }
          ],
          "choropleth": [
           {
            "colorbar": {
             "outlinewidth": 0,
             "ticks": ""
            },
            "type": "choropleth"
           }
          ],
          "contour": [
           {
            "colorbar": {
             "outlinewidth": 0,
             "ticks": ""
            },
            "colorscale": [
             [
              0,
              "#0d0887"
             ],
             [
              0.1111111111111111,
              "#46039f"
             ],
             [
              0.2222222222222222,
              "#7201a8"
             ],
             [
              0.3333333333333333,
              "#9c179e"
             ],
             [
              0.4444444444444444,
              "#bd3786"
             ],
             [
              0.5555555555555556,
              "#d8576b"
             ],
             [
              0.6666666666666666,
              "#ed7953"
             ],
             [
              0.7777777777777778,
              "#fb9f3a"
             ],
             [
              0.8888888888888888,
              "#fdca26"
             ],
             [
              1,
              "#f0f921"
             ]
            ],
            "type": "contour"
           }
          ],
          "contourcarpet": [
           {
            "colorbar": {
             "outlinewidth": 0,
             "ticks": ""
            },
            "type": "contourcarpet"
           }
          ],
          "heatmap": [
           {
            "colorbar": {
             "outlinewidth": 0,
             "ticks": ""
            },
            "colorscale": [
             [
              0,
              "#0d0887"
             ],
             [
              0.1111111111111111,
              "#46039f"
             ],
             [
              0.2222222222222222,
              "#7201a8"
             ],
             [
              0.3333333333333333,
              "#9c179e"
             ],
             [
              0.4444444444444444,
              "#bd3786"
             ],
             [
              0.5555555555555556,
              "#d8576b"
             ],
             [
              0.6666666666666666,
              "#ed7953"
             ],
             [
              0.7777777777777778,
              "#fb9f3a"
             ],
             [
              0.8888888888888888,
              "#fdca26"
             ],
             [
              1,
              "#f0f921"
             ]
            ],
            "type": "heatmap"
           }
          ],
          "heatmapgl": [
           {
            "colorbar": {
             "outlinewidth": 0,
             "ticks": ""
            },
            "colorscale": [
             [
              0,
              "#0d0887"
             ],
             [
              0.1111111111111111,
              "#46039f"
             ],
             [
              0.2222222222222222,
              "#7201a8"
             ],
             [
              0.3333333333333333,
              "#9c179e"
             ],
             [
              0.4444444444444444,
              "#bd3786"
             ],
             [
              0.5555555555555556,
              "#d8576b"
             ],
             [
              0.6666666666666666,
              "#ed7953"
             ],
             [
              0.7777777777777778,
              "#fb9f3a"
             ],
             [
              0.8888888888888888,
              "#fdca26"
             ],
             [
              1,
              "#f0f921"
             ]
            ],
            "type": "heatmapgl"
           }
          ],
          "histogram": [
           {
            "marker": {
             "pattern": {
              "fillmode": "overlay",
              "size": 10,
              "solidity": 0.2
             }
            },
            "type": "histogram"
           }
          ],
          "histogram2d": [
           {
            "colorbar": {
             "outlinewidth": 0,
             "ticks": ""
            },
            "colorscale": [
             [
              0,
              "#0d0887"
             ],
             [
              0.1111111111111111,
              "#46039f"
             ],
             [
              0.2222222222222222,
              "#7201a8"
             ],
             [
              0.3333333333333333,
              "#9c179e"
             ],
             [
              0.4444444444444444,
              "#bd3786"
             ],
             [
              0.5555555555555556,
              "#d8576b"
             ],
             [
              0.6666666666666666,
              "#ed7953"
             ],
             [
              0.7777777777777778,
              "#fb9f3a"
             ],
             [
              0.8888888888888888,
              "#fdca26"
             ],
             [
              1,
              "#f0f921"
             ]
            ],
            "type": "histogram2d"
           }
          ],
          "histogram2dcontour": [
           {
            "colorbar": {
             "outlinewidth": 0,
             "ticks": ""
            },
            "colorscale": [
             [
              0,
              "#0d0887"
             ],
             [
              0.1111111111111111,
              "#46039f"
             ],
             [
              0.2222222222222222,
              "#7201a8"
             ],
             [
              0.3333333333333333,
              "#9c179e"
             ],
             [
              0.4444444444444444,
              "#bd3786"
             ],
             [
              0.5555555555555556,
              "#d8576b"
             ],
             [
              0.6666666666666666,
              "#ed7953"
             ],
             [
              0.7777777777777778,
              "#fb9f3a"
             ],
             [
              0.8888888888888888,
              "#fdca26"
             ],
             [
              1,
              "#f0f921"
             ]
            ],
            "type": "histogram2dcontour"
           }
          ],
          "mesh3d": [
           {
            "colorbar": {
             "outlinewidth": 0,
             "ticks": ""
            },
            "type": "mesh3d"
           }
          ],
          "parcoords": [
           {
            "line": {
             "colorbar": {
              "outlinewidth": 0,
              "ticks": ""
             }
            },
            "type": "parcoords"
           }
          ],
          "pie": [
           {
            "automargin": true,
            "type": "pie"
           }
          ],
          "scatter": [
           {
            "marker": {
             "colorbar": {
              "outlinewidth": 0,
              "ticks": ""
             }
            },
            "type": "scatter"
           }
          ],
          "scatter3d": [
           {
            "line": {
             "colorbar": {
              "outlinewidth": 0,
              "ticks": ""
             }
            },
            "marker": {
             "colorbar": {
              "outlinewidth": 0,
              "ticks": ""
             }
            },
            "type": "scatter3d"
           }
          ],
          "scattercarpet": [
           {
            "marker": {
             "colorbar": {
              "outlinewidth": 0,
              "ticks": ""
             }
            },
            "type": "scattercarpet"
           }
          ],
          "scattergeo": [
           {
            "marker": {
             "colorbar": {
              "outlinewidth": 0,
              "ticks": ""
             }
            },
            "type": "scattergeo"
           }
          ],
          "scattergl": [
           {
            "marker": {
             "colorbar": {
              "outlinewidth": 0,
              "ticks": ""
             }
            },
            "type": "scattergl"
           }
          ],
          "scattermapbox": [
           {
            "marker": {
             "colorbar": {
              "outlinewidth": 0,
              "ticks": ""
             }
            },
            "type": "scattermapbox"
           }
          ],
          "scatterpolar": [
           {
            "marker": {
             "colorbar": {
              "outlinewidth": 0,
              "ticks": ""
             }
            },
            "type": "scatterpolar"
           }
          ],
          "scatterpolargl": [
           {
            "marker": {
             "colorbar": {
              "outlinewidth": 0,
              "ticks": ""
             }
            },
            "type": "scatterpolargl"
           }
          ],
          "scatterternary": [
           {
            "marker": {
             "colorbar": {
              "outlinewidth": 0,
              "ticks": ""
             }
            },
            "type": "scatterternary"
           }
          ],
          "surface": [
           {
            "colorbar": {
             "outlinewidth": 0,
             "ticks": ""
            },
            "colorscale": [
             [
              0,
              "#0d0887"
             ],
             [
              0.1111111111111111,
              "#46039f"
             ],
             [
              0.2222222222222222,
              "#7201a8"
             ],
             [
              0.3333333333333333,
              "#9c179e"
             ],
             [
              0.4444444444444444,
              "#bd3786"
             ],
             [
              0.5555555555555556,
              "#d8576b"
             ],
             [
              0.6666666666666666,
              "#ed7953"
             ],
             [
              0.7777777777777778,
              "#fb9f3a"
             ],
             [
              0.8888888888888888,
              "#fdca26"
             ],
             [
              1,
              "#f0f921"
             ]
            ],
            "type": "surface"
           }
          ],
          "table": [
           {
            "cells": {
             "fill": {
              "color": "#EBF0F8"
             },
             "line": {
              "color": "white"
             }
            },
            "header": {
             "fill": {
              "color": "#C8D4E3"
             },
             "line": {
              "color": "white"
             }
            },
            "type": "table"
           }
          ]
         },
         "layout": {
          "annotationdefaults": {
           "arrowcolor": "#2a3f5f",
           "arrowhead": 0,
           "arrowwidth": 1
          },
          "autotypenumbers": "strict",
          "coloraxis": {
           "colorbar": {
            "outlinewidth": 0,
            "ticks": ""
           }
          },
          "colorscale": {
           "diverging": [
            [
             0,
             "#8e0152"
            ],
            [
             0.1,
             "#c51b7d"
            ],
            [
             0.2,
             "#de77ae"
            ],
            [
             0.3,
             "#f1b6da"
            ],
            [
             0.4,
             "#fde0ef"
            ],
            [
             0.5,
             "#f7f7f7"
            ],
            [
             0.6,
             "#e6f5d0"
            ],
            [
             0.7,
             "#b8e186"
            ],
            [
             0.8,
             "#7fbc41"
            ],
            [
             0.9,
             "#4d9221"
            ],
            [
             1,
             "#276419"
            ]
           ],
           "sequential": [
            [
             0,
             "#0d0887"
            ],
            [
             0.1111111111111111,
             "#46039f"
            ],
            [
             0.2222222222222222,
             "#7201a8"
            ],
            [
             0.3333333333333333,
             "#9c179e"
            ],
            [
             0.4444444444444444,
             "#bd3786"
            ],
            [
             0.5555555555555556,
             "#d8576b"
            ],
            [
             0.6666666666666666,
             "#ed7953"
            ],
            [
             0.7777777777777778,
             "#fb9f3a"
            ],
            [
             0.8888888888888888,
             "#fdca26"
            ],
            [
             1,
             "#f0f921"
            ]
           ],
           "sequentialminus": [
            [
             0,
             "#0d0887"
            ],
            [
             0.1111111111111111,
             "#46039f"
            ],
            [
             0.2222222222222222,
             "#7201a8"
            ],
            [
             0.3333333333333333,
             "#9c179e"
            ],
            [
             0.4444444444444444,
             "#bd3786"
            ],
            [
             0.5555555555555556,
             "#d8576b"
            ],
            [
             0.6666666666666666,
             "#ed7953"
            ],
            [
             0.7777777777777778,
             "#fb9f3a"
            ],
            [
             0.8888888888888888,
             "#fdca26"
            ],
            [
             1,
             "#f0f921"
            ]
           ]
          },
          "colorway": [
           "#636efa",
           "#EF553B",
           "#00cc96",
           "#ab63fa",
           "#FFA15A",
           "#19d3f3",
           "#FF6692",
           "#B6E880",
           "#FF97FF",
           "#FECB52"
          ],
          "font": {
           "color": "#2a3f5f"
          },
          "geo": {
           "bgcolor": "white",
           "lakecolor": "white",
           "landcolor": "#E5ECF6",
           "showlakes": true,
           "showland": true,
           "subunitcolor": "white"
          },
          "hoverlabel": {
           "align": "left"
          },
          "hovermode": "closest",
          "mapbox": {
           "style": "light"
          },
          "paper_bgcolor": "white",
          "plot_bgcolor": "#E5ECF6",
          "polar": {
           "angularaxis": {
            "gridcolor": "white",
            "linecolor": "white",
            "ticks": ""
           },
           "bgcolor": "#E5ECF6",
           "radialaxis": {
            "gridcolor": "white",
            "linecolor": "white",
            "ticks": ""
           }
          },
          "scene": {
           "xaxis": {
            "backgroundcolor": "#E5ECF6",
            "gridcolor": "white",
            "gridwidth": 2,
            "linecolor": "white",
            "showbackground": true,
            "ticks": "",
            "zerolinecolor": "white"
           },
           "yaxis": {
            "backgroundcolor": "#E5ECF6",
            "gridcolor": "white",
            "gridwidth": 2,
            "linecolor": "white",
            "showbackground": true,
            "ticks": "",
            "zerolinecolor": "white"
           },
           "zaxis": {
            "backgroundcolor": "#E5ECF6",
            "gridcolor": "white",
            "gridwidth": 2,
            "linecolor": "white",
            "showbackground": true,
            "ticks": "",
            "zerolinecolor": "white"
           }
          },
          "shapedefaults": {
           "line": {
            "color": "#2a3f5f"
           }
          },
          "ternary": {
           "aaxis": {
            "gridcolor": "white",
            "linecolor": "white",
            "ticks": ""
           },
           "baxis": {
            "gridcolor": "white",
            "linecolor": "white",
            "ticks": ""
           },
           "bgcolor": "#E5ECF6",
           "caxis": {
            "gridcolor": "white",
            "linecolor": "white",
            "ticks": ""
           }
          },
          "title": {
           "x": 0.05
          },
          "xaxis": {
           "automargin": true,
           "gridcolor": "white",
           "linecolor": "white",
           "ticks": "",
           "title": {
            "standoff": 15
           },
           "zerolinecolor": "white",
           "zerolinewidth": 2
          },
          "yaxis": {
           "automargin": true,
           "gridcolor": "white",
           "linecolor": "white",
           "ticks": "",
           "title": {
            "standoff": 15
           },
           "zerolinecolor": "white",
           "zerolinewidth": 2
          }
         }
        },
        "title": {
         "font": {
          "color": "black",
          "family": "Bahnschrift Light"
         },
         "text": "Outlier detection for different Sizes"
        },
        "xaxis": {
         "anchor": "y",
         "categoryarray": [
          "F",
          "L",
          "E",
          "S",
          "M",
          "A",
          "D",
          "G",
          "K",
          "C",
          "Q",
          "B",
          "R",
          "N",
          "T",
          "O",
          "J",
          "P",
          "H",
          "I"
         ],
         "categoryorder": "category ascending",
         "domain": [
          0,
          1
         ],
         "title": {
          "font": {
           "family": "Candara Light"
          },
          "text": "Product"
         }
        },
        "yaxis": {
         "anchor": "x",
         "domain": [
          0,
          1
         ],
         "title": {
          "font": {
           "family": "Candara Light"
          },
          "text": "Quantity Sold Kgs"
         }
        }
       }
      },
      "text/html": [
       "<div>                            <div id=\"15db90be-39f9-4c2c-8c93-cbe0e26bb126\" class=\"plotly-graph-div\" style=\"height:525px; width:100%;\"></div>            <script type=\"text/javascript\">                require([\"plotly\"], function(Plotly) {                    window.PLOTLYENV=window.PLOTLYENV || {};                                    if (document.getElementById(\"15db90be-39f9-4c2c-8c93-cbe0e26bb126\")) {                    Plotly.newPlot(                        \"15db90be-39f9-4c2c-8c93-cbe0e26bb126\",                        [{\"alignmentgroup\":\"True\",\"hovertemplate\":\"Size=%{x}<br>Quantity Sold Kgs=%{y}<extra></extra>\",\"legendgroup\":\"F\",\"marker\":{\"color\":\"#636efa\"},\"name\":\"F\",\"notched\":false,\"offsetgroup\":\"F\",\"orientation\":\"v\",\"showlegend\":true,\"type\":\"box\",\"x\":[\"F\",\"F\",\"F\",\"F\",\"F\",\"F\",\"F\",\"F\",\"F\",\"F\",\"F\",\"F\",\"F\",\"F\",\"F\",\"F\",\"F\",\"F\",\"F\",\"F\",\"F\",\"F\",\"F\",\"F\",\"F\",\"F\",\"F\",\"F\",\"F\",\"F\"],\"x0\":\" \",\"xaxis\":\"x\",\"y\":[187,105,64,42,170,130,70,60,35,42,17,323,90,78,100,62,40,176,100,80,60,79,16,48,133,200,48,18,100,144],\"y0\":\" \",\"yaxis\":\"y\"},{\"alignmentgroup\":\"True\",\"hovertemplate\":\"Size=%{x}<br>Quantity Sold Kgs=%{y}<extra></extra>\",\"legendgroup\":\"L\",\"marker\":{\"color\":\"#EF553B\"},\"name\":\"L\",\"notched\":false,\"offsetgroup\":\"L\",\"orientation\":\"v\",\"showlegend\":true,\"type\":\"box\",\"x\":[\"L\",\"L\",\"L\",\"L\",\"L\",\"L\",\"L\",\"L\",\"L\",\"L\",\"L\",\"L\",\"L\"],\"x0\":\" \",\"xaxis\":\"x\",\"y\":[146,100,20,153,51,178,67,27,180,50,9,33,55],\"y0\":\" \",\"yaxis\":\"y\"},{\"alignmentgroup\":\"True\",\"hovertemplate\":\"Size=%{x}<br>Quantity Sold Kgs=%{y}<extra></extra>\",\"legendgroup\":\"E\",\"marker\":{\"color\":\"#00cc96\"},\"name\":\"E\",\"notched\":false,\"offsetgroup\":\"E\",\"orientation\":\"v\",\"showlegend\":true,\"type\":\"box\",\"x\":[\"E\",\"E\",\"E\",\"E\",\"E\",\"E\",\"E\",\"E\",\"E\",\"E\",\"E\",\"E\",\"E\",\"E\",\"E\",\"E\",\"E\",\"E\",\"E\"],\"x0\":\" \",\"xaxis\":\"x\",\"y\":[18,120,9,26,62,198,30,106,51,13,60,72,25,32,8,83,11,76,77],\"y0\":\" \",\"yaxis\":\"y\"},{\"alignmentgroup\":\"True\",\"hovertemplate\":\"Size=%{x}<br>Quantity Sold Kgs=%{y}<extra></extra>\",\"legendgroup\":\"S\",\"marker\":{\"color\":\"#ab63fa\"},\"name\":\"S\",\"notched\":false,\"offsetgroup\":\"S\",\"orientation\":\"v\",\"showlegend\":true,\"type\":\"box\",\"x\":[\"S\",\"S\",\"S\",\"S\",\"S\",\"S\",\"S\",\"S\"],\"x0\":\" \",\"xaxis\":\"x\",\"y\":[87,15,201,31,201,281,79,26],\"y0\":\" \",\"yaxis\":\"y\"},{\"alignmentgroup\":\"True\",\"hovertemplate\":\"Size=%{x}<br>Quantity Sold Kgs=%{y}<extra></extra>\",\"legendgroup\":\"M\",\"marker\":{\"color\":\"#FFA15A\"},\"name\":\"M\",\"notched\":false,\"offsetgroup\":\"M\",\"orientation\":\"v\",\"showlegend\":true,\"type\":\"box\",\"x\":[\"M\",\"M\",\"M\",\"M\",\"M\",\"M\",\"M\",\"M\",\"M\",\"M\",\"M\",\"M\",\"M\",\"M\",\"M\",\"M\",\"M\",\"M\",\"M\",\"M\",\"M\",\"M\",\"M\"],\"x0\":\" \",\"xaxis\":\"x\",\"y\":[5,397,104,151,89,36,40,58,107,49,69,123,35,15,128,30,79,78,195,10,137,17,11],\"y0\":\" \",\"yaxis\":\"y\"},{\"alignmentgroup\":\"True\",\"hovertemplate\":\"Size=%{x}<br>Quantity Sold Kgs=%{y}<extra></extra>\",\"legendgroup\":\"A\",\"marker\":{\"color\":\"#19d3f3\"},\"name\":\"A\",\"notched\":false,\"offsetgroup\":\"A\",\"orientation\":\"v\",\"showlegend\":true,\"type\":\"box\",\"x\":[\"A\",\"A\",\"A\",\"A\",\"A\",\"A\",\"A\"],\"x0\":\" \",\"xaxis\":\"x\",\"y\":[36,20,72,28,25,73,8],\"y0\":\" \",\"yaxis\":\"y\"},{\"alignmentgroup\":\"True\",\"hovertemplate\":\"Size=%{x}<br>Quantity Sold Kgs=%{y}<extra></extra>\",\"legendgroup\":\"D\",\"marker\":{\"color\":\"#FF6692\"},\"name\":\"D\",\"notched\":false,\"offsetgroup\":\"D\",\"orientation\":\"v\",\"showlegend\":true,\"type\":\"box\",\"x\":[\"D\",\"D\"],\"x0\":\" \",\"xaxis\":\"x\",\"y\":[266,93],\"y0\":\" \",\"yaxis\":\"y\"},{\"alignmentgroup\":\"True\",\"hovertemplate\":\"Size=%{x}<br>Quantity Sold Kgs=%{y}<extra></extra>\",\"legendgroup\":\"G\",\"marker\":{\"color\":\"#B6E880\"},\"name\":\"G\",\"notched\":false,\"offsetgroup\":\"G\",\"orientation\":\"v\",\"showlegend\":true,\"type\":\"box\",\"x\":[\"G\",\"G\",\"G\",\"G\",\"G\",\"G\",\"G\",\"G\",\"G\",\"G\",\"G\",\"G\",\"G\",\"G\",\"G\"],\"x0\":\" \",\"xaxis\":\"x\",\"y\":[43,45,38,16,6,13,65,150,126,52,25,108,105,80,54],\"y0\":\" \",\"yaxis\":\"y\"},{\"alignmentgroup\":\"True\",\"hovertemplate\":\"Size=%{x}<br>Quantity Sold Kgs=%{y}<extra></extra>\",\"legendgroup\":\"K\",\"marker\":{\"color\":\"#FF97FF\"},\"name\":\"K\",\"notched\":false,\"offsetgroup\":\"K\",\"orientation\":\"v\",\"showlegend\":true,\"type\":\"box\",\"x\":[\"K\",\"K\",\"K\",\"K\",\"K\",\"K\",\"K\",\"K\",\"K\",\"K\",\"K\",\"K\",\"K\"],\"x0\":\" \",\"xaxis\":\"x\",\"y\":[114,144,121,82,108,17,64,110,58,11,295,98,55],\"y0\":\" \",\"yaxis\":\"y\"},{\"alignmentgroup\":\"True\",\"hovertemplate\":\"Size=%{x}<br>Quantity Sold Kgs=%{y}<extra></extra>\",\"legendgroup\":\"C\",\"marker\":{\"color\":\"#FECB52\"},\"name\":\"C\",\"notched\":false,\"offsetgroup\":\"C\",\"orientation\":\"v\",\"showlegend\":true,\"type\":\"box\",\"x\":[\"C\",\"C\",\"C\",\"C\",\"C\",\"C\",\"C\",\"C\",\"C\",\"C\",\"C\",\"C\",\"C\",\"C\",\"C\",\"C\",\"C\",\"C\",\"C\",\"C\",\"C\",\"C\",\"C\",\"C\"],\"x0\":\" \",\"xaxis\":\"x\",\"y\":[76,27,30,50,18,12,26,66,11,84,20,44,18,60,35,40,90,20,120,60,112,63,72,80],\"y0\":\" \",\"yaxis\":\"y\"},{\"alignmentgroup\":\"True\",\"hovertemplate\":\"Size=%{x}<br>Quantity Sold Kgs=%{y}<extra></extra>\",\"legendgroup\":\"Q\",\"marker\":{\"color\":\"#636efa\"},\"name\":\"Q\",\"notched\":false,\"offsetgroup\":\"Q\",\"orientation\":\"v\",\"showlegend\":true,\"type\":\"box\",\"x\":[\"Q\",\"Q\",\"Q\",\"Q\",\"Q\",\"Q\",\"Q\",\"Q\"],\"x0\":\" \",\"xaxis\":\"x\",\"y\":[226,95,222,67,200,16,200,192],\"y0\":\" \",\"yaxis\":\"y\"},{\"alignmentgroup\":\"True\",\"hovertemplate\":\"Size=%{x}<br>Quantity Sold Kgs=%{y}<extra></extra>\",\"legendgroup\":\"B\",\"marker\":{\"color\":\"#EF553B\"},\"name\":\"B\",\"notched\":false,\"offsetgroup\":\"B\",\"orientation\":\"v\",\"showlegend\":true,\"type\":\"box\",\"x\":[\"B\",\"B\",\"B\",\"B\",\"B\",\"B\",\"B\",\"B\",\"B\",\"B\",\"B\",\"B\",\"B\",\"B\",\"B\"],\"x0\":\" \",\"xaxis\":\"x\",\"y\":[32,147,82,39,32,60,30,35,20,93,50,38,25,29,6],\"y0\":\" \",\"yaxis\":\"y\"},{\"alignmentgroup\":\"True\",\"hovertemplate\":\"Size=%{x}<br>Quantity Sold Kgs=%{y}<extra></extra>\",\"legendgroup\":\"R\",\"marker\":{\"color\":\"#00cc96\"},\"name\":\"R\",\"notched\":false,\"offsetgroup\":\"R\",\"orientation\":\"v\",\"showlegend\":true,\"type\":\"box\",\"x\":[\"R\",\"R\",\"R\",\"R\",\"R\",\"R\"],\"x0\":\" \",\"xaxis\":\"x\",\"y\":[41,263,80,76,38,108],\"y0\":\" \",\"yaxis\":\"y\"},{\"alignmentgroup\":\"True\",\"hovertemplate\":\"Size=%{x}<br>Quantity Sold Kgs=%{y}<extra></extra>\",\"legendgroup\":\"N\",\"marker\":{\"color\":\"#ab63fa\"},\"name\":\"N\",\"notched\":false,\"offsetgroup\":\"N\",\"orientation\":\"v\",\"showlegend\":true,\"type\":\"box\",\"x\":[\"N\",\"N\",\"N\",\"N\",\"N\"],\"x0\":\" \",\"xaxis\":\"x\",\"y\":[127,256,40,264,281],\"y0\":\" \",\"yaxis\":\"y\"},{\"alignmentgroup\":\"True\",\"hovertemplate\":\"Size=%{x}<br>Quantity Sold Kgs=%{y}<extra></extra>\",\"legendgroup\":\"T\",\"marker\":{\"color\":\"#FFA15A\"},\"name\":\"T\",\"notched\":false,\"offsetgroup\":\"T\",\"orientation\":\"v\",\"showlegend\":true,\"type\":\"box\",\"x\":[\"T\",\"T\",\"T\",\"T\"],\"x0\":\" \",\"xaxis\":\"x\",\"y\":[251,316,87,26],\"y0\":\" \",\"yaxis\":\"y\"},{\"alignmentgroup\":\"True\",\"hovertemplate\":\"Size=%{x}<br>Quantity Sold Kgs=%{y}<extra></extra>\",\"legendgroup\":\"O\",\"marker\":{\"color\":\"#19d3f3\"},\"name\":\"O\",\"notched\":false,\"offsetgroup\":\"O\",\"orientation\":\"v\",\"showlegend\":true,\"type\":\"box\",\"x\":[\"O\",\"O\",\"O\",\"O\"],\"x0\":\" \",\"xaxis\":\"x\",\"y\":[138,107,7,36],\"y0\":\" \",\"yaxis\":\"y\"},{\"alignmentgroup\":\"True\",\"hovertemplate\":\"Size=%{x}<br>Quantity Sold Kgs=%{y}<extra></extra>\",\"legendgroup\":\"J\",\"marker\":{\"color\":\"#FF6692\"},\"name\":\"J\",\"notched\":false,\"offsetgroup\":\"J\",\"orientation\":\"v\",\"showlegend\":true,\"type\":\"box\",\"x\":[\"J\",\"J\",\"J\",\"J\",\"J\"],\"x0\":\" \",\"xaxis\":\"x\",\"y\":[15,52,29,277,325],\"y0\":\" \",\"yaxis\":\"y\"},{\"alignmentgroup\":\"True\",\"hovertemplate\":\"Size=%{x}<br>Quantity Sold Kgs=%{y}<extra></extra>\",\"legendgroup\":\"P\",\"marker\":{\"color\":\"#B6E880\"},\"name\":\"P\",\"notched\":false,\"offsetgroup\":\"P\",\"orientation\":\"v\",\"showlegend\":true,\"type\":\"box\",\"x\":[\"P\",\"P\",\"P\",\"P\"],\"x0\":\" \",\"xaxis\":\"x\",\"y\":[59,161,6,136],\"y0\":\" \",\"yaxis\":\"y\"},{\"alignmentgroup\":\"True\",\"hovertemplate\":\"Size=%{x}<br>Quantity Sold Kgs=%{y}<extra></extra>\",\"legendgroup\":\"H\",\"marker\":{\"color\":\"#FF97FF\"},\"name\":\"H\",\"notched\":false,\"offsetgroup\":\"H\",\"orientation\":\"v\",\"showlegend\":true,\"type\":\"box\",\"x\":[\"H\",\"H\",\"H\",\"H\",\"H\",\"H\",\"H\"],\"x0\":\" \",\"xaxis\":\"x\",\"y\":[108,155,223,65,244,5,61],\"y0\":\" \",\"yaxis\":\"y\"},{\"alignmentgroup\":\"True\",\"hovertemplate\":\"Size=%{x}<br>Quantity Sold Kgs=%{y}<extra></extra>\",\"legendgroup\":\"I\",\"marker\":{\"color\":\"#FECB52\"},\"name\":\"I\",\"notched\":false,\"offsetgroup\":\"I\",\"orientation\":\"v\",\"showlegend\":true,\"type\":\"box\",\"x\":[\"I\",\"I\",\"I\"],\"x0\":\" \",\"xaxis\":\"x\",\"y\":[326,100,18],\"y0\":\" \",\"yaxis\":\"y\"}],                        {\"annotations\":[{\"arrowhead\":1,\"showarrow\":true,\"text\":\"F (323 kgs)\",\"x\":\"F\",\"y\":323},{\"arrowhead\":1,\"showarrow\":true,\"text\":\"E (198 kgs)\",\"x\":\"E\",\"y\":198},{\"arrowhead\":1,\"showarrow\":true,\"text\":\"M (397 kgs)\",\"x\":\"M\",\"y\":397},{\"arrowhead\":1,\"showarrow\":true,\"text\":\"K (295 kgs)\",\"x\":\"K\",\"y\":295},{\"arrowhead\":1,\"showarrow\":true,\"text\":\"B (147 kgs)\",\"x\":\"B\",\"y\":147},{\"arrowhead\":1,\"showarrow\":true,\"text\":\"R (263 kgs)\",\"x\":\"R\",\"y\":263}],\"boxmode\":\"overlay\",\"font\":{\"color\":\"black\",\"family\":\"Courier New\"},\"legend\":{\"title\":{\"font\":{\"color\":\"green\"},\"text\":\"Size\"},\"tracegroupgap\":0},\"showlegend\":false,\"template\":{\"data\":{\"bar\":[{\"error_x\":{\"color\":\"#2a3f5f\"},\"error_y\":{\"color\":\"#2a3f5f\"},\"marker\":{\"line\":{\"color\":\"#E5ECF6\",\"width\":0.5},\"pattern\":{\"fillmode\":\"overlay\",\"size\":10,\"solidity\":0.2}},\"type\":\"bar\"}],\"barpolar\":[{\"marker\":{\"line\":{\"color\":\"#E5ECF6\",\"width\":0.5},\"pattern\":{\"fillmode\":\"overlay\",\"size\":10,\"solidity\":0.2}},\"type\":\"barpolar\"}],\"carpet\":[{\"aaxis\":{\"endlinecolor\":\"#2a3f5f\",\"gridcolor\":\"white\",\"linecolor\":\"white\",\"minorgridcolor\":\"white\",\"startlinecolor\":\"#2a3f5f\"},\"baxis\":{\"endlinecolor\":\"#2a3f5f\",\"gridcolor\":\"white\",\"linecolor\":\"white\",\"minorgridcolor\":\"white\",\"startlinecolor\":\"#2a3f5f\"},\"type\":\"carpet\"}],\"choropleth\":[{\"colorbar\":{\"outlinewidth\":0,\"ticks\":\"\"},\"type\":\"choropleth\"}],\"contour\":[{\"colorbar\":{\"outlinewidth\":0,\"ticks\":\"\"},\"colorscale\":[[0.0,\"#0d0887\"],[0.1111111111111111,\"#46039f\"],[0.2222222222222222,\"#7201a8\"],[0.3333333333333333,\"#9c179e\"],[0.4444444444444444,\"#bd3786\"],[0.5555555555555556,\"#d8576b\"],[0.6666666666666666,\"#ed7953\"],[0.7777777777777778,\"#fb9f3a\"],[0.8888888888888888,\"#fdca26\"],[1.0,\"#f0f921\"]],\"type\":\"contour\"}],\"contourcarpet\":[{\"colorbar\":{\"outlinewidth\":0,\"ticks\":\"\"},\"type\":\"contourcarpet\"}],\"heatmap\":[{\"colorbar\":{\"outlinewidth\":0,\"ticks\":\"\"},\"colorscale\":[[0.0,\"#0d0887\"],[0.1111111111111111,\"#46039f\"],[0.2222222222222222,\"#7201a8\"],[0.3333333333333333,\"#9c179e\"],[0.4444444444444444,\"#bd3786\"],[0.5555555555555556,\"#d8576b\"],[0.6666666666666666,\"#ed7953\"],[0.7777777777777778,\"#fb9f3a\"],[0.8888888888888888,\"#fdca26\"],[1.0,\"#f0f921\"]],\"type\":\"heatmap\"}],\"heatmapgl\":[{\"colorbar\":{\"outlinewidth\":0,\"ticks\":\"\"},\"colorscale\":[[0.0,\"#0d0887\"],[0.1111111111111111,\"#46039f\"],[0.2222222222222222,\"#7201a8\"],[0.3333333333333333,\"#9c179e\"],[0.4444444444444444,\"#bd3786\"],[0.5555555555555556,\"#d8576b\"],[0.6666666666666666,\"#ed7953\"],[0.7777777777777778,\"#fb9f3a\"],[0.8888888888888888,\"#fdca26\"],[1.0,\"#f0f921\"]],\"type\":\"heatmapgl\"}],\"histogram\":[{\"marker\":{\"pattern\":{\"fillmode\":\"overlay\",\"size\":10,\"solidity\":0.2}},\"type\":\"histogram\"}],\"histogram2d\":[{\"colorbar\":{\"outlinewidth\":0,\"ticks\":\"\"},\"colorscale\":[[0.0,\"#0d0887\"],[0.1111111111111111,\"#46039f\"],[0.2222222222222222,\"#7201a8\"],[0.3333333333333333,\"#9c179e\"],[0.4444444444444444,\"#bd3786\"],[0.5555555555555556,\"#d8576b\"],[0.6666666666666666,\"#ed7953\"],[0.7777777777777778,\"#fb9f3a\"],[0.8888888888888888,\"#fdca26\"],[1.0,\"#f0f921\"]],\"type\":\"histogram2d\"}],\"histogram2dcontour\":[{\"colorbar\":{\"outlinewidth\":0,\"ticks\":\"\"},\"colorscale\":[[0.0,\"#0d0887\"],[0.1111111111111111,\"#46039f\"],[0.2222222222222222,\"#7201a8\"],[0.3333333333333333,\"#9c179e\"],[0.4444444444444444,\"#bd3786\"],[0.5555555555555556,\"#d8576b\"],[0.6666666666666666,\"#ed7953\"],[0.7777777777777778,\"#fb9f3a\"],[0.8888888888888888,\"#fdca26\"],[1.0,\"#f0f921\"]],\"type\":\"histogram2dcontour\"}],\"mesh3d\":[{\"colorbar\":{\"outlinewidth\":0,\"ticks\":\"\"},\"type\":\"mesh3d\"}],\"parcoords\":[{\"line\":{\"colorbar\":{\"outlinewidth\":0,\"ticks\":\"\"}},\"type\":\"parcoords\"}],\"pie\":[{\"automargin\":true,\"type\":\"pie\"}],\"scatter\":[{\"marker\":{\"colorbar\":{\"outlinewidth\":0,\"ticks\":\"\"}},\"type\":\"scatter\"}],\"scatter3d\":[{\"line\":{\"colorbar\":{\"outlinewidth\":0,\"ticks\":\"\"}},\"marker\":{\"colorbar\":{\"outlinewidth\":0,\"ticks\":\"\"}},\"type\":\"scatter3d\"}],\"scattercarpet\":[{\"marker\":{\"colorbar\":{\"outlinewidth\":0,\"ticks\":\"\"}},\"type\":\"scattercarpet\"}],\"scattergeo\":[{\"marker\":{\"colorbar\":{\"outlinewidth\":0,\"ticks\":\"\"}},\"type\":\"scattergeo\"}],\"scattergl\":[{\"marker\":{\"colorbar\":{\"outlinewidth\":0,\"ticks\":\"\"}},\"type\":\"scattergl\"}],\"scattermapbox\":[{\"marker\":{\"colorbar\":{\"outlinewidth\":0,\"ticks\":\"\"}},\"type\":\"scattermapbox\"}],\"scatterpolar\":[{\"marker\":{\"colorbar\":{\"outlinewidth\":0,\"ticks\":\"\"}},\"type\":\"scatterpolar\"}],\"scatterpolargl\":[{\"marker\":{\"colorbar\":{\"outlinewidth\":0,\"ticks\":\"\"}},\"type\":\"scatterpolargl\"}],\"scatterternary\":[{\"marker\":{\"colorbar\":{\"outlinewidth\":0,\"ticks\":\"\"}},\"type\":\"scatterternary\"}],\"surface\":[{\"colorbar\":{\"outlinewidth\":0,\"ticks\":\"\"},\"colorscale\":[[0.0,\"#0d0887\"],[0.1111111111111111,\"#46039f\"],[0.2222222222222222,\"#7201a8\"],[0.3333333333333333,\"#9c179e\"],[0.4444444444444444,\"#bd3786\"],[0.5555555555555556,\"#d8576b\"],[0.6666666666666666,\"#ed7953\"],[0.7777777777777778,\"#fb9f3a\"],[0.8888888888888888,\"#fdca26\"],[1.0,\"#f0f921\"]],\"type\":\"surface\"}],\"table\":[{\"cells\":{\"fill\":{\"color\":\"#EBF0F8\"},\"line\":{\"color\":\"white\"}},\"header\":{\"fill\":{\"color\":\"#C8D4E3\"},\"line\":{\"color\":\"white\"}},\"type\":\"table\"}]},\"layout\":{\"annotationdefaults\":{\"arrowcolor\":\"#2a3f5f\",\"arrowhead\":0,\"arrowwidth\":1},\"autotypenumbers\":\"strict\",\"coloraxis\":{\"colorbar\":{\"outlinewidth\":0,\"ticks\":\"\"}},\"colorscale\":{\"diverging\":[[0,\"#8e0152\"],[0.1,\"#c51b7d\"],[0.2,\"#de77ae\"],[0.3,\"#f1b6da\"],[0.4,\"#fde0ef\"],[0.5,\"#f7f7f7\"],[0.6,\"#e6f5d0\"],[0.7,\"#b8e186\"],[0.8,\"#7fbc41\"],[0.9,\"#4d9221\"],[1,\"#276419\"]],\"sequential\":[[0.0,\"#0d0887\"],[0.1111111111111111,\"#46039f\"],[0.2222222222222222,\"#7201a8\"],[0.3333333333333333,\"#9c179e\"],[0.4444444444444444,\"#bd3786\"],[0.5555555555555556,\"#d8576b\"],[0.6666666666666666,\"#ed7953\"],[0.7777777777777778,\"#fb9f3a\"],[0.8888888888888888,\"#fdca26\"],[1.0,\"#f0f921\"]],\"sequentialminus\":[[0.0,\"#0d0887\"],[0.1111111111111111,\"#46039f\"],[0.2222222222222222,\"#7201a8\"],[0.3333333333333333,\"#9c179e\"],[0.4444444444444444,\"#bd3786\"],[0.5555555555555556,\"#d8576b\"],[0.6666666666666666,\"#ed7953\"],[0.7777777777777778,\"#fb9f3a\"],[0.8888888888888888,\"#fdca26\"],[1.0,\"#f0f921\"]]},\"colorway\":[\"#636efa\",\"#EF553B\",\"#00cc96\",\"#ab63fa\",\"#FFA15A\",\"#19d3f3\",\"#FF6692\",\"#B6E880\",\"#FF97FF\",\"#FECB52\"],\"font\":{\"color\":\"#2a3f5f\"},\"geo\":{\"bgcolor\":\"white\",\"lakecolor\":\"white\",\"landcolor\":\"#E5ECF6\",\"showlakes\":true,\"showland\":true,\"subunitcolor\":\"white\"},\"hoverlabel\":{\"align\":\"left\"},\"hovermode\":\"closest\",\"mapbox\":{\"style\":\"light\"},\"paper_bgcolor\":\"white\",\"plot_bgcolor\":\"#E5ECF6\",\"polar\":{\"angularaxis\":{\"gridcolor\":\"white\",\"linecolor\":\"white\",\"ticks\":\"\"},\"bgcolor\":\"#E5ECF6\",\"radialaxis\":{\"gridcolor\":\"white\",\"linecolor\":\"white\",\"ticks\":\"\"}},\"scene\":{\"xaxis\":{\"backgroundcolor\":\"#E5ECF6\",\"gridcolor\":\"white\",\"gridwidth\":2,\"linecolor\":\"white\",\"showbackground\":true,\"ticks\":\"\",\"zerolinecolor\":\"white\"},\"yaxis\":{\"backgroundcolor\":\"#E5ECF6\",\"gridcolor\":\"white\",\"gridwidth\":2,\"linecolor\":\"white\",\"showbackground\":true,\"ticks\":\"\",\"zerolinecolor\":\"white\"},\"zaxis\":{\"backgroundcolor\":\"#E5ECF6\",\"gridcolor\":\"white\",\"gridwidth\":2,\"linecolor\":\"white\",\"showbackground\":true,\"ticks\":\"\",\"zerolinecolor\":\"white\"}},\"shapedefaults\":{\"line\":{\"color\":\"#2a3f5f\"}},\"ternary\":{\"aaxis\":{\"gridcolor\":\"white\",\"linecolor\":\"white\",\"ticks\":\"\"},\"baxis\":{\"gridcolor\":\"white\",\"linecolor\":\"white\",\"ticks\":\"\"},\"bgcolor\":\"#E5ECF6\",\"caxis\":{\"gridcolor\":\"white\",\"linecolor\":\"white\",\"ticks\":\"\"}},\"title\":{\"x\":0.05},\"xaxis\":{\"automargin\":true,\"gridcolor\":\"white\",\"linecolor\":\"white\",\"ticks\":\"\",\"title\":{\"standoff\":15},\"zerolinecolor\":\"white\",\"zerolinewidth\":2},\"yaxis\":{\"automargin\":true,\"gridcolor\":\"white\",\"linecolor\":\"white\",\"ticks\":\"\",\"title\":{\"standoff\":15},\"zerolinecolor\":\"white\",\"zerolinewidth\":2}}},\"title\":{\"font\":{\"color\":\"black\",\"family\":\"Bahnschrift Light\"},\"text\":\"Outlier detection for different Sizes\"},\"xaxis\":{\"anchor\":\"y\",\"categoryarray\":[\"F\",\"L\",\"E\",\"S\",\"M\",\"A\",\"D\",\"G\",\"K\",\"C\",\"Q\",\"B\",\"R\",\"N\",\"T\",\"O\",\"J\",\"P\",\"H\",\"I\"],\"categoryorder\":\"category ascending\",\"domain\":[0.0,1.0],\"title\":{\"font\":{\"family\":\"Candara Light\"},\"text\":\"Product\"}},\"yaxis\":{\"anchor\":\"x\",\"domain\":[0.0,1.0],\"title\":{\"font\":{\"family\":\"Candara Light\"},\"text\":\"Quantity Sold Kgs\"}}},                        {\"responsive\": true}                    ).then(function(){\n",
       "                            \n",
       "var gd = document.getElementById('15db90be-39f9-4c2c-8c93-cbe0e26bb126');\n",
       "var x = new MutationObserver(function (mutations, observer) {{\n",
       "        var display = window.getComputedStyle(gd).display;\n",
       "        if (!display || display === 'none') {{\n",
       "            console.log([gd, 'removed!']);\n",
       "            Plotly.purge(gd);\n",
       "            observer.disconnect();\n",
       "        }}\n",
       "}});\n",
       "\n",
       "// Listen for the removal of the full notebook cells\n",
       "var notebookContainer = gd.closest('#notebook-container');\n",
       "if (notebookContainer) {{\n",
       "    x.observe(notebookContainer, {childList: true});\n",
       "}}\n",
       "\n",
       "// Listen for the clearing of the current output cell\n",
       "var outputEl = gd.closest('.output');\n",
       "if (outputEl) {{\n",
       "    x.observe(outputEl, {childList: true});\n",
       "}}\n",
       "\n",
       "                        })                };                });            </script>        </div>"
      ]
     },
     "metadata": {},
     "output_type": "display_data"
    }
   ],
   "source": [
    "fig = px.box(data, x=\"Size\", y=\"Quantity Sold Kgs\", color=\"Size\" , \n",
    "             title = \"Outlier detection for different Sizes\")\n",
    "\n",
    "fig.add_annotation(x= \"F\", y = 323,\n",
    "            text=\"F (323 kgs)\",\n",
    "            showarrow=True,\n",
    "            arrowhead=1)\n",
    "\n",
    "fig.add_annotation(x= \"E\", y = 198,\n",
    "            text=\"E (198 kgs)\",\n",
    "            showarrow=True,\n",
    "            arrowhead=1)\n",
    "\n",
    "\n",
    "fig.add_annotation(x= \"M\", y = 397,\n",
    "            text=\"M (397 kgs)\",\n",
    "            showarrow=True,\n",
    "            arrowhead=1)\n",
    "\n",
    "fig.add_annotation(x= \"K\", y = 295,\n",
    "            text=\"K (295 kgs)\",\n",
    "            showarrow=True,\n",
    "            arrowhead=1)\n",
    "\n",
    "fig.add_annotation(x= \"B\", y = 147,\n",
    "            text=\"B (147 kgs)\",\n",
    "            showarrow=True,\n",
    "            arrowhead=1)\n",
    "\n",
    "fig.add_annotation(x= \"R\", y = 263,\n",
    "            text=\"R (263 kgs)\",\n",
    "            showarrow=True,\n",
    "            arrowhead=1)\n",
    "\n",
    "fig.update_xaxes(title = \"Product\" , title_font_family=\"Candara Light\")\n",
    "fig.update_yaxes(title_font_family=\"Candara Light\")\n",
    "\n",
    "fig.update_layout(\n",
    "    font_family=\"Courier New\",\n",
    "    font_color=\"black\",\n",
    "    title_font_family=\"Bahnschrift Light\",\n",
    "    title_font_color=\"black\",\n",
    "    legend_title_font_color=\"green\"\n",
    ")\n",
    "fig.update_xaxes(categoryorder='category ascending')\n",
    "\n",
    "fig.update_layout(showlegend=False)\n",
    "plotly.offline.plot(fig, filename=os.getcwd()+ \"\\\\files\" + \".html\")\n",
    "\n",
    "fig.show(render_mode = 'png')\n"
   ]
  },
  {
   "cell_type": "code",
   "execution_count": 161,
   "metadata": {},
   "outputs": [],
   "source": [
    "data_oct = pd.read_excel(\"bdm_coded.xlsx\" , \"October\")\n",
    "data_nov = pd.read_excel(\"bdm_coded.xlsx\" , \"November\")\n",
    "data_dec = pd.read_excel(\"bdm_coded.xlsx\" , \"December\")\n"
   ]
  },
  {
   "cell_type": "code",
   "execution_count": 162,
   "metadata": {},
   "outputs": [
    {
     "data": {
      "text/html": [
       "<div>\n",
       "<style scoped>\n",
       "    .dataframe tbody tr th:only-of-type {\n",
       "        vertical-align: middle;\n",
       "    }\n",
       "\n",
       "    .dataframe tbody tr th {\n",
       "        vertical-align: top;\n",
       "    }\n",
       "\n",
       "    .dataframe thead th {\n",
       "        text-align: right;\n",
       "    }\n",
       "</style>\n",
       "<table border=\"1\" class=\"dataframe\">\n",
       "  <thead>\n",
       "    <tr style=\"text-align: right;\">\n",
       "      <th></th>\n",
       "      <th>Date</th>\n",
       "      <th>Size</th>\n",
       "      <th>Quantity Sold Kgs</th>\n",
       "    </tr>\n",
       "  </thead>\n",
       "  <tbody>\n",
       "    <tr>\n",
       "      <th>0</th>\n",
       "      <td>2021-10-01</td>\n",
       "      <td>F</td>\n",
       "      <td>187</td>\n",
       "    </tr>\n",
       "    <tr>\n",
       "      <th>1</th>\n",
       "      <td>2021-10-01</td>\n",
       "      <td>L</td>\n",
       "      <td>146</td>\n",
       "    </tr>\n",
       "    <tr>\n",
       "      <th>2</th>\n",
       "      <td>2021-10-02</td>\n",
       "      <td>E</td>\n",
       "      <td>18</td>\n",
       "    </tr>\n",
       "    <tr>\n",
       "      <th>3</th>\n",
       "      <td>2021-10-02</td>\n",
       "      <td>S</td>\n",
       "      <td>87</td>\n",
       "    </tr>\n",
       "    <tr>\n",
       "      <th>4</th>\n",
       "      <td>2021-10-02</td>\n",
       "      <td>M</td>\n",
       "      <td>5</td>\n",
       "    </tr>\n",
       "  </tbody>\n",
       "</table>\n",
       "</div>"
      ],
      "text/plain": [
       "        Date Size  Quantity Sold Kgs\n",
       "0 2021-10-01    F                187\n",
       "1 2021-10-01    L                146\n",
       "2 2021-10-02    E                 18\n",
       "3 2021-10-02    S                 87\n",
       "4 2021-10-02    M                  5"
      ]
     },
     "execution_count": 162,
     "metadata": {},
     "output_type": "execute_result"
    }
   ],
   "source": [
    "data_oct.head()"
   ]
  },
  {
   "cell_type": "code",
   "execution_count": null,
   "metadata": {},
   "outputs": [],
   "source": []
  },
  {
   "cell_type": "code",
   "execution_count": 163,
   "metadata": {},
   "outputs": [
    {
     "data": {
      "text/html": [
       "<div>\n",
       "<style scoped>\n",
       "    .dataframe tbody tr th:only-of-type {\n",
       "        vertical-align: middle;\n",
       "    }\n",
       "\n",
       "    .dataframe tbody tr th {\n",
       "        vertical-align: top;\n",
       "    }\n",
       "\n",
       "    .dataframe thead th {\n",
       "        text-align: right;\n",
       "    }\n",
       "</style>\n",
       "<table border=\"1\" class=\"dataframe\">\n",
       "  <thead>\n",
       "    <tr style=\"text-align: right;\">\n",
       "      <th></th>\n",
       "      <th>Date</th>\n",
       "      <th>Size</th>\n",
       "      <th>Quantity Sold Kgs</th>\n",
       "    </tr>\n",
       "  </thead>\n",
       "  <tbody>\n",
       "    <tr>\n",
       "      <th>0</th>\n",
       "      <td>2021-11-01</td>\n",
       "      <td>M</td>\n",
       "      <td>69</td>\n",
       "    </tr>\n",
       "    <tr>\n",
       "      <th>1</th>\n",
       "      <td>2021-11-01</td>\n",
       "      <td>N</td>\n",
       "      <td>40</td>\n",
       "    </tr>\n",
       "    <tr>\n",
       "      <th>2</th>\n",
       "      <td>2021-11-02</td>\n",
       "      <td>C</td>\n",
       "      <td>50</td>\n",
       "    </tr>\n",
       "    <tr>\n",
       "      <th>3</th>\n",
       "      <td>2021-11-02</td>\n",
       "      <td>G</td>\n",
       "      <td>126</td>\n",
       "    </tr>\n",
       "    <tr>\n",
       "      <th>4</th>\n",
       "      <td>2021-11-02</td>\n",
       "      <td>T</td>\n",
       "      <td>251</td>\n",
       "    </tr>\n",
       "  </tbody>\n",
       "</table>\n",
       "</div>"
      ],
      "text/plain": [
       "        Date Size  Quantity Sold Kgs\n",
       "0 2021-11-01    M                 69\n",
       "1 2021-11-01    N                 40\n",
       "2 2021-11-02    C                 50\n",
       "3 2021-11-02    G                126\n",
       "4 2021-11-02    T                251"
      ]
     },
     "execution_count": 163,
     "metadata": {},
     "output_type": "execute_result"
    }
   ],
   "source": [
    "data_nov.head()"
   ]
  },
  {
   "cell_type": "code",
   "execution_count": 164,
   "metadata": {},
   "outputs": [
    {
     "data": {
      "text/html": [
       "<div>\n",
       "<style scoped>\n",
       "    .dataframe tbody tr th:only-of-type {\n",
       "        vertical-align: middle;\n",
       "    }\n",
       "\n",
       "    .dataframe tbody tr th {\n",
       "        vertical-align: top;\n",
       "    }\n",
       "\n",
       "    .dataframe thead th {\n",
       "        text-align: right;\n",
       "    }\n",
       "</style>\n",
       "<table border=\"1\" class=\"dataframe\">\n",
       "  <thead>\n",
       "    <tr style=\"text-align: right;\">\n",
       "      <th></th>\n",
       "      <th>Date</th>\n",
       "      <th>Size</th>\n",
       "      <th>Quantity Sold Kgs</th>\n",
       "    </tr>\n",
       "  </thead>\n",
       "  <tbody>\n",
       "    <tr>\n",
       "      <th>0</th>\n",
       "      <td>2021-12-01</td>\n",
       "      <td>C</td>\n",
       "      <td>35</td>\n",
       "    </tr>\n",
       "    <tr>\n",
       "      <th>1</th>\n",
       "      <td>2021-12-01</td>\n",
       "      <td>F</td>\n",
       "      <td>80</td>\n",
       "    </tr>\n",
       "    <tr>\n",
       "      <th>2</th>\n",
       "      <td>2021-12-01</td>\n",
       "      <td>N</td>\n",
       "      <td>264</td>\n",
       "    </tr>\n",
       "    <tr>\n",
       "      <th>3</th>\n",
       "      <td>2021-12-02</td>\n",
       "      <td>G</td>\n",
       "      <td>105</td>\n",
       "    </tr>\n",
       "    <tr>\n",
       "      <th>4</th>\n",
       "      <td>2021-12-02</td>\n",
       "      <td>A</td>\n",
       "      <td>28</td>\n",
       "    </tr>\n",
       "  </tbody>\n",
       "</table>\n",
       "</div>"
      ],
      "text/plain": [
       "        Date Size  Quantity Sold Kgs\n",
       "0 2021-12-01    C                 35\n",
       "1 2021-12-01    F                 80\n",
       "2 2021-12-01    N                264\n",
       "3 2021-12-02    G                105\n",
       "4 2021-12-02    A                 28"
      ]
     },
     "execution_count": 164,
     "metadata": {},
     "output_type": "execute_result"
    }
   ],
   "source": [
    "data_dec.head()"
   ]
  },
  {
   "cell_type": "code",
   "execution_count": 168,
   "metadata": {},
   "outputs": [
    {
     "data": {
      "text/plain": [
       "Text(0.5, 1.0, 'Bubble Plot with Matplotlib')"
      ]
     },
     "execution_count": 168,
     "metadata": {},
     "output_type": "execute_result"
    },
    {
     "data": {
      "image/png": "[encoded data removed]",
      "text/plain": [
       "<Figure size 432x288 with 1 Axes>"
      ]
     },
     "metadata": {
      "needs_background": "light"
     },
     "output_type": "display_data"
    }
   ],
   "source": [
    "plt.scatter(data_oct.Date , data_oct[\"Quantity Sold Kgs\"],\n",
    "             alpha=0.5)\n",
    "plt.xlabel(\"X\", size=16)\n",
    "plt.ylabel(\"y\", size=16)\n",
    "plt.title(\"Bubble Plot with Matplotlib\", size=18)\n"
   ]
  },
  {
   "cell_type": "code",
   "execution_count": 175,
   "metadata": {},
   "outputs": [
    {
     "data": {
      "application/vnd.plotly.v1+json": {
       "config": {
        "plotlyServerURL": "https://plot.ly"
       },
       "data": [
        {
         "hovertemplate": "color=F<br>x=%{x}<br>y=%{y}<br>size=%{marker.size}<extra></extra>",
         "legendgroup": "F",
         "marker": {
          "color": "#636efa",
          "size": [
           187,
           105,
           64,
           42,
           170,
           130,
           70,
           60,
           35,
           42
          ],
          "sizemode": "area",
          "sizeref": 0.9925,
          "symbol": "circle"
         },
         "mode": "markers",
         "name": "F",
         "orientation": "v",
         "showlegend": true,
         "type": "scatter",
         "x": [
          "2021-10-01T00:00:00",
          "2021-10-04T00:00:00",
          "2021-10-08T00:00:00",
          "2021-10-13T00:00:00",
          "2021-10-21T00:00:00",
          "2021-10-22T00:00:00",
          "2021-10-23T00:00:00",
          "2021-10-25T00:00:00",
          "2021-10-26T00:00:00",
          "2021-10-27T00:00:00"
         ],
         "xaxis": "x",
         "y": [
          187,
          105,
          64,
          42,
          170,
          130,
          70,
          60,
          35,
          42
         ],
         "yaxis": "y"
        },
        {
         "hovertemplate": "color=L<br>x=%{x}<br>y=%{y}<br>size=%{marker.size}<extra></extra>",
         "legendgroup": "L",
         "marker": {
          "color": "#EF553B",
          "size": [
           146,
           100,
           20,
           153
          ],
          "sizemode": "area",
          "sizeref": 0.9925,
          "symbol": "circle"
         },
         "mode": "markers",
         "name": "L",
         "orientation": "v",
         "showlegend": true,
         "type": "scatter",
         "x": [
          "2021-10-01T00:00:00",
          "2021-10-04T00:00:00",
          "2021-10-20T00:00:00",
          "2021-10-30T00:00:00"
         ],
         "xaxis": "x",
         "y": [
          146,
          100,
          20,
          153
         ],
         "yaxis": "y"
        },
        {
         "hovertemplate": "color=E<br>x=%{x}<br>y=%{y}<br>size=%{marker.size}<extra></extra>",
         "legendgroup": "E",
         "marker": {
          "color": "#00cc96",
          "size": [
           18,
           120,
           9,
           26,
           62,
           198,
           30,
           106
          ],
          "sizemode": "area",
          "sizeref": 0.9925,
          "symbol": "circle"
         },
         "mode": "markers",
         "name": "E",
         "orientation": "v",
         "showlegend": true,
         "type": "scatter",
         "x": [
          "2021-10-02T00:00:00",
          "2021-10-12T00:00:00",
          "2021-10-19T00:00:00",
          "2021-10-20T00:00:00",
          "2021-10-22T00:00:00",
          "2021-10-25T00:00:00",
          "2021-10-26T00:00:00",
          "2021-10-27T00:00:00"
         ],
         "xaxis": "x",
         "y": [
          18,
          120,
          9,
          26,
          62,
          198,
          30,
          106
         ],
         "yaxis": "y"
        },
        {
         "hovertemplate": "color=S<br>x=%{x}<br>y=%{y}<br>size=%{marker.size}<extra></extra>",
         "legendgroup": "S",
         "marker": {
          "color": "#ab63fa",
          "size": [
           87,
           15,
           201,
           31
          ],
          "sizemode": "area",
          "sizeref": 0.9925,
          "symbol": "circle"
         },
         "mode": "markers",
         "name": "S",
         "orientation": "v",
         "showlegend": true,
         "type": "scatter",
         "x": [
          "2021-10-02T00:00:00",
          "2021-10-05T00:00:00",
          "2021-10-23T00:00:00",
          "2021-10-27T00:00:00"
         ],
         "xaxis": "x",
         "y": [
          87,
          15,
          201,
          31
         ],
         "yaxis": "y"
        },
        {
         "hovertemplate": "color=M<br>x=%{x}<br>y=%{y}<br>size=%{marker.size}<extra></extra>",
         "legendgroup": "M",
         "marker": {
          "color": "#FFA15A",
          "size": [
           5,
           397,
           104,
           151,
           89,
           36,
           40,
           58,
           107,
           49
          ],
          "sizemode": "area",
          "sizeref": 0.9925,
          "symbol": "circle"
         },
         "mode": "markers",
         "name": "M",
         "orientation": "v",
         "showlegend": true,
         "type": "scatter",
         "x": [
          "2021-10-02T00:00:00",
          "2021-10-05T00:00:00",
          "2021-10-07T00:00:00",
          "2021-10-08T00:00:00",
          "2021-10-09T00:00:00",
          "2021-10-12T00:00:00",
          "2021-10-18T00:00:00",
          "2021-10-20T00:00:00",
          "2021-10-22T00:00:00",
          "2021-10-23T00:00:00"
         ],
         "xaxis": "x",
         "y": [
          5,
          397,
          104,
          151,
          89,
          36,
          40,
          58,
          107,
          49
         ],
         "yaxis": "y"
        },
        {
         "hovertemplate": "color=A<br>x=%{x}<br>y=%{y}<br>size=%{marker.size}<extra></extra>",
         "legendgroup": "A",
         "marker": {
          "color": "#19d3f3",
          "size": [
           36,
           20
          ],
          "sizemode": "area",
          "sizeref": 0.9925,
          "symbol": "circle"
         },
         "mode": "markers",
         "name": "A",
         "orientation": "v",
         "showlegend": true,
         "type": "scatter",
         "x": [
          "2021-10-02T00:00:00",
          "2021-10-23T00:00:00"
         ],
         "xaxis": "x",
         "y": [
          36,
          20
         ],
         "yaxis": "y"
        },
        {
         "hovertemplate": "color=D<br>x=%{x}<br>y=%{y}<br>size=%{marker.size}<extra></extra>",
         "legendgroup": "D",
         "marker": {
          "color": "#FF6692",
          "size": [
           266,
           93
          ],
          "sizemode": "area",
          "sizeref": 0.9925,
          "symbol": "circle"
         },
         "mode": "markers",
         "name": "D",
         "orientation": "v",
         "showlegend": true,
         "type": "scatter",
         "x": [
          "2021-10-05T00:00:00",
          "2021-10-28T00:00:00"
         ],
         "xaxis": "x",
         "y": [
          266,
          93
         ],
         "yaxis": "y"
        },
        {
         "hovertemplate": "color=G<br>x=%{x}<br>y=%{y}<br>size=%{marker.size}<extra></extra>",
         "legendgroup": "G",
         "marker": {
          "color": "#B6E880",
          "size": [
           43,
           45,
           38,
           16,
           6,
           13,
           65,
           150
          ],
          "sizemode": "area",
          "sizeref": 0.9925,
          "symbol": "circle"
         },
         "mode": "markers",
         "name": "G",
         "orientation": "v",
         "showlegend": true,
         "type": "scatter",
         "x": [
          "2021-10-07T00:00:00",
          "2021-10-16T00:00:00",
          "2021-10-18T00:00:00",
          "2021-10-20T00:00:00",
          "2021-10-21T00:00:00",
          "2021-10-27T00:00:00",
          "2021-10-28T00:00:00",
          "2021-10-30T00:00:00"
         ],
         "xaxis": "x",
         "y": [
          43,
          45,
          38,
          16,
          6,
          13,
          65,
          150
         ],
         "yaxis": "y"
        },
        {
         "hovertemplate": "color=K<br>x=%{x}<br>y=%{y}<br>size=%{marker.size}<extra></extra>",
         "legendgroup": "K",
         "marker": {
          "color": "#FF97FF",
          "size": [
           114,
           144,
           121,
           82,
           108
          ],
          "sizemode": "area",
          "sizeref": 0.9925,
          "symbol": "circle"
         },
         "mode": "markers",
         "name": "K",
         "orientation": "v",
         "showlegend": true,
         "type": "scatter",
         "x": [
          "2021-10-07T00:00:00",
          "2021-10-15T00:00:00",
          "2021-10-18T00:00:00",
          "2021-10-28T00:00:00",
          "2021-10-29T00:00:00"
         ],
         "xaxis": "x",
         "y": [
          114,
          144,
          121,
          82,
          108
         ],
         "yaxis": "y"
        },
        {
         "hovertemplate": "color=C<br>x=%{x}<br>y=%{y}<br>size=%{marker.size}<extra></extra>",
         "legendgroup": "C",
         "marker": {
          "color": "#FECB52",
          "size": [
           76,
           27,
           30
          ],
          "sizemode": "area",
          "sizeref": 0.9925,
          "symbol": "circle"
         },
         "mode": "markers",
         "name": "C",
         "orientation": "v",
         "showlegend": true,
         "type": "scatter",
         "x": [
          "2021-10-09T00:00:00",
          "2021-10-12T00:00:00",
          "2021-10-27T00:00:00"
         ],
         "xaxis": "x",
         "y": [
          76,
          27,
          30
         ],
         "yaxis": "y"
        },
        {
         "hovertemplate": "color=Q<br>x=%{x}<br>y=%{y}<br>size=%{marker.size}<extra></extra>",
         "legendgroup": "Q",
         "marker": {
          "color": "#636efa",
          "size": [
           226,
           95,
           222,
           67
          ],
          "sizemode": "area",
          "sizeref": 0.9925,
          "symbol": "circle"
         },
         "mode": "markers",
         "name": "Q",
         "orientation": "v",
         "showlegend": true,
         "type": "scatter",
         "x": [
          "2021-10-11T00:00:00",
          "2021-10-14T00:00:00",
          "2021-10-16T00:00:00",
          "2021-10-26T00:00:00"
         ],
         "xaxis": "x",
         "y": [
          226,
          95,
          222,
          67
         ],
         "yaxis": "y"
        },
        {
         "hovertemplate": "color=B<br>x=%{x}<br>y=%{y}<br>size=%{marker.size}<extra></extra>",
         "legendgroup": "B",
         "marker": {
          "color": "#EF553B",
          "size": [
           32
          ],
          "sizemode": "area",
          "sizeref": 0.9925,
          "symbol": "circle"
         },
         "mode": "markers",
         "name": "B",
         "orientation": "v",
         "showlegend": true,
         "type": "scatter",
         "x": [
          "2021-10-18T00:00:00"
         ],
         "xaxis": "x",
         "y": [
          32
         ],
         "yaxis": "y"
        },
        {
         "hovertemplate": "color=R<br>x=%{x}<br>y=%{y}<br>size=%{marker.size}<extra></extra>",
         "legendgroup": "R",
         "marker": {
          "color": "#00cc96",
          "size": [
           41
          ],
          "sizemode": "area",
          "sizeref": 0.9925,
          "symbol": "circle"
         },
         "mode": "markers",
         "name": "R",
         "orientation": "v",
         "showlegend": true,
         "type": "scatter",
         "x": [
          "2021-10-22T00:00:00"
         ],
         "xaxis": "x",
         "y": [
          41
         ],
         "yaxis": "y"
        },
        {
         "hovertemplate": "color=N<br>x=%{x}<br>y=%{y}<br>size=%{marker.size}<extra></extra>",
         "legendgroup": "N",
         "marker": {
          "color": "#ab63fa",
          "size": [
           127,
           256
          ],
          "sizemode": "area",
          "sizeref": 0.9925,
          "symbol": "circle"
         },
         "mode": "markers",
         "name": "N",
         "orientation": "v",
         "showlegend": true,
         "type": "scatter",
         "x": [
          "2021-10-28T00:00:00",
          "2021-10-29T00:00:00"
         ],
         "xaxis": "x",
         "y": [
          127,
          256
         ],
         "yaxis": "y"
        }
       ],
       "layout": {
        "legend": {
         "itemsizing": "constant",
         "title": {
          "text": "color"
         },
         "tracegroupgap": 0
        },
        "margin": {
         "t": 60
        },
        "template": {
         "data": {
          "bar": [
           {
            "error_x": {
             "color": "#2a3f5f"
            },
            "error_y": {
             "color": "#2a3f5f"
            },
            "marker": {
             "line": {
              "color": "#E5ECF6",
              "width": 0.5
             },
             "pattern": {
              "fillmode": "overlay",
              "size": 10,
              "solidity": 0.2
             }
            },
            "type": "bar"
           }
          ],
          "barpolar": [
           {
            "marker": {
             "line": {
              "color": "#E5ECF6",
              "width": 0.5
             },
             "pattern": {
              "fillmode": "overlay",
              "size": 10,
              "solidity": 0.2
             }
            },
            "type": "barpolar"
           }
          ],
          "carpet": [
           {
            "aaxis": {
             "endlinecolor": "#2a3f5f",
             "gridcolor": "white",
             "linecolor": "white",
             "minorgridcolor": "white",
             "startlinecolor": "#2a3f5f"
            },
            "baxis": {
             "endlinecolor": "#2a3f5f",
             "gridcolor": "white",
             "linecolor": "white",
             "minorgridcolor": "white",
             "startlinecolor": "#2a3f5f"
            },
            "type": "carpet"
           }
          ],
          "choropleth": [
           {
            "colorbar": {
             "outlinewidth": 0,
             "ticks": ""
            },
            "type": "choropleth"
           }
          ],
          "contour": [
           {
            "colorbar": {
             "outlinewidth": 0,
             "ticks": ""
            },
            "colorscale": [
             [
              0,
              "#0d0887"
             ],
             [
              0.1111111111111111,
              "#46039f"
             ],
             [
              0.2222222222222222,
              "#7201a8"
             ],
             [
              0.3333333333333333,
              "#9c179e"
             ],
             [
              0.4444444444444444,
              "#bd3786"
             ],
             [
              0.5555555555555556,
              "#d8576b"
             ],
             [
              0.6666666666666666,
              "#ed7953"
             ],
             [
              0.7777777777777778,
              "#fb9f3a"
             ],
             [
              0.8888888888888888,
              "#fdca26"
             ],
             [
              1,
              "#f0f921"
             ]
            ],
            "type": "contour"
           }
          ],
          "contourcarpet": [
           {
            "colorbar": {
             "outlinewidth": 0,
             "ticks": ""
            },
            "type": "contourcarpet"
           }
          ],
          "heatmap": [
           {
            "colorbar": {
             "outlinewidth": 0,
             "ticks": ""
            },
            "colorscale": [
             [
              0,
              "#0d0887"
             ],
             [
              0.1111111111111111,
              "#46039f"
             ],
             [
              0.2222222222222222,
              "#7201a8"
             ],
             [
              0.3333333333333333,
              "#9c179e"
             ],
             [
              0.4444444444444444,
              "#bd3786"
             ],
             [
              0.5555555555555556,
              "#d8576b"
             ],
             [
              0.6666666666666666,
              "#ed7953"
             ],
             [
              0.7777777777777778,
              "#fb9f3a"
             ],
             [
              0.8888888888888888,
              "#fdca26"
             ],
             [
              1,
              "#f0f921"
             ]
            ],
            "type": "heatmap"
           }
          ],
          "heatmapgl": [
           {
            "colorbar": {
             "outlinewidth": 0,
             "ticks": ""
            },
            "colorscale": [
             [
              0,
              "#0d0887"
             ],
             [
              0.1111111111111111,
              "#46039f"
             ],
             [
              0.2222222222222222,
              "#7201a8"
             ],
             [
              0.3333333333333333,
              "#9c179e"
             ],
             [
              0.4444444444444444,
              "#bd3786"
             ],
             [
              0.5555555555555556,
              "#d8576b"
             ],
             [
              0.6666666666666666,
              "#ed7953"
             ],
             [
              0.7777777777777778,
              "#fb9f3a"
             ],
             [
              0.8888888888888888,
              "#fdca26"
             ],
             [
              1,
              "#f0f921"
             ]
            ],
            "type": "heatmapgl"
           }
          ],
          "histogram": [
           {
            "marker": {
             "pattern": {
              "fillmode": "overlay",
              "size": 10,
              "solidity": 0.2
             }
            },
            "type": "histogram"
           }
          ],
          "histogram2d": [
           {
            "colorbar": {
             "outlinewidth": 0,
             "ticks": ""
            },
            "colorscale": [
             [
              0,
              "#0d0887"
             ],
             [
              0.1111111111111111,
              "#46039f"
             ],
             [
              0.2222222222222222,
              "#7201a8"
             ],
             [
              0.3333333333333333,
              "#9c179e"
             ],
             [
              0.4444444444444444,
              "#bd3786"
             ],
             [
              0.5555555555555556,
              "#d8576b"
             ],
             [
              0.6666666666666666,
              "#ed7953"
             ],
             [
              0.7777777777777778,
              "#fb9f3a"
             ],
             [
              0.8888888888888888,
              "#fdca26"
             ],
             [
              1,
              "#f0f921"
             ]
            ],
            "type": "histogram2d"
           }
          ],
          "histogram2dcontour": [
           {
            "colorbar": {
             "outlinewidth": 0,
             "ticks": ""
            },
            "colorscale": [
             [
              0,
              "#0d0887"
             ],
             [
              0.1111111111111111,
              "#46039f"
             ],
             [
              0.2222222222222222,
              "#7201a8"
             ],
             [
              0.3333333333333333,
              "#9c179e"
             ],
             [
              0.4444444444444444,
              "#bd3786"
             ],
             [
              0.5555555555555556,
              "#d8576b"
             ],
             [
              0.6666666666666666,
              "#ed7953"
             ],
             [
              0.7777777777777778,
              "#fb9f3a"
             ],
             [
              0.8888888888888888,
              "#fdca26"
             ],
             [
              1,
              "#f0f921"
             ]
            ],
            "type": "histogram2dcontour"
           }
          ],
          "mesh3d": [
           {
            "colorbar": {
             "outlinewidth": 0,
             "ticks": ""
            },
            "type": "mesh3d"
           }
          ],
          "parcoords": [
           {
            "line": {
             "colorbar": {
              "outlinewidth": 0,
              "ticks": ""
             }
            },
            "type": "parcoords"
           }
          ],
          "pie": [
           {
            "automargin": true,
            "type": "pie"
           }
          ],
          "scatter": [
           {
            "marker": {
             "colorbar": {
              "outlinewidth": 0,
              "ticks": ""
             }
            },
            "type": "scatter"
           }
          ],
          "scatter3d": [
           {
            "line": {
             "colorbar": {
              "outlinewidth": 0,
              "ticks": ""
             }
            },
            "marker": {
             "colorbar": {
              "outlinewidth": 0,
              "ticks": ""
             }
            },
            "type": "scatter3d"
           }
          ],
          "scattercarpet": [
           {
            "marker": {
             "colorbar": {
              "outlinewidth": 0,
              "ticks": ""
             }
            },
            "type": "scattercarpet"
           }
          ],
          "scattergeo": [
           {
            "marker": {
             "colorbar": {
              "outlinewidth": 0,
              "ticks": ""
             }
            },
            "type": "scattergeo"
           }
          ],
          "scattergl": [
           {
            "marker": {
             "colorbar": {
              "outlinewidth": 0,
              "ticks": ""
             }
            },
            "type": "scattergl"
           }
          ],
          "scattermapbox": [
           {
            "marker": {
             "colorbar": {
              "outlinewidth": 0,
              "ticks": ""
             }
            },
            "type": "scattermapbox"
           }
          ],
          "scatterpolar": [
           {
            "marker": {
             "colorbar": {
              "outlinewidth": 0,
              "ticks": ""
             }
            },
            "type": "scatterpolar"
           }
          ],
          "scatterpolargl": [
           {
            "marker": {
             "colorbar": {
              "outlinewidth": 0,
              "ticks": ""
             }
            },
            "type": "scatterpolargl"
           }
          ],
          "scatterternary": [
           {
            "marker": {
             "colorbar": {
              "outlinewidth": 0,
              "ticks": ""
             }
            },
            "type": "scatterternary"
           }
          ],
          "surface": [
           {
            "colorbar": {
             "outlinewidth": 0,
             "ticks": ""
            },
            "colorscale": [
             [
              0,
              "#0d0887"
             ],
             [
              0.1111111111111111,
              "#46039f"
             ],
             [
              0.2222222222222222,
              "#7201a8"
             ],
             [
              0.3333333333333333,
              "#9c179e"
             ],
             [
              0.4444444444444444,
              "#bd3786"
             ],
             [
              0.5555555555555556,
              "#d8576b"
             ],
             [
              0.6666666666666666,
              "#ed7953"
             ],
             [
              0.7777777777777778,
              "#fb9f3a"
             ],
             [
              0.8888888888888888,
              "#fdca26"
             ],
             [
              1,
              "#f0f921"
             ]
            ],
            "type": "surface"
           }
          ],
          "table": [
           {
            "cells": {
             "fill": {
              "color": "#EBF0F8"
             },
             "line": {
              "color": "white"
             }
            },
            "header": {
             "fill": {
              "color": "#C8D4E3"
             },
             "line": {
              "color": "white"
             }
            },
            "type": "table"
           }
          ]
         },
         "layout": {
          "annotationdefaults": {
           "arrowcolor": "#2a3f5f",
           "arrowhead": 0,
           "arrowwidth": 1
          },
          "autotypenumbers": "strict",
          "coloraxis": {
           "colorbar": {
            "outlinewidth": 0,
            "ticks": ""
           }
          },
          "colorscale": {
           "diverging": [
            [
             0,
             "#8e0152"
            ],
            [
             0.1,
             "#c51b7d"
            ],
            [
             0.2,
             "#de77ae"
            ],
            [
             0.3,
             "#f1b6da"
            ],
            [
             0.4,
             "#fde0ef"
            ],
            [
             0.5,
             "#f7f7f7"
            ],
            [
             0.6,
             "#e6f5d0"
            ],
            [
             0.7,
             "#b8e186"
            ],
            [
             0.8,
             "#7fbc41"
            ],
            [
             0.9,
             "#4d9221"
            ],
            [
             1,
             "#276419"
            ]
           ],
           "sequential": [
            [
             0,
             "#0d0887"
            ],
            [
             0.1111111111111111,
             "#46039f"
            ],
            [
             0.2222222222222222,
             "#7201a8"
            ],
            [
             0.3333333333333333,
             "#9c179e"
            ],
            [
             0.4444444444444444,
             "#bd3786"
            ],
            [
             0.5555555555555556,
             "#d8576b"
            ],
            [
             0.6666666666666666,
             "#ed7953"
            ],
            [
             0.7777777777777778,
             "#fb9f3a"
            ],
            [
             0.8888888888888888,
             "#fdca26"
            ],
            [
             1,
             "#f0f921"
            ]
           ],
           "sequentialminus": [
            [
             0,
             "#0d0887"
            ],
            [
             0.1111111111111111,
             "#46039f"
            ],
            [
             0.2222222222222222,
             "#7201a8"
            ],
            [
             0.3333333333333333,
             "#9c179e"
            ],
            [
             0.4444444444444444,
             "#bd3786"
            ],
            [
             0.5555555555555556,
             "#d8576b"
            ],
            [
             0.6666666666666666,
             "#ed7953"
            ],
            [
             0.7777777777777778,
             "#fb9f3a"
            ],
            [
             0.8888888888888888,
             "#fdca26"
            ],
            [
             1,
             "#f0f921"
            ]
           ]
          },
          "colorway": [
           "#636efa",
           "#EF553B",
           "#00cc96",
           "#ab63fa",
           "#FFA15A",
           "#19d3f3",
           "#FF6692",
           "#B6E880",
           "#FF97FF",
           "#FECB52"
          ],
          "font": {
           "color": "#2a3f5f"
          },
          "geo": {
           "bgcolor": "white",
           "lakecolor": "white",
           "landcolor": "#E5ECF6",
           "showlakes": true,
           "showland": true,
           "subunitcolor": "white"
          },
          "hoverlabel": {
           "align": "left"
          },
          "hovermode": "closest",
          "mapbox": {
           "style": "light"
          },
          "paper_bgcolor": "white",
          "plot_bgcolor": "#E5ECF6",
          "polar": {
           "angularaxis": {
            "gridcolor": "white",
            "linecolor": "white",
            "ticks": ""
           },
           "bgcolor": "#E5ECF6",
           "radialaxis": {
            "gridcolor": "white",
            "linecolor": "white",
            "ticks": ""
           }
          },
          "scene": {
           "xaxis": {
            "backgroundcolor": "#E5ECF6",
            "gridcolor": "white",
            "gridwidth": 2,
            "linecolor": "white",
            "showbackground": true,
            "ticks": "",
            "zerolinecolor": "white"
           },
           "yaxis": {
            "backgroundcolor": "#E5ECF6",
            "gridcolor": "white",
            "gridwidth": 2,
            "linecolor": "white",
            "showbackground": true,
            "ticks": "",
            "zerolinecolor": "white"
           },
           "zaxis": {
            "backgroundcolor": "#E5ECF6",
            "gridcolor": "white",
            "gridwidth": 2,
            "linecolor": "white",
            "showbackground": true,
            "ticks": "",
            "zerolinecolor": "white"
           }
          },
          "shapedefaults": {
           "line": {
            "color": "#2a3f5f"
           }
          },
          "ternary": {
           "aaxis": {
            "gridcolor": "white",
            "linecolor": "white",
            "ticks": ""
           },
           "baxis": {
            "gridcolor": "white",
            "linecolor": "white",
            "ticks": ""
           },
           "bgcolor": "#E5ECF6",
           "caxis": {
            "gridcolor": "white",
            "linecolor": "white",
            "ticks": ""
           }
          },
          "title": {
           "x": 0.05
          },
          "xaxis": {
           "automargin": true,
           "gridcolor": "white",
           "linecolor": "white",
           "ticks": "",
           "title": {
            "standoff": 15
           },
           "zerolinecolor": "white",
           "zerolinewidth": 2
          },
          "yaxis": {
           "automargin": true,
           "gridcolor": "white",
           "linecolor": "white",
           "ticks": "",
           "title": {
            "standoff": 15
           },
           "zerolinecolor": "white",
           "zerolinewidth": 2
          }
         }
        },
        "xaxis": {
         "anchor": "y",
         "domain": [
          0,
          1
         ],
         "title": {
          "text": "x"
         }
        },
        "yaxis": {
         "anchor": "x",
         "domain": [
          0,
          1
         ],
         "title": {
          "text": "y"
         }
        }
       }
      },
      "text/html": [
       "<div>                            <div id=\"6dfde56e-216f-438c-b93a-7521e16761f3\" class=\"plotly-graph-div\" style=\"height:525px; width:100%;\"></div>            <script type=\"text/javascript\">                require([\"plotly\"], function(Plotly) {                    window.PLOTLYENV=window.PLOTLYENV || {};                                    if (document.getElementById(\"6dfde56e-216f-438c-b93a-7521e16761f3\")) {                    Plotly.newPlot(                        \"6dfde56e-216f-438c-b93a-7521e16761f3\",                        [{\"hovertemplate\":\"color=F<br>x=%{x}<br>y=%{y}<br>size=%{marker.size}<extra></extra>\",\"legendgroup\":\"F\",\"marker\":{\"color\":\"#636efa\",\"size\":[187,105,64,42,170,130,70,60,35,42],\"sizemode\":\"area\",\"sizeref\":0.9925,\"symbol\":\"circle\"},\"mode\":\"markers\",\"name\":\"F\",\"orientation\":\"v\",\"showlegend\":true,\"type\":\"scatter\",\"x\":[\"2021-10-01T00:00:00\",\"2021-10-04T00:00:00\",\"2021-10-08T00:00:00\",\"2021-10-13T00:00:00\",\"2021-10-21T00:00:00\",\"2021-10-22T00:00:00\",\"2021-10-23T00:00:00\",\"2021-10-25T00:00:00\",\"2021-10-26T00:00:00\",\"2021-10-27T00:00:00\"],\"xaxis\":\"x\",\"y\":[187,105,64,42,170,130,70,60,35,42],\"yaxis\":\"y\"},{\"hovertemplate\":\"color=L<br>x=%{x}<br>y=%{y}<br>size=%{marker.size}<extra></extra>\",\"legendgroup\":\"L\",\"marker\":{\"color\":\"#EF553B\",\"size\":[146,100,20,153],\"sizemode\":\"area\",\"sizeref\":0.9925,\"symbol\":\"circle\"},\"mode\":\"markers\",\"name\":\"L\",\"orientation\":\"v\",\"showlegend\":true,\"type\":\"scatter\",\"x\":[\"2021-10-01T00:00:00\",\"2021-10-04T00:00:00\",\"2021-10-20T00:00:00\",\"2021-10-30T00:00:00\"],\"xaxis\":\"x\",\"y\":[146,100,20,153],\"yaxis\":\"y\"},{\"hovertemplate\":\"color=E<br>x=%{x}<br>y=%{y}<br>size=%{marker.size}<extra></extra>\",\"legendgroup\":\"E\",\"marker\":{\"color\":\"#00cc96\",\"size\":[18,120,9,26,62,198,30,106],\"sizemode\":\"area\",\"sizeref\":0.9925,\"symbol\":\"circle\"},\"mode\":\"markers\",\"name\":\"E\",\"orientation\":\"v\",\"showlegend\":true,\"type\":\"scatter\",\"x\":[\"2021-10-02T00:00:00\",\"2021-10-12T00:00:00\",\"2021-10-19T00:00:00\",\"2021-10-20T00:00:00\",\"2021-10-22T00:00:00\",\"2021-10-25T00:00:00\",\"2021-10-26T00:00:00\",\"2021-10-27T00:00:00\"],\"xaxis\":\"x\",\"y\":[18,120,9,26,62,198,30,106],\"yaxis\":\"y\"},{\"hovertemplate\":\"color=S<br>x=%{x}<br>y=%{y}<br>size=%{marker.size}<extra></extra>\",\"legendgroup\":\"S\",\"marker\":{\"color\":\"#ab63fa\",\"size\":[87,15,201,31],\"sizemode\":\"area\",\"sizeref\":0.9925,\"symbol\":\"circle\"},\"mode\":\"markers\",\"name\":\"S\",\"orientation\":\"v\",\"showlegend\":true,\"type\":\"scatter\",\"x\":[\"2021-10-02T00:00:00\",\"2021-10-05T00:00:00\",\"2021-10-23T00:00:00\",\"2021-10-27T00:00:00\"],\"xaxis\":\"x\",\"y\":[87,15,201,31],\"yaxis\":\"y\"},{\"hovertemplate\":\"color=M<br>x=%{x}<br>y=%{y}<br>size=%{marker.size}<extra></extra>\",\"legendgroup\":\"M\",\"marker\":{\"color\":\"#FFA15A\",\"size\":[5,397,104,151,89,36,40,58,107,49],\"sizemode\":\"area\",\"sizeref\":0.9925,\"symbol\":\"circle\"},\"mode\":\"markers\",\"name\":\"M\",\"orientation\":\"v\",\"showlegend\":true,\"type\":\"scatter\",\"x\":[\"2021-10-02T00:00:00\",\"2021-10-05T00:00:00\",\"2021-10-07T00:00:00\",\"2021-10-08T00:00:00\",\"2021-10-09T00:00:00\",\"2021-10-12T00:00:00\",\"2021-10-18T00:00:00\",\"2021-10-20T00:00:00\",\"2021-10-22T00:00:00\",\"2021-10-23T00:00:00\"],\"xaxis\":\"x\",\"y\":[5,397,104,151,89,36,40,58,107,49],\"yaxis\":\"y\"},{\"hovertemplate\":\"color=A<br>x=%{x}<br>y=%{y}<br>size=%{marker.size}<extra></extra>\",\"legendgroup\":\"A\",\"marker\":{\"color\":\"#19d3f3\",\"size\":[36,20],\"sizemode\":\"area\",\"sizeref\":0.9925,\"symbol\":\"circle\"},\"mode\":\"markers\",\"name\":\"A\",\"orientation\":\"v\",\"showlegend\":true,\"type\":\"scatter\",\"x\":[\"2021-10-02T00:00:00\",\"2021-10-23T00:00:00\"],\"xaxis\":\"x\",\"y\":[36,20],\"yaxis\":\"y\"},{\"hovertemplate\":\"color=D<br>x=%{x}<br>y=%{y}<br>size=%{marker.size}<extra></extra>\",\"legendgroup\":\"D\",\"marker\":{\"color\":\"#FF6692\",\"size\":[266,93],\"sizemode\":\"area\",\"sizeref\":0.9925,\"symbol\":\"circle\"},\"mode\":\"markers\",\"name\":\"D\",\"orientation\":\"v\",\"showlegend\":true,\"type\":\"scatter\",\"x\":[\"2021-10-05T00:00:00\",\"2021-10-28T00:00:00\"],\"xaxis\":\"x\",\"y\":[266,93],\"yaxis\":\"y\"},{\"hovertemplate\":\"color=G<br>x=%{x}<br>y=%{y}<br>size=%{marker.size}<extra></extra>\",\"legendgroup\":\"G\",\"marker\":{\"color\":\"#B6E880\",\"size\":[43,45,38,16,6,13,65,150],\"sizemode\":\"area\",\"sizeref\":0.9925,\"symbol\":\"circle\"},\"mode\":\"markers\",\"name\":\"G\",\"orientation\":\"v\",\"showlegend\":true,\"type\":\"scatter\",\"x\":[\"2021-10-07T00:00:00\",\"2021-10-16T00:00:00\",\"2021-10-18T00:00:00\",\"2021-10-20T00:00:00\",\"2021-10-21T00:00:00\",\"2021-10-27T00:00:00\",\"2021-10-28T00:00:00\",\"2021-10-30T00:00:00\"],\"xaxis\":\"x\",\"y\":[43,45,38,16,6,13,65,150],\"yaxis\":\"y\"},{\"hovertemplate\":\"color=K<br>x=%{x}<br>y=%{y}<br>size=%{marker.size}<extra></extra>\",\"legendgroup\":\"K\",\"marker\":{\"color\":\"#FF97FF\",\"size\":[114,144,121,82,108],\"sizemode\":\"area\",\"sizeref\":0.9925,\"symbol\":\"circle\"},\"mode\":\"markers\",\"name\":\"K\",\"orientation\":\"v\",\"showlegend\":true,\"type\":\"scatter\",\"x\":[\"2021-10-07T00:00:00\",\"2021-10-15T00:00:00\",\"2021-10-18T00:00:00\",\"2021-10-28T00:00:00\",\"2021-10-29T00:00:00\"],\"xaxis\":\"x\",\"y\":[114,144,121,82,108],\"yaxis\":\"y\"},{\"hovertemplate\":\"color=C<br>x=%{x}<br>y=%{y}<br>size=%{marker.size}<extra></extra>\",\"legendgroup\":\"C\",\"marker\":{\"color\":\"#FECB52\",\"size\":[76,27,30],\"sizemode\":\"area\",\"sizeref\":0.9925,\"symbol\":\"circle\"},\"mode\":\"markers\",\"name\":\"C\",\"orientation\":\"v\",\"showlegend\":true,\"type\":\"scatter\",\"x\":[\"2021-10-09T00:00:00\",\"2021-10-12T00:00:00\",\"2021-10-27T00:00:00\"],\"xaxis\":\"x\",\"y\":[76,27,30],\"yaxis\":\"y\"},{\"hovertemplate\":\"color=Q<br>x=%{x}<br>y=%{y}<br>size=%{marker.size}<extra></extra>\",\"legendgroup\":\"Q\",\"marker\":{\"color\":\"#636efa\",\"size\":[226,95,222,67],\"sizemode\":\"area\",\"sizeref\":0.9925,\"symbol\":\"circle\"},\"mode\":\"markers\",\"name\":\"Q\",\"orientation\":\"v\",\"showlegend\":true,\"type\":\"scatter\",\"x\":[\"2021-10-11T00:00:00\",\"2021-10-14T00:00:00\",\"2021-10-16T00:00:00\",\"2021-10-26T00:00:00\"],\"xaxis\":\"x\",\"y\":[226,95,222,67],\"yaxis\":\"y\"},{\"hovertemplate\":\"color=B<br>x=%{x}<br>y=%{y}<br>size=%{marker.size}<extra></extra>\",\"legendgroup\":\"B\",\"marker\":{\"color\":\"#EF553B\",\"size\":[32],\"sizemode\":\"area\",\"sizeref\":0.9925,\"symbol\":\"circle\"},\"mode\":\"markers\",\"name\":\"B\",\"orientation\":\"v\",\"showlegend\":true,\"type\":\"scatter\",\"x\":[\"2021-10-18T00:00:00\"],\"xaxis\":\"x\",\"y\":[32],\"yaxis\":\"y\"},{\"hovertemplate\":\"color=R<br>x=%{x}<br>y=%{y}<br>size=%{marker.size}<extra></extra>\",\"legendgroup\":\"R\",\"marker\":{\"color\":\"#00cc96\",\"size\":[41],\"sizemode\":\"area\",\"sizeref\":0.9925,\"symbol\":\"circle\"},\"mode\":\"markers\",\"name\":\"R\",\"orientation\":\"v\",\"showlegend\":true,\"type\":\"scatter\",\"x\":[\"2021-10-22T00:00:00\"],\"xaxis\":\"x\",\"y\":[41],\"yaxis\":\"y\"},{\"hovertemplate\":\"color=N<br>x=%{x}<br>y=%{y}<br>size=%{marker.size}<extra></extra>\",\"legendgroup\":\"N\",\"marker\":{\"color\":\"#ab63fa\",\"size\":[127,256],\"sizemode\":\"area\",\"sizeref\":0.9925,\"symbol\":\"circle\"},\"mode\":\"markers\",\"name\":\"N\",\"orientation\":\"v\",\"showlegend\":true,\"type\":\"scatter\",\"x\":[\"2021-10-28T00:00:00\",\"2021-10-29T00:00:00\"],\"xaxis\":\"x\",\"y\":[127,256],\"yaxis\":\"y\"}],                        {\"legend\":{\"itemsizing\":\"constant\",\"title\":{\"text\":\"color\"},\"tracegroupgap\":0},\"margin\":{\"t\":60},\"template\":{\"data\":{\"bar\":[{\"error_x\":{\"color\":\"#2a3f5f\"},\"error_y\":{\"color\":\"#2a3f5f\"},\"marker\":{\"line\":{\"color\":\"#E5ECF6\",\"width\":0.5},\"pattern\":{\"fillmode\":\"overlay\",\"size\":10,\"solidity\":0.2}},\"type\":\"bar\"}],\"barpolar\":[{\"marker\":{\"line\":{\"color\":\"#E5ECF6\",\"width\":0.5},\"pattern\":{\"fillmode\":\"overlay\",\"size\":10,\"solidity\":0.2}},\"type\":\"barpolar\"}],\"carpet\":[{\"aaxis\":{\"endlinecolor\":\"#2a3f5f\",\"gridcolor\":\"white\",\"linecolor\":\"white\",\"minorgridcolor\":\"white\",\"startlinecolor\":\"#2a3f5f\"},\"baxis\":{\"endlinecolor\":\"#2a3f5f\",\"gridcolor\":\"white\",\"linecolor\":\"white\",\"minorgridcolor\":\"white\",\"startlinecolor\":\"#2a3f5f\"},\"type\":\"carpet\"}],\"choropleth\":[{\"colorbar\":{\"outlinewidth\":0,\"ticks\":\"\"},\"type\":\"choropleth\"}],\"contour\":[{\"colorbar\":{\"outlinewidth\":0,\"ticks\":\"\"},\"colorscale\":[[0.0,\"#0d0887\"],[0.1111111111111111,\"#46039f\"],[0.2222222222222222,\"#7201a8\"],[0.3333333333333333,\"#9c179e\"],[0.4444444444444444,\"#bd3786\"],[0.5555555555555556,\"#d8576b\"],[0.6666666666666666,\"#ed7953\"],[0.7777777777777778,\"#fb9f3a\"],[0.8888888888888888,\"#fdca26\"],[1.0,\"#f0f921\"]],\"type\":\"contour\"}],\"contourcarpet\":[{\"colorbar\":{\"outlinewidth\":0,\"ticks\":\"\"},\"type\":\"contourcarpet\"}],\"heatmap\":[{\"colorbar\":{\"outlinewidth\":0,\"ticks\":\"\"},\"colorscale\":[[0.0,\"#0d0887\"],[0.1111111111111111,\"#46039f\"],[0.2222222222222222,\"#7201a8\"],[0.3333333333333333,\"#9c179e\"],[0.4444444444444444,\"#bd3786\"],[0.5555555555555556,\"#d8576b\"],[0.6666666666666666,\"#ed7953\"],[0.7777777777777778,\"#fb9f3a\"],[0.8888888888888888,\"#fdca26\"],[1.0,\"#f0f921\"]],\"type\":\"heatmap\"}],\"heatmapgl\":[{\"colorbar\":{\"outlinewidth\":0,\"ticks\":\"\"},\"colorscale\":[[0.0,\"#0d0887\"],[0.1111111111111111,\"#46039f\"],[0.2222222222222222,\"#7201a8\"],[0.3333333333333333,\"#9c179e\"],[0.4444444444444444,\"#bd3786\"],[0.5555555555555556,\"#d8576b\"],[0.6666666666666666,\"#ed7953\"],[0.7777777777777778,\"#fb9f3a\"],[0.8888888888888888,\"#fdca26\"],[1.0,\"#f0f921\"]],\"type\":\"heatmapgl\"}],\"histogram\":[{\"marker\":{\"pattern\":{\"fillmode\":\"overlay\",\"size\":10,\"solidity\":0.2}},\"type\":\"histogram\"}],\"histogram2d\":[{\"colorbar\":{\"outlinewidth\":0,\"ticks\":\"\"},\"colorscale\":[[0.0,\"#0d0887\"],[0.1111111111111111,\"#46039f\"],[0.2222222222222222,\"#7201a8\"],[0.3333333333333333,\"#9c179e\"],[0.4444444444444444,\"#bd3786\"],[0.5555555555555556,\"#d8576b\"],[0.6666666666666666,\"#ed7953\"],[0.7777777777777778,\"#fb9f3a\"],[0.8888888888888888,\"#fdca26\"],[1.0,\"#f0f921\"]],\"type\":\"histogram2d\"}],\"histogram2dcontour\":[{\"colorbar\":{\"outlinewidth\":0,\"ticks\":\"\"},\"colorscale\":[[0.0,\"#0d0887\"],[0.1111111111111111,\"#46039f\"],[0.2222222222222222,\"#7201a8\"],[0.3333333333333333,\"#9c179e\"],[0.4444444444444444,\"#bd3786\"],[0.5555555555555556,\"#d8576b\"],[0.6666666666666666,\"#ed7953\"],[0.7777777777777778,\"#fb9f3a\"],[0.8888888888888888,\"#fdca26\"],[1.0,\"#f0f921\"]],\"type\":\"histogram2dcontour\"}],\"mesh3d\":[{\"colorbar\":{\"outlinewidth\":0,\"ticks\":\"\"},\"type\":\"mesh3d\"}],\"parcoords\":[{\"line\":{\"colorbar\":{\"outlinewidth\":0,\"ticks\":\"\"}},\"type\":\"parcoords\"}],\"pie\":[{\"automargin\":true,\"type\":\"pie\"}],\"scatter\":[{\"marker\":{\"colorbar\":{\"outlinewidth\":0,\"ticks\":\"\"}},\"type\":\"scatter\"}],\"scatter3d\":[{\"line\":{\"colorbar\":{\"outlinewidth\":0,\"ticks\":\"\"}},\"marker\":{\"colorbar\":{\"outlinewidth\":0,\"ticks\":\"\"}},\"type\":\"scatter3d\"}],\"scattercarpet\":[{\"marker\":{\"colorbar\":{\"outlinewidth\":0,\"ticks\":\"\"}},\"type\":\"scattercarpet\"}],\"scattergeo\":[{\"marker\":{\"colorbar\":{\"outlinewidth\":0,\"ticks\":\"\"}},\"type\":\"scattergeo\"}],\"scattergl\":[{\"marker\":{\"colorbar\":{\"outlinewidth\":0,\"ticks\":\"\"}},\"type\":\"scattergl\"}],\"scattermapbox\":[{\"marker\":{\"colorbar\":{\"outlinewidth\":0,\"ticks\":\"\"}},\"type\":\"scattermapbox\"}],\"scatterpolar\":[{\"marker\":{\"colorbar\":{\"outlinewidth\":0,\"ticks\":\"\"}},\"type\":\"scatterpolar\"}],\"scatterpolargl\":[{\"marker\":{\"colorbar\":{\"outlinewidth\":0,\"ticks\":\"\"}},\"type\":\"scatterpolargl\"}],\"scatterternary\":[{\"marker\":{\"colorbar\":{\"outlinewidth\":0,\"ticks\":\"\"}},\"type\":\"scatterternary\"}],\"surface\":[{\"colorbar\":{\"outlinewidth\":0,\"ticks\":\"\"},\"colorscale\":[[0.0,\"#0d0887\"],[0.1111111111111111,\"#46039f\"],[0.2222222222222222,\"#7201a8\"],[0.3333333333333333,\"#9c179e\"],[0.4444444444444444,\"#bd3786\"],[0.5555555555555556,\"#d8576b\"],[0.6666666666666666,\"#ed7953\"],[0.7777777777777778,\"#fb9f3a\"],[0.8888888888888888,\"#fdca26\"],[1.0,\"#f0f921\"]],\"type\":\"surface\"}],\"table\":[{\"cells\":{\"fill\":{\"color\":\"#EBF0F8\"},\"line\":{\"color\":\"white\"}},\"header\":{\"fill\":{\"color\":\"#C8D4E3\"},\"line\":{\"color\":\"white\"}},\"type\":\"table\"}]},\"layout\":{\"annotationdefaults\":{\"arrowcolor\":\"#2a3f5f\",\"arrowhead\":0,\"arrowwidth\":1},\"autotypenumbers\":\"strict\",\"coloraxis\":{\"colorbar\":{\"outlinewidth\":0,\"ticks\":\"\"}},\"colorscale\":{\"diverging\":[[0,\"#8e0152\"],[0.1,\"#c51b7d\"],[0.2,\"#de77ae\"],[0.3,\"#f1b6da\"],[0.4,\"#fde0ef\"],[0.5,\"#f7f7f7\"],[0.6,\"#e6f5d0\"],[0.7,\"#b8e186\"],[0.8,\"#7fbc41\"],[0.9,\"#4d9221\"],[1,\"#276419\"]],\"sequential\":[[0.0,\"#0d0887\"],[0.1111111111111111,\"#46039f\"],[0.2222222222222222,\"#7201a8\"],[0.3333333333333333,\"#9c179e\"],[0.4444444444444444,\"#bd3786\"],[0.5555555555555556,\"#d8576b\"],[0.6666666666666666,\"#ed7953\"],[0.7777777777777778,\"#fb9f3a\"],[0.8888888888888888,\"#fdca26\"],[1.0,\"#f0f921\"]],\"sequentialminus\":[[0.0,\"#0d0887\"],[0.1111111111111111,\"#46039f\"],[0.2222222222222222,\"#7201a8\"],[0.3333333333333333,\"#9c179e\"],[0.4444444444444444,\"#bd3786\"],[0.5555555555555556,\"#d8576b\"],[0.6666666666666666,\"#ed7953\"],[0.7777777777777778,\"#fb9f3a\"],[0.8888888888888888,\"#fdca26\"],[1.0,\"#f0f921\"]]},\"colorway\":[\"#636efa\",\"#EF553B\",\"#00cc96\",\"#ab63fa\",\"#FFA15A\",\"#19d3f3\",\"#FF6692\",\"#B6E880\",\"#FF97FF\",\"#FECB52\"],\"font\":{\"color\":\"#2a3f5f\"},\"geo\":{\"bgcolor\":\"white\",\"lakecolor\":\"white\",\"landcolor\":\"#E5ECF6\",\"showlakes\":true,\"showland\":true,\"subunitcolor\":\"white\"},\"hoverlabel\":{\"align\":\"left\"},\"hovermode\":\"closest\",\"mapbox\":{\"style\":\"light\"},\"paper_bgcolor\":\"white\",\"plot_bgcolor\":\"#E5ECF6\",\"polar\":{\"angularaxis\":{\"gridcolor\":\"white\",\"linecolor\":\"white\",\"ticks\":\"\"},\"bgcolor\":\"#E5ECF6\",\"radialaxis\":{\"gridcolor\":\"white\",\"linecolor\":\"white\",\"ticks\":\"\"}},\"scene\":{\"xaxis\":{\"backgroundcolor\":\"#E5ECF6\",\"gridcolor\":\"white\",\"gridwidth\":2,\"linecolor\":\"white\",\"showbackground\":true,\"ticks\":\"\",\"zerolinecolor\":\"white\"},\"yaxis\":{\"backgroundcolor\":\"#E5ECF6\",\"gridcolor\":\"white\",\"gridwidth\":2,\"linecolor\":\"white\",\"showbackground\":true,\"ticks\":\"\",\"zerolinecolor\":\"white\"},\"zaxis\":{\"backgroundcolor\":\"#E5ECF6\",\"gridcolor\":\"white\",\"gridwidth\":2,\"linecolor\":\"white\",\"showbackground\":true,\"ticks\":\"\",\"zerolinecolor\":\"white\"}},\"shapedefaults\":{\"line\":{\"color\":\"#2a3f5f\"}},\"ternary\":{\"aaxis\":{\"gridcolor\":\"white\",\"linecolor\":\"white\",\"ticks\":\"\"},\"baxis\":{\"gridcolor\":\"white\",\"linecolor\":\"white\",\"ticks\":\"\"},\"bgcolor\":\"#E5ECF6\",\"caxis\":{\"gridcolor\":\"white\",\"linecolor\":\"white\",\"ticks\":\"\"}},\"title\":{\"x\":0.05},\"xaxis\":{\"automargin\":true,\"gridcolor\":\"white\",\"linecolor\":\"white\",\"ticks\":\"\",\"title\":{\"standoff\":15},\"zerolinecolor\":\"white\",\"zerolinewidth\":2},\"yaxis\":{\"automargin\":true,\"gridcolor\":\"white\",\"linecolor\":\"white\",\"ticks\":\"\",\"title\":{\"standoff\":15},\"zerolinecolor\":\"white\",\"zerolinewidth\":2}}},\"xaxis\":{\"anchor\":\"y\",\"domain\":[0.0,1.0],\"title\":{\"text\":\"x\"}},\"yaxis\":{\"anchor\":\"x\",\"domain\":[0.0,1.0],\"title\":{\"text\":\"y\"}}},                        {\"responsive\": true}                    ).then(function(){\n",
       "                            \n",
       "var gd = document.getElementById('6dfde56e-216f-438c-b93a-7521e16761f3');\n",
       "var x = new MutationObserver(function (mutations, observer) {{\n",
       "        var display = window.getComputedStyle(gd).display;\n",
       "        if (!display || display === 'none') {{\n",
       "            console.log([gd, 'removed!']);\n",
       "            Plotly.purge(gd);\n",
       "            observer.disconnect();\n",
       "        }}\n",
       "}});\n",
       "\n",
       "// Listen for the removal of the full notebook cells\n",
       "var notebookContainer = gd.closest('#notebook-container');\n",
       "if (notebookContainer) {{\n",
       "    x.observe(notebookContainer, {childList: true});\n",
       "}}\n",
       "\n",
       "// Listen for the clearing of the current output cell\n",
       "var outputEl = gd.closest('.output');\n",
       "if (outputEl) {{\n",
       "    x.observe(outputEl, {childList: true});\n",
       "}}\n",
       "\n",
       "                        })                };                });            </script>        </div>"
      ]
     },
     "metadata": {},
     "output_type": "display_data"
    }
   ],
   "source": [
    "fig = px.scatter( x=data_oct[\"Date\"], y=data_oct[\"Quantity Sold Kgs\"],\n",
    "\t         size=data_oct[\"Quantity Sold Kgs\"], color=data_oct[\"Size\"])\n",
    "fig.show()"
   ]
  },
  {
   "cell_type": "code",
   "execution_count": 176,
   "metadata": {},
   "outputs": [
    {
     "data": {
      "application/vnd.plotly.v1+json": {
       "config": {
        "plotlyServerURL": "https://plot.ly"
       },
       "data": [
        {
         "hovertemplate": "color=M<br>x=%{x}<br>y=%{y}<br>size=%{marker.size}<extra></extra>",
         "legendgroup": "M",
         "marker": {
          "color": "#636efa",
          "size": [
           69,
           123,
           35,
           15,
           128,
           30,
           79,
           78,
           195
          ],
          "sizemode": "area",
          "sizeref": 0.815,
          "symbol": "circle"
         },
         "mode": "markers",
         "name": "M",
         "orientation": "v",
         "showlegend": true,
         "type": "scatter",
         "x": [
          "2021-11-01T00:00:00",
          "2021-11-10T00:00:00",
          "2021-11-12T00:00:00",
          "2021-11-13T00:00:00",
          "2021-11-17T00:00:00",
          "2021-11-18T00:00:00",
          "2021-11-19T00:00:00",
          "2021-11-20T00:00:00",
          "2021-11-25T00:00:00"
         ],
         "xaxis": "x",
         "y": [
          69,
          123,
          35,
          15,
          128,
          30,
          79,
          78,
          195
         ],
         "yaxis": "y"
        },
        {
         "hovertemplate": "color=N<br>x=%{x}<br>y=%{y}<br>size=%{marker.size}<extra></extra>",
         "legendgroup": "N",
         "marker": {
          "color": "#EF553B",
          "size": [
           40
          ],
          "sizemode": "area",
          "sizeref": 0.815,
          "symbol": "circle"
         },
         "mode": "markers",
         "name": "N",
         "orientation": "v",
         "showlegend": true,
         "type": "scatter",
         "x": [
          "2021-11-01T00:00:00"
         ],
         "xaxis": "x",
         "y": [
          40
         ],
         "yaxis": "y"
        },
        {
         "hovertemplate": "color=C<br>x=%{x}<br>y=%{y}<br>size=%{marker.size}<extra></extra>",
         "legendgroup": "C",
         "marker": {
          "color": "#00cc96",
          "size": [
           50,
           18,
           12,
           26,
           66,
           11,
           84,
           20,
           44,
           18,
           60
          ],
          "sizemode": "area",
          "sizeref": 0.815,
          "symbol": "circle"
         },
         "mode": "markers",
         "name": "C",
         "orientation": "v",
         "showlegend": true,
         "type": "scatter",
         "x": [
          "2021-11-02T00:00:00",
          "2021-11-09T00:00:00",
          "2021-11-11T00:00:00",
          "2021-11-13T00:00:00",
          "2021-11-15T00:00:00",
          "2021-11-16T00:00:00",
          "2021-11-19T00:00:00",
          "2021-11-22T00:00:00",
          "2021-11-23T00:00:00",
          "2021-11-25T00:00:00",
          "2021-11-27T00:00:00"
         ],
         "xaxis": "x",
         "y": [
          50,
          18,
          12,
          26,
          66,
          11,
          84,
          20,
          44,
          18,
          60
         ],
         "yaxis": "y"
        },
        {
         "hovertemplate": "color=G<br>x=%{x}<br>y=%{y}<br>size=%{marker.size}<extra></extra>",
         "legendgroup": "G",
         "marker": {
          "color": "#ab63fa",
          "size": [
           126,
           52,
           25,
           108
          ],
          "sizemode": "area",
          "sizeref": 0.815,
          "symbol": "circle"
         },
         "mode": "markers",
         "name": "G",
         "orientation": "v",
         "showlegend": true,
         "type": "scatter",
         "x": [
          "2021-11-02T00:00:00",
          "2021-11-10T00:00:00",
          "2021-11-12T00:00:00",
          "2021-11-20T00:00:00"
         ],
         "xaxis": "x",
         "y": [
          126,
          52,
          25,
          108
         ],
         "yaxis": "y"
        },
        {
         "hovertemplate": "color=T<br>x=%{x}<br>y=%{y}<br>size=%{marker.size}<extra></extra>",
         "legendgroup": "T",
         "marker": {
          "color": "#FFA15A",
          "size": [
           251,
           316,
           87
          ],
          "sizemode": "area",
          "sizeref": 0.815,
          "symbol": "circle"
         },
         "mode": "markers",
         "name": "T",
         "orientation": "v",
         "showlegend": true,
         "type": "scatter",
         "x": [
          "2021-11-02T00:00:00",
          "2021-11-24T00:00:00",
          "2021-11-30T00:00:00"
         ],
         "xaxis": "x",
         "y": [
          251,
          316,
          87
         ],
         "yaxis": "y"
        },
        {
         "hovertemplate": "color=B<br>x=%{x}<br>y=%{y}<br>size=%{marker.size}<extra></extra>",
         "legendgroup": "B",
         "marker": {
          "color": "#19d3f3",
          "size": [
           147,
           82,
           39,
           32,
           60,
           30,
           35
          ],
          "sizemode": "area",
          "sizeref": 0.815,
          "symbol": "circle"
         },
         "mode": "markers",
         "name": "B",
         "orientation": "v",
         "showlegend": true,
         "type": "scatter",
         "x": [
          "2021-11-03T00:00:00",
          "2021-11-09T00:00:00",
          "2021-11-13T00:00:00",
          "2021-11-15T00:00:00",
          "2021-11-16T00:00:00",
          "2021-11-23T00:00:00",
          "2021-11-27T00:00:00"
         ],
         "xaxis": "x",
         "y": [
          147,
          82,
          39,
          32,
          60,
          30,
          35
         ],
         "yaxis": "y"
        },
        {
         "hovertemplate": "color=L<br>x=%{x}<br>y=%{y}<br>size=%{marker.size}<extra></extra>",
         "legendgroup": "L",
         "marker": {
          "color": "#FF6692",
          "size": [
           51,
           178,
           67,
           27
          ],
          "sizemode": "area",
          "sizeref": 0.815,
          "symbol": "circle"
         },
         "mode": "markers",
         "name": "L",
         "orientation": "v",
         "showlegend": true,
         "type": "scatter",
         "x": [
          "2021-11-03T00:00:00",
          "2021-11-12T00:00:00",
          "2021-11-25T00:00:00",
          "2021-11-30T00:00:00"
         ],
         "xaxis": "x",
         "y": [
          51,
          178,
          67,
          27
         ],
         "yaxis": "y"
        },
        {
         "hovertemplate": "color=F<br>x=%{x}<br>y=%{y}<br>size=%{marker.size}<extra></extra>",
         "legendgroup": "F",
         "marker": {
          "color": "#B6E880",
          "size": [
           17,
           323,
           90,
           78,
           100,
           62,
           40,
           176,
           100
          ],
          "sizemode": "area",
          "sizeref": 0.815,
          "symbol": "circle"
         },
         "mode": "markers",
         "name": "F",
         "orientation": "v",
         "showlegend": true,
         "type": "scatter",
         "x": [
          "2021-11-03T00:00:00",
          "2021-11-08T00:00:00",
          "2021-11-09T00:00:00",
          "2021-11-11T00:00:00",
          "2021-11-22T00:00:00",
          "2021-11-23T00:00:00",
          "2021-11-27T00:00:00",
          "2021-11-29T00:00:00",
          "2021-11-30T00:00:00"
         ],
         "xaxis": "x",
         "y": [
          17,
          323,
          90,
          78,
          100,
          62,
          40,
          176,
          100
         ],
         "yaxis": "y"
        },
        {
         "hovertemplate": "color=A<br>x=%{x}<br>y=%{y}<br>size=%{marker.size}<extra></extra>",
         "legendgroup": "A",
         "marker": {
          "color": "#FF97FF",
          "size": [
           72
          ],
          "sizemode": "area",
          "sizeref": 0.815,
          "symbol": "circle"
         },
         "mode": "markers",
         "name": "A",
         "orientation": "v",
         "showlegend": true,
         "type": "scatter",
         "x": [
          "2021-11-08T00:00:00"
         ],
         "xaxis": "x",
         "y": [
          72
         ],
         "yaxis": "y"
        },
        {
         "hovertemplate": "color=Q<br>x=%{x}<br>y=%{y}<br>size=%{marker.size}<extra></extra>",
         "legendgroup": "Q",
         "marker": {
          "color": "#FECB52",
          "size": [
           200
          ],
          "sizemode": "area",
          "sizeref": 0.815,
          "symbol": "circle"
         },
         "mode": "markers",
         "name": "Q",
         "orientation": "v",
         "showlegend": true,
         "type": "scatter",
         "x": [
          "2021-11-09T00:00:00"
         ],
         "xaxis": "x",
         "y": [
          200
         ],
         "yaxis": "y"
        },
        {
         "hovertemplate": "color=O<br>x=%{x}<br>y=%{y}<br>size=%{marker.size}<extra></extra>",
         "legendgroup": "O",
         "marker": {
          "color": "#636efa",
          "size": [
           138
          ],
          "sizemode": "area",
          "sizeref": 0.815,
          "symbol": "circle"
         },
         "mode": "markers",
         "name": "O",
         "orientation": "v",
         "showlegend": true,
         "type": "scatter",
         "x": [
          "2021-11-10T00:00:00"
         ],
         "xaxis": "x",
         "y": [
          138
         ],
         "yaxis": "y"
        },
        {
         "hovertemplate": "color=J<br>x=%{x}<br>y=%{y}<br>size=%{marker.size}<extra></extra>",
         "legendgroup": "J",
         "marker": {
          "color": "#EF553B",
          "size": [
           15,
           52,
           29
          ],
          "sizemode": "area",
          "sizeref": 0.815,
          "symbol": "circle"
         },
         "mode": "markers",
         "name": "J",
         "orientation": "v",
         "showlegend": true,
         "type": "scatter",
         "x": [
          "2021-11-10T00:00:00",
          "2021-11-12T00:00:00",
          "2021-11-16T00:00:00"
         ],
         "xaxis": "x",
         "y": [
          15,
          52,
          29
         ],
         "yaxis": "y"
        },
        {
         "hovertemplate": "color=P<br>x=%{x}<br>y=%{y}<br>size=%{marker.size}<extra></extra>",
         "legendgroup": "P",
         "marker": {
          "color": "#00cc96",
          "size": [
           59
          ],
          "sizemode": "area",
          "sizeref": 0.815,
          "symbol": "circle"
         },
         "mode": "markers",
         "name": "P",
         "orientation": "v",
         "showlegend": true,
         "type": "scatter",
         "x": [
          "2021-11-12T00:00:00"
         ],
         "xaxis": "x",
         "y": [
          59
         ],
         "yaxis": "y"
        },
        {
         "hovertemplate": "color=H<br>x=%{x}<br>y=%{y}<br>size=%{marker.size}<extra></extra>",
         "legendgroup": "H",
         "marker": {
          "color": "#ab63fa",
          "size": [
           108,
           155
          ],
          "sizemode": "area",
          "sizeref": 0.815,
          "symbol": "circle"
         },
         "mode": "markers",
         "name": "H",
         "orientation": "v",
         "showlegend": true,
         "type": "scatter",
         "x": [
          "2021-11-13T00:00:00",
          "2021-11-20T00:00:00"
         ],
         "xaxis": "x",
         "y": [
          108,
          155
         ],
         "yaxis": "y"
        },
        {
         "hovertemplate": "color=K<br>x=%{x}<br>y=%{y}<br>size=%{marker.size}<extra></extra>",
         "legendgroup": "K",
         "marker": {
          "color": "#FFA15A",
          "size": [
           17,
           64,
           110
          ],
          "sizemode": "area",
          "sizeref": 0.815,
          "symbol": "circle"
         },
         "mode": "markers",
         "name": "K",
         "orientation": "v",
         "showlegend": true,
         "type": "scatter",
         "x": [
          "2021-11-13T00:00:00",
          "2021-11-24T00:00:00",
          "2021-11-25T00:00:00"
         ],
         "xaxis": "x",
         "y": [
          17,
          64,
          110
         ],
         "yaxis": "y"
        },
        {
         "hovertemplate": "color=R<br>x=%{x}<br>y=%{y}<br>size=%{marker.size}<extra></extra>",
         "legendgroup": "R",
         "marker": {
          "color": "#19d3f3",
          "size": [
           263,
           80,
           76
          ],
          "sizemode": "area",
          "sizeref": 0.815,
          "symbol": "circle"
         },
         "mode": "markers",
         "name": "R",
         "orientation": "v",
         "showlegend": true,
         "type": "scatter",
         "x": [
          "2021-11-16T00:00:00",
          "2021-11-17T00:00:00",
          "2021-11-19T00:00:00"
         ],
         "xaxis": "x",
         "y": [
          263,
          80,
          76
         ],
         "yaxis": "y"
        },
        {
         "hovertemplate": "color=I<br>x=%{x}<br>y=%{y}<br>size=%{marker.size}<extra></extra>",
         "legendgroup": "I",
         "marker": {
          "color": "#FF6692",
          "size": [
           326
          ],
          "sizemode": "area",
          "sizeref": 0.815,
          "symbol": "circle"
         },
         "mode": "markers",
         "name": "I",
         "orientation": "v",
         "showlegend": true,
         "type": "scatter",
         "x": [
          "2021-11-18T00:00:00"
         ],
         "xaxis": "x",
         "y": [
          326
         ],
         "yaxis": "y"
        },
        {
         "hovertemplate": "color=E<br>x=%{x}<br>y=%{y}<br>size=%{marker.size}<extra></extra>",
         "legendgroup": "E",
         "marker": {
          "color": "#B6E880",
          "size": [
           51,
           13
          ],
          "sizemode": "area",
          "sizeref": 0.815,
          "symbol": "circle"
         },
         "mode": "markers",
         "name": "E",
         "orientation": "v",
         "showlegend": true,
         "type": "scatter",
         "x": [
          "2021-11-23T00:00:00",
          "2021-11-27T00:00:00"
         ],
         "xaxis": "x",
         "y": [
          51,
          13
         ],
         "yaxis": "y"
        }
       ],
       "layout": {
        "legend": {
         "itemsizing": "constant",
         "title": {
          "text": "color"
         },
         "tracegroupgap": 0
        },
        "margin": {
         "t": 60
        },
        "template": {
         "data": {
          "bar": [
           {
            "error_x": {
             "color": "#2a3f5f"
            },
            "error_y": {
             "color": "#2a3f5f"
            },
            "marker": {
             "line": {
              "color": "#E5ECF6",
              "width": 0.5
             },
             "pattern": {
              "fillmode": "overlay",
              "size": 10,
              "solidity": 0.2
             }
            },
            "type": "bar"
           }
          ],
          "barpolar": [
           {
            "marker": {
             "line": {
              "color": "#E5ECF6",
              "width": 0.5
             },
             "pattern": {
              "fillmode": "overlay",
              "size": 10,
              "solidity": 0.2
             }
            },
            "type": "barpolar"
           }
          ],
          "carpet": [
           {
            "aaxis": {
             "endlinecolor": "#2a3f5f",
             "gridcolor": "white",
             "linecolor": "white",
             "minorgridcolor": "white",
             "startlinecolor": "#2a3f5f"
            },
            "baxis": {
             "endlinecolor": "#2a3f5f",
             "gridcolor": "white",
             "linecolor": "white",
             "minorgridcolor": "white",
             "startlinecolor": "#2a3f5f"
            },
            "type": "carpet"
           }
          ],
          "choropleth": [
           {
            "colorbar": {
             "outlinewidth": 0,
             "ticks": ""
            },
            "type": "choropleth"
           }
          ],
          "contour": [
           {
            "colorbar": {
             "outlinewidth": 0,
             "ticks": ""
            },
            "colorscale": [
             [
              0,
              "#0d0887"
             ],
             [
              0.1111111111111111,
              "#46039f"
             ],
             [
              0.2222222222222222,
              "#7201a8"
             ],
             [
              0.3333333333333333,
              "#9c179e"
             ],
             [
              0.4444444444444444,
              "#bd3786"
             ],
             [
              0.5555555555555556,
              "#d8576b"
             ],
             [
              0.6666666666666666,
              "#ed7953"
             ],
             [
              0.7777777777777778,
              "#fb9f3a"
             ],
             [
              0.8888888888888888,
              "#fdca26"
             ],
             [
              1,
              "#f0f921"
             ]
            ],
            "type": "contour"
           }
          ],
          "contourcarpet": [
           {
            "colorbar": {
             "outlinewidth": 0,
             "ticks": ""
            },
            "type": "contourcarpet"
           }
          ],
          "heatmap": [
           {
            "colorbar": {
             "outlinewidth": 0,
             "ticks": ""
            },
            "colorscale": [
             [
              0,
              "#0d0887"
             ],
             [
              0.1111111111111111,
              "#46039f"
             ],
             [
              0.2222222222222222,
              "#7201a8"
             ],
             [
              0.3333333333333333,
              "#9c179e"
             ],
             [
              0.4444444444444444,
              "#bd3786"
             ],
             [
              0.5555555555555556,
              "#d8576b"
             ],
             [
              0.6666666666666666,
              "#ed7953"
             ],
             [
              0.7777777777777778,
              "#fb9f3a"
             ],
             [
              0.8888888888888888,
              "#fdca26"
             ],
             [
              1,
              "#f0f921"
             ]
            ],
            "type": "heatmap"
           }
          ],
          "heatmapgl": [
           {
            "colorbar": {
             "outlinewidth": 0,
             "ticks": ""
            },
            "colorscale": [
             [
              0,
              "#0d0887"
             ],
             [
              0.1111111111111111,
              "#46039f"
             ],
             [
              0.2222222222222222,
              "#7201a8"
             ],
             [
              0.3333333333333333,
              "#9c179e"
             ],
             [
              0.4444444444444444,
              "#bd3786"
             ],
             [
              0.5555555555555556,
              "#d8576b"
             ],
             [
              0.6666666666666666,
              "#ed7953"
             ],
             [
              0.7777777777777778,
              "#fb9f3a"
             ],
             [
              0.8888888888888888,
              "#fdca26"
             ],
             [
              1,
              "#f0f921"
             ]
            ],
            "type": "heatmapgl"
           }
          ],
          "histogram": [
           {
            "marker": {
             "pattern": {
              "fillmode": "overlay",
              "size": 10,
              "solidity": 0.2
             }
            },
            "type": "histogram"
           }
          ],
          "histogram2d": [
           {
            "colorbar": {
             "outlinewidth": 0,
             "ticks": ""
            },
            "colorscale": [
             [
              0,
              "#0d0887"
             ],
             [
              0.1111111111111111,
              "#46039f"
             ],
             [
              0.2222222222222222,
              "#7201a8"
             ],
             [
              0.3333333333333333,
              "#9c179e"
             ],
             [
              0.4444444444444444,
              "#bd3786"
             ],
             [
              0.5555555555555556,
              "#d8576b"
             ],
             [
              0.6666666666666666,
              "#ed7953"
             ],
             [
              0.7777777777777778,
              "#fb9f3a"
             ],
             [
              0.8888888888888888,
              "#fdca26"
             ],
             [
              1,
              "#f0f921"
             ]
            ],
            "type": "histogram2d"
           }
          ],
          "histogram2dcontour": [
           {
            "colorbar": {
             "outlinewidth": 0,
             "ticks": ""
            },
            "colorscale": [
             [
              0,
              "#0d0887"
             ],
             [
              0.1111111111111111,
              "#46039f"
             ],
             [
              0.2222222222222222,
              "#7201a8"
             ],
             [
              0.3333333333333333,
              "#9c179e"
             ],
             [
              0.4444444444444444,
              "#bd3786"
             ],
             [
              0.5555555555555556,
              "#d8576b"
             ],
             [
              0.6666666666666666,
              "#ed7953"
             ],
             [
              0.7777777777777778,
              "#fb9f3a"
             ],
             [
              0.8888888888888888,
              "#fdca26"
             ],
             [
              1,
              "#f0f921"
             ]
            ],
            "type": "histogram2dcontour"
           }
          ],
          "mesh3d": [
           {
            "colorbar": {
             "outlinewidth": 0,
             "ticks": ""
            },
            "type": "mesh3d"
           }
          ],
          "parcoords": [
           {
            "line": {
             "colorbar": {
              "outlinewidth": 0,
              "ticks": ""
             }
            },
            "type": "parcoords"
           }
          ],
          "pie": [
           {
            "automargin": true,
            "type": "pie"
           }
          ],
          "scatter": [
           {
            "marker": {
             "colorbar": {
              "outlinewidth": 0,
              "ticks": ""
             }
            },
            "type": "scatter"
           }
          ],
          "scatter3d": [
           {
            "line": {
             "colorbar": {
              "outlinewidth": 0,
              "ticks": ""
             }
            },
            "marker": {
             "colorbar": {
              "outlinewidth": 0,
              "ticks": ""
             }
            },
            "type": "scatter3d"
           }
          ],
          "scattercarpet": [
           {
            "marker": {
             "colorbar": {
              "outlinewidth": 0,
              "ticks": ""
             }
            },
            "type": "scattercarpet"
           }
          ],
          "scattergeo": [
           {
            "marker": {
             "colorbar": {
              "outlinewidth": 0,
              "ticks": ""
             }
            },
            "type": "scattergeo"
           }
          ],
          "scattergl": [
           {
            "marker": {
             "colorbar": {
              "outlinewidth": 0,
              "ticks": ""
             }
            },
            "type": "scattergl"
           }
          ],
          "scattermapbox": [
           {
            "marker": {
             "colorbar": {
              "outlinewidth": 0,
              "ticks": ""
             }
            },
            "type": "scattermapbox"
           }
          ],
          "scatterpolar": [
           {
            "marker": {
             "colorbar": {
              "outlinewidth": 0,
              "ticks": ""
             }
            },
            "type": "scatterpolar"
           }
          ],
          "scatterpolargl": [
           {
            "marker": {
             "colorbar": {
              "outlinewidth": 0,
              "ticks": ""
             }
            },
            "type": "scatterpolargl"
           }
          ],
          "scatterternary": [
           {
            "marker": {
             "colorbar": {
              "outlinewidth": 0,
              "ticks": ""
             }
            },
            "type": "scatterternary"
           }
          ],
          "surface": [
           {
            "colorbar": {
             "outlinewidth": 0,
             "ticks": ""
            },
            "colorscale": [
             [
              0,
              "#0d0887"
             ],
             [
              0.1111111111111111,
              "#46039f"
             ],
             [
              0.2222222222222222,
              "#7201a8"
             ],
             [
              0.3333333333333333,
              "#9c179e"
             ],
             [
              0.4444444444444444,
              "#bd3786"
             ],
             [
              0.5555555555555556,
              "#d8576b"
             ],
             [
              0.6666666666666666,
              "#ed7953"
             ],
             [
              0.7777777777777778,
              "#fb9f3a"
             ],
             [
              0.8888888888888888,
              "#fdca26"
             ],
             [
              1,
              "#f0f921"
             ]
            ],
            "type": "surface"
           }
          ],
          "table": [
           {
            "cells": {
             "fill": {
              "color": "#EBF0F8"
             },
             "line": {
              "color": "white"
             }
            },
            "header": {
             "fill": {
              "color": "#C8D4E3"
             },
             "line": {
              "color": "white"
             }
            },
            "type": "table"
           }
          ]
         },
         "layout": {
          "annotationdefaults": {
           "arrowcolor": "#2a3f5f",
           "arrowhead": 0,
           "arrowwidth": 1
          },
          "autotypenumbers": "strict",
          "coloraxis": {
           "colorbar": {
            "outlinewidth": 0,
            "ticks": ""
           }
          },
          "colorscale": {
           "diverging": [
            [
             0,
             "#8e0152"
            ],
            [
             0.1,
             "#c51b7d"
            ],
            [
             0.2,
             "#de77ae"
            ],
            [
             0.3,
             "#f1b6da"
            ],
            [
             0.4,
             "#fde0ef"
            ],
            [
             0.5,
             "#f7f7f7"
            ],
            [
             0.6,
             "#e6f5d0"
            ],
            [
             0.7,
             "#b8e186"
            ],
            [
             0.8,
             "#7fbc41"
            ],
            [
             0.9,
             "#4d9221"
            ],
            [
             1,
             "#276419"
            ]
           ],
           "sequential": [
            [
             0,
             "#0d0887"
            ],
            [
             0.1111111111111111,
             "#46039f"
            ],
            [
             0.2222222222222222,
             "#7201a8"
            ],
            [
             0.3333333333333333,
             "#9c179e"
            ],
            [
             0.4444444444444444,
             "#bd3786"
            ],
            [
             0.5555555555555556,
             "#d8576b"
            ],
            [
             0.6666666666666666,
             "#ed7953"
            ],
            [
             0.7777777777777778,
             "#fb9f3a"
            ],
            [
             0.8888888888888888,
             "#fdca26"
            ],
            [
             1,
             "#f0f921"
            ]
           ],
           "sequentialminus": [
            [
             0,
             "#0d0887"
            ],
            [
             0.1111111111111111,
             "#46039f"
            ],
            [
             0.2222222222222222,
             "#7201a8"
            ],
            [
             0.3333333333333333,
             "#9c179e"
            ],
            [
             0.4444444444444444,
             "#bd3786"
            ],
            [
             0.5555555555555556,
             "#d8576b"
            ],
            [
             0.6666666666666666,
             "#ed7953"
            ],
            [
             0.7777777777777778,
             "#fb9f3a"
            ],
            [
             0.8888888888888888,
             "#fdca26"
            ],
            [
             1,
             "#f0f921"
            ]
           ]
          },
          "colorway": [
           "#636efa",
           "#EF553B",
           "#00cc96",
           "#ab63fa",
           "#FFA15A",
           "#19d3f3",
           "#FF6692",
           "#B6E880",
           "#FF97FF",
           "#FECB52"
          ],
          "font": {
           "color": "#2a3f5f"
          },
          "geo": {
           "bgcolor": "white",
           "lakecolor": "white",
           "landcolor": "#E5ECF6",
           "showlakes": true,
           "showland": true,
           "subunitcolor": "white"
          },
          "hoverlabel": {
           "align": "left"
          },
          "hovermode": "closest",
          "mapbox": {
           "style": "light"
          },
          "paper_bgcolor": "white",
          "plot_bgcolor": "#E5ECF6",
          "polar": {
           "angularaxis": {
            "gridcolor": "white",
            "linecolor": "white",
            "ticks": ""
           },
           "bgcolor": "#E5ECF6",
           "radialaxis": {
            "gridcolor": "white",
            "linecolor": "white",
            "ticks": ""
           }
          },
          "scene": {
           "xaxis": {
            "backgroundcolor": "#E5ECF6",
            "gridcolor": "white",
            "gridwidth": 2,
            "linecolor": "white",
            "showbackground": true,
            "ticks": "",
            "zerolinecolor": "white"
           },
           "yaxis": {
            "backgroundcolor": "#E5ECF6",
            "gridcolor": "white",
            "gridwidth": 2,
            "linecolor": "white",
            "showbackground": true,
            "ticks": "",
            "zerolinecolor": "white"
           },
           "zaxis": {
            "backgroundcolor": "#E5ECF6",
            "gridcolor": "white",
            "gridwidth": 2,
            "linecolor": "white",
            "showbackground": true,
            "ticks": "",
            "zerolinecolor": "white"
           }
          },
          "shapedefaults": {
           "line": {
            "color": "#2a3f5f"
           }
          },
          "ternary": {
           "aaxis": {
            "gridcolor": "white",
            "linecolor": "white",
            "ticks": ""
           },
           "baxis": {
            "gridcolor": "white",
            "linecolor": "white",
            "ticks": ""
           },
           "bgcolor": "#E5ECF6",
           "caxis": {
            "gridcolor": "white",
            "linecolor": "white",
            "ticks": ""
           }
          },
          "title": {
           "x": 0.05
          },
          "xaxis": {
           "automargin": true,
           "gridcolor": "white",
           "linecolor": "white",
           "ticks": "",
           "title": {
            "standoff": 15
           },
           "zerolinecolor": "white",
           "zerolinewidth": 2
          },
          "yaxis": {
           "automargin": true,
           "gridcolor": "white",
           "linecolor": "white",
           "ticks": "",
           "title": {
            "standoff": 15
           },
           "zerolinecolor": "white",
           "zerolinewidth": 2
          }
         }
        },
        "xaxis": {
         "anchor": "y",
         "domain": [
          0,
          1
         ],
         "title": {
          "text": "x"
         }
        },
        "yaxis": {
         "anchor": "x",
         "domain": [
          0,
          1
         ],
         "title": {
          "text": "y"
         }
        }
       }
      },
      "text/html": [
       "<div>                            <div id=\"07534967-e51f-4e65-bc5f-1cc7560966e9\" class=\"plotly-graph-div\" style=\"height:525px; width:100%;\"></div>            <script type=\"text/javascript\">                require([\"plotly\"], function(Plotly) {                    window.PLOTLYENV=window.PLOTLYENV || {};                                    if (document.getElementById(\"07534967-e51f-4e65-bc5f-1cc7560966e9\")) {                    Plotly.newPlot(                        \"07534967-e51f-4e65-bc5f-1cc7560966e9\",                        [{\"hovertemplate\":\"color=M<br>x=%{x}<br>y=%{y}<br>size=%{marker.size}<extra></extra>\",\"legendgroup\":\"M\",\"marker\":{\"color\":\"#636efa\",\"size\":[69,123,35,15,128,30,79,78,195],\"sizemode\":\"area\",\"sizeref\":0.815,\"symbol\":\"circle\"},\"mode\":\"markers\",\"name\":\"M\",\"orientation\":\"v\",\"showlegend\":true,\"type\":\"scatter\",\"x\":[\"2021-11-01T00:00:00\",\"2021-11-10T00:00:00\",\"2021-11-12T00:00:00\",\"2021-11-13T00:00:00\",\"2021-11-17T00:00:00\",\"2021-11-18T00:00:00\",\"2021-11-19T00:00:00\",\"2021-11-20T00:00:00\",\"2021-11-25T00:00:00\"],\"xaxis\":\"x\",\"y\":[69,123,35,15,128,30,79,78,195],\"yaxis\":\"y\"},{\"hovertemplate\":\"color=N<br>x=%{x}<br>y=%{y}<br>size=%{marker.size}<extra></extra>\",\"legendgroup\":\"N\",\"marker\":{\"color\":\"#EF553B\",\"size\":[40],\"sizemode\":\"area\",\"sizeref\":0.815,\"symbol\":\"circle\"},\"mode\":\"markers\",\"name\":\"N\",\"orientation\":\"v\",\"showlegend\":true,\"type\":\"scatter\",\"x\":[\"2021-11-01T00:00:00\"],\"xaxis\":\"x\",\"y\":[40],\"yaxis\":\"y\"},{\"hovertemplate\":\"color=C<br>x=%{x}<br>y=%{y}<br>size=%{marker.size}<extra></extra>\",\"legendgroup\":\"C\",\"marker\":{\"color\":\"#00cc96\",\"size\":[50,18,12,26,66,11,84,20,44,18,60],\"sizemode\":\"area\",\"sizeref\":0.815,\"symbol\":\"circle\"},\"mode\":\"markers\",\"name\":\"C\",\"orientation\":\"v\",\"showlegend\":true,\"type\":\"scatter\",\"x\":[\"2021-11-02T00:00:00\",\"2021-11-09T00:00:00\",\"2021-11-11T00:00:00\",\"2021-11-13T00:00:00\",\"2021-11-15T00:00:00\",\"2021-11-16T00:00:00\",\"2021-11-19T00:00:00\",\"2021-11-22T00:00:00\",\"2021-11-23T00:00:00\",\"2021-11-25T00:00:00\",\"2021-11-27T00:00:00\"],\"xaxis\":\"x\",\"y\":[50,18,12,26,66,11,84,20,44,18,60],\"yaxis\":\"y\"},{\"hovertemplate\":\"color=G<br>x=%{x}<br>y=%{y}<br>size=%{marker.size}<extra></extra>\",\"legendgroup\":\"G\",\"marker\":{\"color\":\"#ab63fa\",\"size\":[126,52,25,108],\"sizemode\":\"area\",\"sizeref\":0.815,\"symbol\":\"circle\"},\"mode\":\"markers\",\"name\":\"G\",\"orientation\":\"v\",\"showlegend\":true,\"type\":\"scatter\",\"x\":[\"2021-11-02T00:00:00\",\"2021-11-10T00:00:00\",\"2021-11-12T00:00:00\",\"2021-11-20T00:00:00\"],\"xaxis\":\"x\",\"y\":[126,52,25,108],\"yaxis\":\"y\"},{\"hovertemplate\":\"color=T<br>x=%{x}<br>y=%{y}<br>size=%{marker.size}<extra></extra>\",\"legendgroup\":\"T\",\"marker\":{\"color\":\"#FFA15A\",\"size\":[251,316,87],\"sizemode\":\"area\",\"sizeref\":0.815,\"symbol\":\"circle\"},\"mode\":\"markers\",\"name\":\"T\",\"orientation\":\"v\",\"showlegend\":true,\"type\":\"scatter\",\"x\":[\"2021-11-02T00:00:00\",\"2021-11-24T00:00:00\",\"2021-11-30T00:00:00\"],\"xaxis\":\"x\",\"y\":[251,316,87],\"yaxis\":\"y\"},{\"hovertemplate\":\"color=B<br>x=%{x}<br>y=%{y}<br>size=%{marker.size}<extra></extra>\",\"legendgroup\":\"B\",\"marker\":{\"color\":\"#19d3f3\",\"size\":[147,82,39,32,60,30,35],\"sizemode\":\"area\",\"sizeref\":0.815,\"symbol\":\"circle\"},\"mode\":\"markers\",\"name\":\"B\",\"orientation\":\"v\",\"showlegend\":true,\"type\":\"scatter\",\"x\":[\"2021-11-03T00:00:00\",\"2021-11-09T00:00:00\",\"2021-11-13T00:00:00\",\"2021-11-15T00:00:00\",\"2021-11-16T00:00:00\",\"2021-11-23T00:00:00\",\"2021-11-27T00:00:00\"],\"xaxis\":\"x\",\"y\":[147,82,39,32,60,30,35],\"yaxis\":\"y\"},{\"hovertemplate\":\"color=L<br>x=%{x}<br>y=%{y}<br>size=%{marker.size}<extra></extra>\",\"legendgroup\":\"L\",\"marker\":{\"color\":\"#FF6692\",\"size\":[51,178,67,27],\"sizemode\":\"area\",\"sizeref\":0.815,\"symbol\":\"circle\"},\"mode\":\"markers\",\"name\":\"L\",\"orientation\":\"v\",\"showlegend\":true,\"type\":\"scatter\",\"x\":[\"2021-11-03T00:00:00\",\"2021-11-12T00:00:00\",\"2021-11-25T00:00:00\",\"2021-11-30T00:00:00\"],\"xaxis\":\"x\",\"y\":[51,178,67,27],\"yaxis\":\"y\"},{\"hovertemplate\":\"color=F<br>x=%{x}<br>y=%{y}<br>size=%{marker.size}<extra></extra>\",\"legendgroup\":\"F\",\"marker\":{\"color\":\"#B6E880\",\"size\":[17,323,90,78,100,62,40,176,100],\"sizemode\":\"area\",\"sizeref\":0.815,\"symbol\":\"circle\"},\"mode\":\"markers\",\"name\":\"F\",\"orientation\":\"v\",\"showlegend\":true,\"type\":\"scatter\",\"x\":[\"2021-11-03T00:00:00\",\"2021-11-08T00:00:00\",\"2021-11-09T00:00:00\",\"2021-11-11T00:00:00\",\"2021-11-22T00:00:00\",\"2021-11-23T00:00:00\",\"2021-11-27T00:00:00\",\"2021-11-29T00:00:00\",\"2021-11-30T00:00:00\"],\"xaxis\":\"x\",\"y\":[17,323,90,78,100,62,40,176,100],\"yaxis\":\"y\"},{\"hovertemplate\":\"color=A<br>x=%{x}<br>y=%{y}<br>size=%{marker.size}<extra></extra>\",\"legendgroup\":\"A\",\"marker\":{\"color\":\"#FF97FF\",\"size\":[72],\"sizemode\":\"area\",\"sizeref\":0.815,\"symbol\":\"circle\"},\"mode\":\"markers\",\"name\":\"A\",\"orientation\":\"v\",\"showlegend\":true,\"type\":\"scatter\",\"x\":[\"2021-11-08T00:00:00\"],\"xaxis\":\"x\",\"y\":[72],\"yaxis\":\"y\"},{\"hovertemplate\":\"color=Q<br>x=%{x}<br>y=%{y}<br>size=%{marker.size}<extra></extra>\",\"legendgroup\":\"Q\",\"marker\":{\"color\":\"#FECB52\",\"size\":[200],\"sizemode\":\"area\",\"sizeref\":0.815,\"symbol\":\"circle\"},\"mode\":\"markers\",\"name\":\"Q\",\"orientation\":\"v\",\"showlegend\":true,\"type\":\"scatter\",\"x\":[\"2021-11-09T00:00:00\"],\"xaxis\":\"x\",\"y\":[200],\"yaxis\":\"y\"},{\"hovertemplate\":\"color=O<br>x=%{x}<br>y=%{y}<br>size=%{marker.size}<extra></extra>\",\"legendgroup\":\"O\",\"marker\":{\"color\":\"#636efa\",\"size\":[138],\"sizemode\":\"area\",\"sizeref\":0.815,\"symbol\":\"circle\"},\"mode\":\"markers\",\"name\":\"O\",\"orientation\":\"v\",\"showlegend\":true,\"type\":\"scatter\",\"x\":[\"2021-11-10T00:00:00\"],\"xaxis\":\"x\",\"y\":[138],\"yaxis\":\"y\"},{\"hovertemplate\":\"color=J<br>x=%{x}<br>y=%{y}<br>size=%{marker.size}<extra></extra>\",\"legendgroup\":\"J\",\"marker\":{\"color\":\"#EF553B\",\"size\":[15,52,29],\"sizemode\":\"area\",\"sizeref\":0.815,\"symbol\":\"circle\"},\"mode\":\"markers\",\"name\":\"J\",\"orientation\":\"v\",\"showlegend\":true,\"type\":\"scatter\",\"x\":[\"2021-11-10T00:00:00\",\"2021-11-12T00:00:00\",\"2021-11-16T00:00:00\"],\"xaxis\":\"x\",\"y\":[15,52,29],\"yaxis\":\"y\"},{\"hovertemplate\":\"color=P<br>x=%{x}<br>y=%{y}<br>size=%{marker.size}<extra></extra>\",\"legendgroup\":\"P\",\"marker\":{\"color\":\"#00cc96\",\"size\":[59],\"sizemode\":\"area\",\"sizeref\":0.815,\"symbol\":\"circle\"},\"mode\":\"markers\",\"name\":\"P\",\"orientation\":\"v\",\"showlegend\":true,\"type\":\"scatter\",\"x\":[\"2021-11-12T00:00:00\"],\"xaxis\":\"x\",\"y\":[59],\"yaxis\":\"y\"},{\"hovertemplate\":\"color=H<br>x=%{x}<br>y=%{y}<br>size=%{marker.size}<extra></extra>\",\"legendgroup\":\"H\",\"marker\":{\"color\":\"#ab63fa\",\"size\":[108,155],\"sizemode\":\"area\",\"sizeref\":0.815,\"symbol\":\"circle\"},\"mode\":\"markers\",\"name\":\"H\",\"orientation\":\"v\",\"showlegend\":true,\"type\":\"scatter\",\"x\":[\"2021-11-13T00:00:00\",\"2021-11-20T00:00:00\"],\"xaxis\":\"x\",\"y\":[108,155],\"yaxis\":\"y\"},{\"hovertemplate\":\"color=K<br>x=%{x}<br>y=%{y}<br>size=%{marker.size}<extra></extra>\",\"legendgroup\":\"K\",\"marker\":{\"color\":\"#FFA15A\",\"size\":[17,64,110],\"sizemode\":\"area\",\"sizeref\":0.815,\"symbol\":\"circle\"},\"mode\":\"markers\",\"name\":\"K\",\"orientation\":\"v\",\"showlegend\":true,\"type\":\"scatter\",\"x\":[\"2021-11-13T00:00:00\",\"2021-11-24T00:00:00\",\"2021-11-25T00:00:00\"],\"xaxis\":\"x\",\"y\":[17,64,110],\"yaxis\":\"y\"},{\"hovertemplate\":\"color=R<br>x=%{x}<br>y=%{y}<br>size=%{marker.size}<extra></extra>\",\"legendgroup\":\"R\",\"marker\":{\"color\":\"#19d3f3\",\"size\":[263,80,76],\"sizemode\":\"area\",\"sizeref\":0.815,\"symbol\":\"circle\"},\"mode\":\"markers\",\"name\":\"R\",\"orientation\":\"v\",\"showlegend\":true,\"type\":\"scatter\",\"x\":[\"2021-11-16T00:00:00\",\"2021-11-17T00:00:00\",\"2021-11-19T00:00:00\"],\"xaxis\":\"x\",\"y\":[263,80,76],\"yaxis\":\"y\"},{\"hovertemplate\":\"color=I<br>x=%{x}<br>y=%{y}<br>size=%{marker.size}<extra></extra>\",\"legendgroup\":\"I\",\"marker\":{\"color\":\"#FF6692\",\"size\":[326],\"sizemode\":\"area\",\"sizeref\":0.815,\"symbol\":\"circle\"},\"mode\":\"markers\",\"name\":\"I\",\"orientation\":\"v\",\"showlegend\":true,\"type\":\"scatter\",\"x\":[\"2021-11-18T00:00:00\"],\"xaxis\":\"x\",\"y\":[326],\"yaxis\":\"y\"},{\"hovertemplate\":\"color=E<br>x=%{x}<br>y=%{y}<br>size=%{marker.size}<extra></extra>\",\"legendgroup\":\"E\",\"marker\":{\"color\":\"#B6E880\",\"size\":[51,13],\"sizemode\":\"area\",\"sizeref\":0.815,\"symbol\":\"circle\"},\"mode\":\"markers\",\"name\":\"E\",\"orientation\":\"v\",\"showlegend\":true,\"type\":\"scatter\",\"x\":[\"2021-11-23T00:00:00\",\"2021-11-27T00:00:00\"],\"xaxis\":\"x\",\"y\":[51,13],\"yaxis\":\"y\"}],                        {\"legend\":{\"itemsizing\":\"constant\",\"title\":{\"text\":\"color\"},\"tracegroupgap\":0},\"margin\":{\"t\":60},\"template\":{\"data\":{\"bar\":[{\"error_x\":{\"color\":\"#2a3f5f\"},\"error_y\":{\"color\":\"#2a3f5f\"},\"marker\":{\"line\":{\"color\":\"#E5ECF6\",\"width\":0.5},\"pattern\":{\"fillmode\":\"overlay\",\"size\":10,\"solidity\":0.2}},\"type\":\"bar\"}],\"barpolar\":[{\"marker\":{\"line\":{\"color\":\"#E5ECF6\",\"width\":0.5},\"pattern\":{\"fillmode\":\"overlay\",\"size\":10,\"solidity\":0.2}},\"type\":\"barpolar\"}],\"carpet\":[{\"aaxis\":{\"endlinecolor\":\"#2a3f5f\",\"gridcolor\":\"white\",\"linecolor\":\"white\",\"minorgridcolor\":\"white\",\"startlinecolor\":\"#2a3f5f\"},\"baxis\":{\"endlinecolor\":\"#2a3f5f\",\"gridcolor\":\"white\",\"linecolor\":\"white\",\"minorgridcolor\":\"white\",\"startlinecolor\":\"#2a3f5f\"},\"type\":\"carpet\"}],\"choropleth\":[{\"colorbar\":{\"outlinewidth\":0,\"ticks\":\"\"},\"type\":\"choropleth\"}],\"contour\":[{\"colorbar\":{\"outlinewidth\":0,\"ticks\":\"\"},\"colorscale\":[[0.0,\"#0d0887\"],[0.1111111111111111,\"#46039f\"],[0.2222222222222222,\"#7201a8\"],[0.3333333333333333,\"#9c179e\"],[0.4444444444444444,\"#bd3786\"],[0.5555555555555556,\"#d8576b\"],[0.6666666666666666,\"#ed7953\"],[0.7777777777777778,\"#fb9f3a\"],[0.8888888888888888,\"#fdca26\"],[1.0,\"#f0f921\"]],\"type\":\"contour\"}],\"contourcarpet\":[{\"colorbar\":{\"outlinewidth\":0,\"ticks\":\"\"},\"type\":\"contourcarpet\"}],\"heatmap\":[{\"colorbar\":{\"outlinewidth\":0,\"ticks\":\"\"},\"colorscale\":[[0.0,\"#0d0887\"],[0.1111111111111111,\"#46039f\"],[0.2222222222222222,\"#7201a8\"],[0.3333333333333333,\"#9c179e\"],[0.4444444444444444,\"#bd3786\"],[0.5555555555555556,\"#d8576b\"],[0.6666666666666666,\"#ed7953\"],[0.7777777777777778,\"#fb9f3a\"],[0.8888888888888888,\"#fdca26\"],[1.0,\"#f0f921\"]],\"type\":\"heatmap\"}],\"heatmapgl\":[{\"colorbar\":{\"outlinewidth\":0,\"ticks\":\"\"},\"colorscale\":[[0.0,\"#0d0887\"],[0.1111111111111111,\"#46039f\"],[0.2222222222222222,\"#7201a8\"],[0.3333333333333333,\"#9c179e\"],[0.4444444444444444,\"#bd3786\"],[0.5555555555555556,\"#d8576b\"],[0.6666666666666666,\"#ed7953\"],[0.7777777777777778,\"#fb9f3a\"],[0.8888888888888888,\"#fdca26\"],[1.0,\"#f0f921\"]],\"type\":\"heatmapgl\"}],\"histogram\":[{\"marker\":{\"pattern\":{\"fillmode\":\"overlay\",\"size\":10,\"solidity\":0.2}},\"type\":\"histogram\"}],\"histogram2d\":[{\"colorbar\":{\"outlinewidth\":0,\"ticks\":\"\"},\"colorscale\":[[0.0,\"#0d0887\"],[0.1111111111111111,\"#46039f\"],[0.2222222222222222,\"#7201a8\"],[0.3333333333333333,\"#9c179e\"],[0.4444444444444444,\"#bd3786\"],[0.5555555555555556,\"#d8576b\"],[0.6666666666666666,\"#ed7953\"],[0.7777777777777778,\"#fb9f3a\"],[0.8888888888888888,\"#fdca26\"],[1.0,\"#f0f921\"]],\"type\":\"histogram2d\"}],\"histogram2dcontour\":[{\"colorbar\":{\"outlinewidth\":0,\"ticks\":\"\"},\"colorscale\":[[0.0,\"#0d0887\"],[0.1111111111111111,\"#46039f\"],[0.2222222222222222,\"#7201a8\"],[0.3333333333333333,\"#9c179e\"],[0.4444444444444444,\"#bd3786\"],[0.5555555555555556,\"#d8576b\"],[0.6666666666666666,\"#ed7953\"],[0.7777777777777778,\"#fb9f3a\"],[0.8888888888888888,\"#fdca26\"],[1.0,\"#f0f921\"]],\"type\":\"histogram2dcontour\"}],\"mesh3d\":[{\"colorbar\":{\"outlinewidth\":0,\"ticks\":\"\"},\"type\":\"mesh3d\"}],\"parcoords\":[{\"line\":{\"colorbar\":{\"outlinewidth\":0,\"ticks\":\"\"}},\"type\":\"parcoords\"}],\"pie\":[{\"automargin\":true,\"type\":\"pie\"}],\"scatter\":[{\"marker\":{\"colorbar\":{\"outlinewidth\":0,\"ticks\":\"\"}},\"type\":\"scatter\"}],\"scatter3d\":[{\"line\":{\"colorbar\":{\"outlinewidth\":0,\"ticks\":\"\"}},\"marker\":{\"colorbar\":{\"outlinewidth\":0,\"ticks\":\"\"}},\"type\":\"scatter3d\"}],\"scattercarpet\":[{\"marker\":{\"colorbar\":{\"outlinewidth\":0,\"ticks\":\"\"}},\"type\":\"scattercarpet\"}],\"scattergeo\":[{\"marker\":{\"colorbar\":{\"outlinewidth\":0,\"ticks\":\"\"}},\"type\":\"scattergeo\"}],\"scattergl\":[{\"marker\":{\"colorbar\":{\"outlinewidth\":0,\"ticks\":\"\"}},\"type\":\"scattergl\"}],\"scattermapbox\":[{\"marker\":{\"colorbar\":{\"outlinewidth\":0,\"ticks\":\"\"}},\"type\":\"scattermapbox\"}],\"scatterpolar\":[{\"marker\":{\"colorbar\":{\"outlinewidth\":0,\"ticks\":\"\"}},\"type\":\"scatterpolar\"}],\"scatterpolargl\":[{\"marker\":{\"colorbar\":{\"outlinewidth\":0,\"ticks\":\"\"}},\"type\":\"scatterpolargl\"}],\"scatterternary\":[{\"marker\":{\"colorbar\":{\"outlinewidth\":0,\"ticks\":\"\"}},\"type\":\"scatterternary\"}],\"surface\":[{\"colorbar\":{\"outlinewidth\":0,\"ticks\":\"\"},\"colorscale\":[[0.0,\"#0d0887\"],[0.1111111111111111,\"#46039f\"],[0.2222222222222222,\"#7201a8\"],[0.3333333333333333,\"#9c179e\"],[0.4444444444444444,\"#bd3786\"],[0.5555555555555556,\"#d8576b\"],[0.6666666666666666,\"#ed7953\"],[0.7777777777777778,\"#fb9f3a\"],[0.8888888888888888,\"#fdca26\"],[1.0,\"#f0f921\"]],\"type\":\"surface\"}],\"table\":[{\"cells\":{\"fill\":{\"color\":\"#EBF0F8\"},\"line\":{\"color\":\"white\"}},\"header\":{\"fill\":{\"color\":\"#C8D4E3\"},\"line\":{\"color\":\"white\"}},\"type\":\"table\"}]},\"layout\":{\"annotationdefaults\":{\"arrowcolor\":\"#2a3f5f\",\"arrowhead\":0,\"arrowwidth\":1},\"autotypenumbers\":\"strict\",\"coloraxis\":{\"colorbar\":{\"outlinewidth\":0,\"ticks\":\"\"}},\"colorscale\":{\"diverging\":[[0,\"#8e0152\"],[0.1,\"#c51b7d\"],[0.2,\"#de77ae\"],[0.3,\"#f1b6da\"],[0.4,\"#fde0ef\"],[0.5,\"#f7f7f7\"],[0.6,\"#e6f5d0\"],[0.7,\"#b8e186\"],[0.8,\"#7fbc41\"],[0.9,\"#4d9221\"],[1,\"#276419\"]],\"sequential\":[[0.0,\"#0d0887\"],[0.1111111111111111,\"#46039f\"],[0.2222222222222222,\"#7201a8\"],[0.3333333333333333,\"#9c179e\"],[0.4444444444444444,\"#bd3786\"],[0.5555555555555556,\"#d8576b\"],[0.6666666666666666,\"#ed7953\"],[0.7777777777777778,\"#fb9f3a\"],[0.8888888888888888,\"#fdca26\"],[1.0,\"#f0f921\"]],\"sequentialminus\":[[0.0,\"#0d0887\"],[0.1111111111111111,\"#46039f\"],[0.2222222222222222,\"#7201a8\"],[0.3333333333333333,\"#9c179e\"],[0.4444444444444444,\"#bd3786\"],[0.5555555555555556,\"#d8576b\"],[0.6666666666666666,\"#ed7953\"],[0.7777777777777778,\"#fb9f3a\"],[0.8888888888888888,\"#fdca26\"],[1.0,\"#f0f921\"]]},\"colorway\":[\"#636efa\",\"#EF553B\",\"#00cc96\",\"#ab63fa\",\"#FFA15A\",\"#19d3f3\",\"#FF6692\",\"#B6E880\",\"#FF97FF\",\"#FECB52\"],\"font\":{\"color\":\"#2a3f5f\"},\"geo\":{\"bgcolor\":\"white\",\"lakecolor\":\"white\",\"landcolor\":\"#E5ECF6\",\"showlakes\":true,\"showland\":true,\"subunitcolor\":\"white\"},\"hoverlabel\":{\"align\":\"left\"},\"hovermode\":\"closest\",\"mapbox\":{\"style\":\"light\"},\"paper_bgcolor\":\"white\",\"plot_bgcolor\":\"#E5ECF6\",\"polar\":{\"angularaxis\":{\"gridcolor\":\"white\",\"linecolor\":\"white\",\"ticks\":\"\"},\"bgcolor\":\"#E5ECF6\",\"radialaxis\":{\"gridcolor\":\"white\",\"linecolor\":\"white\",\"ticks\":\"\"}},\"scene\":{\"xaxis\":{\"backgroundcolor\":\"#E5ECF6\",\"gridcolor\":\"white\",\"gridwidth\":2,\"linecolor\":\"white\",\"showbackground\":true,\"ticks\":\"\",\"zerolinecolor\":\"white\"},\"yaxis\":{\"backgroundcolor\":\"#E5ECF6\",\"gridcolor\":\"white\",\"gridwidth\":2,\"linecolor\":\"white\",\"showbackground\":true,\"ticks\":\"\",\"zerolinecolor\":\"white\"},\"zaxis\":{\"backgroundcolor\":\"#E5ECF6\",\"gridcolor\":\"white\",\"gridwidth\":2,\"linecolor\":\"white\",\"showbackground\":true,\"ticks\":\"\",\"zerolinecolor\":\"white\"}},\"shapedefaults\":{\"line\":{\"color\":\"#2a3f5f\"}},\"ternary\":{\"aaxis\":{\"gridcolor\":\"white\",\"linecolor\":\"white\",\"ticks\":\"\"},\"baxis\":{\"gridcolor\":\"white\",\"linecolor\":\"white\",\"ticks\":\"\"},\"bgcolor\":\"#E5ECF6\",\"caxis\":{\"gridcolor\":\"white\",\"linecolor\":\"white\",\"ticks\":\"\"}},\"title\":{\"x\":0.05},\"xaxis\":{\"automargin\":true,\"gridcolor\":\"white\",\"linecolor\":\"white\",\"ticks\":\"\",\"title\":{\"standoff\":15},\"zerolinecolor\":\"white\",\"zerolinewidth\":2},\"yaxis\":{\"automargin\":true,\"gridcolor\":\"white\",\"linecolor\":\"white\",\"ticks\":\"\",\"title\":{\"standoff\":15},\"zerolinecolor\":\"white\",\"zerolinewidth\":2}}},\"xaxis\":{\"anchor\":\"y\",\"domain\":[0.0,1.0],\"title\":{\"text\":\"x\"}},\"yaxis\":{\"anchor\":\"x\",\"domain\":[0.0,1.0],\"title\":{\"text\":\"y\"}}},                        {\"responsive\": true}                    ).then(function(){\n",
       "                            \n",
       "var gd = document.getElementById('07534967-e51f-4e65-bc5f-1cc7560966e9');\n",
       "var x = new MutationObserver(function (mutations, observer) {{\n",
       "        var display = window.getComputedStyle(gd).display;\n",
       "        if (!display || display === 'none') {{\n",
       "            console.log([gd, 'removed!']);\n",
       "            Plotly.purge(gd);\n",
       "            observer.disconnect();\n",
       "        }}\n",
       "}});\n",
       "\n",
       "// Listen for the removal of the full notebook cells\n",
       "var notebookContainer = gd.closest('#notebook-container');\n",
       "if (notebookContainer) {{\n",
       "    x.observe(notebookContainer, {childList: true});\n",
       "}}\n",
       "\n",
       "// Listen for the clearing of the current output cell\n",
       "var outputEl = gd.closest('.output');\n",
       "if (outputEl) {{\n",
       "    x.observe(outputEl, {childList: true});\n",
       "}}\n",
       "\n",
       "                        })                };                });            </script>        </div>"
      ]
     },
     "metadata": {},
     "output_type": "display_data"
    }
   ],
   "source": [
    "fig = px.scatter( x=data_nov[\"Date\"], y=data_nov[\"Quantity Sold Kgs\"],\n",
    "\t         size=data_nov[\"Quantity Sold Kgs\"], color=data_nov[\"Size\"])\n",
    "fig.show()"
   ]
  },
  {
   "cell_type": "code",
   "execution_count": 200,
   "metadata": {},
   "outputs": [
    {
     "name": "stdout",
     "output_type": "stream",
     "text": [
      "6\n",
      "5\n",
      "5\n",
      "5\n",
      "4\n",
      "4\n",
      "4\n",
      "4\n",
      "4\n",
      "4\n",
      "4\n",
      "4\n",
      "3\n",
      "3\n",
      "3\n",
      "3\n",
      "3\n",
      "3\n",
      "3\n",
      "3\n",
      "3\n",
      "3\n",
      "3\n",
      "3\n",
      "2\n",
      "2\n",
      "2\n",
      "2\n",
      "2\n",
      "2\n",
      "2\n",
      "2\n",
      "2\n",
      "2\n",
      "2\n",
      "2\n",
      "2\n",
      "2\n",
      "2\n",
      "2\n",
      "2\n",
      "2\n",
      "2\n",
      "2\n",
      "2\n",
      "2\n",
      "2\n",
      "2\n",
      "2\n",
      "2\n",
      "2\n",
      "1\n",
      "1\n",
      "1\n",
      "1\n",
      "1\n",
      "1\n",
      "1\n",
      "1\n",
      "1\n",
      "1\n",
      "1\n",
      "1\n",
      "1\n",
      "1\n",
      "1\n",
      "1\n",
      "1\n",
      "1\n",
      "1\n",
      "1\n",
      "1\n",
      "1\n",
      "1\n",
      "1\n",
      "1\n",
      "1\n",
      "1\n",
      "1\n",
      "1\n",
      "1\n",
      "1\n",
      "1\n",
      "1\n",
      "1\n",
      "1\n",
      "1\n",
      "1\n",
      "1\n",
      "1\n",
      "1\n",
      "1\n",
      "1\n",
      "1\n",
      "1\n",
      "1\n",
      "1\n",
      "1\n",
      "1\n",
      "1\n",
      "1\n",
      "1\n",
      "1\n",
      "1\n",
      "1\n",
      "1\n",
      "1\n",
      "1\n",
      "1\n",
      "1\n",
      "1\n",
      "1\n",
      "1\n",
      "1\n",
      "1\n",
      "1\n",
      "1\n",
      "1\n",
      "1\n",
      "1\n",
      "1\n",
      "1\n",
      "1\n"
     ]
    }
   ],
   "source": [
    "for i in data[\"Quantity Sold Kgs\"].value_counts():\n",
    "    print(i)"
   ]
  },
  {
   "cell_type": "code",
   "execution_count": 636,
   "metadata": {},
   "outputs": [
    {
     "data": {
      "application/vnd.plotly.v1+json": {
       "config": {
        "plotlyServerURL": "https://plot.ly"
       },
       "data": [
        {
         "hovertemplate": "Date=%{x}<br>Quantity Sold Kgs=%{marker.color}<br>Size=%{text}<extra></extra>",
         "legendgroup": "",
         "marker": {
          "color": [
           187,
           146,
           18,
           87,
           5,
           36,
           100,
           105,
           397,
           15,
           266,
           43,
           104,
           114,
           151,
           64,
           76,
           89,
           226,
           36,
           27,
           120,
           42,
           95,
           144,
           222,
           45,
           121,
           32,
           40,
           38,
           9,
           58,
           26,
           16,
           20,
           170,
           6,
           62,
           130,
           41,
           107,
           201,
           70,
           20,
           49,
           60,
           198,
           67,
           30,
           35,
           31,
           42,
           106,
           13,
           30,
           82,
           127,
           65,
           93,
           256,
           108,
           150,
           153,
           69,
           40,
           50,
           126,
           251,
           147,
           51,
           17,
           323,
           72,
           90,
           18,
           200,
           82,
           138,
           123,
           52,
           15,
           12,
           78,
           35,
           178,
           59,
           25,
           52,
           15,
           26,
           39,
           108,
           17,
           32,
           66,
           263,
           60,
           29,
           11,
           80,
           128,
           326,
           30,
           79,
           84,
           76,
           78,
           108,
           155,
           100,
           20,
           62,
           30,
           44,
           51,
           316,
           64,
           67,
           195,
           18,
           110,
           60,
           40,
           35,
           13,
           176,
           100,
           27,
           87,
           35,
           80,
           264,
           105,
           28,
           277,
           60,
           20,
           10,
           79,
           60,
           100,
           223,
           107,
           72,
           201,
           16,
           25,
           180,
           65,
           281,
           93,
           32,
           244,
           58,
           40,
           38,
           161,
           11,
           6,
           50,
           137,
           90,
           38,
           48,
           20,
           25,
           120,
           7,
           50,
           16,
           108,
           9,
           18,
           133,
           25,
           8,
           17,
           200,
           281,
           79,
           26,
           325,
           60,
           29,
           83,
           36,
           295,
           11,
           5,
           136,
           98,
           200,
           73,
           112,
           26,
           76,
           11,
           6,
           33,
           48,
           63,
           80,
           72,
           18,
           54,
           80,
           77,
           55,
           100,
           55,
           144,
           61,
           192,
           8
          ],
          "coloraxis": "coloraxis",
          "size": [
           187,
           146,
           18,
           87,
           5,
           36,
           100,
           105,
           397,
           15,
           266,
           43,
           104,
           114,
           151,
           64,
           76,
           89,
           226,
           36,
           27,
           120,
           42,
           95,
           144,
           222,
           45,
           121,
           32,
           40,
           38,
           9,
           58,
           26,
           16,
           20,
           170,
           6,
           62,
           130,
           41,
           107,
           201,
           70,
           20,
           49,
           60,
           198,
           67,
           30,
           35,
           31,
           42,
           106,
           13,
           30,
           82,
           127,
           65,
           93,
           256,
           108,
           150,
           153,
           69,
           40,
           50,
           126,
           251,
           147,
           51,
           17,
           323,
           72,
           90,
           18,
           200,
           82,
           138,
           123,
           52,
           15,
           12,
           78,
           35,
           178,
           59,
           25,
           52,
           15,
           26,
           39,
           108,
           17,
           32,
           66,
           263,
           60,
           29,
           11,
           80,
           128,
           326,
           30,
           79,
           84,
           76,
           78,
           108,
           155,
           100,
           20,
           62,
           30,
           44,
           51,
           316,
           64,
           67,
           195,
           18,
           110,
           60,
           40,
           35,
           13,
           176,
           100,
           27,
           87,
           35,
           80,
           264,
           105,
           28,
           277,
           60,
           20,
           10,
           79,
           60,
           100,
           223,
           107,
           72,
           201,
           16,
           25,
           180,
           65,
           281,
           93,
           32,
           244,
           58,
           40,
           38,
           161,
           11,
           6,
           50,
           137,
           90,
           38,
           48,
           20,
           25,
           120,
           7,
           50,
           16,
           108,
           9,
           18,
           133,
           25,
           8,
           17,
           200,
           281,
           79,
           26,
           325,
           60,
           29,
           83,
           36,
           295,
           11,
           5,
           136,
           98,
           200,
           73,
           112,
           26,
           76,
           11,
           6,
           33,
           48,
           63,
           80,
           72,
           18,
           54,
           80,
           77,
           55,
           100,
           55,
           144,
           61,
           192,
           8
          ],
          "sizemode": "area",
          "sizeref": 0.9925,
          "symbol": "circle"
         },
         "mode": "markers+text",
         "name": "",
         "orientation": "v",
         "showlegend": false,
         "text": [
          "F",
          "L",
          "E",
          "S",
          "M",
          "A",
          "L",
          "F",
          "M",
          "S",
          "D",
          "G",
          "M",
          "K",
          "M",
          "F",
          "C",
          "M",
          "Q",
          "M",
          "C",
          "E",
          "F",
          "Q",
          "K",
          "Q",
          "G",
          "K",
          "B",
          "M",
          "G",
          "E",
          "M",
          "E",
          "G",
          "L",
          "F",
          "G",
          "E",
          "F",
          "R",
          "M",
          "S",
          "F",
          "A",
          "M",
          "F",
          "E",
          "Q",
          "E",
          "F",
          "S",
          "F",
          "E",
          "G",
          "C",
          "K",
          "N",
          "G",
          "D",
          "N",
          "K",
          "G",
          "L",
          "M",
          "N",
          "C",
          "G",
          "T",
          "B",
          "L",
          "F",
          "F",
          "A",
          "F",
          "C",
          "Q",
          "B",
          "O",
          "M",
          "G",
          "J",
          "C",
          "F",
          "M",
          "L",
          "P",
          "G",
          "J",
          "M",
          "C",
          "B",
          "H",
          "K",
          "B",
          "C",
          "R",
          "B",
          "J",
          "C",
          "R",
          "M",
          "I",
          "M",
          "M",
          "C",
          "R",
          "M",
          "G",
          "H",
          "F",
          "C",
          "F",
          "B",
          "C",
          "E",
          "T",
          "K",
          "L",
          "M",
          "C",
          "K",
          "C",
          "F",
          "B",
          "E",
          "F",
          "F",
          "L",
          "T",
          "C",
          "F",
          "N",
          "G",
          "A",
          "J",
          "F",
          "B",
          "M",
          "F",
          "E",
          "I",
          "H",
          "O",
          "E",
          "S",
          "F",
          "E",
          "L",
          "H",
          "S",
          "B",
          "E",
          "H",
          "K",
          "C",
          "R",
          "P",
          "K",
          "P",
          "B",
          "M",
          "C",
          "B",
          "F",
          "C",
          "A",
          "C",
          "O",
          "L",
          "Q",
          "R",
          "L",
          "I",
          "F",
          "B",
          "E",
          "M",
          "Q",
          "N",
          "S",
          "T",
          "J",
          "C",
          "B",
          "E",
          "O",
          "K",
          "E",
          "H",
          "P",
          "K",
          "F",
          "A",
          "C",
          "S",
          "E",
          "M",
          "B",
          "L",
          "F",
          "C",
          "G",
          "C",
          "F",
          "G",
          "C",
          "E",
          "K",
          "F",
          "L",
          "F",
          "H",
          "Q",
          "A"
         ],
         "type": "scatter",
         "x": [
          "2021-10-01T00:00:00",
          "2021-10-01T00:00:00",
          "2021-10-02T00:00:00",
          "2021-10-02T00:00:00",
          "2021-10-02T00:00:00",
          "2021-10-02T00:00:00",
          "2021-10-04T00:00:00",
          "2021-10-04T00:00:00",
          "2021-10-05T00:00:00",
          "2021-10-05T00:00:00",
          "2021-10-05T00:00:00",
          "2021-10-07T00:00:00",
          "2021-10-07T00:00:00",
          "2021-10-07T00:00:00",
          "2021-10-08T00:00:00",
          "2021-10-08T00:00:00",
          "2021-10-09T00:00:00",
          "2021-10-09T00:00:00",
          "2021-10-11T00:00:00",
          "2021-10-12T00:00:00",
          "2021-10-12T00:00:00",
          "2021-10-12T00:00:00",
          "2021-10-13T00:00:00",
          "2021-10-14T00:00:00",
          "2021-10-15T00:00:00",
          "2021-10-16T00:00:00",
          "2021-10-16T00:00:00",
          "2021-10-18T00:00:00",
          "2021-10-18T00:00:00",
          "2021-10-18T00:00:00",
          "2021-10-18T00:00:00",
          "2021-10-19T00:00:00",
          "2021-10-20T00:00:00",
          "2021-10-20T00:00:00",
          "2021-10-20T00:00:00",
          "2021-10-20T00:00:00",
          "2021-10-21T00:00:00",
          "2021-10-21T00:00:00",
          "2021-10-22T00:00:00",
          "2021-10-22T00:00:00",
          "2021-10-22T00:00:00",
          "2021-10-22T00:00:00",
          "2021-10-23T00:00:00",
          "2021-10-23T00:00:00",
          "2021-10-23T00:00:00",
          "2021-10-23T00:00:00",
          "2021-10-25T00:00:00",
          "2021-10-25T00:00:00",
          "2021-10-26T00:00:00",
          "2021-10-26T00:00:00",
          "2021-10-26T00:00:00",
          "2021-10-27T00:00:00",
          "2021-10-27T00:00:00",
          "2021-10-27T00:00:00",
          "2021-10-27T00:00:00",
          "2021-10-27T00:00:00",
          "2021-10-28T00:00:00",
          "2021-10-28T00:00:00",
          "2021-10-28T00:00:00",
          "2021-10-28T00:00:00",
          "2021-10-29T00:00:00",
          "2021-10-29T00:00:00",
          "2021-10-30T00:00:00",
          "2021-10-30T00:00:00",
          "2021-11-01T00:00:00",
          "2021-11-01T00:00:00",
          "2021-11-02T00:00:00",
          "2021-11-02T00:00:00",
          "2021-11-02T00:00:00",
          "2021-11-03T00:00:00",
          "2021-11-03T00:00:00",
          "2021-11-03T00:00:00",
          "2021-11-08T00:00:00",
          "2021-11-08T00:00:00",
          "2021-11-09T00:00:00",
          "2021-11-09T00:00:00",
          "2021-11-09T00:00:00",
          "2021-11-09T00:00:00",
          "2021-11-10T00:00:00",
          "2021-11-10T00:00:00",
          "2021-11-10T00:00:00",
          "2021-11-10T00:00:00",
          "2021-11-11T00:00:00",
          "2021-11-11T00:00:00",
          "2021-11-12T00:00:00",
          "2021-11-12T00:00:00",
          "2021-11-12T00:00:00",
          "2021-11-12T00:00:00",
          "2021-11-12T00:00:00",
          "2021-11-13T00:00:00",
          "2021-11-13T00:00:00",
          "2021-11-13T00:00:00",
          "2021-11-13T00:00:00",
          "2021-11-13T00:00:00",
          "2021-11-15T00:00:00",
          "2021-11-15T00:00:00",
          "2021-11-16T00:00:00",
          "2021-11-16T00:00:00",
          "2021-11-16T00:00:00",
          "2021-11-16T00:00:00",
          "2021-11-17T00:00:00",
          "2021-11-17T00:00:00",
          "2021-11-18T00:00:00",
          "2021-11-18T00:00:00",
          "2021-11-19T00:00:00",
          "2021-11-19T00:00:00",
          "2021-11-19T00:00:00",
          "2021-11-20T00:00:00",
          "2021-11-20T00:00:00",
          "2021-11-20T00:00:00",
          "2021-11-22T00:00:00",
          "2021-11-22T00:00:00",
          "2021-11-23T00:00:00",
          "2021-11-23T00:00:00",
          "2021-11-23T00:00:00",
          "2021-11-23T00:00:00",
          "2021-11-24T00:00:00",
          "2021-11-24T00:00:00",
          "2021-11-25T00:00:00",
          "2021-11-25T00:00:00",
          "2021-11-25T00:00:00",
          "2021-11-25T00:00:00",
          "2021-11-27T00:00:00",
          "2021-11-27T00:00:00",
          "2021-11-27T00:00:00",
          "2021-11-27T00:00:00",
          "2021-11-29T00:00:00",
          "2021-11-30T00:00:00",
          "2021-11-30T00:00:00",
          "2021-11-30T00:00:00",
          "2021-12-01T00:00:00",
          "2021-12-01T00:00:00",
          "2021-12-01T00:00:00",
          "2021-12-02T00:00:00",
          "2021-12-02T00:00:00",
          "2021-12-02T00:00:00",
          "2021-12-02T00:00:00",
          "2021-12-02T00:00:00",
          "2021-12-02T00:00:00",
          "2021-12-03T00:00:00",
          "2021-12-03T00:00:00",
          "2021-12-03T00:00:00",
          "2021-12-03T00:00:00",
          "2021-12-04T00:00:00",
          "2021-12-04T00:00:00",
          "2021-12-04T00:00:00",
          "2021-12-04T00:00:00",
          "2021-12-06T00:00:00",
          "2021-12-06T00:00:00",
          "2021-12-06T00:00:00",
          "2021-12-07T00:00:00",
          "2021-12-07T00:00:00",
          "2021-12-07T00:00:00",
          "2021-12-08T00:00:00",
          "2021-12-09T00:00:00",
          "2021-12-09T00:00:00",
          "2021-12-09T00:00:00",
          "2021-12-09T00:00:00",
          "2021-12-10T00:00:00",
          "2021-12-10T00:00:00",
          "2021-12-10T00:00:00",
          "2021-12-10T00:00:00",
          "2021-12-10T00:00:00",
          "2021-12-11T00:00:00",
          "2021-12-11T00:00:00",
          "2021-12-11T00:00:00",
          "2021-12-11T00:00:00",
          "2021-12-13T00:00:00",
          "2021-12-13T00:00:00",
          "2021-12-13T00:00:00",
          "2021-12-13T00:00:00",
          "2021-12-14T00:00:00",
          "2021-12-14T00:00:00",
          "2021-12-14T00:00:00",
          "2021-12-15T00:00:00",
          "2021-12-15T00:00:00",
          "2021-12-15T00:00:00",
          "2021-12-16T00:00:00",
          "2021-12-16T00:00:00",
          "2021-12-17T00:00:00",
          "2021-12-17T00:00:00",
          "2021-12-17T00:00:00",
          "2021-12-18T00:00:00",
          "2021-12-20T00:00:00",
          "2021-12-20T00:00:00",
          "2021-12-20T00:00:00",
          "2021-12-21T00:00:00",
          "2021-12-21T00:00:00",
          "2021-12-21T00:00:00",
          "2021-12-21T00:00:00",
          "2021-12-22T00:00:00",
          "2021-12-22T00:00:00",
          "2021-12-23T00:00:00",
          "2021-12-23T00:00:00",
          "2021-12-24T00:00:00",
          "2021-12-24T00:00:00",
          "2021-12-25T00:00:00",
          "2021-12-25T00:00:00",
          "2021-12-25T00:00:00",
          "2021-12-27T00:00:00",
          "2021-12-27T00:00:00",
          "2021-12-27T00:00:00",
          "2021-12-28T00:00:00",
          "2021-12-28T00:00:00",
          "2021-12-28T00:00:00",
          "2021-12-29T00:00:00",
          "2021-12-29T00:00:00",
          "2021-12-29T00:00:00",
          "2021-12-29T00:00:00",
          "2021-12-30T00:00:00",
          "2021-12-30T00:00:00",
          "2021-12-31T00:00:00",
          "2021-12-31T00:00:00",
          "2021-12-31T00:00:00",
          "2021-12-31T00:00:00"
         ],
         "xaxis": "x",
         "y": [
          187,
          146,
          18,
          87,
          5,
          36,
          100,
          105,
          397,
          15,
          266,
          43,
          104,
          114,
          151,
          64,
          76,
          89,
          226,
          36,
          27,
          120,
          42,
          95,
          144,
          222,
          45,
          121,
          32,
          40,
          38,
          9,
          58,
          26,
          16,
          20,
          170,
          6,
          62,
          130,
          41,
          107,
          201,
          70,
          20,
          49,
          60,
          198,
          67,
          30,
          35,
          31,
          42,
          106,
          13,
          30,
          82,
          127,
          65,
          93,
          256,
          108,
          150,
          153,
          69,
          40,
          50,
          126,
          251,
          147,
          51,
          17,
          323,
          72,
          90,
          18,
          200,
          82,
          138,
          123,
          52,
          15,
          12,
          78,
          35,
          178,
          59,
          25,
          52,
          15,
          26,
          39,
          108,
          17,
          32,
          66,
          263,
          60,
          29,
          11,
          80,
          128,
          326,
          30,
          79,
          84,
          76,
          78,
          108,
          155,
          100,
          20,
          62,
          30,
          44,
          51,
          316,
          64,
          67,
          195,
          18,
          110,
          60,
          40,
          35,
          13,
          176,
          100,
          27,
          87,
          35,
          80,
          264,
          105,
          28,
          277,
          60,
          20,
          10,
          79,
          60,
          100,
          223,
          107,
          72,
          201,
          16,
          25,
          180,
          65,
          281,
          93,
          32,
          244,
          58,
          40,
          38,
          161,
          11,
          6,
          50,
          137,
          90,
          38,
          48,
          20,
          25,
          120,
          7,
          50,
          16,
          108,
          9,
          18,
          133,
          25,
          8,
          17,
          200,
          281,
          79,
          26,
          325,
          60,
          29,
          83,
          36,
          295,
          11,
          5,
          136,
          98,
          200,
          73,
          112,
          26,
          76,
          11,
          6,
          33,
          48,
          63,
          80,
          72,
          18,
          54,
          80,
          77,
          55,
          100,
          55,
          144,
          61,
          192,
          8
         ],
         "yaxis": "y"
        }
       ],
       "layout": {
        "coloraxis": {
         "colorbar": {
          "title": {
           "text": "Quantity Sold Kgs"
          }
         },
         "colorscale": [
          [
           0,
           "#0d0887"
          ],
          [
           0.1111111111111111,
           "#46039f"
          ],
          [
           0.2222222222222222,
           "#7201a8"
          ],
          [
           0.3333333333333333,
           "#9c179e"
          ],
          [
           0.4444444444444444,
           "#bd3786"
          ],
          [
           0.5555555555555556,
           "#d8576b"
          ],
          [
           0.6666666666666666,
           "#ed7953"
          ],
          [
           0.7777777777777778,
           "#fb9f3a"
          ],
          [
           0.8888888888888888,
           "#fdca26"
          ],
          [
           1,
           "#f0f921"
          ]
         ]
        },
        "font": {
         "color": "black",
         "family": "Courier New"
        },
        "legend": {
         "itemsizing": "constant",
         "title": {
          "font": {
           "color": "green"
          }
         },
         "tracegroupgap": 0
        },
        "template": {
         "data": {
          "bar": [
           {
            "error_x": {
             "color": "#2a3f5f"
            },
            "error_y": {
             "color": "#2a3f5f"
            },
            "marker": {
             "line": {
              "color": "#E5ECF6",
              "width": 0.5
             },
             "pattern": {
              "fillmode": "overlay",
              "size": 10,
              "solidity": 0.2
             }
            },
            "type": "bar"
           }
          ],
          "barpolar": [
           {
            "marker": {
             "line": {
              "color": "#E5ECF6",
              "width": 0.5
             },
             "pattern": {
              "fillmode": "overlay",
              "size": 10,
              "solidity": 0.2
             }
            },
            "type": "barpolar"
           }
          ],
          "carpet": [
           {
            "aaxis": {
             "endlinecolor": "#2a3f5f",
             "gridcolor": "white",
             "linecolor": "white",
             "minorgridcolor": "white",
             "startlinecolor": "#2a3f5f"
            },
            "baxis": {
             "endlinecolor": "#2a3f5f",
             "gridcolor": "white",
             "linecolor": "white",
             "minorgridcolor": "white",
             "startlinecolor": "#2a3f5f"
            },
            "type": "carpet"
           }
          ],
          "choropleth": [
           {
            "colorbar": {
             "outlinewidth": 0,
             "ticks": ""
            },
            "type": "choropleth"
           }
          ],
          "contour": [
           {
            "colorbar": {
             "outlinewidth": 0,
             "ticks": ""
            },
            "colorscale": [
             [
              0,
              "#0d0887"
             ],
             [
              0.1111111111111111,
              "#46039f"
             ],
             [
              0.2222222222222222,
              "#7201a8"
             ],
             [
              0.3333333333333333,
              "#9c179e"
             ],
             [
              0.4444444444444444,
              "#bd3786"
             ],
             [
              0.5555555555555556,
              "#d8576b"
             ],
             [
              0.6666666666666666,
              "#ed7953"
             ],
             [
              0.7777777777777778,
              "#fb9f3a"
             ],
             [
              0.8888888888888888,
              "#fdca26"
             ],
             [
              1,
              "#f0f921"
             ]
            ],
            "type": "contour"
           }
          ],
          "contourcarpet": [
           {
            "colorbar": {
             "outlinewidth": 0,
             "ticks": ""
            },
            "type": "contourcarpet"
           }
          ],
          "heatmap": [
           {
            "colorbar": {
             "outlinewidth": 0,
             "ticks": ""
            },
            "colorscale": [
             [
              0,
              "#0d0887"
             ],
             [
              0.1111111111111111,
              "#46039f"
             ],
             [
              0.2222222222222222,
              "#7201a8"
             ],
             [
              0.3333333333333333,
              "#9c179e"
             ],
             [
              0.4444444444444444,
              "#bd3786"
             ],
             [
              0.5555555555555556,
              "#d8576b"
             ],
             [
              0.6666666666666666,
              "#ed7953"
             ],
             [
              0.7777777777777778,
              "#fb9f3a"
             ],
             [
              0.8888888888888888,
              "#fdca26"
             ],
             [
              1,
              "#f0f921"
             ]
            ],
            "type": "heatmap"
           }
          ],
          "heatmapgl": [
           {
            "colorbar": {
             "outlinewidth": 0,
             "ticks": ""
            },
            "colorscale": [
             [
              0,
              "#0d0887"
             ],
             [
              0.1111111111111111,
              "#46039f"
             ],
             [
              0.2222222222222222,
              "#7201a8"
             ],
             [
              0.3333333333333333,
              "#9c179e"
             ],
             [
              0.4444444444444444,
              "#bd3786"
             ],
             [
              0.5555555555555556,
              "#d8576b"
             ],
             [
              0.6666666666666666,
              "#ed7953"
             ],
             [
              0.7777777777777778,
              "#fb9f3a"
             ],
             [
              0.8888888888888888,
              "#fdca26"
             ],
             [
              1,
              "#f0f921"
             ]
            ],
            "type": "heatmapgl"
           }
          ],
          "histogram": [
           {
            "marker": {
             "pattern": {
              "fillmode": "overlay",
              "size": 10,
              "solidity": 0.2
             }
            },
            "type": "histogram"
           }
          ],
          "histogram2d": [
           {
            "colorbar": {
             "outlinewidth": 0,
             "ticks": ""
            },
            "colorscale": [
             [
              0,
              "#0d0887"
             ],
             [
              0.1111111111111111,
              "#46039f"
             ],
             [
              0.2222222222222222,
              "#7201a8"
             ],
             [
              0.3333333333333333,
              "#9c179e"
             ],
             [
              0.4444444444444444,
              "#bd3786"
             ],
             [
              0.5555555555555556,
              "#d8576b"
             ],
             [
              0.6666666666666666,
              "#ed7953"
             ],
             [
              0.7777777777777778,
              "#fb9f3a"
             ],
             [
              0.8888888888888888,
              "#fdca26"
             ],
             [
              1,
              "#f0f921"
             ]
            ],
            "type": "histogram2d"
           }
          ],
          "histogram2dcontour": [
           {
            "colorbar": {
             "outlinewidth": 0,
             "ticks": ""
            },
            "colorscale": [
             [
              0,
              "#0d0887"
             ],
             [
              0.1111111111111111,
              "#46039f"
             ],
             [
              0.2222222222222222,
              "#7201a8"
             ],
             [
              0.3333333333333333,
              "#9c179e"
             ],
             [
              0.4444444444444444,
              "#bd3786"
             ],
             [
              0.5555555555555556,
              "#d8576b"
             ],
             [
              0.6666666666666666,
              "#ed7953"
             ],
             [
              0.7777777777777778,
              "#fb9f3a"
             ],
             [
              0.8888888888888888,
              "#fdca26"
             ],
             [
              1,
              "#f0f921"
             ]
            ],
            "type": "histogram2dcontour"
           }
          ],
          "mesh3d": [
           {
            "colorbar": {
             "outlinewidth": 0,
             "ticks": ""
            },
            "type": "mesh3d"
           }
          ],
          "parcoords": [
           {
            "line": {
             "colorbar": {
              "outlinewidth": 0,
              "ticks": ""
             }
            },
            "type": "parcoords"
           }
          ],
          "pie": [
           {
            "automargin": true,
            "type": "pie"
           }
          ],
          "scatter": [
           {
            "marker": {
             "colorbar": {
              "outlinewidth": 0,
              "ticks": ""
             }
            },
            "type": "scatter"
           }
          ],
          "scatter3d": [
           {
            "line": {
             "colorbar": {
              "outlinewidth": 0,
              "ticks": ""
             }
            },
            "marker": {
             "colorbar": {
              "outlinewidth": 0,
              "ticks": ""
             }
            },
            "type": "scatter3d"
           }
          ],
          "scattercarpet": [
           {
            "marker": {
             "colorbar": {
              "outlinewidth": 0,
              "ticks": ""
             }
            },
            "type": "scattercarpet"
           }
          ],
          "scattergeo": [
           {
            "marker": {
             "colorbar": {
              "outlinewidth": 0,
              "ticks": ""
             }
            },
            "type": "scattergeo"
           }
          ],
          "scattergl": [
           {
            "marker": {
             "colorbar": {
              "outlinewidth": 0,
              "ticks": ""
             }
            },
            "type": "scattergl"
           }
          ],
          "scattermapbox": [
           {
            "marker": {
             "colorbar": {
              "outlinewidth": 0,
              "ticks": ""
             }
            },
            "type": "scattermapbox"
           }
          ],
          "scatterpolar": [
           {
            "marker": {
             "colorbar": {
              "outlinewidth": 0,
              "ticks": ""
             }
            },
            "type": "scatterpolar"
           }
          ],
          "scatterpolargl": [
           {
            "marker": {
             "colorbar": {
              "outlinewidth": 0,
              "ticks": ""
             }
            },
            "type": "scatterpolargl"
           }
          ],
          "scatterternary": [
           {
            "marker": {
             "colorbar": {
              "outlinewidth": 0,
              "ticks": ""
             }
            },
            "type": "scatterternary"
           }
          ],
          "surface": [
           {
            "colorbar": {
             "outlinewidth": 0,
             "ticks": ""
            },
            "colorscale": [
             [
              0,
              "#0d0887"
             ],
             [
              0.1111111111111111,
              "#46039f"
             ],
             [
              0.2222222222222222,
              "#7201a8"
             ],
             [
              0.3333333333333333,
              "#9c179e"
             ],
             [
              0.4444444444444444,
              "#bd3786"
             ],
             [
              0.5555555555555556,
              "#d8576b"
             ],
             [
              0.6666666666666666,
              "#ed7953"
             ],
             [
              0.7777777777777778,
              "#fb9f3a"
             ],
             [
              0.8888888888888888,
              "#fdca26"
             ],
             [
              1,
              "#f0f921"
             ]
            ],
            "type": "surface"
           }
          ],
          "table": [
           {
            "cells": {
             "fill": {
              "color": "#EBF0F8"
             },
             "line": {
              "color": "white"
             }
            },
            "header": {
             "fill": {
              "color": "#C8D4E3"
             },
             "line": {
              "color": "white"
             }
            },
            "type": "table"
           }
          ]
         },
         "layout": {
          "annotationdefaults": {
           "arrowcolor": "#2a3f5f",
           "arrowhead": 0,
           "arrowwidth": 1
          },
          "autotypenumbers": "strict",
          "coloraxis": {
           "colorbar": {
            "outlinewidth": 0,
            "ticks": ""
           }
          },
          "colorscale": {
           "diverging": [
            [
             0,
             "#8e0152"
            ],
            [
             0.1,
             "#c51b7d"
            ],
            [
             0.2,
             "#de77ae"
            ],
            [
             0.3,
             "#f1b6da"
            ],
            [
             0.4,
             "#fde0ef"
            ],
            [
             0.5,
             "#f7f7f7"
            ],
            [
             0.6,
             "#e6f5d0"
            ],
            [
             0.7,
             "#b8e186"
            ],
            [
             0.8,
             "#7fbc41"
            ],
            [
             0.9,
             "#4d9221"
            ],
            [
             1,
             "#276419"
            ]
           ],
           "sequential": [
            [
             0,
             "#0d0887"
            ],
            [
             0.1111111111111111,
             "#46039f"
            ],
            [
             0.2222222222222222,
             "#7201a8"
            ],
            [
             0.3333333333333333,
             "#9c179e"
            ],
            [
             0.4444444444444444,
             "#bd3786"
            ],
            [
             0.5555555555555556,
             "#d8576b"
            ],
            [
             0.6666666666666666,
             "#ed7953"
            ],
            [
             0.7777777777777778,
             "#fb9f3a"
            ],
            [
             0.8888888888888888,
             "#fdca26"
            ],
            [
             1,
             "#f0f921"
            ]
           ],
           "sequentialminus": [
            [
             0,
             "#0d0887"
            ],
            [
             0.1111111111111111,
             "#46039f"
            ],
            [
             0.2222222222222222,
             "#7201a8"
            ],
            [
             0.3333333333333333,
             "#9c179e"
            ],
            [
             0.4444444444444444,
             "#bd3786"
            ],
            [
             0.5555555555555556,
             "#d8576b"
            ],
            [
             0.6666666666666666,
             "#ed7953"
            ],
            [
             0.7777777777777778,
             "#fb9f3a"
            ],
            [
             0.8888888888888888,
             "#fdca26"
            ],
            [
             1,
             "#f0f921"
            ]
           ]
          },
          "colorway": [
           "#636efa",
           "#EF553B",
           "#00cc96",
           "#ab63fa",
           "#FFA15A",
           "#19d3f3",
           "#FF6692",
           "#B6E880",
           "#FF97FF",
           "#FECB52"
          ],
          "font": {
           "color": "#2a3f5f"
          },
          "geo": {
           "bgcolor": "white",
           "lakecolor": "white",
           "landcolor": "#E5ECF6",
           "showlakes": true,
           "showland": true,
           "subunitcolor": "white"
          },
          "hoverlabel": {
           "align": "left"
          },
          "hovermode": "closest",
          "mapbox": {
           "style": "light"
          },
          "paper_bgcolor": "white",
          "plot_bgcolor": "#E5ECF6",
          "polar": {
           "angularaxis": {
            "gridcolor": "white",
            "linecolor": "white",
            "ticks": ""
           },
           "bgcolor": "#E5ECF6",
           "radialaxis": {
            "gridcolor": "white",
            "linecolor": "white",
            "ticks": ""
           }
          },
          "scene": {
           "xaxis": {
            "backgroundcolor": "#E5ECF6",
            "gridcolor": "white",
            "gridwidth": 2,
            "linecolor": "white",
            "showbackground": true,
            "ticks": "",
            "zerolinecolor": "white"
           },
           "yaxis": {
            "backgroundcolor": "#E5ECF6",
            "gridcolor": "white",
            "gridwidth": 2,
            "linecolor": "white",
            "showbackground": true,
            "ticks": "",
            "zerolinecolor": "white"
           },
           "zaxis": {
            "backgroundcolor": "#E5ECF6",
            "gridcolor": "white",
            "gridwidth": 2,
            "linecolor": "white",
            "showbackground": true,
            "ticks": "",
            "zerolinecolor": "white"
           }
          },
          "shapedefaults": {
           "line": {
            "color": "#2a3f5f"
           }
          },
          "ternary": {
           "aaxis": {
            "gridcolor": "white",
            "linecolor": "white",
            "ticks": ""
           },
           "baxis": {
            "gridcolor": "white",
            "linecolor": "white",
            "ticks": ""
           },
           "bgcolor": "#E5ECF6",
           "caxis": {
            "gridcolor": "white",
            "linecolor": "white",
            "ticks": ""
           }
          },
          "title": {
           "x": 0.05
          },
          "xaxis": {
           "automargin": true,
           "gridcolor": "white",
           "linecolor": "white",
           "ticks": "",
           "title": {
            "standoff": 15
           },
           "zerolinecolor": "white",
           "zerolinewidth": 2
          },
          "yaxis": {
           "automargin": true,
           "gridcolor": "white",
           "linecolor": "white",
           "ticks": "",
           "title": {
            "standoff": 15
           },
           "zerolinecolor": "white",
           "zerolinewidth": 2
          }
         }
        },
        "title": {
         "font": {
          "color": "black",
          "family": "Bahnschrift Light"
         },
         "text": "Sales in Winter"
        },
        "xaxis": {
         "anchor": "y",
         "domain": [
          0,
          1
         ],
         "title": {
          "font": {
           "family": "Candara Light"
          },
          "text": "Date"
         }
        },
        "yaxis": {
         "anchor": "x",
         "domain": [
          0,
          1
         ],
         "title": {
          "font": {
           "family": "Candara Light"
          },
          "text": "Quantity Sold Kgs"
         }
        }
       }
      },
      "text/html": [
       "<div>                            <div id=\"033478b0-acde-40e9-9cbb-e7d5825cc8e9\" class=\"plotly-graph-div\" style=\"height:525px; width:100%;\"></div>            <script type=\"text/javascript\">                require([\"plotly\"], function(Plotly) {                    window.PLOTLYENV=window.PLOTLYENV || {};                                    if (document.getElementById(\"033478b0-acde-40e9-9cbb-e7d5825cc8e9\")) {                    Plotly.newPlot(                        \"033478b0-acde-40e9-9cbb-e7d5825cc8e9\",                        [{\"hovertemplate\":\"Date=%{x}<br>Quantity Sold Kgs=%{marker.color}<br>Size=%{text}<extra></extra>\",\"legendgroup\":\"\",\"marker\":{\"color\":[187,146,18,87,5,36,100,105,397,15,266,43,104,114,151,64,76,89,226,36,27,120,42,95,144,222,45,121,32,40,38,9,58,26,16,20,170,6,62,130,41,107,201,70,20,49,60,198,67,30,35,31,42,106,13,30,82,127,65,93,256,108,150,153,69,40,50,126,251,147,51,17,323,72,90,18,200,82,138,123,52,15,12,78,35,178,59,25,52,15,26,39,108,17,32,66,263,60,29,11,80,128,326,30,79,84,76,78,108,155,100,20,62,30,44,51,316,64,67,195,18,110,60,40,35,13,176,100,27,87,35,80,264,105,28,277,60,20,10,79,60,100,223,107,72,201,16,25,180,65,281,93,32,244,58,40,38,161,11,6,50,137,90,38,48,20,25,120,7,50,16,108,9,18,133,25,8,17,200,281,79,26,325,60,29,83,36,295,11,5,136,98,200,73,112,26,76,11,6,33,48,63,80,72,18,54,80,77,55,100,55,144,61,192,8],\"coloraxis\":\"coloraxis\",\"size\":[187,146,18,87,5,36,100,105,397,15,266,43,104,114,151,64,76,89,226,36,27,120,42,95,144,222,45,121,32,40,38,9,58,26,16,20,170,6,62,130,41,107,201,70,20,49,60,198,67,30,35,31,42,106,13,30,82,127,65,93,256,108,150,153,69,40,50,126,251,147,51,17,323,72,90,18,200,82,138,123,52,15,12,78,35,178,59,25,52,15,26,39,108,17,32,66,263,60,29,11,80,128,326,30,79,84,76,78,108,155,100,20,62,30,44,51,316,64,67,195,18,110,60,40,35,13,176,100,27,87,35,80,264,105,28,277,60,20,10,79,60,100,223,107,72,201,16,25,180,65,281,93,32,244,58,40,38,161,11,6,50,137,90,38,48,20,25,120,7,50,16,108,9,18,133,25,8,17,200,281,79,26,325,60,29,83,36,295,11,5,136,98,200,73,112,26,76,11,6,33,48,63,80,72,18,54,80,77,55,100,55,144,61,192,8],\"sizemode\":\"area\",\"sizeref\":0.9925,\"symbol\":\"circle\"},\"mode\":\"markers+text\",\"name\":\"\",\"orientation\":\"v\",\"showlegend\":false,\"text\":[\"F\",\"L\",\"E\",\"S\",\"M\",\"A\",\"L\",\"F\",\"M\",\"S\",\"D\",\"G\",\"M\",\"K\",\"M\",\"F\",\"C\",\"M\",\"Q\",\"M\",\"C\",\"E\",\"F\",\"Q\",\"K\",\"Q\",\"G\",\"K\",\"B\",\"M\",\"G\",\"E\",\"M\",\"E\",\"G\",\"L\",\"F\",\"G\",\"E\",\"F\",\"R\",\"M\",\"S\",\"F\",\"A\",\"M\",\"F\",\"E\",\"Q\",\"E\",\"F\",\"S\",\"F\",\"E\",\"G\",\"C\",\"K\",\"N\",\"G\",\"D\",\"N\",\"K\",\"G\",\"L\",\"M\",\"N\",\"C\",\"G\",\"T\",\"B\",\"L\",\"F\",\"F\",\"A\",\"F\",\"C\",\"Q\",\"B\",\"O\",\"M\",\"G\",\"J\",\"C\",\"F\",\"M\",\"L\",\"P\",\"G\",\"J\",\"M\",\"C\",\"B\",\"H\",\"K\",\"B\",\"C\",\"R\",\"B\",\"J\",\"C\",\"R\",\"M\",\"I\",\"M\",\"M\",\"C\",\"R\",\"M\",\"G\",\"H\",\"F\",\"C\",\"F\",\"B\",\"C\",\"E\",\"T\",\"K\",\"L\",\"M\",\"C\",\"K\",\"C\",\"F\",\"B\",\"E\",\"F\",\"F\",\"L\",\"T\",\"C\",\"F\",\"N\",\"G\",\"A\",\"J\",\"F\",\"B\",\"M\",\"F\",\"E\",\"I\",\"H\",\"O\",\"E\",\"S\",\"F\",\"E\",\"L\",\"H\",\"S\",\"B\",\"E\",\"H\",\"K\",\"C\",\"R\",\"P\",\"K\",\"P\",\"B\",\"M\",\"C\",\"B\",\"F\",\"C\",\"A\",\"C\",\"O\",\"L\",\"Q\",\"R\",\"L\",\"I\",\"F\",\"B\",\"E\",\"M\",\"Q\",\"N\",\"S\",\"T\",\"J\",\"C\",\"B\",\"E\",\"O\",\"K\",\"E\",\"H\",\"P\",\"K\",\"F\",\"A\",\"C\",\"S\",\"E\",\"M\",\"B\",\"L\",\"F\",\"C\",\"G\",\"C\",\"F\",\"G\",\"C\",\"E\",\"K\",\"F\",\"L\",\"F\",\"H\",\"Q\",\"A\"],\"type\":\"scatter\",\"x\":[\"2021-10-01T00:00:00\",\"2021-10-01T00:00:00\",\"2021-10-02T00:00:00\",\"2021-10-02T00:00:00\",\"2021-10-02T00:00:00\",\"2021-10-02T00:00:00\",\"2021-10-04T00:00:00\",\"2021-10-04T00:00:00\",\"2021-10-05T00:00:00\",\"2021-10-05T00:00:00\",\"2021-10-05T00:00:00\",\"2021-10-07T00:00:00\",\"2021-10-07T00:00:00\",\"2021-10-07T00:00:00\",\"2021-10-08T00:00:00\",\"2021-10-08T00:00:00\",\"2021-10-09T00:00:00\",\"2021-10-09T00:00:00\",\"2021-10-11T00:00:00\",\"2021-10-12T00:00:00\",\"2021-10-12T00:00:00\",\"2021-10-12T00:00:00\",\"2021-10-13T00:00:00\",\"2021-10-14T00:00:00\",\"2021-10-15T00:00:00\",\"2021-10-16T00:00:00\",\"2021-10-16T00:00:00\",\"2021-10-18T00:00:00\",\"2021-10-18T00:00:00\",\"2021-10-18T00:00:00\",\"2021-10-18T00:00:00\",\"2021-10-19T00:00:00\",\"2021-10-20T00:00:00\",\"2021-10-20T00:00:00\",\"2021-10-20T00:00:00\",\"2021-10-20T00:00:00\",\"2021-10-21T00:00:00\",\"2021-10-21T00:00:00\",\"2021-10-22T00:00:00\",\"2021-10-22T00:00:00\",\"2021-10-22T00:00:00\",\"2021-10-22T00:00:00\",\"2021-10-23T00:00:00\",\"2021-10-23T00:00:00\",\"2021-10-23T00:00:00\",\"2021-10-23T00:00:00\",\"2021-10-25T00:00:00\",\"2021-10-25T00:00:00\",\"2021-10-26T00:00:00\",\"2021-10-26T00:00:00\",\"2021-10-26T00:00:00\",\"2021-10-27T00:00:00\",\"2021-10-27T00:00:00\",\"2021-10-27T00:00:00\",\"2021-10-27T00:00:00\",\"2021-10-27T00:00:00\",\"2021-10-28T00:00:00\",\"2021-10-28T00:00:00\",\"2021-10-28T00:00:00\",\"2021-10-28T00:00:00\",\"2021-10-29T00:00:00\",\"2021-10-29T00:00:00\",\"2021-10-30T00:00:00\",\"2021-10-30T00:00:00\",\"2021-11-01T00:00:00\",\"2021-11-01T00:00:00\",\"2021-11-02T00:00:00\",\"2021-11-02T00:00:00\",\"2021-11-02T00:00:00\",\"2021-11-03T00:00:00\",\"2021-11-03T00:00:00\",\"2021-11-03T00:00:00\",\"2021-11-08T00:00:00\",\"2021-11-08T00:00:00\",\"2021-11-09T00:00:00\",\"2021-11-09T00:00:00\",\"2021-11-09T00:00:00\",\"2021-11-09T00:00:00\",\"2021-11-10T00:00:00\",\"2021-11-10T00:00:00\",\"2021-11-10T00:00:00\",\"2021-11-10T00:00:00\",\"2021-11-11T00:00:00\",\"2021-11-11T00:00:00\",\"2021-11-12T00:00:00\",\"2021-11-12T00:00:00\",\"2021-11-12T00:00:00\",\"2021-11-12T00:00:00\",\"2021-11-12T00:00:00\",\"2021-11-13T00:00:00\",\"2021-11-13T00:00:00\",\"2021-11-13T00:00:00\",\"2021-11-13T00:00:00\",\"2021-11-13T00:00:00\",\"2021-11-15T00:00:00\",\"2021-11-15T00:00:00\",\"2021-11-16T00:00:00\",\"2021-11-16T00:00:00\",\"2021-11-16T00:00:00\",\"2021-11-16T00:00:00\",\"2021-11-17T00:00:00\",\"2021-11-17T00:00:00\",\"2021-11-18T00:00:00\",\"2021-11-18T00:00:00\",\"2021-11-19T00:00:00\",\"2021-11-19T00:00:00\",\"2021-11-19T00:00:00\",\"2021-11-20T00:00:00\",\"2021-11-20T00:00:00\",\"2021-11-20T00:00:00\",\"2021-11-22T00:00:00\",\"2021-11-22T00:00:00\",\"2021-11-23T00:00:00\",\"2021-11-23T00:00:00\",\"2021-11-23T00:00:00\",\"2021-11-23T00:00:00\",\"2021-11-24T00:00:00\",\"2021-11-24T00:00:00\",\"2021-11-25T00:00:00\",\"2021-11-25T00:00:00\",\"2021-11-25T00:00:00\",\"2021-11-25T00:00:00\",\"2021-11-27T00:00:00\",\"2021-11-27T00:00:00\",\"2021-11-27T00:00:00\",\"2021-11-27T00:00:00\",\"2021-11-29T00:00:00\",\"2021-11-30T00:00:00\",\"2021-11-30T00:00:00\",\"2021-11-30T00:00:00\",\"2021-12-01T00:00:00\",\"2021-12-01T00:00:00\",\"2021-12-01T00:00:00\",\"2021-12-02T00:00:00\",\"2021-12-02T00:00:00\",\"2021-12-02T00:00:00\",\"2021-12-02T00:00:00\",\"2021-12-02T00:00:00\",\"2021-12-02T00:00:00\",\"2021-12-03T00:00:00\",\"2021-12-03T00:00:00\",\"2021-12-03T00:00:00\",\"2021-12-03T00:00:00\",\"2021-12-04T00:00:00\",\"2021-12-04T00:00:00\",\"2021-12-04T00:00:00\",\"2021-12-04T00:00:00\",\"2021-12-06T00:00:00\",\"2021-12-06T00:00:00\",\"2021-12-06T00:00:00\",\"2021-12-07T00:00:00\",\"2021-12-07T00:00:00\",\"2021-12-07T00:00:00\",\"2021-12-08T00:00:00\",\"2021-12-09T00:00:00\",\"2021-12-09T00:00:00\",\"2021-12-09T00:00:00\",\"2021-12-09T00:00:00\",\"2021-12-10T00:00:00\",\"2021-12-10T00:00:00\",\"2021-12-10T00:00:00\",\"2021-12-10T00:00:00\",\"2021-12-10T00:00:00\",\"2021-12-11T00:00:00\",\"2021-12-11T00:00:00\",\"2021-12-11T00:00:00\",\"2021-12-11T00:00:00\",\"2021-12-13T00:00:00\",\"2021-12-13T00:00:00\",\"2021-12-13T00:00:00\",\"2021-12-13T00:00:00\",\"2021-12-14T00:00:00\",\"2021-12-14T00:00:00\",\"2021-12-14T00:00:00\",\"2021-12-15T00:00:00\",\"2021-12-15T00:00:00\",\"2021-12-15T00:00:00\",\"2021-12-16T00:00:00\",\"2021-12-16T00:00:00\",\"2021-12-17T00:00:00\",\"2021-12-17T00:00:00\",\"2021-12-17T00:00:00\",\"2021-12-18T00:00:00\",\"2021-12-20T00:00:00\",\"2021-12-20T00:00:00\",\"2021-12-20T00:00:00\",\"2021-12-21T00:00:00\",\"2021-12-21T00:00:00\",\"2021-12-21T00:00:00\",\"2021-12-21T00:00:00\",\"2021-12-22T00:00:00\",\"2021-12-22T00:00:00\",\"2021-12-23T00:00:00\",\"2021-12-23T00:00:00\",\"2021-12-24T00:00:00\",\"2021-12-24T00:00:00\",\"2021-12-25T00:00:00\",\"2021-12-25T00:00:00\",\"2021-12-25T00:00:00\",\"2021-12-27T00:00:00\",\"2021-12-27T00:00:00\",\"2021-12-27T00:00:00\",\"2021-12-28T00:00:00\",\"2021-12-28T00:00:00\",\"2021-12-28T00:00:00\",\"2021-12-29T00:00:00\",\"2021-12-29T00:00:00\",\"2021-12-29T00:00:00\",\"2021-12-29T00:00:00\",\"2021-12-30T00:00:00\",\"2021-12-30T00:00:00\",\"2021-12-31T00:00:00\",\"2021-12-31T00:00:00\",\"2021-12-31T00:00:00\",\"2021-12-31T00:00:00\"],\"xaxis\":\"x\",\"y\":[187,146,18,87,5,36,100,105,397,15,266,43,104,114,151,64,76,89,226,36,27,120,42,95,144,222,45,121,32,40,38,9,58,26,16,20,170,6,62,130,41,107,201,70,20,49,60,198,67,30,35,31,42,106,13,30,82,127,65,93,256,108,150,153,69,40,50,126,251,147,51,17,323,72,90,18,200,82,138,123,52,15,12,78,35,178,59,25,52,15,26,39,108,17,32,66,263,60,29,11,80,128,326,30,79,84,76,78,108,155,100,20,62,30,44,51,316,64,67,195,18,110,60,40,35,13,176,100,27,87,35,80,264,105,28,277,60,20,10,79,60,100,223,107,72,201,16,25,180,65,281,93,32,244,58,40,38,161,11,6,50,137,90,38,48,20,25,120,7,50,16,108,9,18,133,25,8,17,200,281,79,26,325,60,29,83,36,295,11,5,136,98,200,73,112,26,76,11,6,33,48,63,80,72,18,54,80,77,55,100,55,144,61,192,8],\"yaxis\":\"y\"}],                        {\"coloraxis\":{\"colorbar\":{\"title\":{\"text\":\"Quantity Sold Kgs\"}},\"colorscale\":[[0.0,\"#0d0887\"],[0.1111111111111111,\"#46039f\"],[0.2222222222222222,\"#7201a8\"],[0.3333333333333333,\"#9c179e\"],[0.4444444444444444,\"#bd3786\"],[0.5555555555555556,\"#d8576b\"],[0.6666666666666666,\"#ed7953\"],[0.7777777777777778,\"#fb9f3a\"],[0.8888888888888888,\"#fdca26\"],[1.0,\"#f0f921\"]]},\"font\":{\"color\":\"black\",\"family\":\"Courier New\"},\"legend\":{\"itemsizing\":\"constant\",\"title\":{\"font\":{\"color\":\"green\"}},\"tracegroupgap\":0},\"template\":{\"data\":{\"bar\":[{\"error_x\":{\"color\":\"#2a3f5f\"},\"error_y\":{\"color\":\"#2a3f5f\"},\"marker\":{\"line\":{\"color\":\"#E5ECF6\",\"width\":0.5},\"pattern\":{\"fillmode\":\"overlay\",\"size\":10,\"solidity\":0.2}},\"type\":\"bar\"}],\"barpolar\":[{\"marker\":{\"line\":{\"color\":\"#E5ECF6\",\"width\":0.5},\"pattern\":{\"fillmode\":\"overlay\",\"size\":10,\"solidity\":0.2}},\"type\":\"barpolar\"}],\"carpet\":[{\"aaxis\":{\"endlinecolor\":\"#2a3f5f\",\"gridcolor\":\"white\",\"linecolor\":\"white\",\"minorgridcolor\":\"white\",\"startlinecolor\":\"#2a3f5f\"},\"baxis\":{\"endlinecolor\":\"#2a3f5f\",\"gridcolor\":\"white\",\"linecolor\":\"white\",\"minorgridcolor\":\"white\",\"startlinecolor\":\"#2a3f5f\"},\"type\":\"carpet\"}],\"choropleth\":[{\"colorbar\":{\"outlinewidth\":0,\"ticks\":\"\"},\"type\":\"choropleth\"}],\"contour\":[{\"colorbar\":{\"outlinewidth\":0,\"ticks\":\"\"},\"colorscale\":[[0.0,\"#0d0887\"],[0.1111111111111111,\"#46039f\"],[0.2222222222222222,\"#7201a8\"],[0.3333333333333333,\"#9c179e\"],[0.4444444444444444,\"#bd3786\"],[0.5555555555555556,\"#d8576b\"],[0.6666666666666666,\"#ed7953\"],[0.7777777777777778,\"#fb9f3a\"],[0.8888888888888888,\"#fdca26\"],[1.0,\"#f0f921\"]],\"type\":\"contour\"}],\"contourcarpet\":[{\"colorbar\":{\"outlinewidth\":0,\"ticks\":\"\"},\"type\":\"contourcarpet\"}],\"heatmap\":[{\"colorbar\":{\"outlinewidth\":0,\"ticks\":\"\"},\"colorscale\":[[0.0,\"#0d0887\"],[0.1111111111111111,\"#46039f\"],[0.2222222222222222,\"#7201a8\"],[0.3333333333333333,\"#9c179e\"],[0.4444444444444444,\"#bd3786\"],[0.5555555555555556,\"#d8576b\"],[0.6666666666666666,\"#ed7953\"],[0.7777777777777778,\"#fb9f3a\"],[0.8888888888888888,\"#fdca26\"],[1.0,\"#f0f921\"]],\"type\":\"heatmap\"}],\"heatmapgl\":[{\"colorbar\":{\"outlinewidth\":0,\"ticks\":\"\"},\"colorscale\":[[0.0,\"#0d0887\"],[0.1111111111111111,\"#46039f\"],[0.2222222222222222,\"#7201a8\"],[0.3333333333333333,\"#9c179e\"],[0.4444444444444444,\"#bd3786\"],[0.5555555555555556,\"#d8576b\"],[0.6666666666666666,\"#ed7953\"],[0.7777777777777778,\"#fb9f3a\"],[0.8888888888888888,\"#fdca26\"],[1.0,\"#f0f921\"]],\"type\":\"heatmapgl\"}],\"histogram\":[{\"marker\":{\"pattern\":{\"fillmode\":\"overlay\",\"size\":10,\"solidity\":0.2}},\"type\":\"histogram\"}],\"histogram2d\":[{\"colorbar\":{\"outlinewidth\":0,\"ticks\":\"\"},\"colorscale\":[[0.0,\"#0d0887\"],[0.1111111111111111,\"#46039f\"],[0.2222222222222222,\"#7201a8\"],[0.3333333333333333,\"#9c179e\"],[0.4444444444444444,\"#bd3786\"],[0.5555555555555556,\"#d8576b\"],[0.6666666666666666,\"#ed7953\"],[0.7777777777777778,\"#fb9f3a\"],[0.8888888888888888,\"#fdca26\"],[1.0,\"#f0f921\"]],\"type\":\"histogram2d\"}],\"histogram2dcontour\":[{\"colorbar\":{\"outlinewidth\":0,\"ticks\":\"\"},\"colorscale\":[[0.0,\"#0d0887\"],[0.1111111111111111,\"#46039f\"],[0.2222222222222222,\"#7201a8\"],[0.3333333333333333,\"#9c179e\"],[0.4444444444444444,\"#bd3786\"],[0.5555555555555556,\"#d8576b\"],[0.6666666666666666,\"#ed7953\"],[0.7777777777777778,\"#fb9f3a\"],[0.8888888888888888,\"#fdca26\"],[1.0,\"#f0f921\"]],\"type\":\"histogram2dcontour\"}],\"mesh3d\":[{\"colorbar\":{\"outlinewidth\":0,\"ticks\":\"\"},\"type\":\"mesh3d\"}],\"parcoords\":[{\"line\":{\"colorbar\":{\"outlinewidth\":0,\"ticks\":\"\"}},\"type\":\"parcoords\"}],\"pie\":[{\"automargin\":true,\"type\":\"pie\"}],\"scatter\":[{\"marker\":{\"colorbar\":{\"outlinewidth\":0,\"ticks\":\"\"}},\"type\":\"scatter\"}],\"scatter3d\":[{\"line\":{\"colorbar\":{\"outlinewidth\":0,\"ticks\":\"\"}},\"marker\":{\"colorbar\":{\"outlinewidth\":0,\"ticks\":\"\"}},\"type\":\"scatter3d\"}],\"scattercarpet\":[{\"marker\":{\"colorbar\":{\"outlinewidth\":0,\"ticks\":\"\"}},\"type\":\"scattercarpet\"}],\"scattergeo\":[{\"marker\":{\"colorbar\":{\"outlinewidth\":0,\"ticks\":\"\"}},\"type\":\"scattergeo\"}],\"scattergl\":[{\"marker\":{\"colorbar\":{\"outlinewidth\":0,\"ticks\":\"\"}},\"type\":\"scattergl\"}],\"scattermapbox\":[{\"marker\":{\"colorbar\":{\"outlinewidth\":0,\"ticks\":\"\"}},\"type\":\"scattermapbox\"}],\"scatterpolar\":[{\"marker\":{\"colorbar\":{\"outlinewidth\":0,\"ticks\":\"\"}},\"type\":\"scatterpolar\"}],\"scatterpolargl\":[{\"marker\":{\"colorbar\":{\"outlinewidth\":0,\"ticks\":\"\"}},\"type\":\"scatterpolargl\"}],\"scatterternary\":[{\"marker\":{\"colorbar\":{\"outlinewidth\":0,\"ticks\":\"\"}},\"type\":\"scatterternary\"}],\"surface\":[{\"colorbar\":{\"outlinewidth\":0,\"ticks\":\"\"},\"colorscale\":[[0.0,\"#0d0887\"],[0.1111111111111111,\"#46039f\"],[0.2222222222222222,\"#7201a8\"],[0.3333333333333333,\"#9c179e\"],[0.4444444444444444,\"#bd3786\"],[0.5555555555555556,\"#d8576b\"],[0.6666666666666666,\"#ed7953\"],[0.7777777777777778,\"#fb9f3a\"],[0.8888888888888888,\"#fdca26\"],[1.0,\"#f0f921\"]],\"type\":\"surface\"}],\"table\":[{\"cells\":{\"fill\":{\"color\":\"#EBF0F8\"},\"line\":{\"color\":\"white\"}},\"header\":{\"fill\":{\"color\":\"#C8D4E3\"},\"line\":{\"color\":\"white\"}},\"type\":\"table\"}]},\"layout\":{\"annotationdefaults\":{\"arrowcolor\":\"#2a3f5f\",\"arrowhead\":0,\"arrowwidth\":1},\"autotypenumbers\":\"strict\",\"coloraxis\":{\"colorbar\":{\"outlinewidth\":0,\"ticks\":\"\"}},\"colorscale\":{\"diverging\":[[0,\"#8e0152\"],[0.1,\"#c51b7d\"],[0.2,\"#de77ae\"],[0.3,\"#f1b6da\"],[0.4,\"#fde0ef\"],[0.5,\"#f7f7f7\"],[0.6,\"#e6f5d0\"],[0.7,\"#b8e186\"],[0.8,\"#7fbc41\"],[0.9,\"#4d9221\"],[1,\"#276419\"]],\"sequential\":[[0.0,\"#0d0887\"],[0.1111111111111111,\"#46039f\"],[0.2222222222222222,\"#7201a8\"],[0.3333333333333333,\"#9c179e\"],[0.4444444444444444,\"#bd3786\"],[0.5555555555555556,\"#d8576b\"],[0.6666666666666666,\"#ed7953\"],[0.7777777777777778,\"#fb9f3a\"],[0.8888888888888888,\"#fdca26\"],[1.0,\"#f0f921\"]],\"sequentialminus\":[[0.0,\"#0d0887\"],[0.1111111111111111,\"#46039f\"],[0.2222222222222222,\"#7201a8\"],[0.3333333333333333,\"#9c179e\"],[0.4444444444444444,\"#bd3786\"],[0.5555555555555556,\"#d8576b\"],[0.6666666666666666,\"#ed7953\"],[0.7777777777777778,\"#fb9f3a\"],[0.8888888888888888,\"#fdca26\"],[1.0,\"#f0f921\"]]},\"colorway\":[\"#636efa\",\"#EF553B\",\"#00cc96\",\"#ab63fa\",\"#FFA15A\",\"#19d3f3\",\"#FF6692\",\"#B6E880\",\"#FF97FF\",\"#FECB52\"],\"font\":{\"color\":\"#2a3f5f\"},\"geo\":{\"bgcolor\":\"white\",\"lakecolor\":\"white\",\"landcolor\":\"#E5ECF6\",\"showlakes\":true,\"showland\":true,\"subunitcolor\":\"white\"},\"hoverlabel\":{\"align\":\"left\"},\"hovermode\":\"closest\",\"mapbox\":{\"style\":\"light\"},\"paper_bgcolor\":\"white\",\"plot_bgcolor\":\"#E5ECF6\",\"polar\":{\"angularaxis\":{\"gridcolor\":\"white\",\"linecolor\":\"white\",\"ticks\":\"\"},\"bgcolor\":\"#E5ECF6\",\"radialaxis\":{\"gridcolor\":\"white\",\"linecolor\":\"white\",\"ticks\":\"\"}},\"scene\":{\"xaxis\":{\"backgroundcolor\":\"#E5ECF6\",\"gridcolor\":\"white\",\"gridwidth\":2,\"linecolor\":\"white\",\"showbackground\":true,\"ticks\":\"\",\"zerolinecolor\":\"white\"},\"yaxis\":{\"backgroundcolor\":\"#E5ECF6\",\"gridcolor\":\"white\",\"gridwidth\":2,\"linecolor\":\"white\",\"showbackground\":true,\"ticks\":\"\",\"zerolinecolor\":\"white\"},\"zaxis\":{\"backgroundcolor\":\"#E5ECF6\",\"gridcolor\":\"white\",\"gridwidth\":2,\"linecolor\":\"white\",\"showbackground\":true,\"ticks\":\"\",\"zerolinecolor\":\"white\"}},\"shapedefaults\":{\"line\":{\"color\":\"#2a3f5f\"}},\"ternary\":{\"aaxis\":{\"gridcolor\":\"white\",\"linecolor\":\"white\",\"ticks\":\"\"},\"baxis\":{\"gridcolor\":\"white\",\"linecolor\":\"white\",\"ticks\":\"\"},\"bgcolor\":\"#E5ECF6\",\"caxis\":{\"gridcolor\":\"white\",\"linecolor\":\"white\",\"ticks\":\"\"}},\"title\":{\"x\":0.05},\"xaxis\":{\"automargin\":true,\"gridcolor\":\"white\",\"linecolor\":\"white\",\"ticks\":\"\",\"title\":{\"standoff\":15},\"zerolinecolor\":\"white\",\"zerolinewidth\":2},\"yaxis\":{\"automargin\":true,\"gridcolor\":\"white\",\"linecolor\":\"white\",\"ticks\":\"\",\"title\":{\"standoff\":15},\"zerolinecolor\":\"white\",\"zerolinewidth\":2}}},\"title\":{\"font\":{\"color\":\"black\",\"family\":\"Bahnschrift Light\"},\"text\":\"Sales in Winter\"},\"xaxis\":{\"anchor\":\"y\",\"domain\":[0.0,1.0],\"title\":{\"font\":{\"family\":\"Candara Light\"},\"text\":\"Date\"}},\"yaxis\":{\"anchor\":\"x\",\"domain\":[0.0,1.0],\"title\":{\"font\":{\"family\":\"Candara Light\"},\"text\":\"Quantity Sold Kgs\"}}},                        {\"responsive\": true}                    ).then(function(){\n",
       "                            \n",
       "var gd = document.getElementById('033478b0-acde-40e9-9cbb-e7d5825cc8e9');\n",
       "var x = new MutationObserver(function (mutations, observer) {{\n",
       "        var display = window.getComputedStyle(gd).display;\n",
       "        if (!display || display === 'none') {{\n",
       "            console.log([gd, 'removed!']);\n",
       "            Plotly.purge(gd);\n",
       "            observer.disconnect();\n",
       "        }}\n",
       "}});\n",
       "\n",
       "// Listen for the removal of the full notebook cells\n",
       "var notebookContainer = gd.closest('#notebook-container');\n",
       "if (notebookContainer) {{\n",
       "    x.observe(notebookContainer, {childList: true});\n",
       "}}\n",
       "\n",
       "// Listen for the clearing of the current output cell\n",
       "var outputEl = gd.closest('.output');\n",
       "if (outputEl) {{\n",
       "    x.observe(outputEl, {childList: true});\n",
       "}}\n",
       "\n",
       "                        })                };                });            </script>        </div>"
      ]
     },
     "metadata": {},
     "output_type": "display_data"
    }
   ],
   "source": [
    "fig = px.scatter( data  , x=data[\"Date\"], y=data[\"Quantity Sold Kgs\"],\n",
    "\t         size=data[\"Quantity Sold Kgs\"], color=\"Quantity Sold Kgs\" ,\n",
    "                 title = \"Sales in Winter\" , \n",
    "                labels = dict( x= \"Date\" , y= \"Quantity Sold kgs\") , \n",
    "                text = data.Size)\n",
    "fig.update_xaxes(title_font_family=\"Candara Light\")\n",
    "fig.update_yaxes(title_font_family=\"Candara Light\")\n",
    "\n",
    "fig.update_layout(\n",
    "    font_family=\"Courier New\",\n",
    "    font_color=\"black\",\n",
    "    title_font_family=\"Bahnschrift Light\",\n",
    "    title_font_color=\"black\",\n",
    "    legend_title_font_color=\"green\"\n",
    ")\n",
    "plotly.offline.plot(fig, filename=os.getcwd()+ \"\\\\files\" + \".html\")\n",
    "\n",
    "fig.show(render_mode = 'png')\n"
   ]
  },
  {
   "cell_type": "code",
   "execution_count": null,
   "metadata": {},
   "outputs": [],
   "source": [
    "# production of quantity increases in winter for the production of acs, fans , borewell , blowers , exhaust fans"
   ]
  },
  {
   "cell_type": "code",
   "execution_count": null,
   "metadata": {},
   "outputs": [],
   "source": [
    "# dont use all the sizes to show the production cost and profit\n",
    "# pie graph majors only"
   ]
  },
  {
   "cell_type": "code",
   "execution_count": 251,
   "metadata": {},
   "outputs": [
    {
     "data": {
      "text/html": [
       "<div>\n",
       "<style scoped>\n",
       "    .dataframe tbody tr th:only-of-type {\n",
       "        vertical-align: middle;\n",
       "    }\n",
       "\n",
       "    .dataframe tbody tr th {\n",
       "        vertical-align: top;\n",
       "    }\n",
       "\n",
       "    .dataframe thead th {\n",
       "        text-align: right;\n",
       "    }\n",
       "</style>\n",
       "<table border=\"1\" class=\"dataframe\">\n",
       "  <thead>\n",
       "    <tr style=\"text-align: right;\">\n",
       "      <th></th>\n",
       "      <th>Date</th>\n",
       "      <th>Size</th>\n",
       "      <th>Quantity Sold Kgs</th>\n",
       "    </tr>\n",
       "  </thead>\n",
       "  <tbody>\n",
       "    <tr>\n",
       "      <th>0</th>\n",
       "      <td>2021-10-01</td>\n",
       "      <td>F</td>\n",
       "      <td>187</td>\n",
       "    </tr>\n",
       "    <tr>\n",
       "      <th>1</th>\n",
       "      <td>2021-10-01</td>\n",
       "      <td>L</td>\n",
       "      <td>146</td>\n",
       "    </tr>\n",
       "    <tr>\n",
       "      <th>2</th>\n",
       "      <td>2021-10-02</td>\n",
       "      <td>E</td>\n",
       "      <td>18</td>\n",
       "    </tr>\n",
       "    <tr>\n",
       "      <th>3</th>\n",
       "      <td>2021-10-02</td>\n",
       "      <td>S</td>\n",
       "      <td>87</td>\n",
       "    </tr>\n",
       "    <tr>\n",
       "      <th>4</th>\n",
       "      <td>2021-10-02</td>\n",
       "      <td>M</td>\n",
       "      <td>5</td>\n",
       "    </tr>\n",
       "  </tbody>\n",
       "</table>\n",
       "</div>"
      ],
      "text/plain": [
       "        Date Size  Quantity Sold Kgs\n",
       "0 2021-10-01    F                187\n",
       "1 2021-10-01    L                146\n",
       "2 2021-10-02    E                 18\n",
       "3 2021-10-02    S                 87\n",
       "4 2021-10-02    M                  5"
      ]
     },
     "execution_count": 251,
     "metadata": {},
     "output_type": "execute_result"
    }
   ],
   "source": [
    "data.head()"
   ]
  },
  {
   "cell_type": "code",
   "execution_count": 262,
   "metadata": {},
   "outputs": [
    {
     "data": {
      "text/html": [
       "<div>\n",
       "<style scoped>\n",
       "    .dataframe tbody tr th:only-of-type {\n",
       "        vertical-align: middle;\n",
       "    }\n",
       "\n",
       "    .dataframe tbody tr th {\n",
       "        vertical-align: top;\n",
       "    }\n",
       "\n",
       "    .dataframe thead th {\n",
       "        text-align: right;\n",
       "    }\n",
       "</style>\n",
       "<table border=\"1\" class=\"dataframe\">\n",
       "  <thead>\n",
       "    <tr style=\"text-align: right;\">\n",
       "      <th></th>\n",
       "      <th>Date</th>\n",
       "      <th>Size</th>\n",
       "      <th>Quantity Sold Kgs</th>\n",
       "      <th>cost of material(rs per kg)</th>\n",
       "      <th>labor cost (per kg)</th>\n",
       "      <th>electricity cost (per kg)</th>\n",
       "      <th>selling price (per kg)</th>\n",
       "      <th>Production Cost</th>\n",
       "      <th>Profit</th>\n",
       "      <th>Total Profit</th>\n",
       "    </tr>\n",
       "  </thead>\n",
       "  <tbody>\n",
       "    <tr>\n",
       "      <th>0</th>\n",
       "      <td>2021-10-01</td>\n",
       "      <td>F</td>\n",
       "      <td>187.0</td>\n",
       "      <td>78.0</td>\n",
       "      <td>22.0</td>\n",
       "      <td>8.0</td>\n",
       "      <td>148.0</td>\n",
       "      <td>108.0</td>\n",
       "      <td>40.0</td>\n",
       "      <td>7480.0</td>\n",
       "    </tr>\n",
       "    <tr>\n",
       "      <th>1</th>\n",
       "      <td>2021-10-01</td>\n",
       "      <td>L</td>\n",
       "      <td>146.0</td>\n",
       "      <td>78.0</td>\n",
       "      <td>20.0</td>\n",
       "      <td>7.0</td>\n",
       "      <td>148.0</td>\n",
       "      <td>105.0</td>\n",
       "      <td>43.0</td>\n",
       "      <td>6278.0</td>\n",
       "    </tr>\n",
       "    <tr>\n",
       "      <th>2</th>\n",
       "      <td>2021-10-02</td>\n",
       "      <td>E</td>\n",
       "      <td>18.0</td>\n",
       "      <td>78.0</td>\n",
       "      <td>22.0</td>\n",
       "      <td>8.0</td>\n",
       "      <td>148.0</td>\n",
       "      <td>108.0</td>\n",
       "      <td>40.0</td>\n",
       "      <td>720.0</td>\n",
       "    </tr>\n",
       "    <tr>\n",
       "      <th>3</th>\n",
       "      <td>2021-10-02</td>\n",
       "      <td>S</td>\n",
       "      <td>87.0</td>\n",
       "      <td>78.0</td>\n",
       "      <td>12.0</td>\n",
       "      <td>4.8</td>\n",
       "      <td>148.0</td>\n",
       "      <td>94.8</td>\n",
       "      <td>53.2</td>\n",
       "      <td>4628.4</td>\n",
       "    </tr>\n",
       "    <tr>\n",
       "      <th>4</th>\n",
       "      <td>2021-10-02</td>\n",
       "      <td>M</td>\n",
       "      <td>5.0</td>\n",
       "      <td>78.0</td>\n",
       "      <td>20.0</td>\n",
       "      <td>7.0</td>\n",
       "      <td>148.0</td>\n",
       "      <td>105.0</td>\n",
       "      <td>43.0</td>\n",
       "      <td>215.0</td>\n",
       "    </tr>\n",
       "  </tbody>\n",
       "</table>\n",
       "</div>"
      ],
      "text/plain": [
       "        Date Size  Quantity Sold Kgs  cost of material(rs per kg)   \\\n",
       "0 2021-10-01    F              187.0                          78.0   \n",
       "1 2021-10-01    L              146.0                          78.0   \n",
       "2 2021-10-02    E               18.0                          78.0   \n",
       "3 2021-10-02    S               87.0                          78.0   \n",
       "4 2021-10-02    M                5.0                          78.0   \n",
       "\n",
       "   labor cost (per kg)  electricity cost (per kg)    selling price (per kg)  \\\n",
       "0                 22.0                        8.0                     148.0   \n",
       "1                 20.0                        7.0                     148.0   \n",
       "2                 22.0                        8.0                     148.0   \n",
       "3                 12.0                        4.8                     148.0   \n",
       "4                 20.0                        7.0                     148.0   \n",
       "\n",
       "   Production Cost  Profit  Total Profit  \n",
       "0            108.0    40.0        7480.0  \n",
       "1            105.0    43.0        6278.0  \n",
       "2            108.0    40.0         720.0  \n",
       "3             94.8    53.2        4628.4  \n",
       "4            105.0    43.0         215.0  "
      ]
     },
     "execution_count": 262,
     "metadata": {},
     "output_type": "execute_result"
    }
   ],
   "source": [
    "data.head()"
   ]
  },
  {
   "cell_type": "code",
   "execution_count": 301,
   "metadata": {},
   "outputs": [
    {
     "data": {
      "text/plain": [
       "Index(['Date', 'Size', 'Quantity Sold Kgs', 'cost of material(rs per kg) ',\n",
       "       'labor cost (per kg)', 'electricity cost (per kg)',\n",
       "       '  selling price (per kg)', 'Production Cost', 'Profit',\n",
       "       'Total Profit'],\n",
       "      dtype='object')"
      ]
     },
     "execution_count": 301,
     "metadata": {},
     "output_type": "execute_result"
    }
   ],
   "source": [
    "data.columns"
   ]
  },
  {
   "cell_type": "code",
   "execution_count": 393,
   "metadata": {},
   "outputs": [
    {
     "data": {
      "application/vnd.plotly.v1+json": {
       "config": {
        "plotlyServerURL": "https://plot.ly"
       },
       "data": [
        {
         "hovertemplate": "Size=%{text}<br>labor cost (per kg)=%{y}<br>Profit=%{marker.color}<extra></extra>",
         "legendgroup": "",
         "marker": {
          "color": [
           40,
           43,
           40,
           53.2,
           43,
           31.700000000000003,
           43,
           40,
           43,
           53.2,
           37,
           42,
           43,
           43,
           43,
           40,
           33.8,
           43,
           46.7,
           43,
           33.8,
           40,
           40,
           46.7,
           43,
           50,
           42,
           43,
           33.8,
           43,
           42,
           40,
           43,
           40,
           42,
           43,
           40,
           42,
           40,
           40,
           50,
           43,
           53.2,
           40,
           31.700000000000003,
           43,
           40,
           40,
           50,
           40,
           40,
           53.2,
           40,
           40,
           42,
           33.8,
           43,
           45.2,
           42,
           37,
           45.2,
           43,
           42,
           43,
           43,
           45.2,
           33.8,
           42,
           53.400000000000006,
           33.8,
           43,
           40,
           40,
           31.700000000000003,
           40,
           33.8,
           46.7,
           33.8,
           46.2,
           43,
           42,
           42,
           33.8,
           40,
           43,
           43,
           46.2,
           42,
           42,
           43,
           33.8,
           33.8,
           42,
           43,
           33.8,
           33.8,
           50,
           33.8,
           42,
           33.8,
           50,
           43,
           42,
           43,
           43,
           33.8,
           50,
           43,
           42,
           42,
           40,
           33.8,
           40,
           33.8,
           33.8,
           40,
           53.400000000000006,
           43,
           43,
           43,
           33.8,
           43,
           33.8,
           40,
           33.8,
           40,
           40,
           40,
           43,
           53.400000000000006,
           33.8,
           40,
           45.2,
           42,
           31.700000000000003,
           42,
           40,
           33.8,
           43,
           40,
           40,
           42,
           42,
           46.2,
           40,
           53.2,
           40,
           40,
           43,
           42,
           53.2,
           33.8,
           40,
           42,
           43,
           33.8,
           50,
           46.2,
           43,
           46.2,
           33.8,
           43,
           33.8,
           33.8,
           40,
           33.8,
           31.700000000000003,
           33.8,
           46.2,
           43,
           46.7,
           50,
           43,
           42,
           40,
           33.8,
           40,
           43,
           46.7,
           45.2,
           53.2,
           53.400000000000006,
           42,
           33.8,
           33.8,
           40,
           46.2,
           43,
           40,
           42,
           46.2,
           43,
           40,
           31.700000000000003,
           33.8,
           53.2,
           40,
           43,
           33.8,
           43,
           40,
           33.8,
           42,
           33.8,
           40,
           42,
           33.8,
           40,
           43,
           40,
           43,
           40,
           42,
           50,
           31.700000000000003
          ],
          "coloraxis": "coloraxis",
          "size": [
           40,
           43,
           40,
           53.2,
           43,
           31.700000000000003,
           43,
           40,
           43,
           53.2,
           37,
           42,
           43,
           43,
           43,
           40,
           33.8,
           43,
           46.7,
           43,
           33.8,
           40,
           40,
           46.7,
           43,
           50,
           42,
           43,
           33.8,
           43,
           42,
           40,
           43,
           40,
           42,
           43,
           40,
           42,
           40,
           40,
           50,
           43,
           53.2,
           40,
           31.700000000000003,
           43,
           40,
           40,
           50,
           40,
           40,
           53.2,
           40,
           40,
           42,
           33.8,
           43,
           45.2,
           42,
           37,
           45.2,
           43,
           42,
           43,
           43,
           45.2,
           33.8,
           42,
           53.400000000000006,
           33.8,
           43,
           40,
           40,
           31.700000000000003,
           40,
           33.8,
           46.7,
           33.8,
           46.2,
           43,
           42,
           42,
           33.8,
           40,
           43,
           43,
           46.2,
           42,
           42,
           43,
           33.8,
           33.8,
           42,
           43,
           33.8,
           33.8,
           50,
           33.8,
           42,
           33.8,
           50,
           43,
           42,
           43,
           43,
           33.8,
           50,
           43,
           42,
           42,
           40,
           33.8,
           40,
           33.8,
           33.8,
           40,
           53.400000000000006,
           43,
           43,
           43,
           33.8,
           43,
           33.8,
           40,
           33.8,
           40,
           40,
           40,
           43,
           53.400000000000006,
           33.8,
           40,
           45.2,
           42,
           31.700000000000003,
           42,
           40,
           33.8,
           43,
           40,
           40,
           42,
           42,
           46.2,
           40,
           53.2,
           40,
           40,
           43,
           42,
           53.2,
           33.8,
           40,
           42,
           43,
           33.8,
           50,
           46.2,
           43,
           46.2,
           33.8,
           43,
           33.8,
           33.8,
           40,
           33.8,
           31.700000000000003,
           33.8,
           46.2,
           43,
           46.7,
           50,
           43,
           42,
           40,
           33.8,
           40,
           43,
           46.7,
           45.2,
           53.2,
           53.400000000000006,
           42,
           33.8,
           33.8,
           40,
           46.2,
           43,
           40,
           42,
           46.2,
           43,
           40,
           31.700000000000003,
           33.8,
           53.2,
           40,
           43,
           33.8,
           43,
           40,
           33.8,
           42,
           33.8,
           40,
           42,
           33.8,
           40,
           43,
           40,
           43,
           40,
           42,
           50,
           31.700000000000003
          ],
          "sizemode": "area",
          "sizeref": 0.1335,
          "symbol": "circle"
         },
         "mode": "markers+text",
         "name": "",
         "orientation": "v",
         "showlegend": false,
         "text": [
          "F",
          "L",
          "E",
          "S",
          "M",
          "A",
          "L",
          "F",
          "M",
          "S",
          "D",
          "G",
          "M",
          "K",
          "M",
          "F",
          "C",
          "M",
          "Q",
          "M",
          "C",
          "E",
          "F",
          "Q",
          "K",
          "Q",
          "G",
          "K",
          "B",
          "M",
          "G",
          "E",
          "M",
          "E",
          "G",
          "L",
          "F",
          "G",
          "E",
          "F",
          "R",
          "M",
          "S",
          "F",
          "A",
          "M",
          "F",
          "E",
          "Q",
          "E",
          "F",
          "S",
          "F",
          "E",
          "G",
          "C",
          "K",
          "N",
          "G",
          "D",
          "N",
          "K",
          "G",
          "L",
          "M",
          "N",
          "C",
          "G",
          "T",
          "B",
          "L",
          "F",
          "F",
          "A",
          "F",
          "C",
          "Q",
          "B",
          "O",
          "M",
          "G",
          "J",
          "C",
          "F",
          "M",
          "L",
          "P",
          "G",
          "J",
          "M",
          "C",
          "B",
          "H",
          "K",
          "B",
          "C",
          "R",
          "B",
          "J",
          "C",
          "R",
          "M",
          "I",
          "M",
          "M",
          "C",
          "R",
          "M",
          "G",
          "H",
          "F",
          "C",
          "F",
          "B",
          "C",
          "E",
          "T",
          "K",
          "L",
          "M",
          "C",
          "K",
          "C",
          "F",
          "B",
          "E",
          "F",
          "F",
          "L",
          "T",
          "C",
          "F",
          "N",
          "G",
          "A",
          "J",
          "F",
          "B",
          "M",
          "F",
          "E",
          "I",
          "H",
          "O",
          "E",
          "S",
          "F",
          "E",
          "L",
          "H",
          "S",
          "B",
          "E",
          "H",
          "K",
          "C",
          "R",
          "P",
          "K",
          "P",
          "B",
          "M",
          "C",
          "B",
          "F",
          "C",
          "A",
          "C",
          "O",
          "L",
          "Q",
          "R",
          "L",
          "I",
          "F",
          "B",
          "E",
          "M",
          "Q",
          "N",
          "S",
          "T",
          "J",
          "C",
          "B",
          "E",
          "O",
          "K",
          "E",
          "H",
          "P",
          "K",
          "F",
          "A",
          "C",
          "S",
          "E",
          "M",
          "B",
          "L",
          "F",
          "C",
          "G",
          "C",
          "F",
          "G",
          "C",
          "E",
          "K",
          "F",
          "L",
          "F",
          "H",
          "Q",
          "A"
         ],
         "type": "scatter",
         "x": [
          "F",
          "L",
          "E",
          "S",
          "M",
          "A",
          "L",
          "F",
          "M",
          "S",
          "D",
          "G",
          "M",
          "K",
          "M",
          "F",
          "C",
          "M",
          "Q",
          "M",
          "C",
          "E",
          "F",
          "Q",
          "K",
          "Q",
          "G",
          "K",
          "B",
          "M",
          "G",
          "E",
          "M",
          "E",
          "G",
          "L",
          "F",
          "G",
          "E",
          "F",
          "R",
          "M",
          "S",
          "F",
          "A",
          "M",
          "F",
          "E",
          "Q",
          "E",
          "F",
          "S",
          "F",
          "E",
          "G",
          "C",
          "K",
          "N",
          "G",
          "D",
          "N",
          "K",
          "G",
          "L",
          "M",
          "N",
          "C",
          "G",
          "T",
          "B",
          "L",
          "F",
          "F",
          "A",
          "F",
          "C",
          "Q",
          "B",
          "O",
          "M",
          "G",
          "J",
          "C",
          "F",
          "M",
          "L",
          "P",
          "G",
          "J",
          "M",
          "C",
          "B",
          "H",
          "K",
          "B",
          "C",
          "R",
          "B",
          "J",
          "C",
          "R",
          "M",
          "I",
          "M",
          "M",
          "C",
          "R",
          "M",
          "G",
          "H",
          "F",
          "C",
          "F",
          "B",
          "C",
          "E",
          "T",
          "K",
          "L",
          "M",
          "C",
          "K",
          "C",
          "F",
          "B",
          "E",
          "F",
          "F",
          "L",
          "T",
          "C",
          "F",
          "N",
          "G",
          "A",
          "J",
          "F",
          "B",
          "M",
          "F",
          "E",
          "I",
          "H",
          "O",
          "E",
          "S",
          "F",
          "E",
          "L",
          "H",
          "S",
          "B",
          "E",
          "H",
          "K",
          "C",
          "R",
          "P",
          "K",
          "P",
          "B",
          "M",
          "C",
          "B",
          "F",
          "C",
          "A",
          "C",
          "O",
          "L",
          "Q",
          "R",
          "L",
          "I",
          "F",
          "B",
          "E",
          "M",
          "Q",
          "N",
          "S",
          "T",
          "J",
          "C",
          "B",
          "E",
          "O",
          "K",
          "E",
          "H",
          "P",
          "K",
          "F",
          "A",
          "C",
          "S",
          "E",
          "M",
          "B",
          "L",
          "F",
          "C",
          "G",
          "C",
          "F",
          "G",
          "C",
          "E",
          "K",
          "F",
          "L",
          "F",
          "H",
          "Q",
          "A"
         ],
         "xaxis": "x",
         "y": [
          22,
          20,
          22,
          12,
          20,
          30,
          20,
          22,
          20,
          12,
          25,
          20,
          20,
          20,
          20,
          22,
          28,
          20,
          15,
          20,
          28,
          22,
          22,
          15,
          20,
          15,
          20,
          20,
          28,
          20,
          20,
          22,
          20,
          22,
          20,
          20,
          22,
          20,
          22,
          22,
          15,
          20,
          12,
          22,
          30,
          20,
          22,
          22,
          15,
          22,
          22,
          12,
          22,
          22,
          20,
          28,
          20,
          18,
          20,
          25,
          18,
          20,
          20,
          20,
          20,
          18,
          28,
          20,
          12,
          28,
          20,
          22,
          22,
          30,
          22,
          28,
          15,
          28,
          18,
          20,
          20,
          20,
          28,
          22,
          20,
          20,
          18,
          20,
          20,
          20,
          28,
          28,
          20,
          20,
          28,
          28,
          15,
          28,
          20,
          28,
          15,
          20,
          20,
          20,
          20,
          28,
          15,
          20,
          20,
          20,
          22,
          28,
          22,
          28,
          28,
          22,
          12,
          20,
          20,
          20,
          28,
          20,
          28,
          22,
          28,
          22,
          22,
          22,
          20,
          12,
          28,
          22,
          18,
          20,
          30,
          20,
          22,
          28,
          20,
          22,
          22,
          20,
          20,
          18,
          22,
          12,
          22,
          22,
          20,
          20,
          12,
          28,
          22,
          20,
          20,
          28,
          15,
          18,
          20,
          18,
          28,
          20,
          28,
          28,
          22,
          28,
          30,
          28,
          18,
          20,
          15,
          15,
          20,
          20,
          22,
          28,
          22,
          20,
          15,
          18,
          12,
          12,
          20,
          28,
          28,
          22,
          18,
          20,
          22,
          20,
          18,
          20,
          22,
          30,
          28,
          12,
          22,
          20,
          28,
          20,
          22,
          28,
          20,
          28,
          22,
          20,
          28,
          22,
          20,
          22,
          20,
          22,
          20,
          15,
          30
         ],
         "yaxis": "y"
        }
       ],
       "layout": {
        "coloraxis": {
         "colorbar": {
          "title": {
           "text": "Profit"
          }
         },
         "colorscale": [
          [
           0,
           "#0d0887"
          ],
          [
           0.1111111111111111,
           "#46039f"
          ],
          [
           0.2222222222222222,
           "#7201a8"
          ],
          [
           0.3333333333333333,
           "#9c179e"
          ],
          [
           0.4444444444444444,
           "#bd3786"
          ],
          [
           0.5555555555555556,
           "#d8576b"
          ],
          [
           0.6666666666666666,
           "#ed7953"
          ],
          [
           0.7777777777777778,
           "#fb9f3a"
          ],
          [
           0.8888888888888888,
           "#fdca26"
          ],
          [
           1,
           "#f0f921"
          ]
         ]
        },
        "font": {
         "color": "black",
         "family": "Courier New"
        },
        "legend": {
         "itemsizing": "constant",
         "title": {
          "font": {
           "color": "green"
          }
         },
         "tracegroupgap": 0
        },
        "template": {
         "data": {
          "bar": [
           {
            "error_x": {
             "color": "#2a3f5f"
            },
            "error_y": {
             "color": "#2a3f5f"
            },
            "marker": {
             "line": {
              "color": "#E5ECF6",
              "width": 0.5
             },
             "pattern": {
              "fillmode": "overlay",
              "size": 10,
              "solidity": 0.2
             }
            },
            "type": "bar"
           }
          ],
          "barpolar": [
           {
            "marker": {
             "line": {
              "color": "#E5ECF6",
              "width": 0.5
             },
             "pattern": {
              "fillmode": "overlay",
              "size": 10,
              "solidity": 0.2
             }
            },
            "type": "barpolar"
           }
          ],
          "carpet": [
           {
            "aaxis": {
             "endlinecolor": "#2a3f5f",
             "gridcolor": "white",
             "linecolor": "white",
             "minorgridcolor": "white",
             "startlinecolor": "#2a3f5f"
            },
            "baxis": {
             "endlinecolor": "#2a3f5f",
             "gridcolor": "white",
             "linecolor": "white",
             "minorgridcolor": "white",
             "startlinecolor": "#2a3f5f"
            },
            "type": "carpet"
           }
          ],
          "choropleth": [
           {
            "colorbar": {
             "outlinewidth": 0,
             "ticks": ""
            },
            "type": "choropleth"
           }
          ],
          "contour": [
           {
            "colorbar": {
             "outlinewidth": 0,
             "ticks": ""
            },
            "colorscale": [
             [
              0,
              "#0d0887"
             ],
             [
              0.1111111111111111,
              "#46039f"
             ],
             [
              0.2222222222222222,
              "#7201a8"
             ],
             [
              0.3333333333333333,
              "#9c179e"
             ],
             [
              0.4444444444444444,
              "#bd3786"
             ],
             [
              0.5555555555555556,
              "#d8576b"
             ],
             [
              0.6666666666666666,
              "#ed7953"
             ],
             [
              0.7777777777777778,
              "#fb9f3a"
             ],
             [
              0.8888888888888888,
              "#fdca26"
             ],
             [
              1,
              "#f0f921"
             ]
            ],
            "type": "contour"
           }
          ],
          "contourcarpet": [
           {
            "colorbar": {
             "outlinewidth": 0,
             "ticks": ""
            },
            "type": "contourcarpet"
           }
          ],
          "heatmap": [
           {
            "colorbar": {
             "outlinewidth": 0,
             "ticks": ""
            },
            "colorscale": [
             [
              0,
              "#0d0887"
             ],
             [
              0.1111111111111111,
              "#46039f"
             ],
             [
              0.2222222222222222,
              "#7201a8"
             ],
             [
              0.3333333333333333,
              "#9c179e"
             ],
             [
              0.4444444444444444,
              "#bd3786"
             ],
             [
              0.5555555555555556,
              "#d8576b"
             ],
             [
              0.6666666666666666,
              "#ed7953"
             ],
             [
              0.7777777777777778,
              "#fb9f3a"
             ],
             [
              0.8888888888888888,
              "#fdca26"
             ],
             [
              1,
              "#f0f921"
             ]
            ],
            "type": "heatmap"
           }
          ],
          "heatmapgl": [
           {
            "colorbar": {
             "outlinewidth": 0,
             "ticks": ""
            },
            "colorscale": [
             [
              0,
              "#0d0887"
             ],
             [
              0.1111111111111111,
              "#46039f"
             ],
             [
              0.2222222222222222,
              "#7201a8"
             ],
             [
              0.3333333333333333,
              "#9c179e"
             ],
             [
              0.4444444444444444,
              "#bd3786"
             ],
             [
              0.5555555555555556,
              "#d8576b"
             ],
             [
              0.6666666666666666,
              "#ed7953"
             ],
             [
              0.7777777777777778,
              "#fb9f3a"
             ],
             [
              0.8888888888888888,
              "#fdca26"
             ],
             [
              1,
              "#f0f921"
             ]
            ],
            "type": "heatmapgl"
           }
          ],
          "histogram": [
           {
            "marker": {
             "pattern": {
              "fillmode": "overlay",
              "size": 10,
              "solidity": 0.2
             }
            },
            "type": "histogram"
           }
          ],
          "histogram2d": [
           {
            "colorbar": {
             "outlinewidth": 0,
             "ticks": ""
            },
            "colorscale": [
             [
              0,
              "#0d0887"
             ],
             [
              0.1111111111111111,
              "#46039f"
             ],
             [
              0.2222222222222222,
              "#7201a8"
             ],
             [
              0.3333333333333333,
              "#9c179e"
             ],
             [
              0.4444444444444444,
              "#bd3786"
             ],
             [
              0.5555555555555556,
              "#d8576b"
             ],
             [
              0.6666666666666666,
              "#ed7953"
             ],
             [
              0.7777777777777778,
              "#fb9f3a"
             ],
             [
              0.8888888888888888,
              "#fdca26"
             ],
             [
              1,
              "#f0f921"
             ]
            ],
            "type": "histogram2d"
           }
          ],
          "histogram2dcontour": [
           {
            "colorbar": {
             "outlinewidth": 0,
             "ticks": ""
            },
            "colorscale": [
             [
              0,
              "#0d0887"
             ],
             [
              0.1111111111111111,
              "#46039f"
             ],
             [
              0.2222222222222222,
              "#7201a8"
             ],
             [
              0.3333333333333333,
              "#9c179e"
             ],
             [
              0.4444444444444444,
              "#bd3786"
             ],
             [
              0.5555555555555556,
              "#d8576b"
             ],
             [
              0.6666666666666666,
              "#ed7953"
             ],
             [
              0.7777777777777778,
              "#fb9f3a"
             ],
             [
              0.8888888888888888,
              "#fdca26"
             ],
             [
              1,
              "#f0f921"
             ]
            ],
            "type": "histogram2dcontour"
           }
          ],
          "mesh3d": [
           {
            "colorbar": {
             "outlinewidth": 0,
             "ticks": ""
            },
            "type": "mesh3d"
           }
          ],
          "parcoords": [
           {
            "line": {
             "colorbar": {
              "outlinewidth": 0,
              "ticks": ""
             }
            },
            "type": "parcoords"
           }
          ],
          "pie": [
           {
            "automargin": true,
            "type": "pie"
           }
          ],
          "scatter": [
           {
            "marker": {
             "colorbar": {
              "outlinewidth": 0,
              "ticks": ""
             }
            },
            "type": "scatter"
           }
          ],
          "scatter3d": [
           {
            "line": {
             "colorbar": {
              "outlinewidth": 0,
              "ticks": ""
             }
            },
            "marker": {
             "colorbar": {
              "outlinewidth": 0,
              "ticks": ""
             }
            },
            "type": "scatter3d"
           }
          ],
          "scattercarpet": [
           {
            "marker": {
             "colorbar": {
              "outlinewidth": 0,
              "ticks": ""
             }
            },
            "type": "scattercarpet"
           }
          ],
          "scattergeo": [
           {
            "marker": {
             "colorbar": {
              "outlinewidth": 0,
              "ticks": ""
             }
            },
            "type": "scattergeo"
           }
          ],
          "scattergl": [
           {
            "marker": {
             "colorbar": {
              "outlinewidth": 0,
              "ticks": ""
             }
            },
            "type": "scattergl"
           }
          ],
          "scattermapbox": [
           {
            "marker": {
             "colorbar": {
              "outlinewidth": 0,
              "ticks": ""
             }
            },
            "type": "scattermapbox"
           }
          ],
          "scatterpolar": [
           {
            "marker": {
             "colorbar": {
              "outlinewidth": 0,
              "ticks": ""
             }
            },
            "type": "scatterpolar"
           }
          ],
          "scatterpolargl": [
           {
            "marker": {
             "colorbar": {
              "outlinewidth": 0,
              "ticks": ""
             }
            },
            "type": "scatterpolargl"
           }
          ],
          "scatterternary": [
           {
            "marker": {
             "colorbar": {
              "outlinewidth": 0,
              "ticks": ""
             }
            },
            "type": "scatterternary"
           }
          ],
          "surface": [
           {
            "colorbar": {
             "outlinewidth": 0,
             "ticks": ""
            },
            "colorscale": [
             [
              0,
              "#0d0887"
             ],
             [
              0.1111111111111111,
              "#46039f"
             ],
             [
              0.2222222222222222,
              "#7201a8"
             ],
             [
              0.3333333333333333,
              "#9c179e"
             ],
             [
              0.4444444444444444,
              "#bd3786"
             ],
             [
              0.5555555555555556,
              "#d8576b"
             ],
             [
              0.6666666666666666,
              "#ed7953"
             ],
             [
              0.7777777777777778,
              "#fb9f3a"
             ],
             [
              0.8888888888888888,
              "#fdca26"
             ],
             [
              1,
              "#f0f921"
             ]
            ],
            "type": "surface"
           }
          ],
          "table": [
           {
            "cells": {
             "fill": {
              "color": "#EBF0F8"
             },
             "line": {
              "color": "white"
             }
            },
            "header": {
             "fill": {
              "color": "#C8D4E3"
             },
             "line": {
              "color": "white"
             }
            },
            "type": "table"
           }
          ]
         },
         "layout": {
          "annotationdefaults": {
           "arrowcolor": "#2a3f5f",
           "arrowhead": 0,
           "arrowwidth": 1
          },
          "autotypenumbers": "strict",
          "coloraxis": {
           "colorbar": {
            "outlinewidth": 0,
            "ticks": ""
           }
          },
          "colorscale": {
           "diverging": [
            [
             0,
             "#8e0152"
            ],
            [
             0.1,
             "#c51b7d"
            ],
            [
             0.2,
             "#de77ae"
            ],
            [
             0.3,
             "#f1b6da"
            ],
            [
             0.4,
             "#fde0ef"
            ],
            [
             0.5,
             "#f7f7f7"
            ],
            [
             0.6,
             "#e6f5d0"
            ],
            [
             0.7,
             "#b8e186"
            ],
            [
             0.8,
             "#7fbc41"
            ],
            [
             0.9,
             "#4d9221"
            ],
            [
             1,
             "#276419"
            ]
           ],
           "sequential": [
            [
             0,
             "#0d0887"
            ],
            [
             0.1111111111111111,
             "#46039f"
            ],
            [
             0.2222222222222222,
             "#7201a8"
            ],
            [
             0.3333333333333333,
             "#9c179e"
            ],
            [
             0.4444444444444444,
             "#bd3786"
            ],
            [
             0.5555555555555556,
             "#d8576b"
            ],
            [
             0.6666666666666666,
             "#ed7953"
            ],
            [
             0.7777777777777778,
             "#fb9f3a"
            ],
            [
             0.8888888888888888,
             "#fdca26"
            ],
            [
             1,
             "#f0f921"
            ]
           ],
           "sequentialminus": [
            [
             0,
             "#0d0887"
            ],
            [
             0.1111111111111111,
             "#46039f"
            ],
            [
             0.2222222222222222,
             "#7201a8"
            ],
            [
             0.3333333333333333,
             "#9c179e"
            ],
            [
             0.4444444444444444,
             "#bd3786"
            ],
            [
             0.5555555555555556,
             "#d8576b"
            ],
            [
             0.6666666666666666,
             "#ed7953"
            ],
            [
             0.7777777777777778,
             "#fb9f3a"
            ],
            [
             0.8888888888888888,
             "#fdca26"
            ],
            [
             1,
             "#f0f921"
            ]
           ]
          },
          "colorway": [
           "#636efa",
           "#EF553B",
           "#00cc96",
           "#ab63fa",
           "#FFA15A",
           "#19d3f3",
           "#FF6692",
           "#B6E880",
           "#FF97FF",
           "#FECB52"
          ],
          "font": {
           "color": "#2a3f5f"
          },
          "geo": {
           "bgcolor": "white",
           "lakecolor": "white",
           "landcolor": "#E5ECF6",
           "showlakes": true,
           "showland": true,
           "subunitcolor": "white"
          },
          "hoverlabel": {
           "align": "left"
          },
          "hovermode": "closest",
          "mapbox": {
           "style": "light"
          },
          "paper_bgcolor": "white",
          "plot_bgcolor": "#E5ECF6",
          "polar": {
           "angularaxis": {
            "gridcolor": "white",
            "linecolor": "white",
            "ticks": ""
           },
           "bgcolor": "#E5ECF6",
           "radialaxis": {
            "gridcolor": "white",
            "linecolor": "white",
            "ticks": ""
           }
          },
          "scene": {
           "xaxis": {
            "backgroundcolor": "#E5ECF6",
            "gridcolor": "white",
            "gridwidth": 2,
            "linecolor": "white",
            "showbackground": true,
            "ticks": "",
            "zerolinecolor": "white"
           },
           "yaxis": {
            "backgroundcolor": "#E5ECF6",
            "gridcolor": "white",
            "gridwidth": 2,
            "linecolor": "white",
            "showbackground": true,
            "ticks": "",
            "zerolinecolor": "white"
           },
           "zaxis": {
            "backgroundcolor": "#E5ECF6",
            "gridcolor": "white",
            "gridwidth": 2,
            "linecolor": "white",
            "showbackground": true,
            "ticks": "",
            "zerolinecolor": "white"
           }
          },
          "shapedefaults": {
           "line": {
            "color": "#2a3f5f"
           }
          },
          "ternary": {
           "aaxis": {
            "gridcolor": "white",
            "linecolor": "white",
            "ticks": ""
           },
           "baxis": {
            "gridcolor": "white",
            "linecolor": "white",
            "ticks": ""
           },
           "bgcolor": "#E5ECF6",
           "caxis": {
            "gridcolor": "white",
            "linecolor": "white",
            "ticks": ""
           }
          },
          "title": {
           "x": 0.05
          },
          "xaxis": {
           "automargin": true,
           "gridcolor": "white",
           "linecolor": "white",
           "ticks": "",
           "title": {
            "standoff": 15
           },
           "zerolinecolor": "white",
           "zerolinewidth": 2
          },
          "yaxis": {
           "automargin": true,
           "gridcolor": "white",
           "linecolor": "white",
           "ticks": "",
           "title": {
            "standoff": 15
           },
           "zerolinecolor": "white",
           "zerolinewidth": 2
          }
         }
        },
        "title": {
         "font": {
          "color": "black",
          "family": "Bahnschrift Light"
         },
         "text": "Sales in Winter"
        },
        "xaxis": {
         "anchor": "y",
         "domain": [
          0,
          1
         ],
         "title": {
          "font": {
           "family": "Candara Light"
          },
          "text": "Size"
         }
        },
        "yaxis": {
         "anchor": "x",
         "domain": [
          0,
          1
         ],
         "title": {
          "font": {
           "family": "Candara Light"
          },
          "text": "labor cost (per kg)"
         }
        }
       }
      },
      "text/html": [
       "<div>                            <div id=\"8cda4a29-3274-4609-ba12-83a4fc5ff13b\" class=\"plotly-graph-div\" style=\"height:525px; width:100%;\"></div>            <script type=\"text/javascript\">                require([\"plotly\"], function(Plotly) {                    window.PLOTLYENV=window.PLOTLYENV || {};                                    if (document.getElementById(\"8cda4a29-3274-4609-ba12-83a4fc5ff13b\")) {                    Plotly.newPlot(                        \"8cda4a29-3274-4609-ba12-83a4fc5ff13b\",                        [{\"hovertemplate\":\"Size=%{text}<br>labor cost (per kg)=%{y}<br>Profit=%{marker.color}<extra></extra>\",\"legendgroup\":\"\",\"marker\":{\"color\":[40.0,43.0,40.0,53.2,43.0,31.700000000000003,43.0,40.0,43.0,53.2,37.0,42.0,43.0,43.0,43.0,40.0,33.8,43.0,46.7,43.0,33.8,40.0,40.0,46.7,43.0,50.0,42.0,43.0,33.8,43.0,42.0,40.0,43.0,40.0,42.0,43.0,40.0,42.0,40.0,40.0,50.0,43.0,53.2,40.0,31.700000000000003,43.0,40.0,40.0,50.0,40.0,40.0,53.2,40.0,40.0,42.0,33.8,43.0,45.2,42.0,37.0,45.2,43.0,42.0,43.0,43.0,45.2,33.8,42.0,53.400000000000006,33.8,43.0,40.0,40.0,31.700000000000003,40.0,33.8,46.7,33.8,46.2,43.0,42.0,42.0,33.8,40.0,43.0,43.0,46.2,42.0,42.0,43.0,33.8,33.8,42.0,43.0,33.8,33.8,50.0,33.8,42.0,33.8,50.0,43.0,42.0,43.0,43.0,33.8,50.0,43.0,42.0,42.0,40.0,33.8,40.0,33.8,33.8,40.0,53.400000000000006,43.0,43.0,43.0,33.8,43.0,33.8,40.0,33.8,40.0,40.0,40.0,43.0,53.400000000000006,33.8,40.0,45.2,42.0,31.700000000000003,42.0,40.0,33.8,43.0,40.0,40.0,42.0,42.0,46.2,40.0,53.2,40.0,40.0,43.0,42.0,53.2,33.8,40.0,42.0,43.0,33.8,50.0,46.2,43.0,46.2,33.8,43.0,33.8,33.8,40.0,33.8,31.700000000000003,33.8,46.2,43.0,46.7,50.0,43.0,42.0,40.0,33.8,40.0,43.0,46.7,45.2,53.2,53.400000000000006,42.0,33.8,33.8,40.0,46.2,43.0,40.0,42.0,46.2,43.0,40.0,31.700000000000003,33.8,53.2,40.0,43.0,33.8,43.0,40.0,33.8,42.0,33.8,40.0,42.0,33.8,40.0,43.0,40.0,43.0,40.0,42.0,50.0,31.700000000000003],\"coloraxis\":\"coloraxis\",\"size\":[40.0,43.0,40.0,53.2,43.0,31.700000000000003,43.0,40.0,43.0,53.2,37.0,42.0,43.0,43.0,43.0,40.0,33.8,43.0,46.7,43.0,33.8,40.0,40.0,46.7,43.0,50.0,42.0,43.0,33.8,43.0,42.0,40.0,43.0,40.0,42.0,43.0,40.0,42.0,40.0,40.0,50.0,43.0,53.2,40.0,31.700000000000003,43.0,40.0,40.0,50.0,40.0,40.0,53.2,40.0,40.0,42.0,33.8,43.0,45.2,42.0,37.0,45.2,43.0,42.0,43.0,43.0,45.2,33.8,42.0,53.400000000000006,33.8,43.0,40.0,40.0,31.700000000000003,40.0,33.8,46.7,33.8,46.2,43.0,42.0,42.0,33.8,40.0,43.0,43.0,46.2,42.0,42.0,43.0,33.8,33.8,42.0,43.0,33.8,33.8,50.0,33.8,42.0,33.8,50.0,43.0,42.0,43.0,43.0,33.8,50.0,43.0,42.0,42.0,40.0,33.8,40.0,33.8,33.8,40.0,53.400000000000006,43.0,43.0,43.0,33.8,43.0,33.8,40.0,33.8,40.0,40.0,40.0,43.0,53.400000000000006,33.8,40.0,45.2,42.0,31.700000000000003,42.0,40.0,33.8,43.0,40.0,40.0,42.0,42.0,46.2,40.0,53.2,40.0,40.0,43.0,42.0,53.2,33.8,40.0,42.0,43.0,33.8,50.0,46.2,43.0,46.2,33.8,43.0,33.8,33.8,40.0,33.8,31.700000000000003,33.8,46.2,43.0,46.7,50.0,43.0,42.0,40.0,33.8,40.0,43.0,46.7,45.2,53.2,53.400000000000006,42.0,33.8,33.8,40.0,46.2,43.0,40.0,42.0,46.2,43.0,40.0,31.700000000000003,33.8,53.2,40.0,43.0,33.8,43.0,40.0,33.8,42.0,33.8,40.0,42.0,33.8,40.0,43.0,40.0,43.0,40.0,42.0,50.0,31.700000000000003],\"sizemode\":\"area\",\"sizeref\":0.1335,\"symbol\":\"circle\"},\"mode\":\"markers+text\",\"name\":\"\",\"orientation\":\"v\",\"showlegend\":false,\"text\":[\"F\",\"L\",\"E\",\"S\",\"M\",\"A\",\"L\",\"F\",\"M\",\"S\",\"D\",\"G\",\"M\",\"K\",\"M\",\"F\",\"C\",\"M\",\"Q\",\"M\",\"C\",\"E\",\"F\",\"Q\",\"K\",\"Q\",\"G\",\"K\",\"B\",\"M\",\"G\",\"E\",\"M\",\"E\",\"G\",\"L\",\"F\",\"G\",\"E\",\"F\",\"R\",\"M\",\"S\",\"F\",\"A\",\"M\",\"F\",\"E\",\"Q\",\"E\",\"F\",\"S\",\"F\",\"E\",\"G\",\"C\",\"K\",\"N\",\"G\",\"D\",\"N\",\"K\",\"G\",\"L\",\"M\",\"N\",\"C\",\"G\",\"T\",\"B\",\"L\",\"F\",\"F\",\"A\",\"F\",\"C\",\"Q\",\"B\",\"O\",\"M\",\"G\",\"J\",\"C\",\"F\",\"M\",\"L\",\"P\",\"G\",\"J\",\"M\",\"C\",\"B\",\"H\",\"K\",\"B\",\"C\",\"R\",\"B\",\"J\",\"C\",\"R\",\"M\",\"I\",\"M\",\"M\",\"C\",\"R\",\"M\",\"G\",\"H\",\"F\",\"C\",\"F\",\"B\",\"C\",\"E\",\"T\",\"K\",\"L\",\"M\",\"C\",\"K\",\"C\",\"F\",\"B\",\"E\",\"F\",\"F\",\"L\",\"T\",\"C\",\"F\",\"N\",\"G\",\"A\",\"J\",\"F\",\"B\",\"M\",\"F\",\"E\",\"I\",\"H\",\"O\",\"E\",\"S\",\"F\",\"E\",\"L\",\"H\",\"S\",\"B\",\"E\",\"H\",\"K\",\"C\",\"R\",\"P\",\"K\",\"P\",\"B\",\"M\",\"C\",\"B\",\"F\",\"C\",\"A\",\"C\",\"O\",\"L\",\"Q\",\"R\",\"L\",\"I\",\"F\",\"B\",\"E\",\"M\",\"Q\",\"N\",\"S\",\"T\",\"J\",\"C\",\"B\",\"E\",\"O\",\"K\",\"E\",\"H\",\"P\",\"K\",\"F\",\"A\",\"C\",\"S\",\"E\",\"M\",\"B\",\"L\",\"F\",\"C\",\"G\",\"C\",\"F\",\"G\",\"C\",\"E\",\"K\",\"F\",\"L\",\"F\",\"H\",\"Q\",\"A\"],\"type\":\"scatter\",\"x\":[\"F\",\"L\",\"E\",\"S\",\"M\",\"A\",\"L\",\"F\",\"M\",\"S\",\"D\",\"G\",\"M\",\"K\",\"M\",\"F\",\"C\",\"M\",\"Q\",\"M\",\"C\",\"E\",\"F\",\"Q\",\"K\",\"Q\",\"G\",\"K\",\"B\",\"M\",\"G\",\"E\",\"M\",\"E\",\"G\",\"L\",\"F\",\"G\",\"E\",\"F\",\"R\",\"M\",\"S\",\"F\",\"A\",\"M\",\"F\",\"E\",\"Q\",\"E\",\"F\",\"S\",\"F\",\"E\",\"G\",\"C\",\"K\",\"N\",\"G\",\"D\",\"N\",\"K\",\"G\",\"L\",\"M\",\"N\",\"C\",\"G\",\"T\",\"B\",\"L\",\"F\",\"F\",\"A\",\"F\",\"C\",\"Q\",\"B\",\"O\",\"M\",\"G\",\"J\",\"C\",\"F\",\"M\",\"L\",\"P\",\"G\",\"J\",\"M\",\"C\",\"B\",\"H\",\"K\",\"B\",\"C\",\"R\",\"B\",\"J\",\"C\",\"R\",\"M\",\"I\",\"M\",\"M\",\"C\",\"R\",\"M\",\"G\",\"H\",\"F\",\"C\",\"F\",\"B\",\"C\",\"E\",\"T\",\"K\",\"L\",\"M\",\"C\",\"K\",\"C\",\"F\",\"B\",\"E\",\"F\",\"F\",\"L\",\"T\",\"C\",\"F\",\"N\",\"G\",\"A\",\"J\",\"F\",\"B\",\"M\",\"F\",\"E\",\"I\",\"H\",\"O\",\"E\",\"S\",\"F\",\"E\",\"L\",\"H\",\"S\",\"B\",\"E\",\"H\",\"K\",\"C\",\"R\",\"P\",\"K\",\"P\",\"B\",\"M\",\"C\",\"B\",\"F\",\"C\",\"A\",\"C\",\"O\",\"L\",\"Q\",\"R\",\"L\",\"I\",\"F\",\"B\",\"E\",\"M\",\"Q\",\"N\",\"S\",\"T\",\"J\",\"C\",\"B\",\"E\",\"O\",\"K\",\"E\",\"H\",\"P\",\"K\",\"F\",\"A\",\"C\",\"S\",\"E\",\"M\",\"B\",\"L\",\"F\",\"C\",\"G\",\"C\",\"F\",\"G\",\"C\",\"E\",\"K\",\"F\",\"L\",\"F\",\"H\",\"Q\",\"A\"],\"xaxis\":\"x\",\"y\":[22,20,22,12,20,30,20,22,20,12,25,20,20,20,20,22,28,20,15,20,28,22,22,15,20,15,20,20,28,20,20,22,20,22,20,20,22,20,22,22,15,20,12,22,30,20,22,22,15,22,22,12,22,22,20,28,20,18,20,25,18,20,20,20,20,18,28,20,12,28,20,22,22,30,22,28,15,28,18,20,20,20,28,22,20,20,18,20,20,20,28,28,20,20,28,28,15,28,20,28,15,20,20,20,20,28,15,20,20,20,22,28,22,28,28,22,12,20,20,20,28,20,28,22,28,22,22,22,20,12,28,22,18,20,30,20,22,28,20,22,22,20,20,18,22,12,22,22,20,20,12,28,22,20,20,28,15,18,20,18,28,20,28,28,22,28,30,28,18,20,15,15,20,20,22,28,22,20,15,18,12,12,20,28,28,22,18,20,22,20,18,20,22,30,28,12,22,20,28,20,22,28,20,28,22,20,28,22,20,22,20,22,20,15,30],\"yaxis\":\"y\"}],                        {\"coloraxis\":{\"colorbar\":{\"title\":{\"text\":\"Profit\"}},\"colorscale\":[[0.0,\"#0d0887\"],[0.1111111111111111,\"#46039f\"],[0.2222222222222222,\"#7201a8\"],[0.3333333333333333,\"#9c179e\"],[0.4444444444444444,\"#bd3786\"],[0.5555555555555556,\"#d8576b\"],[0.6666666666666666,\"#ed7953\"],[0.7777777777777778,\"#fb9f3a\"],[0.8888888888888888,\"#fdca26\"],[1.0,\"#f0f921\"]]},\"font\":{\"color\":\"black\",\"family\":\"Courier New\"},\"legend\":{\"itemsizing\":\"constant\",\"title\":{\"font\":{\"color\":\"green\"}},\"tracegroupgap\":0},\"template\":{\"data\":{\"bar\":[{\"error_x\":{\"color\":\"#2a3f5f\"},\"error_y\":{\"color\":\"#2a3f5f\"},\"marker\":{\"line\":{\"color\":\"#E5ECF6\",\"width\":0.5},\"pattern\":{\"fillmode\":\"overlay\",\"size\":10,\"solidity\":0.2}},\"type\":\"bar\"}],\"barpolar\":[{\"marker\":{\"line\":{\"color\":\"#E5ECF6\",\"width\":0.5},\"pattern\":{\"fillmode\":\"overlay\",\"size\":10,\"solidity\":0.2}},\"type\":\"barpolar\"}],\"carpet\":[{\"aaxis\":{\"endlinecolor\":\"#2a3f5f\",\"gridcolor\":\"white\",\"linecolor\":\"white\",\"minorgridcolor\":\"white\",\"startlinecolor\":\"#2a3f5f\"},\"baxis\":{\"endlinecolor\":\"#2a3f5f\",\"gridcolor\":\"white\",\"linecolor\":\"white\",\"minorgridcolor\":\"white\",\"startlinecolor\":\"#2a3f5f\"},\"type\":\"carpet\"}],\"choropleth\":[{\"colorbar\":{\"outlinewidth\":0,\"ticks\":\"\"},\"type\":\"choropleth\"}],\"contour\":[{\"colorbar\":{\"outlinewidth\":0,\"ticks\":\"\"},\"colorscale\":[[0.0,\"#0d0887\"],[0.1111111111111111,\"#46039f\"],[0.2222222222222222,\"#7201a8\"],[0.3333333333333333,\"#9c179e\"],[0.4444444444444444,\"#bd3786\"],[0.5555555555555556,\"#d8576b\"],[0.6666666666666666,\"#ed7953\"],[0.7777777777777778,\"#fb9f3a\"],[0.8888888888888888,\"#fdca26\"],[1.0,\"#f0f921\"]],\"type\":\"contour\"}],\"contourcarpet\":[{\"colorbar\":{\"outlinewidth\":0,\"ticks\":\"\"},\"type\":\"contourcarpet\"}],\"heatmap\":[{\"colorbar\":{\"outlinewidth\":0,\"ticks\":\"\"},\"colorscale\":[[0.0,\"#0d0887\"],[0.1111111111111111,\"#46039f\"],[0.2222222222222222,\"#7201a8\"],[0.3333333333333333,\"#9c179e\"],[0.4444444444444444,\"#bd3786\"],[0.5555555555555556,\"#d8576b\"],[0.6666666666666666,\"#ed7953\"],[0.7777777777777778,\"#fb9f3a\"],[0.8888888888888888,\"#fdca26\"],[1.0,\"#f0f921\"]],\"type\":\"heatmap\"}],\"heatmapgl\":[{\"colorbar\":{\"outlinewidth\":0,\"ticks\":\"\"},\"colorscale\":[[0.0,\"#0d0887\"],[0.1111111111111111,\"#46039f\"],[0.2222222222222222,\"#7201a8\"],[0.3333333333333333,\"#9c179e\"],[0.4444444444444444,\"#bd3786\"],[0.5555555555555556,\"#d8576b\"],[0.6666666666666666,\"#ed7953\"],[0.7777777777777778,\"#fb9f3a\"],[0.8888888888888888,\"#fdca26\"],[1.0,\"#f0f921\"]],\"type\":\"heatmapgl\"}],\"histogram\":[{\"marker\":{\"pattern\":{\"fillmode\":\"overlay\",\"size\":10,\"solidity\":0.2}},\"type\":\"histogram\"}],\"histogram2d\":[{\"colorbar\":{\"outlinewidth\":0,\"ticks\":\"\"},\"colorscale\":[[0.0,\"#0d0887\"],[0.1111111111111111,\"#46039f\"],[0.2222222222222222,\"#7201a8\"],[0.3333333333333333,\"#9c179e\"],[0.4444444444444444,\"#bd3786\"],[0.5555555555555556,\"#d8576b\"],[0.6666666666666666,\"#ed7953\"],[0.7777777777777778,\"#fb9f3a\"],[0.8888888888888888,\"#fdca26\"],[1.0,\"#f0f921\"]],\"type\":\"histogram2d\"}],\"histogram2dcontour\":[{\"colorbar\":{\"outlinewidth\":0,\"ticks\":\"\"},\"colorscale\":[[0.0,\"#0d0887\"],[0.1111111111111111,\"#46039f\"],[0.2222222222222222,\"#7201a8\"],[0.3333333333333333,\"#9c179e\"],[0.4444444444444444,\"#bd3786\"],[0.5555555555555556,\"#d8576b\"],[0.6666666666666666,\"#ed7953\"],[0.7777777777777778,\"#fb9f3a\"],[0.8888888888888888,\"#fdca26\"],[1.0,\"#f0f921\"]],\"type\":\"histogram2dcontour\"}],\"mesh3d\":[{\"colorbar\":{\"outlinewidth\":0,\"ticks\":\"\"},\"type\":\"mesh3d\"}],\"parcoords\":[{\"line\":{\"colorbar\":{\"outlinewidth\":0,\"ticks\":\"\"}},\"type\":\"parcoords\"}],\"pie\":[{\"automargin\":true,\"type\":\"pie\"}],\"scatter\":[{\"marker\":{\"colorbar\":{\"outlinewidth\":0,\"ticks\":\"\"}},\"type\":\"scatter\"}],\"scatter3d\":[{\"line\":{\"colorbar\":{\"outlinewidth\":0,\"ticks\":\"\"}},\"marker\":{\"colorbar\":{\"outlinewidth\":0,\"ticks\":\"\"}},\"type\":\"scatter3d\"}],\"scattercarpet\":[{\"marker\":{\"colorbar\":{\"outlinewidth\":0,\"ticks\":\"\"}},\"type\":\"scattercarpet\"}],\"scattergeo\":[{\"marker\":{\"colorbar\":{\"outlinewidth\":0,\"ticks\":\"\"}},\"type\":\"scattergeo\"}],\"scattergl\":[{\"marker\":{\"colorbar\":{\"outlinewidth\":0,\"ticks\":\"\"}},\"type\":\"scattergl\"}],\"scattermapbox\":[{\"marker\":{\"colorbar\":{\"outlinewidth\":0,\"ticks\":\"\"}},\"type\":\"scattermapbox\"}],\"scatterpolar\":[{\"marker\":{\"colorbar\":{\"outlinewidth\":0,\"ticks\":\"\"}},\"type\":\"scatterpolar\"}],\"scatterpolargl\":[{\"marker\":{\"colorbar\":{\"outlinewidth\":0,\"ticks\":\"\"}},\"type\":\"scatterpolargl\"}],\"scatterternary\":[{\"marker\":{\"colorbar\":{\"outlinewidth\":0,\"ticks\":\"\"}},\"type\":\"scatterternary\"}],\"surface\":[{\"colorbar\":{\"outlinewidth\":0,\"ticks\":\"\"},\"colorscale\":[[0.0,\"#0d0887\"],[0.1111111111111111,\"#46039f\"],[0.2222222222222222,\"#7201a8\"],[0.3333333333333333,\"#9c179e\"],[0.4444444444444444,\"#bd3786\"],[0.5555555555555556,\"#d8576b\"],[0.6666666666666666,\"#ed7953\"],[0.7777777777777778,\"#fb9f3a\"],[0.8888888888888888,\"#fdca26\"],[1.0,\"#f0f921\"]],\"type\":\"surface\"}],\"table\":[{\"cells\":{\"fill\":{\"color\":\"#EBF0F8\"},\"line\":{\"color\":\"white\"}},\"header\":{\"fill\":{\"color\":\"#C8D4E3\"},\"line\":{\"color\":\"white\"}},\"type\":\"table\"}]},\"layout\":{\"annotationdefaults\":{\"arrowcolor\":\"#2a3f5f\",\"arrowhead\":0,\"arrowwidth\":1},\"autotypenumbers\":\"strict\",\"coloraxis\":{\"colorbar\":{\"outlinewidth\":0,\"ticks\":\"\"}},\"colorscale\":{\"diverging\":[[0,\"#8e0152\"],[0.1,\"#c51b7d\"],[0.2,\"#de77ae\"],[0.3,\"#f1b6da\"],[0.4,\"#fde0ef\"],[0.5,\"#f7f7f7\"],[0.6,\"#e6f5d0\"],[0.7,\"#b8e186\"],[0.8,\"#7fbc41\"],[0.9,\"#4d9221\"],[1,\"#276419\"]],\"sequential\":[[0.0,\"#0d0887\"],[0.1111111111111111,\"#46039f\"],[0.2222222222222222,\"#7201a8\"],[0.3333333333333333,\"#9c179e\"],[0.4444444444444444,\"#bd3786\"],[0.5555555555555556,\"#d8576b\"],[0.6666666666666666,\"#ed7953\"],[0.7777777777777778,\"#fb9f3a\"],[0.8888888888888888,\"#fdca26\"],[1.0,\"#f0f921\"]],\"sequentialminus\":[[0.0,\"#0d0887\"],[0.1111111111111111,\"#46039f\"],[0.2222222222222222,\"#7201a8\"],[0.3333333333333333,\"#9c179e\"],[0.4444444444444444,\"#bd3786\"],[0.5555555555555556,\"#d8576b\"],[0.6666666666666666,\"#ed7953\"],[0.7777777777777778,\"#fb9f3a\"],[0.8888888888888888,\"#fdca26\"],[1.0,\"#f0f921\"]]},\"colorway\":[\"#636efa\",\"#EF553B\",\"#00cc96\",\"#ab63fa\",\"#FFA15A\",\"#19d3f3\",\"#FF6692\",\"#B6E880\",\"#FF97FF\",\"#FECB52\"],\"font\":{\"color\":\"#2a3f5f\"},\"geo\":{\"bgcolor\":\"white\",\"lakecolor\":\"white\",\"landcolor\":\"#E5ECF6\",\"showlakes\":true,\"showland\":true,\"subunitcolor\":\"white\"},\"hoverlabel\":{\"align\":\"left\"},\"hovermode\":\"closest\",\"mapbox\":{\"style\":\"light\"},\"paper_bgcolor\":\"white\",\"plot_bgcolor\":\"#E5ECF6\",\"polar\":{\"angularaxis\":{\"gridcolor\":\"white\",\"linecolor\":\"white\",\"ticks\":\"\"},\"bgcolor\":\"#E5ECF6\",\"radialaxis\":{\"gridcolor\":\"white\",\"linecolor\":\"white\",\"ticks\":\"\"}},\"scene\":{\"xaxis\":{\"backgroundcolor\":\"#E5ECF6\",\"gridcolor\":\"white\",\"gridwidth\":2,\"linecolor\":\"white\",\"showbackground\":true,\"ticks\":\"\",\"zerolinecolor\":\"white\"},\"yaxis\":{\"backgroundcolor\":\"#E5ECF6\",\"gridcolor\":\"white\",\"gridwidth\":2,\"linecolor\":\"white\",\"showbackground\":true,\"ticks\":\"\",\"zerolinecolor\":\"white\"},\"zaxis\":{\"backgroundcolor\":\"#E5ECF6\",\"gridcolor\":\"white\",\"gridwidth\":2,\"linecolor\":\"white\",\"showbackground\":true,\"ticks\":\"\",\"zerolinecolor\":\"white\"}},\"shapedefaults\":{\"line\":{\"color\":\"#2a3f5f\"}},\"ternary\":{\"aaxis\":{\"gridcolor\":\"white\",\"linecolor\":\"white\",\"ticks\":\"\"},\"baxis\":{\"gridcolor\":\"white\",\"linecolor\":\"white\",\"ticks\":\"\"},\"bgcolor\":\"#E5ECF6\",\"caxis\":{\"gridcolor\":\"white\",\"linecolor\":\"white\",\"ticks\":\"\"}},\"title\":{\"x\":0.05},\"xaxis\":{\"automargin\":true,\"gridcolor\":\"white\",\"linecolor\":\"white\",\"ticks\":\"\",\"title\":{\"standoff\":15},\"zerolinecolor\":\"white\",\"zerolinewidth\":2},\"yaxis\":{\"automargin\":true,\"gridcolor\":\"white\",\"linecolor\":\"white\",\"ticks\":\"\",\"title\":{\"standoff\":15},\"zerolinecolor\":\"white\",\"zerolinewidth\":2}}},\"title\":{\"font\":{\"color\":\"black\",\"family\":\"Bahnschrift Light\"},\"text\":\"Sales in Winter\"},\"xaxis\":{\"anchor\":\"y\",\"domain\":[0.0,1.0],\"title\":{\"font\":{\"family\":\"Candara Light\"},\"text\":\"Size\"}},\"yaxis\":{\"anchor\":\"x\",\"domain\":[0.0,1.0],\"title\":{\"font\":{\"family\":\"Candara Light\"},\"text\":\"labor cost (per kg)\"}}},                        {\"responsive\": true}                    ).then(function(){\n",
       "                            \n",
       "var gd = document.getElementById('8cda4a29-3274-4609-ba12-83a4fc5ff13b');\n",
       "var x = new MutationObserver(function (mutations, observer) {{\n",
       "        var display = window.getComputedStyle(gd).display;\n",
       "        if (!display || display === 'none') {{\n",
       "            console.log([gd, 'removed!']);\n",
       "            Plotly.purge(gd);\n",
       "            observer.disconnect();\n",
       "        }}\n",
       "}});\n",
       "\n",
       "// Listen for the removal of the full notebook cells\n",
       "var notebookContainer = gd.closest('#notebook-container');\n",
       "if (notebookContainer) {{\n",
       "    x.observe(notebookContainer, {childList: true});\n",
       "}}\n",
       "\n",
       "// Listen for the clearing of the current output cell\n",
       "var outputEl = gd.closest('.output');\n",
       "if (outputEl) {{\n",
       "    x.observe(outputEl, {childList: true});\n",
       "}}\n",
       "\n",
       "                        })                };                });            </script>        </div>"
      ]
     },
     "metadata": {},
     "output_type": "display_data"
    }
   ],
   "source": [
    "fig = px.scatter( data  , x=data[\"Size\"], y=data[\"labor cost (per kg)\"],\n",
    "\t         size=data[\"Profit\"], color=\"Profit\" ,\n",
    "                 title = \"Sales in Winter\" , \n",
    "                labels = dict( x= \"Date\" , y= \"Quantity Sold kgs\") , \n",
    "                text = data.Size)\n",
    "fig.update_xaxes(title_font_family=\"Candara Light\")\n",
    "fig.update_yaxes(title_font_family=\"Candara Light\")\n",
    "\n",
    "fig.update_layout(\n",
    "    font_family=\"Courier New\",\n",
    "    font_color=\"black\",\n",
    "    title_font_family=\"Bahnschrift Light\",\n",
    "    title_font_color=\"black\",\n",
    "    legend_title_font_color=\"green\"\n",
    ")\n",
    "fig.show()"
   ]
  },
  {
   "cell_type": "code",
   "execution_count": 318,
   "metadata": {},
   "outputs": [
    {
     "data": {
      "application/vnd.plotly.v1+json": {
       "config": {
        "plotlyServerURL": "https://plot.ly"
       },
       "data": [
        {
         "alignmentgroup": "True",
         "bingroup": "x",
         "histfunc": "sum",
         "hovertemplate": "Size=%{x}<br>sum of Profit=%{y}<extra></extra>",
         "legendgroup": "",
         "marker": {
          "color": "#636efa",
          "pattern": {
           "shape": ""
          }
         },
         "name": "",
         "offsetgroup": "",
         "orientation": "v",
         "showlegend": false,
         "type": "histogram",
         "x": [
          "F",
          "L",
          "E",
          "S",
          "M",
          "A",
          "L",
          "F",
          "M",
          "S",
          "D",
          "G",
          "M",
          "K",
          "M",
          "F",
          "C",
          "M",
          "Q",
          "M",
          "C",
          "E",
          "F",
          "Q",
          "K",
          "Q",
          "G",
          "K",
          "B",
          "M",
          "G",
          "E",
          "M",
          "E",
          "G",
          "L",
          "F",
          "G",
          "E",
          "F",
          "R",
          "M",
          "S",
          "F",
          "A",
          "M",
          "F",
          "E",
          "Q",
          "E",
          "F",
          "S",
          "F",
          "E",
          "G",
          "C",
          "K",
          "N",
          "G",
          "D",
          "N",
          "K",
          "G",
          "L",
          "M",
          "N",
          "C",
          "G",
          "T",
          "B",
          "L",
          "F",
          "F",
          "A",
          "F",
          "C",
          "Q",
          "B",
          "O",
          "M",
          "G",
          "J",
          "C",
          "F",
          "M",
          "L",
          "P",
          "G",
          "J",
          "M",
          "C",
          "B",
          "H",
          "K",
          "B",
          "C",
          "R",
          "B",
          "J",
          "C",
          "R",
          "M",
          "I",
          "M",
          "M",
          "C",
          "R",
          "M",
          "G",
          "H",
          "F",
          "C",
          "F",
          "B",
          "C",
          "E",
          "T",
          "K",
          "L",
          "M",
          "C",
          "K",
          "C",
          "F",
          "B",
          "E",
          "F",
          "F",
          "L",
          "T",
          "C",
          "F",
          "N",
          "G",
          "A",
          "J",
          "F",
          "B",
          "M",
          "F",
          "E",
          "I",
          "H",
          "O",
          "E",
          "S",
          "F",
          "E",
          "L",
          "H",
          "S",
          "B",
          "E",
          "H",
          "K",
          "C",
          "R",
          "P",
          "K",
          "P",
          "B",
          "M",
          "C",
          "B",
          "F",
          "C",
          "A",
          "C",
          "O",
          "L",
          "Q",
          "R",
          "L",
          "I",
          "F",
          "B",
          "E",
          "M",
          "Q",
          "N",
          "S",
          "T",
          "J",
          "C",
          "B",
          "E",
          "O",
          "K",
          "E",
          "H",
          "P",
          "K",
          "F",
          "A",
          "C",
          "S",
          "E",
          "M",
          "B",
          "L",
          "F",
          "C",
          "G",
          "C",
          "F",
          "G",
          "C",
          "E",
          "K",
          "F",
          "L",
          "F",
          "H",
          "Q",
          "A"
         ],
         "xaxis": "x",
         "y": [
          40,
          43,
          40,
          53.2,
          43,
          31.700000000000003,
          43,
          40,
          43,
          53.2,
          37,
          42,
          43,
          43,
          43,
          40,
          33.8,
          43,
          46.7,
          43,
          33.8,
          40,
          40,
          46.7,
          43,
          50,
          42,
          43,
          33.8,
          43,
          42,
          40,
          43,
          40,
          42,
          43,
          40,
          42,
          40,
          40,
          50,
          43,
          53.2,
          40,
          31.700000000000003,
          43,
          40,
          40,
          50,
          40,
          40,
          53.2,
          40,
          40,
          42,
          33.8,
          43,
          45.2,
          42,
          37,
          45.2,
          43,
          42,
          43,
          43,
          45.2,
          33.8,
          42,
          53.400000000000006,
          33.8,
          43,
          40,
          40,
          31.700000000000003,
          40,
          33.8,
          46.7,
          33.8,
          46.2,
          43,
          42,
          42,
          33.8,
          40,
          43,
          43,
          46.2,
          42,
          42,
          43,
          33.8,
          33.8,
          42,
          43,
          33.8,
          33.8,
          50,
          33.8,
          42,
          33.8,
          50,
          43,
          42,
          43,
          43,
          33.8,
          50,
          43,
          42,
          42,
          40,
          33.8,
          40,
          33.8,
          33.8,
          40,
          53.400000000000006,
          43,
          43,
          43,
          33.8,
          43,
          33.8,
          40,
          33.8,
          40,
          40,
          40,
          43,
          53.400000000000006,
          33.8,
          40,
          45.2,
          42,
          31.700000000000003,
          42,
          40,
          33.8,
          43,
          40,
          40,
          42,
          42,
          46.2,
          40,
          53.2,
          40,
          40,
          43,
          42,
          53.2,
          33.8,
          40,
          42,
          43,
          33.8,
          50,
          46.2,
          43,
          46.2,
          33.8,
          43,
          33.8,
          33.8,
          40,
          33.8,
          31.700000000000003,
          33.8,
          46.2,
          43,
          46.7,
          50,
          43,
          42,
          40,
          33.8,
          40,
          43,
          46.7,
          45.2,
          53.2,
          53.400000000000006,
          42,
          33.8,
          33.8,
          40,
          46.2,
          43,
          40,
          42,
          46.2,
          43,
          40,
          31.700000000000003,
          33.8,
          53.2,
          40,
          43,
          33.8,
          43,
          40,
          33.8,
          42,
          33.8,
          40,
          42,
          33.8,
          40,
          43,
          40,
          43,
          40,
          42,
          50,
          31.700000000000003
         ],
         "yaxis": "y"
        }
       ],
       "layout": {
        "barmode": "relative",
        "legend": {
         "tracegroupgap": 0
        },
        "margin": {
         "t": 60
        },
        "template": {
         "data": {
          "bar": [
           {
            "error_x": {
             "color": "#2a3f5f"
            },
            "error_y": {
             "color": "#2a3f5f"
            },
            "marker": {
             "line": {
              "color": "#E5ECF6",
              "width": 0.5
             },
             "pattern": {
              "fillmode": "overlay",
              "size": 10,
              "solidity": 0.2
             }
            },
            "type": "bar"
           }
          ],
          "barpolar": [
           {
            "marker": {
             "line": {
              "color": "#E5ECF6",
              "width": 0.5
             },
             "pattern": {
              "fillmode": "overlay",
              "size": 10,
              "solidity": 0.2
             }
            },
            "type": "barpolar"
           }
          ],
          "carpet": [
           {
            "aaxis": {
             "endlinecolor": "#2a3f5f",
             "gridcolor": "white",
             "linecolor": "white",
             "minorgridcolor": "white",
             "startlinecolor": "#2a3f5f"
            },
            "baxis": {
             "endlinecolor": "#2a3f5f",
             "gridcolor": "white",
             "linecolor": "white",
             "minorgridcolor": "white",
             "startlinecolor": "#2a3f5f"
            },
            "type": "carpet"
           }
          ],
          "choropleth": [
           {
            "colorbar": {
             "outlinewidth": 0,
             "ticks": ""
            },
            "type": "choropleth"
           }
          ],
          "contour": [
           {
            "colorbar": {
             "outlinewidth": 0,
             "ticks": ""
            },
            "colorscale": [
             [
              0,
              "#0d0887"
             ],
             [
              0.1111111111111111,
              "#46039f"
             ],
             [
              0.2222222222222222,
              "#7201a8"
             ],
             [
              0.3333333333333333,
              "#9c179e"
             ],
             [
              0.4444444444444444,
              "#bd3786"
             ],
             [
              0.5555555555555556,
              "#d8576b"
             ],
             [
              0.6666666666666666,
              "#ed7953"
             ],
             [
              0.7777777777777778,
              "#fb9f3a"
             ],
             [
              0.8888888888888888,
              "#fdca26"
             ],
             [
              1,
              "#f0f921"
             ]
            ],
            "type": "contour"
           }
          ],
          "contourcarpet": [
           {
            "colorbar": {
             "outlinewidth": 0,
             "ticks": ""
            },
            "type": "contourcarpet"
           }
          ],
          "heatmap": [
           {
            "colorbar": {
             "outlinewidth": 0,
             "ticks": ""
            },
            "colorscale": [
             [
              0,
              "#0d0887"
             ],
             [
              0.1111111111111111,
              "#46039f"
             ],
             [
              0.2222222222222222,
              "#7201a8"
             ],
             [
              0.3333333333333333,
              "#9c179e"
             ],
             [
              0.4444444444444444,
              "#bd3786"
             ],
             [
              0.5555555555555556,
              "#d8576b"
             ],
             [
              0.6666666666666666,
              "#ed7953"
             ],
             [
              0.7777777777777778,
              "#fb9f3a"
             ],
             [
              0.8888888888888888,
              "#fdca26"
             ],
             [
              1,
              "#f0f921"
             ]
            ],
            "type": "heatmap"
           }
          ],
          "heatmapgl": [
           {
            "colorbar": {
             "outlinewidth": 0,
             "ticks": ""
            },
            "colorscale": [
             [
              0,
              "#0d0887"
             ],
             [
              0.1111111111111111,
              "#46039f"
             ],
             [
              0.2222222222222222,
              "#7201a8"
             ],
             [
              0.3333333333333333,
              "#9c179e"
             ],
             [
              0.4444444444444444,
              "#bd3786"
             ],
             [
              0.5555555555555556,
              "#d8576b"
             ],
             [
              0.6666666666666666,
              "#ed7953"
             ],
             [
              0.7777777777777778,
              "#fb9f3a"
             ],
             [
              0.8888888888888888,
              "#fdca26"
             ],
             [
              1,
              "#f0f921"
             ]
            ],
            "type": "heatmapgl"
           }
          ],
          "histogram": [
           {
            "marker": {
             "pattern": {
              "fillmode": "overlay",
              "size": 10,
              "solidity": 0.2
             }
            },
            "type": "histogram"
           }
          ],
          "histogram2d": [
           {
            "colorbar": {
             "outlinewidth": 0,
             "ticks": ""
            },
            "colorscale": [
             [
              0,
              "#0d0887"
             ],
             [
              0.1111111111111111,
              "#46039f"
             ],
             [
              0.2222222222222222,
              "#7201a8"
             ],
             [
              0.3333333333333333,
              "#9c179e"
             ],
             [
              0.4444444444444444,
              "#bd3786"
             ],
             [
              0.5555555555555556,
              "#d8576b"
             ],
             [
              0.6666666666666666,
              "#ed7953"
             ],
             [
              0.7777777777777778,
              "#fb9f3a"
             ],
             [
              0.8888888888888888,
              "#fdca26"
             ],
             [
              1,
              "#f0f921"
             ]
            ],
            "type": "histogram2d"
           }
          ],
          "histogram2dcontour": [
           {
            "colorbar": {
             "outlinewidth": 0,
             "ticks": ""
            },
            "colorscale": [
             [
              0,
              "#0d0887"
             ],
             [
              0.1111111111111111,
              "#46039f"
             ],
             [
              0.2222222222222222,
              "#7201a8"
             ],
             [
              0.3333333333333333,
              "#9c179e"
             ],
             [
              0.4444444444444444,
              "#bd3786"
             ],
             [
              0.5555555555555556,
              "#d8576b"
             ],
             [
              0.6666666666666666,
              "#ed7953"
             ],
             [
              0.7777777777777778,
              "#fb9f3a"
             ],
             [
              0.8888888888888888,
              "#fdca26"
             ],
             [
              1,
              "#f0f921"
             ]
            ],
            "type": "histogram2dcontour"
           }
          ],
          "mesh3d": [
           {
            "colorbar": {
             "outlinewidth": 0,
             "ticks": ""
            },
            "type": "mesh3d"
           }
          ],
          "parcoords": [
           {
            "line": {
             "colorbar": {
              "outlinewidth": 0,
              "ticks": ""
             }
            },
            "type": "parcoords"
           }
          ],
          "pie": [
           {
            "automargin": true,
            "type": "pie"
           }
          ],
          "scatter": [
           {
            "marker": {
             "colorbar": {
              "outlinewidth": 0,
              "ticks": ""
             }
            },
            "type": "scatter"
           }
          ],
          "scatter3d": [
           {
            "line": {
             "colorbar": {
              "outlinewidth": 0,
              "ticks": ""
             }
            },
            "marker": {
             "colorbar": {
              "outlinewidth": 0,
              "ticks": ""
             }
            },
            "type": "scatter3d"
           }
          ],
          "scattercarpet": [
           {
            "marker": {
             "colorbar": {
              "outlinewidth": 0,
              "ticks": ""
             }
            },
            "type": "scattercarpet"
           }
          ],
          "scattergeo": [
           {
            "marker": {
             "colorbar": {
              "outlinewidth": 0,
              "ticks": ""
             }
            },
            "type": "scattergeo"
           }
          ],
          "scattergl": [
           {
            "marker": {
             "colorbar": {
              "outlinewidth": 0,
              "ticks": ""
             }
            },
            "type": "scattergl"
           }
          ],
          "scattermapbox": [
           {
            "marker": {
             "colorbar": {
              "outlinewidth": 0,
              "ticks": ""
             }
            },
            "type": "scattermapbox"
           }
          ],
          "scatterpolar": [
           {
            "marker": {
             "colorbar": {
              "outlinewidth": 0,
              "ticks": ""
             }
            },
            "type": "scatterpolar"
           }
          ],
          "scatterpolargl": [
           {
            "marker": {
             "colorbar": {
              "outlinewidth": 0,
              "ticks": ""
             }
            },
            "type": "scatterpolargl"
           }
          ],
          "scatterternary": [
           {
            "marker": {
             "colorbar": {
              "outlinewidth": 0,
              "ticks": ""
             }
            },
            "type": "scatterternary"
           }
          ],
          "surface": [
           {
            "colorbar": {
             "outlinewidth": 0,
             "ticks": ""
            },
            "colorscale": [
             [
              0,
              "#0d0887"
             ],
             [
              0.1111111111111111,
              "#46039f"
             ],
             [
              0.2222222222222222,
              "#7201a8"
             ],
             [
              0.3333333333333333,
              "#9c179e"
             ],
             [
              0.4444444444444444,
              "#bd3786"
             ],
             [
              0.5555555555555556,
              "#d8576b"
             ],
             [
              0.6666666666666666,
              "#ed7953"
             ],
             [
              0.7777777777777778,
              "#fb9f3a"
             ],
             [
              0.8888888888888888,
              "#fdca26"
             ],
             [
              1,
              "#f0f921"
             ]
            ],
            "type": "surface"
           }
          ],
          "table": [
           {
            "cells": {
             "fill": {
              "color": "#EBF0F8"
             },
             "line": {
              "color": "white"
             }
            },
            "header": {
             "fill": {
              "color": "#C8D4E3"
             },
             "line": {
              "color": "white"
             }
            },
            "type": "table"
           }
          ]
         },
         "layout": {
          "annotationdefaults": {
           "arrowcolor": "#2a3f5f",
           "arrowhead": 0,
           "arrowwidth": 1
          },
          "autotypenumbers": "strict",
          "coloraxis": {
           "colorbar": {
            "outlinewidth": 0,
            "ticks": ""
           }
          },
          "colorscale": {
           "diverging": [
            [
             0,
             "#8e0152"
            ],
            [
             0.1,
             "#c51b7d"
            ],
            [
             0.2,
             "#de77ae"
            ],
            [
             0.3,
             "#f1b6da"
            ],
            [
             0.4,
             "#fde0ef"
            ],
            [
             0.5,
             "#f7f7f7"
            ],
            [
             0.6,
             "#e6f5d0"
            ],
            [
             0.7,
             "#b8e186"
            ],
            [
             0.8,
             "#7fbc41"
            ],
            [
             0.9,
             "#4d9221"
            ],
            [
             1,
             "#276419"
            ]
           ],
           "sequential": [
            [
             0,
             "#0d0887"
            ],
            [
             0.1111111111111111,
             "#46039f"
            ],
            [
             0.2222222222222222,
             "#7201a8"
            ],
            [
             0.3333333333333333,
             "#9c179e"
            ],
            [
             0.4444444444444444,
             "#bd3786"
            ],
            [
             0.5555555555555556,
             "#d8576b"
            ],
            [
             0.6666666666666666,
             "#ed7953"
            ],
            [
             0.7777777777777778,
             "#fb9f3a"
            ],
            [
             0.8888888888888888,
             "#fdca26"
            ],
            [
             1,
             "#f0f921"
            ]
           ],
           "sequentialminus": [
            [
             0,
             "#0d0887"
            ],
            [
             0.1111111111111111,
             "#46039f"
            ],
            [
             0.2222222222222222,
             "#7201a8"
            ],
            [
             0.3333333333333333,
             "#9c179e"
            ],
            [
             0.4444444444444444,
             "#bd3786"
            ],
            [
             0.5555555555555556,
             "#d8576b"
            ],
            [
             0.6666666666666666,
             "#ed7953"
            ],
            [
             0.7777777777777778,
             "#fb9f3a"
            ],
            [
             0.8888888888888888,
             "#fdca26"
            ],
            [
             1,
             "#f0f921"
            ]
           ]
          },
          "colorway": [
           "#636efa",
           "#EF553B",
           "#00cc96",
           "#ab63fa",
           "#FFA15A",
           "#19d3f3",
           "#FF6692",
           "#B6E880",
           "#FF97FF",
           "#FECB52"
          ],
          "font": {
           "color": "#2a3f5f"
          },
          "geo": {
           "bgcolor": "white",
           "lakecolor": "white",
           "landcolor": "#E5ECF6",
           "showlakes": true,
           "showland": true,
           "subunitcolor": "white"
          },
          "hoverlabel": {
           "align": "left"
          },
          "hovermode": "closest",
          "mapbox": {
           "style": "light"
          },
          "paper_bgcolor": "white",
          "plot_bgcolor": "#E5ECF6",
          "polar": {
           "angularaxis": {
            "gridcolor": "white",
            "linecolor": "white",
            "ticks": ""
           },
           "bgcolor": "#E5ECF6",
           "radialaxis": {
            "gridcolor": "white",
            "linecolor": "white",
            "ticks": ""
           }
          },
          "scene": {
           "xaxis": {
            "backgroundcolor": "#E5ECF6",
            "gridcolor": "white",
            "gridwidth": 2,
            "linecolor": "white",
            "showbackground": true,
            "ticks": "",
            "zerolinecolor": "white"
           },
           "yaxis": {
            "backgroundcolor": "#E5ECF6",
            "gridcolor": "white",
            "gridwidth": 2,
            "linecolor": "white",
            "showbackground": true,
            "ticks": "",
            "zerolinecolor": "white"
           },
           "zaxis": {
            "backgroundcolor": "#E5ECF6",
            "gridcolor": "white",
            "gridwidth": 2,
            "linecolor": "white",
            "showbackground": true,
            "ticks": "",
            "zerolinecolor": "white"
           }
          },
          "shapedefaults": {
           "line": {
            "color": "#2a3f5f"
           }
          },
          "ternary": {
           "aaxis": {
            "gridcolor": "white",
            "linecolor": "white",
            "ticks": ""
           },
           "baxis": {
            "gridcolor": "white",
            "linecolor": "white",
            "ticks": ""
           },
           "bgcolor": "#E5ECF6",
           "caxis": {
            "gridcolor": "white",
            "linecolor": "white",
            "ticks": ""
           }
          },
          "title": {
           "x": 0.05
          },
          "xaxis": {
           "automargin": true,
           "gridcolor": "white",
           "linecolor": "white",
           "ticks": "",
           "title": {
            "standoff": 15
           },
           "zerolinecolor": "white",
           "zerolinewidth": 2
          },
          "yaxis": {
           "automargin": true,
           "gridcolor": "white",
           "linecolor": "white",
           "ticks": "",
           "title": {
            "standoff": 15
           },
           "zerolinecolor": "white",
           "zerolinewidth": 2
          }
         }
        },
        "xaxis": {
         "anchor": "y",
         "domain": [
          0,
          1
         ],
         "title": {
          "text": "Size"
         }
        },
        "yaxis": {
         "anchor": "x",
         "domain": [
          0,
          1
         ],
         "title": {
          "text": "sum of Profit"
         }
        }
       }
      },
      "text/html": [
       "<div>                            <div id=\"e1c5e4cd-faa0-414d-bff5-d45e63073d5d\" class=\"plotly-graph-div\" style=\"height:525px; width:100%;\"></div>            <script type=\"text/javascript\">                require([\"plotly\"], function(Plotly) {                    window.PLOTLYENV=window.PLOTLYENV || {};                                    if (document.getElementById(\"e1c5e4cd-faa0-414d-bff5-d45e63073d5d\")) {                    Plotly.newPlot(                        \"e1c5e4cd-faa0-414d-bff5-d45e63073d5d\",                        [{\"alignmentgroup\":\"True\",\"bingroup\":\"x\",\"histfunc\":\"sum\",\"hovertemplate\":\"Size=%{x}<br>sum of Profit=%{y}<extra></extra>\",\"legendgroup\":\"\",\"marker\":{\"color\":\"#636efa\",\"pattern\":{\"shape\":\"\"}},\"name\":\"\",\"offsetgroup\":\"\",\"orientation\":\"v\",\"showlegend\":false,\"type\":\"histogram\",\"x\":[\"F\",\"L\",\"E\",\"S\",\"M\",\"A\",\"L\",\"F\",\"M\",\"S\",\"D\",\"G\",\"M\",\"K\",\"M\",\"F\",\"C\",\"M\",\"Q\",\"M\",\"C\",\"E\",\"F\",\"Q\",\"K\",\"Q\",\"G\",\"K\",\"B\",\"M\",\"G\",\"E\",\"M\",\"E\",\"G\",\"L\",\"F\",\"G\",\"E\",\"F\",\"R\",\"M\",\"S\",\"F\",\"A\",\"M\",\"F\",\"E\",\"Q\",\"E\",\"F\",\"S\",\"F\",\"E\",\"G\",\"C\",\"K\",\"N\",\"G\",\"D\",\"N\",\"K\",\"G\",\"L\",\"M\",\"N\",\"C\",\"G\",\"T\",\"B\",\"L\",\"F\",\"F\",\"A\",\"F\",\"C\",\"Q\",\"B\",\"O\",\"M\",\"G\",\"J\",\"C\",\"F\",\"M\",\"L\",\"P\",\"G\",\"J\",\"M\",\"C\",\"B\",\"H\",\"K\",\"B\",\"C\",\"R\",\"B\",\"J\",\"C\",\"R\",\"M\",\"I\",\"M\",\"M\",\"C\",\"R\",\"M\",\"G\",\"H\",\"F\",\"C\",\"F\",\"B\",\"C\",\"E\",\"T\",\"K\",\"L\",\"M\",\"C\",\"K\",\"C\",\"F\",\"B\",\"E\",\"F\",\"F\",\"L\",\"T\",\"C\",\"F\",\"N\",\"G\",\"A\",\"J\",\"F\",\"B\",\"M\",\"F\",\"E\",\"I\",\"H\",\"O\",\"E\",\"S\",\"F\",\"E\",\"L\",\"H\",\"S\",\"B\",\"E\",\"H\",\"K\",\"C\",\"R\",\"P\",\"K\",\"P\",\"B\",\"M\",\"C\",\"B\",\"F\",\"C\",\"A\",\"C\",\"O\",\"L\",\"Q\",\"R\",\"L\",\"I\",\"F\",\"B\",\"E\",\"M\",\"Q\",\"N\",\"S\",\"T\",\"J\",\"C\",\"B\",\"E\",\"O\",\"K\",\"E\",\"H\",\"P\",\"K\",\"F\",\"A\",\"C\",\"S\",\"E\",\"M\",\"B\",\"L\",\"F\",\"C\",\"G\",\"C\",\"F\",\"G\",\"C\",\"E\",\"K\",\"F\",\"L\",\"F\",\"H\",\"Q\",\"A\"],\"xaxis\":\"x\",\"y\":[40.0,43.0,40.0,53.2,43.0,31.700000000000003,43.0,40.0,43.0,53.2,37.0,42.0,43.0,43.0,43.0,40.0,33.8,43.0,46.7,43.0,33.8,40.0,40.0,46.7,43.0,50.0,42.0,43.0,33.8,43.0,42.0,40.0,43.0,40.0,42.0,43.0,40.0,42.0,40.0,40.0,50.0,43.0,53.2,40.0,31.700000000000003,43.0,40.0,40.0,50.0,40.0,40.0,53.2,40.0,40.0,42.0,33.8,43.0,45.2,42.0,37.0,45.2,43.0,42.0,43.0,43.0,45.2,33.8,42.0,53.400000000000006,33.8,43.0,40.0,40.0,31.700000000000003,40.0,33.8,46.7,33.8,46.2,43.0,42.0,42.0,33.8,40.0,43.0,43.0,46.2,42.0,42.0,43.0,33.8,33.8,42.0,43.0,33.8,33.8,50.0,33.8,42.0,33.8,50.0,43.0,42.0,43.0,43.0,33.8,50.0,43.0,42.0,42.0,40.0,33.8,40.0,33.8,33.8,40.0,53.400000000000006,43.0,43.0,43.0,33.8,43.0,33.8,40.0,33.8,40.0,40.0,40.0,43.0,53.400000000000006,33.8,40.0,45.2,42.0,31.700000000000003,42.0,40.0,33.8,43.0,40.0,40.0,42.0,42.0,46.2,40.0,53.2,40.0,40.0,43.0,42.0,53.2,33.8,40.0,42.0,43.0,33.8,50.0,46.2,43.0,46.2,33.8,43.0,33.8,33.8,40.0,33.8,31.700000000000003,33.8,46.2,43.0,46.7,50.0,43.0,42.0,40.0,33.8,40.0,43.0,46.7,45.2,53.2,53.400000000000006,42.0,33.8,33.8,40.0,46.2,43.0,40.0,42.0,46.2,43.0,40.0,31.700000000000003,33.8,53.2,40.0,43.0,33.8,43.0,40.0,33.8,42.0,33.8,40.0,42.0,33.8,40.0,43.0,40.0,43.0,40.0,42.0,50.0,31.700000000000003],\"yaxis\":\"y\"}],                        {\"barmode\":\"relative\",\"legend\":{\"tracegroupgap\":0},\"margin\":{\"t\":60},\"template\":{\"data\":{\"bar\":[{\"error_x\":{\"color\":\"#2a3f5f\"},\"error_y\":{\"color\":\"#2a3f5f\"},\"marker\":{\"line\":{\"color\":\"#E5ECF6\",\"width\":0.5},\"pattern\":{\"fillmode\":\"overlay\",\"size\":10,\"solidity\":0.2}},\"type\":\"bar\"}],\"barpolar\":[{\"marker\":{\"line\":{\"color\":\"#E5ECF6\",\"width\":0.5},\"pattern\":{\"fillmode\":\"overlay\",\"size\":10,\"solidity\":0.2}},\"type\":\"barpolar\"}],\"carpet\":[{\"aaxis\":{\"endlinecolor\":\"#2a3f5f\",\"gridcolor\":\"white\",\"linecolor\":\"white\",\"minorgridcolor\":\"white\",\"startlinecolor\":\"#2a3f5f\"},\"baxis\":{\"endlinecolor\":\"#2a3f5f\",\"gridcolor\":\"white\",\"linecolor\":\"white\",\"minorgridcolor\":\"white\",\"startlinecolor\":\"#2a3f5f\"},\"type\":\"carpet\"}],\"choropleth\":[{\"colorbar\":{\"outlinewidth\":0,\"ticks\":\"\"},\"type\":\"choropleth\"}],\"contour\":[{\"colorbar\":{\"outlinewidth\":0,\"ticks\":\"\"},\"colorscale\":[[0.0,\"#0d0887\"],[0.1111111111111111,\"#46039f\"],[0.2222222222222222,\"#7201a8\"],[0.3333333333333333,\"#9c179e\"],[0.4444444444444444,\"#bd3786\"],[0.5555555555555556,\"#d8576b\"],[0.6666666666666666,\"#ed7953\"],[0.7777777777777778,\"#fb9f3a\"],[0.8888888888888888,\"#fdca26\"],[1.0,\"#f0f921\"]],\"type\":\"contour\"}],\"contourcarpet\":[{\"colorbar\":{\"outlinewidth\":0,\"ticks\":\"\"},\"type\":\"contourcarpet\"}],\"heatmap\":[{\"colorbar\":{\"outlinewidth\":0,\"ticks\":\"\"},\"colorscale\":[[0.0,\"#0d0887\"],[0.1111111111111111,\"#46039f\"],[0.2222222222222222,\"#7201a8\"],[0.3333333333333333,\"#9c179e\"],[0.4444444444444444,\"#bd3786\"],[0.5555555555555556,\"#d8576b\"],[0.6666666666666666,\"#ed7953\"],[0.7777777777777778,\"#fb9f3a\"],[0.8888888888888888,\"#fdca26\"],[1.0,\"#f0f921\"]],\"type\":\"heatmap\"}],\"heatmapgl\":[{\"colorbar\":{\"outlinewidth\":0,\"ticks\":\"\"},\"colorscale\":[[0.0,\"#0d0887\"],[0.1111111111111111,\"#46039f\"],[0.2222222222222222,\"#7201a8\"],[0.3333333333333333,\"#9c179e\"],[0.4444444444444444,\"#bd3786\"],[0.5555555555555556,\"#d8576b\"],[0.6666666666666666,\"#ed7953\"],[0.7777777777777778,\"#fb9f3a\"],[0.8888888888888888,\"#fdca26\"],[1.0,\"#f0f921\"]],\"type\":\"heatmapgl\"}],\"histogram\":[{\"marker\":{\"pattern\":{\"fillmode\":\"overlay\",\"size\":10,\"solidity\":0.2}},\"type\":\"histogram\"}],\"histogram2d\":[{\"colorbar\":{\"outlinewidth\":0,\"ticks\":\"\"},\"colorscale\":[[0.0,\"#0d0887\"],[0.1111111111111111,\"#46039f\"],[0.2222222222222222,\"#7201a8\"],[0.3333333333333333,\"#9c179e\"],[0.4444444444444444,\"#bd3786\"],[0.5555555555555556,\"#d8576b\"],[0.6666666666666666,\"#ed7953\"],[0.7777777777777778,\"#fb9f3a\"],[0.8888888888888888,\"#fdca26\"],[1.0,\"#f0f921\"]],\"type\":\"histogram2d\"}],\"histogram2dcontour\":[{\"colorbar\":{\"outlinewidth\":0,\"ticks\":\"\"},\"colorscale\":[[0.0,\"#0d0887\"],[0.1111111111111111,\"#46039f\"],[0.2222222222222222,\"#7201a8\"],[0.3333333333333333,\"#9c179e\"],[0.4444444444444444,\"#bd3786\"],[0.5555555555555556,\"#d8576b\"],[0.6666666666666666,\"#ed7953\"],[0.7777777777777778,\"#fb9f3a\"],[0.8888888888888888,\"#fdca26\"],[1.0,\"#f0f921\"]],\"type\":\"histogram2dcontour\"}],\"mesh3d\":[{\"colorbar\":{\"outlinewidth\":0,\"ticks\":\"\"},\"type\":\"mesh3d\"}],\"parcoords\":[{\"line\":{\"colorbar\":{\"outlinewidth\":0,\"ticks\":\"\"}},\"type\":\"parcoords\"}],\"pie\":[{\"automargin\":true,\"type\":\"pie\"}],\"scatter\":[{\"marker\":{\"colorbar\":{\"outlinewidth\":0,\"ticks\":\"\"}},\"type\":\"scatter\"}],\"scatter3d\":[{\"line\":{\"colorbar\":{\"outlinewidth\":0,\"ticks\":\"\"}},\"marker\":{\"colorbar\":{\"outlinewidth\":0,\"ticks\":\"\"}},\"type\":\"scatter3d\"}],\"scattercarpet\":[{\"marker\":{\"colorbar\":{\"outlinewidth\":0,\"ticks\":\"\"}},\"type\":\"scattercarpet\"}],\"scattergeo\":[{\"marker\":{\"colorbar\":{\"outlinewidth\":0,\"ticks\":\"\"}},\"type\":\"scattergeo\"}],\"scattergl\":[{\"marker\":{\"colorbar\":{\"outlinewidth\":0,\"ticks\":\"\"}},\"type\":\"scattergl\"}],\"scattermapbox\":[{\"marker\":{\"colorbar\":{\"outlinewidth\":0,\"ticks\":\"\"}},\"type\":\"scattermapbox\"}],\"scatterpolar\":[{\"marker\":{\"colorbar\":{\"outlinewidth\":0,\"ticks\":\"\"}},\"type\":\"scatterpolar\"}],\"scatterpolargl\":[{\"marker\":{\"colorbar\":{\"outlinewidth\":0,\"ticks\":\"\"}},\"type\":\"scatterpolargl\"}],\"scatterternary\":[{\"marker\":{\"colorbar\":{\"outlinewidth\":0,\"ticks\":\"\"}},\"type\":\"scatterternary\"}],\"surface\":[{\"colorbar\":{\"outlinewidth\":0,\"ticks\":\"\"},\"colorscale\":[[0.0,\"#0d0887\"],[0.1111111111111111,\"#46039f\"],[0.2222222222222222,\"#7201a8\"],[0.3333333333333333,\"#9c179e\"],[0.4444444444444444,\"#bd3786\"],[0.5555555555555556,\"#d8576b\"],[0.6666666666666666,\"#ed7953\"],[0.7777777777777778,\"#fb9f3a\"],[0.8888888888888888,\"#fdca26\"],[1.0,\"#f0f921\"]],\"type\":\"surface\"}],\"table\":[{\"cells\":{\"fill\":{\"color\":\"#EBF0F8\"},\"line\":{\"color\":\"white\"}},\"header\":{\"fill\":{\"color\":\"#C8D4E3\"},\"line\":{\"color\":\"white\"}},\"type\":\"table\"}]},\"layout\":{\"annotationdefaults\":{\"arrowcolor\":\"#2a3f5f\",\"arrowhead\":0,\"arrowwidth\":1},\"autotypenumbers\":\"strict\",\"coloraxis\":{\"colorbar\":{\"outlinewidth\":0,\"ticks\":\"\"}},\"colorscale\":{\"diverging\":[[0,\"#8e0152\"],[0.1,\"#c51b7d\"],[0.2,\"#de77ae\"],[0.3,\"#f1b6da\"],[0.4,\"#fde0ef\"],[0.5,\"#f7f7f7\"],[0.6,\"#e6f5d0\"],[0.7,\"#b8e186\"],[0.8,\"#7fbc41\"],[0.9,\"#4d9221\"],[1,\"#276419\"]],\"sequential\":[[0.0,\"#0d0887\"],[0.1111111111111111,\"#46039f\"],[0.2222222222222222,\"#7201a8\"],[0.3333333333333333,\"#9c179e\"],[0.4444444444444444,\"#bd3786\"],[0.5555555555555556,\"#d8576b\"],[0.6666666666666666,\"#ed7953\"],[0.7777777777777778,\"#fb9f3a\"],[0.8888888888888888,\"#fdca26\"],[1.0,\"#f0f921\"]],\"sequentialminus\":[[0.0,\"#0d0887\"],[0.1111111111111111,\"#46039f\"],[0.2222222222222222,\"#7201a8\"],[0.3333333333333333,\"#9c179e\"],[0.4444444444444444,\"#bd3786\"],[0.5555555555555556,\"#d8576b\"],[0.6666666666666666,\"#ed7953\"],[0.7777777777777778,\"#fb9f3a\"],[0.8888888888888888,\"#fdca26\"],[1.0,\"#f0f921\"]]},\"colorway\":[\"#636efa\",\"#EF553B\",\"#00cc96\",\"#ab63fa\",\"#FFA15A\",\"#19d3f3\",\"#FF6692\",\"#B6E880\",\"#FF97FF\",\"#FECB52\"],\"font\":{\"color\":\"#2a3f5f\"},\"geo\":{\"bgcolor\":\"white\",\"lakecolor\":\"white\",\"landcolor\":\"#E5ECF6\",\"showlakes\":true,\"showland\":true,\"subunitcolor\":\"white\"},\"hoverlabel\":{\"align\":\"left\"},\"hovermode\":\"closest\",\"mapbox\":{\"style\":\"light\"},\"paper_bgcolor\":\"white\",\"plot_bgcolor\":\"#E5ECF6\",\"polar\":{\"angularaxis\":{\"gridcolor\":\"white\",\"linecolor\":\"white\",\"ticks\":\"\"},\"bgcolor\":\"#E5ECF6\",\"radialaxis\":{\"gridcolor\":\"white\",\"linecolor\":\"white\",\"ticks\":\"\"}},\"scene\":{\"xaxis\":{\"backgroundcolor\":\"#E5ECF6\",\"gridcolor\":\"white\",\"gridwidth\":2,\"linecolor\":\"white\",\"showbackground\":true,\"ticks\":\"\",\"zerolinecolor\":\"white\"},\"yaxis\":{\"backgroundcolor\":\"#E5ECF6\",\"gridcolor\":\"white\",\"gridwidth\":2,\"linecolor\":\"white\",\"showbackground\":true,\"ticks\":\"\",\"zerolinecolor\":\"white\"},\"zaxis\":{\"backgroundcolor\":\"#E5ECF6\",\"gridcolor\":\"white\",\"gridwidth\":2,\"linecolor\":\"white\",\"showbackground\":true,\"ticks\":\"\",\"zerolinecolor\":\"white\"}},\"shapedefaults\":{\"line\":{\"color\":\"#2a3f5f\"}},\"ternary\":{\"aaxis\":{\"gridcolor\":\"white\",\"linecolor\":\"white\",\"ticks\":\"\"},\"baxis\":{\"gridcolor\":\"white\",\"linecolor\":\"white\",\"ticks\":\"\"},\"bgcolor\":\"#E5ECF6\",\"caxis\":{\"gridcolor\":\"white\",\"linecolor\":\"white\",\"ticks\":\"\"}},\"title\":{\"x\":0.05},\"xaxis\":{\"automargin\":true,\"gridcolor\":\"white\",\"linecolor\":\"white\",\"ticks\":\"\",\"title\":{\"standoff\":15},\"zerolinecolor\":\"white\",\"zerolinewidth\":2},\"yaxis\":{\"automargin\":true,\"gridcolor\":\"white\",\"linecolor\":\"white\",\"ticks\":\"\",\"title\":{\"standoff\":15},\"zerolinecolor\":\"white\",\"zerolinewidth\":2}}},\"xaxis\":{\"anchor\":\"y\",\"domain\":[0.0,1.0],\"title\":{\"text\":\"Size\"}},\"yaxis\":{\"anchor\":\"x\",\"domain\":[0.0,1.0],\"title\":{\"text\":\"sum of Profit\"}}},                        {\"responsive\": true}                    ).then(function(){\n",
       "                            \n",
       "var gd = document.getElementById('e1c5e4cd-faa0-414d-bff5-d45e63073d5d');\n",
       "var x = new MutationObserver(function (mutations, observer) {{\n",
       "        var display = window.getComputedStyle(gd).display;\n",
       "        if (!display || display === 'none') {{\n",
       "            console.log([gd, 'removed!']);\n",
       "            Plotly.purge(gd);\n",
       "            observer.disconnect();\n",
       "        }}\n",
       "}});\n",
       "\n",
       "// Listen for the removal of the full notebook cells\n",
       "var notebookContainer = gd.closest('#notebook-container');\n",
       "if (notebookContainer) {{\n",
       "    x.observe(notebookContainer, {childList: true});\n",
       "}}\n",
       "\n",
       "// Listen for the clearing of the current output cell\n",
       "var outputEl = gd.closest('.output');\n",
       "if (outputEl) {{\n",
       "    x.observe(outputEl, {childList: true});\n",
       "}}\n",
       "\n",
       "                        })                };                });            </script>        </div>"
      ]
     },
     "metadata": {},
     "output_type": "display_data"
    }
   ],
   "source": [
    "fig = px.histogram(data, x=data['Size'], y=data[\"Profit\"] )\n",
    "fig.show()\n",
    "\n"
   ]
  },
  {
   "cell_type": "code",
   "execution_count": 316,
   "metadata": {},
   "outputs": [
    {
     "data": {
      "application/vnd.plotly.v1+json": {
       "config": {
        "plotlyServerURL": "https://plot.ly"
       },
       "data": [
        {
         "alignmentgroup": "True",
         "bingroup": "x",
         "histfunc": "sum",
         "hovertemplate": "Size=%{x}<br>sum of labor cost (per kg)=%{y}<extra></extra>",
         "legendgroup": "",
         "marker": {
          "color": "#636efa",
          "pattern": {
           "shape": ""
          }
         },
         "name": "",
         "offsetgroup": "",
         "orientation": "v",
         "showlegend": false,
         "type": "histogram",
         "x": [
          "F",
          "L",
          "E",
          "S",
          "M",
          "A",
          "L",
          "F",
          "M",
          "S",
          "D",
          "G",
          "M",
          "K",
          "M",
          "F",
          "C",
          "M",
          "Q",
          "M",
          "C",
          "E",
          "F",
          "Q",
          "K",
          "Q",
          "G",
          "K",
          "B",
          "M",
          "G",
          "E",
          "M",
          "E",
          "G",
          "L",
          "F",
          "G",
          "E",
          "F",
          "R",
          "M",
          "S",
          "F",
          "A",
          "M",
          "F",
          "E",
          "Q",
          "E",
          "F",
          "S",
          "F",
          "E",
          "G",
          "C",
          "K",
          "N",
          "G",
          "D",
          "N",
          "K",
          "G",
          "L",
          "M",
          "N",
          "C",
          "G",
          "T",
          "B",
          "L",
          "F",
          "F",
          "A",
          "F",
          "C",
          "Q",
          "B",
          "O",
          "M",
          "G",
          "J",
          "C",
          "F",
          "M",
          "L",
          "P",
          "G",
          "J",
          "M",
          "C",
          "B",
          "H",
          "K",
          "B",
          "C",
          "R",
          "B",
          "J",
          "C",
          "R",
          "M",
          "I",
          "M",
          "M",
          "C",
          "R",
          "M",
          "G",
          "H",
          "F",
          "C",
          "F",
          "B",
          "C",
          "E",
          "T",
          "K",
          "L",
          "M",
          "C",
          "K",
          "C",
          "F",
          "B",
          "E",
          "F",
          "F",
          "L",
          "T",
          "C",
          "F",
          "N",
          "G",
          "A",
          "J",
          "F",
          "B",
          "M",
          "F",
          "E",
          "I",
          "H",
          "O",
          "E",
          "S",
          "F",
          "E",
          "L",
          "H",
          "S",
          "B",
          "E",
          "H",
          "K",
          "C",
          "R",
          "P",
          "K",
          "P",
          "B",
          "M",
          "C",
          "B",
          "F",
          "C",
          "A",
          "C",
          "O",
          "L",
          "Q",
          "R",
          "L",
          "I",
          "F",
          "B",
          "E",
          "M",
          "Q",
          "N",
          "S",
          "T",
          "J",
          "C",
          "B",
          "E",
          "O",
          "K",
          "E",
          "H",
          "P",
          "K",
          "F",
          "A",
          "C",
          "S",
          "E",
          "M",
          "B",
          "L",
          "F",
          "C",
          "G",
          "C",
          "F",
          "G",
          "C",
          "E",
          "K",
          "F",
          "L",
          "F",
          "H",
          "Q",
          "A"
         ],
         "xaxis": "x",
         "y": [
          22,
          20,
          22,
          12,
          20,
          30,
          20,
          22,
          20,
          12,
          25,
          20,
          20,
          20,
          20,
          22,
          28,
          20,
          15,
          20,
          28,
          22,
          22,
          15,
          20,
          15,
          20,
          20,
          28,
          20,
          20,
          22,
          20,
          22,
          20,
          20,
          22,
          20,
          22,
          22,
          15,
          20,
          12,
          22,
          30,
          20,
          22,
          22,
          15,
          22,
          22,
          12,
          22,
          22,
          20,
          28,
          20,
          18,
          20,
          25,
          18,
          20,
          20,
          20,
          20,
          18,
          28,
          20,
          12,
          28,
          20,
          22,
          22,
          30,
          22,
          28,
          15,
          28,
          18,
          20,
          20,
          20,
          28,
          22,
          20,
          20,
          18,
          20,
          20,
          20,
          28,
          28,
          20,
          20,
          28,
          28,
          15,
          28,
          20,
          28,
          15,
          20,
          20,
          20,
          20,
          28,
          15,
          20,
          20,
          20,
          22,
          28,
          22,
          28,
          28,
          22,
          12,
          20,
          20,
          20,
          28,
          20,
          28,
          22,
          28,
          22,
          22,
          22,
          20,
          12,
          28,
          22,
          18,
          20,
          30,
          20,
          22,
          28,
          20,
          22,
          22,
          20,
          20,
          18,
          22,
          12,
          22,
          22,
          20,
          20,
          12,
          28,
          22,
          20,
          20,
          28,
          15,
          18,
          20,
          18,
          28,
          20,
          28,
          28,
          22,
          28,
          30,
          28,
          18,
          20,
          15,
          15,
          20,
          20,
          22,
          28,
          22,
          20,
          15,
          18,
          12,
          12,
          20,
          28,
          28,
          22,
          18,
          20,
          22,
          20,
          18,
          20,
          22,
          30,
          28,
          12,
          22,
          20,
          28,
          20,
          22,
          28,
          20,
          28,
          22,
          20,
          28,
          22,
          20,
          22,
          20,
          22,
          20,
          15,
          30
         ],
         "yaxis": "y"
        }
       ],
       "layout": {
        "barmode": "relative",
        "legend": {
         "tracegroupgap": 0
        },
        "margin": {
         "t": 60
        },
        "template": {
         "data": {
          "bar": [
           {
            "error_x": {
             "color": "#2a3f5f"
            },
            "error_y": {
             "color": "#2a3f5f"
            },
            "marker": {
             "line": {
              "color": "#E5ECF6",
              "width": 0.5
             },
             "pattern": {
              "fillmode": "overlay",
              "size": 10,
              "solidity": 0.2
             }
            },
            "type": "bar"
           }
          ],
          "barpolar": [
           {
            "marker": {
             "line": {
              "color": "#E5ECF6",
              "width": 0.5
             },
             "pattern": {
              "fillmode": "overlay",
              "size": 10,
              "solidity": 0.2
             }
            },
            "type": "barpolar"
           }
          ],
          "carpet": [
           {
            "aaxis": {
             "endlinecolor": "#2a3f5f",
             "gridcolor": "white",
             "linecolor": "white",
             "minorgridcolor": "white",
             "startlinecolor": "#2a3f5f"
            },
            "baxis": {
             "endlinecolor": "#2a3f5f",
             "gridcolor": "white",
             "linecolor": "white",
             "minorgridcolor": "white",
             "startlinecolor": "#2a3f5f"
            },
            "type": "carpet"
           }
          ],
          "choropleth": [
           {
            "colorbar": {
             "outlinewidth": 0,
             "ticks": ""
            },
            "type": "choropleth"
           }
          ],
          "contour": [
           {
            "colorbar": {
             "outlinewidth": 0,
             "ticks": ""
            },
            "colorscale": [
             [
              0,
              "#0d0887"
             ],
             [
              0.1111111111111111,
              "#46039f"
             ],
             [
              0.2222222222222222,
              "#7201a8"
             ],
             [
              0.3333333333333333,
              "#9c179e"
             ],
             [
              0.4444444444444444,
              "#bd3786"
             ],
             [
              0.5555555555555556,
              "#d8576b"
             ],
             [
              0.6666666666666666,
              "#ed7953"
             ],
             [
              0.7777777777777778,
              "#fb9f3a"
             ],
             [
              0.8888888888888888,
              "#fdca26"
             ],
             [
              1,
              "#f0f921"
             ]
            ],
            "type": "contour"
           }
          ],
          "contourcarpet": [
           {
            "colorbar": {
             "outlinewidth": 0,
             "ticks": ""
            },
            "type": "contourcarpet"
           }
          ],
          "heatmap": [
           {
            "colorbar": {
             "outlinewidth": 0,
             "ticks": ""
            },
            "colorscale": [
             [
              0,
              "#0d0887"
             ],
             [
              0.1111111111111111,
              "#46039f"
             ],
             [
              0.2222222222222222,
              "#7201a8"
             ],
             [
              0.3333333333333333,
              "#9c179e"
             ],
             [
              0.4444444444444444,
              "#bd3786"
             ],
             [
              0.5555555555555556,
              "#d8576b"
             ],
             [
              0.6666666666666666,
              "#ed7953"
             ],
             [
              0.7777777777777778,
              "#fb9f3a"
             ],
             [
              0.8888888888888888,
              "#fdca26"
             ],
             [
              1,
              "#f0f921"
             ]
            ],
            "type": "heatmap"
           }
          ],
          "heatmapgl": [
           {
            "colorbar": {
             "outlinewidth": 0,
             "ticks": ""
            },
            "colorscale": [
             [
              0,
              "#0d0887"
             ],
             [
              0.1111111111111111,
              "#46039f"
             ],
             [
              0.2222222222222222,
              "#7201a8"
             ],
             [
              0.3333333333333333,
              "#9c179e"
             ],
             [
              0.4444444444444444,
              "#bd3786"
             ],
             [
              0.5555555555555556,
              "#d8576b"
             ],
             [
              0.6666666666666666,
              "#ed7953"
             ],
             [
              0.7777777777777778,
              "#fb9f3a"
             ],
             [
              0.8888888888888888,
              "#fdca26"
             ],
             [
              1,
              "#f0f921"
             ]
            ],
            "type": "heatmapgl"
           }
          ],
          "histogram": [
           {
            "marker": {
             "pattern": {
              "fillmode": "overlay",
              "size": 10,
              "solidity": 0.2
             }
            },
            "type": "histogram"
           }
          ],
          "histogram2d": [
           {
            "colorbar": {
             "outlinewidth": 0,
             "ticks": ""
            },
            "colorscale": [
             [
              0,
              "#0d0887"
             ],
             [
              0.1111111111111111,
              "#46039f"
             ],
             [
              0.2222222222222222,
              "#7201a8"
             ],
             [
              0.3333333333333333,
              "#9c179e"
             ],
             [
              0.4444444444444444,
              "#bd3786"
             ],
             [
              0.5555555555555556,
              "#d8576b"
             ],
             [
              0.6666666666666666,
              "#ed7953"
             ],
             [
              0.7777777777777778,
              "#fb9f3a"
             ],
             [
              0.8888888888888888,
              "#fdca26"
             ],
             [
              1,
              "#f0f921"
             ]
            ],
            "type": "histogram2d"
           }
          ],
          "histogram2dcontour": [
           {
            "colorbar": {
             "outlinewidth": 0,
             "ticks": ""
            },
            "colorscale": [
             [
              0,
              "#0d0887"
             ],
             [
              0.1111111111111111,
              "#46039f"
             ],
             [
              0.2222222222222222,
              "#7201a8"
             ],
             [
              0.3333333333333333,
              "#9c179e"
             ],
             [
              0.4444444444444444,
              "#bd3786"
             ],
             [
              0.5555555555555556,
              "#d8576b"
             ],
             [
              0.6666666666666666,
              "#ed7953"
             ],
             [
              0.7777777777777778,
              "#fb9f3a"
             ],
             [
              0.8888888888888888,
              "#fdca26"
             ],
             [
              1,
              "#f0f921"
             ]
            ],
            "type": "histogram2dcontour"
           }
          ],
          "mesh3d": [
           {
            "colorbar": {
             "outlinewidth": 0,
             "ticks": ""
            },
            "type": "mesh3d"
           }
          ],
          "parcoords": [
           {
            "line": {
             "colorbar": {
              "outlinewidth": 0,
              "ticks": ""
             }
            },
            "type": "parcoords"
           }
          ],
          "pie": [
           {
            "automargin": true,
            "type": "pie"
           }
          ],
          "scatter": [
           {
            "marker": {
             "colorbar": {
              "outlinewidth": 0,
              "ticks": ""
             }
            },
            "type": "scatter"
           }
          ],
          "scatter3d": [
           {
            "line": {
             "colorbar": {
              "outlinewidth": 0,
              "ticks": ""
             }
            },
            "marker": {
             "colorbar": {
              "outlinewidth": 0,
              "ticks": ""
             }
            },
            "type": "scatter3d"
           }
          ],
          "scattercarpet": [
           {
            "marker": {
             "colorbar": {
              "outlinewidth": 0,
              "ticks": ""
             }
            },
            "type": "scattercarpet"
           }
          ],
          "scattergeo": [
           {
            "marker": {
             "colorbar": {
              "outlinewidth": 0,
              "ticks": ""
             }
            },
            "type": "scattergeo"
           }
          ],
          "scattergl": [
           {
            "marker": {
             "colorbar": {
              "outlinewidth": 0,
              "ticks": ""
             }
            },
            "type": "scattergl"
           }
          ],
          "scattermapbox": [
           {
            "marker": {
             "colorbar": {
              "outlinewidth": 0,
              "ticks": ""
             }
            },
            "type": "scattermapbox"
           }
          ],
          "scatterpolar": [
           {
            "marker": {
             "colorbar": {
              "outlinewidth": 0,
              "ticks": ""
             }
            },
            "type": "scatterpolar"
           }
          ],
          "scatterpolargl": [
           {
            "marker": {
             "colorbar": {
              "outlinewidth": 0,
              "ticks": ""
             }
            },
            "type": "scatterpolargl"
           }
          ],
          "scatterternary": [
           {
            "marker": {
             "colorbar": {
              "outlinewidth": 0,
              "ticks": ""
             }
            },
            "type": "scatterternary"
           }
          ],
          "surface": [
           {
            "colorbar": {
             "outlinewidth": 0,
             "ticks": ""
            },
            "colorscale": [
             [
              0,
              "#0d0887"
             ],
             [
              0.1111111111111111,
              "#46039f"
             ],
             [
              0.2222222222222222,
              "#7201a8"
             ],
             [
              0.3333333333333333,
              "#9c179e"
             ],
             [
              0.4444444444444444,
              "#bd3786"
             ],
             [
              0.5555555555555556,
              "#d8576b"
             ],
             [
              0.6666666666666666,
              "#ed7953"
             ],
             [
              0.7777777777777778,
              "#fb9f3a"
             ],
             [
              0.8888888888888888,
              "#fdca26"
             ],
             [
              1,
              "#f0f921"
             ]
            ],
            "type": "surface"
           }
          ],
          "table": [
           {
            "cells": {
             "fill": {
              "color": "#EBF0F8"
             },
             "line": {
              "color": "white"
             }
            },
            "header": {
             "fill": {
              "color": "#C8D4E3"
             },
             "line": {
              "color": "white"
             }
            },
            "type": "table"
           }
          ]
         },
         "layout": {
          "annotationdefaults": {
           "arrowcolor": "#2a3f5f",
           "arrowhead": 0,
           "arrowwidth": 1
          },
          "autotypenumbers": "strict",
          "coloraxis": {
           "colorbar": {
            "outlinewidth": 0,
            "ticks": ""
           }
          },
          "colorscale": {
           "diverging": [
            [
             0,
             "#8e0152"
            ],
            [
             0.1,
             "#c51b7d"
            ],
            [
             0.2,
             "#de77ae"
            ],
            [
             0.3,
             "#f1b6da"
            ],
            [
             0.4,
             "#fde0ef"
            ],
            [
             0.5,
             "#f7f7f7"
            ],
            [
             0.6,
             "#e6f5d0"
            ],
            [
             0.7,
             "#b8e186"
            ],
            [
             0.8,
             "#7fbc41"
            ],
            [
             0.9,
             "#4d9221"
            ],
            [
             1,
             "#276419"
            ]
           ],
           "sequential": [
            [
             0,
             "#0d0887"
            ],
            [
             0.1111111111111111,
             "#46039f"
            ],
            [
             0.2222222222222222,
             "#7201a8"
            ],
            [
             0.3333333333333333,
             "#9c179e"
            ],
            [
             0.4444444444444444,
             "#bd3786"
            ],
            [
             0.5555555555555556,
             "#d8576b"
            ],
            [
             0.6666666666666666,
             "#ed7953"
            ],
            [
             0.7777777777777778,
             "#fb9f3a"
            ],
            [
             0.8888888888888888,
             "#fdca26"
            ],
            [
             1,
             "#f0f921"
            ]
           ],
           "sequentialminus": [
            [
             0,
             "#0d0887"
            ],
            [
             0.1111111111111111,
             "#46039f"
            ],
            [
             0.2222222222222222,
             "#7201a8"
            ],
            [
             0.3333333333333333,
             "#9c179e"
            ],
            [
             0.4444444444444444,
             "#bd3786"
            ],
            [
             0.5555555555555556,
             "#d8576b"
            ],
            [
             0.6666666666666666,
             "#ed7953"
            ],
            [
             0.7777777777777778,
             "#fb9f3a"
            ],
            [
             0.8888888888888888,
             "#fdca26"
            ],
            [
             1,
             "#f0f921"
            ]
           ]
          },
          "colorway": [
           "#636efa",
           "#EF553B",
           "#00cc96",
           "#ab63fa",
           "#FFA15A",
           "#19d3f3",
           "#FF6692",
           "#B6E880",
           "#FF97FF",
           "#FECB52"
          ],
          "font": {
           "color": "#2a3f5f"
          },
          "geo": {
           "bgcolor": "white",
           "lakecolor": "white",
           "landcolor": "#E5ECF6",
           "showlakes": true,
           "showland": true,
           "subunitcolor": "white"
          },
          "hoverlabel": {
           "align": "left"
          },
          "hovermode": "closest",
          "mapbox": {
           "style": "light"
          },
          "paper_bgcolor": "white",
          "plot_bgcolor": "#E5ECF6",
          "polar": {
           "angularaxis": {
            "gridcolor": "white",
            "linecolor": "white",
            "ticks": ""
           },
           "bgcolor": "#E5ECF6",
           "radialaxis": {
            "gridcolor": "white",
            "linecolor": "white",
            "ticks": ""
           }
          },
          "scene": {
           "xaxis": {
            "backgroundcolor": "#E5ECF6",
            "gridcolor": "white",
            "gridwidth": 2,
            "linecolor": "white",
            "showbackground": true,
            "ticks": "",
            "zerolinecolor": "white"
           },
           "yaxis": {
            "backgroundcolor": "#E5ECF6",
            "gridcolor": "white",
            "gridwidth": 2,
            "linecolor": "white",
            "showbackground": true,
            "ticks": "",
            "zerolinecolor": "white"
           },
           "zaxis": {
            "backgroundcolor": "#E5ECF6",
            "gridcolor": "white",
            "gridwidth": 2,
            "linecolor": "white",
            "showbackground": true,
            "ticks": "",
            "zerolinecolor": "white"
           }
          },
          "shapedefaults": {
           "line": {
            "color": "#2a3f5f"
           }
          },
          "ternary": {
           "aaxis": {
            "gridcolor": "white",
            "linecolor": "white",
            "ticks": ""
           },
           "baxis": {
            "gridcolor": "white",
            "linecolor": "white",
            "ticks": ""
           },
           "bgcolor": "#E5ECF6",
           "caxis": {
            "gridcolor": "white",
            "linecolor": "white",
            "ticks": ""
           }
          },
          "title": {
           "x": 0.05
          },
          "xaxis": {
           "automargin": true,
           "gridcolor": "white",
           "linecolor": "white",
           "ticks": "",
           "title": {
            "standoff": 15
           },
           "zerolinecolor": "white",
           "zerolinewidth": 2
          },
          "yaxis": {
           "automargin": true,
           "gridcolor": "white",
           "linecolor": "white",
           "ticks": "",
           "title": {
            "standoff": 15
           },
           "zerolinecolor": "white",
           "zerolinewidth": 2
          }
         }
        },
        "xaxis": {
         "anchor": "y",
         "domain": [
          0,
          1
         ],
         "title": {
          "text": "Size"
         }
        },
        "yaxis": {
         "anchor": "x",
         "domain": [
          0,
          1
         ],
         "title": {
          "text": "sum of labor cost (per kg)"
         }
        }
       }
      },
      "text/html": [
       "<div>                            <div id=\"5290154b-aa99-4a4d-9807-0dfc9e85ea81\" class=\"plotly-graph-div\" style=\"height:525px; width:100%;\"></div>            <script type=\"text/javascript\">                require([\"plotly\"], function(Plotly) {                    window.PLOTLYENV=window.PLOTLYENV || {};                                    if (document.getElementById(\"5290154b-aa99-4a4d-9807-0dfc9e85ea81\")) {                    Plotly.newPlot(                        \"5290154b-aa99-4a4d-9807-0dfc9e85ea81\",                        [{\"alignmentgroup\":\"True\",\"bingroup\":\"x\",\"histfunc\":\"sum\",\"hovertemplate\":\"Size=%{x}<br>sum of labor cost (per kg)=%{y}<extra></extra>\",\"legendgroup\":\"\",\"marker\":{\"color\":\"#636efa\",\"pattern\":{\"shape\":\"\"}},\"name\":\"\",\"offsetgroup\":\"\",\"orientation\":\"v\",\"showlegend\":false,\"type\":\"histogram\",\"x\":[\"F\",\"L\",\"E\",\"S\",\"M\",\"A\",\"L\",\"F\",\"M\",\"S\",\"D\",\"G\",\"M\",\"K\",\"M\",\"F\",\"C\",\"M\",\"Q\",\"M\",\"C\",\"E\",\"F\",\"Q\",\"K\",\"Q\",\"G\",\"K\",\"B\",\"M\",\"G\",\"E\",\"M\",\"E\",\"G\",\"L\",\"F\",\"G\",\"E\",\"F\",\"R\",\"M\",\"S\",\"F\",\"A\",\"M\",\"F\",\"E\",\"Q\",\"E\",\"F\",\"S\",\"F\",\"E\",\"G\",\"C\",\"K\",\"N\",\"G\",\"D\",\"N\",\"K\",\"G\",\"L\",\"M\",\"N\",\"C\",\"G\",\"T\",\"B\",\"L\",\"F\",\"F\",\"A\",\"F\",\"C\",\"Q\",\"B\",\"O\",\"M\",\"G\",\"J\",\"C\",\"F\",\"M\",\"L\",\"P\",\"G\",\"J\",\"M\",\"C\",\"B\",\"H\",\"K\",\"B\",\"C\",\"R\",\"B\",\"J\",\"C\",\"R\",\"M\",\"I\",\"M\",\"M\",\"C\",\"R\",\"M\",\"G\",\"H\",\"F\",\"C\",\"F\",\"B\",\"C\",\"E\",\"T\",\"K\",\"L\",\"M\",\"C\",\"K\",\"C\",\"F\",\"B\",\"E\",\"F\",\"F\",\"L\",\"T\",\"C\",\"F\",\"N\",\"G\",\"A\",\"J\",\"F\",\"B\",\"M\",\"F\",\"E\",\"I\",\"H\",\"O\",\"E\",\"S\",\"F\",\"E\",\"L\",\"H\",\"S\",\"B\",\"E\",\"H\",\"K\",\"C\",\"R\",\"P\",\"K\",\"P\",\"B\",\"M\",\"C\",\"B\",\"F\",\"C\",\"A\",\"C\",\"O\",\"L\",\"Q\",\"R\",\"L\",\"I\",\"F\",\"B\",\"E\",\"M\",\"Q\",\"N\",\"S\",\"T\",\"J\",\"C\",\"B\",\"E\",\"O\",\"K\",\"E\",\"H\",\"P\",\"K\",\"F\",\"A\",\"C\",\"S\",\"E\",\"M\",\"B\",\"L\",\"F\",\"C\",\"G\",\"C\",\"F\",\"G\",\"C\",\"E\",\"K\",\"F\",\"L\",\"F\",\"H\",\"Q\",\"A\"],\"xaxis\":\"x\",\"y\":[22,20,22,12,20,30,20,22,20,12,25,20,20,20,20,22,28,20,15,20,28,22,22,15,20,15,20,20,28,20,20,22,20,22,20,20,22,20,22,22,15,20,12,22,30,20,22,22,15,22,22,12,22,22,20,28,20,18,20,25,18,20,20,20,20,18,28,20,12,28,20,22,22,30,22,28,15,28,18,20,20,20,28,22,20,20,18,20,20,20,28,28,20,20,28,28,15,28,20,28,15,20,20,20,20,28,15,20,20,20,22,28,22,28,28,22,12,20,20,20,28,20,28,22,28,22,22,22,20,12,28,22,18,20,30,20,22,28,20,22,22,20,20,18,22,12,22,22,20,20,12,28,22,20,20,28,15,18,20,18,28,20,28,28,22,28,30,28,18,20,15,15,20,20,22,28,22,20,15,18,12,12,20,28,28,22,18,20,22,20,18,20,22,30,28,12,22,20,28,20,22,28,20,28,22,20,28,22,20,22,20,22,20,15,30],\"yaxis\":\"y\"}],                        {\"barmode\":\"relative\",\"legend\":{\"tracegroupgap\":0},\"margin\":{\"t\":60},\"template\":{\"data\":{\"bar\":[{\"error_x\":{\"color\":\"#2a3f5f\"},\"error_y\":{\"color\":\"#2a3f5f\"},\"marker\":{\"line\":{\"color\":\"#E5ECF6\",\"width\":0.5},\"pattern\":{\"fillmode\":\"overlay\",\"size\":10,\"solidity\":0.2}},\"type\":\"bar\"}],\"barpolar\":[{\"marker\":{\"line\":{\"color\":\"#E5ECF6\",\"width\":0.5},\"pattern\":{\"fillmode\":\"overlay\",\"size\":10,\"solidity\":0.2}},\"type\":\"barpolar\"}],\"carpet\":[{\"aaxis\":{\"endlinecolor\":\"#2a3f5f\",\"gridcolor\":\"white\",\"linecolor\":\"white\",\"minorgridcolor\":\"white\",\"startlinecolor\":\"#2a3f5f\"},\"baxis\":{\"endlinecolor\":\"#2a3f5f\",\"gridcolor\":\"white\",\"linecolor\":\"white\",\"minorgridcolor\":\"white\",\"startlinecolor\":\"#2a3f5f\"},\"type\":\"carpet\"}],\"choropleth\":[{\"colorbar\":{\"outlinewidth\":0,\"ticks\":\"\"},\"type\":\"choropleth\"}],\"contour\":[{\"colorbar\":{\"outlinewidth\":0,\"ticks\":\"\"},\"colorscale\":[[0.0,\"#0d0887\"],[0.1111111111111111,\"#46039f\"],[0.2222222222222222,\"#7201a8\"],[0.3333333333333333,\"#9c179e\"],[0.4444444444444444,\"#bd3786\"],[0.5555555555555556,\"#d8576b\"],[0.6666666666666666,\"#ed7953\"],[0.7777777777777778,\"#fb9f3a\"],[0.8888888888888888,\"#fdca26\"],[1.0,\"#f0f921\"]],\"type\":\"contour\"}],\"contourcarpet\":[{\"colorbar\":{\"outlinewidth\":0,\"ticks\":\"\"},\"type\":\"contourcarpet\"}],\"heatmap\":[{\"colorbar\":{\"outlinewidth\":0,\"ticks\":\"\"},\"colorscale\":[[0.0,\"#0d0887\"],[0.1111111111111111,\"#46039f\"],[0.2222222222222222,\"#7201a8\"],[0.3333333333333333,\"#9c179e\"],[0.4444444444444444,\"#bd3786\"],[0.5555555555555556,\"#d8576b\"],[0.6666666666666666,\"#ed7953\"],[0.7777777777777778,\"#fb9f3a\"],[0.8888888888888888,\"#fdca26\"],[1.0,\"#f0f921\"]],\"type\":\"heatmap\"}],\"heatmapgl\":[{\"colorbar\":{\"outlinewidth\":0,\"ticks\":\"\"},\"colorscale\":[[0.0,\"#0d0887\"],[0.1111111111111111,\"#46039f\"],[0.2222222222222222,\"#7201a8\"],[0.3333333333333333,\"#9c179e\"],[0.4444444444444444,\"#bd3786\"],[0.5555555555555556,\"#d8576b\"],[0.6666666666666666,\"#ed7953\"],[0.7777777777777778,\"#fb9f3a\"],[0.8888888888888888,\"#fdca26\"],[1.0,\"#f0f921\"]],\"type\":\"heatmapgl\"}],\"histogram\":[{\"marker\":{\"pattern\":{\"fillmode\":\"overlay\",\"size\":10,\"solidity\":0.2}},\"type\":\"histogram\"}],\"histogram2d\":[{\"colorbar\":{\"outlinewidth\":0,\"ticks\":\"\"},\"colorscale\":[[0.0,\"#0d0887\"],[0.1111111111111111,\"#46039f\"],[0.2222222222222222,\"#7201a8\"],[0.3333333333333333,\"#9c179e\"],[0.4444444444444444,\"#bd3786\"],[0.5555555555555556,\"#d8576b\"],[0.6666666666666666,\"#ed7953\"],[0.7777777777777778,\"#fb9f3a\"],[0.8888888888888888,\"#fdca26\"],[1.0,\"#f0f921\"]],\"type\":\"histogram2d\"}],\"histogram2dcontour\":[{\"colorbar\":{\"outlinewidth\":0,\"ticks\":\"\"},\"colorscale\":[[0.0,\"#0d0887\"],[0.1111111111111111,\"#46039f\"],[0.2222222222222222,\"#7201a8\"],[0.3333333333333333,\"#9c179e\"],[0.4444444444444444,\"#bd3786\"],[0.5555555555555556,\"#d8576b\"],[0.6666666666666666,\"#ed7953\"],[0.7777777777777778,\"#fb9f3a\"],[0.8888888888888888,\"#fdca26\"],[1.0,\"#f0f921\"]],\"type\":\"histogram2dcontour\"}],\"mesh3d\":[{\"colorbar\":{\"outlinewidth\":0,\"ticks\":\"\"},\"type\":\"mesh3d\"}],\"parcoords\":[{\"line\":{\"colorbar\":{\"outlinewidth\":0,\"ticks\":\"\"}},\"type\":\"parcoords\"}],\"pie\":[{\"automargin\":true,\"type\":\"pie\"}],\"scatter\":[{\"marker\":{\"colorbar\":{\"outlinewidth\":0,\"ticks\":\"\"}},\"type\":\"scatter\"}],\"scatter3d\":[{\"line\":{\"colorbar\":{\"outlinewidth\":0,\"ticks\":\"\"}},\"marker\":{\"colorbar\":{\"outlinewidth\":0,\"ticks\":\"\"}},\"type\":\"scatter3d\"}],\"scattercarpet\":[{\"marker\":{\"colorbar\":{\"outlinewidth\":0,\"ticks\":\"\"}},\"type\":\"scattercarpet\"}],\"scattergeo\":[{\"marker\":{\"colorbar\":{\"outlinewidth\":0,\"ticks\":\"\"}},\"type\":\"scattergeo\"}],\"scattergl\":[{\"marker\":{\"colorbar\":{\"outlinewidth\":0,\"ticks\":\"\"}},\"type\":\"scattergl\"}],\"scattermapbox\":[{\"marker\":{\"colorbar\":{\"outlinewidth\":0,\"ticks\":\"\"}},\"type\":\"scattermapbox\"}],\"scatterpolar\":[{\"marker\":{\"colorbar\":{\"outlinewidth\":0,\"ticks\":\"\"}},\"type\":\"scatterpolar\"}],\"scatterpolargl\":[{\"marker\":{\"colorbar\":{\"outlinewidth\":0,\"ticks\":\"\"}},\"type\":\"scatterpolargl\"}],\"scatterternary\":[{\"marker\":{\"colorbar\":{\"outlinewidth\":0,\"ticks\":\"\"}},\"type\":\"scatterternary\"}],\"surface\":[{\"colorbar\":{\"outlinewidth\":0,\"ticks\":\"\"},\"colorscale\":[[0.0,\"#0d0887\"],[0.1111111111111111,\"#46039f\"],[0.2222222222222222,\"#7201a8\"],[0.3333333333333333,\"#9c179e\"],[0.4444444444444444,\"#bd3786\"],[0.5555555555555556,\"#d8576b\"],[0.6666666666666666,\"#ed7953\"],[0.7777777777777778,\"#fb9f3a\"],[0.8888888888888888,\"#fdca26\"],[1.0,\"#f0f921\"]],\"type\":\"surface\"}],\"table\":[{\"cells\":{\"fill\":{\"color\":\"#EBF0F8\"},\"line\":{\"color\":\"white\"}},\"header\":{\"fill\":{\"color\":\"#C8D4E3\"},\"line\":{\"color\":\"white\"}},\"type\":\"table\"}]},\"layout\":{\"annotationdefaults\":{\"arrowcolor\":\"#2a3f5f\",\"arrowhead\":0,\"arrowwidth\":1},\"autotypenumbers\":\"strict\",\"coloraxis\":{\"colorbar\":{\"outlinewidth\":0,\"ticks\":\"\"}},\"colorscale\":{\"diverging\":[[0,\"#8e0152\"],[0.1,\"#c51b7d\"],[0.2,\"#de77ae\"],[0.3,\"#f1b6da\"],[0.4,\"#fde0ef\"],[0.5,\"#f7f7f7\"],[0.6,\"#e6f5d0\"],[0.7,\"#b8e186\"],[0.8,\"#7fbc41\"],[0.9,\"#4d9221\"],[1,\"#276419\"]],\"sequential\":[[0.0,\"#0d0887\"],[0.1111111111111111,\"#46039f\"],[0.2222222222222222,\"#7201a8\"],[0.3333333333333333,\"#9c179e\"],[0.4444444444444444,\"#bd3786\"],[0.5555555555555556,\"#d8576b\"],[0.6666666666666666,\"#ed7953\"],[0.7777777777777778,\"#fb9f3a\"],[0.8888888888888888,\"#fdca26\"],[1.0,\"#f0f921\"]],\"sequentialminus\":[[0.0,\"#0d0887\"],[0.1111111111111111,\"#46039f\"],[0.2222222222222222,\"#7201a8\"],[0.3333333333333333,\"#9c179e\"],[0.4444444444444444,\"#bd3786\"],[0.5555555555555556,\"#d8576b\"],[0.6666666666666666,\"#ed7953\"],[0.7777777777777778,\"#fb9f3a\"],[0.8888888888888888,\"#fdca26\"],[1.0,\"#f0f921\"]]},\"colorway\":[\"#636efa\",\"#EF553B\",\"#00cc96\",\"#ab63fa\",\"#FFA15A\",\"#19d3f3\",\"#FF6692\",\"#B6E880\",\"#FF97FF\",\"#FECB52\"],\"font\":{\"color\":\"#2a3f5f\"},\"geo\":{\"bgcolor\":\"white\",\"lakecolor\":\"white\",\"landcolor\":\"#E5ECF6\",\"showlakes\":true,\"showland\":true,\"subunitcolor\":\"white\"},\"hoverlabel\":{\"align\":\"left\"},\"hovermode\":\"closest\",\"mapbox\":{\"style\":\"light\"},\"paper_bgcolor\":\"white\",\"plot_bgcolor\":\"#E5ECF6\",\"polar\":{\"angularaxis\":{\"gridcolor\":\"white\",\"linecolor\":\"white\",\"ticks\":\"\"},\"bgcolor\":\"#E5ECF6\",\"radialaxis\":{\"gridcolor\":\"white\",\"linecolor\":\"white\",\"ticks\":\"\"}},\"scene\":{\"xaxis\":{\"backgroundcolor\":\"#E5ECF6\",\"gridcolor\":\"white\",\"gridwidth\":2,\"linecolor\":\"white\",\"showbackground\":true,\"ticks\":\"\",\"zerolinecolor\":\"white\"},\"yaxis\":{\"backgroundcolor\":\"#E5ECF6\",\"gridcolor\":\"white\",\"gridwidth\":2,\"linecolor\":\"white\",\"showbackground\":true,\"ticks\":\"\",\"zerolinecolor\":\"white\"},\"zaxis\":{\"backgroundcolor\":\"#E5ECF6\",\"gridcolor\":\"white\",\"gridwidth\":2,\"linecolor\":\"white\",\"showbackground\":true,\"ticks\":\"\",\"zerolinecolor\":\"white\"}},\"shapedefaults\":{\"line\":{\"color\":\"#2a3f5f\"}},\"ternary\":{\"aaxis\":{\"gridcolor\":\"white\",\"linecolor\":\"white\",\"ticks\":\"\"},\"baxis\":{\"gridcolor\":\"white\",\"linecolor\":\"white\",\"ticks\":\"\"},\"bgcolor\":\"#E5ECF6\",\"caxis\":{\"gridcolor\":\"white\",\"linecolor\":\"white\",\"ticks\":\"\"}},\"title\":{\"x\":0.05},\"xaxis\":{\"automargin\":true,\"gridcolor\":\"white\",\"linecolor\":\"white\",\"ticks\":\"\",\"title\":{\"standoff\":15},\"zerolinecolor\":\"white\",\"zerolinewidth\":2},\"yaxis\":{\"automargin\":true,\"gridcolor\":\"white\",\"linecolor\":\"white\",\"ticks\":\"\",\"title\":{\"standoff\":15},\"zerolinecolor\":\"white\",\"zerolinewidth\":2}}},\"xaxis\":{\"anchor\":\"y\",\"domain\":[0.0,1.0],\"title\":{\"text\":\"Size\"}},\"yaxis\":{\"anchor\":\"x\",\"domain\":[0.0,1.0],\"title\":{\"text\":\"sum of labor cost (per kg)\"}}},                        {\"responsive\": true}                    ).then(function(){\n",
       "                            \n",
       "var gd = document.getElementById('5290154b-aa99-4a4d-9807-0dfc9e85ea81');\n",
       "var x = new MutationObserver(function (mutations, observer) {{\n",
       "        var display = window.getComputedStyle(gd).display;\n",
       "        if (!display || display === 'none') {{\n",
       "            console.log([gd, 'removed!']);\n",
       "            Plotly.purge(gd);\n",
       "            observer.disconnect();\n",
       "        }}\n",
       "}});\n",
       "\n",
       "// Listen for the removal of the full notebook cells\n",
       "var notebookContainer = gd.closest('#notebook-container');\n",
       "if (notebookContainer) {{\n",
       "    x.observe(notebookContainer, {childList: true});\n",
       "}}\n",
       "\n",
       "// Listen for the clearing of the current output cell\n",
       "var outputEl = gd.closest('.output');\n",
       "if (outputEl) {{\n",
       "    x.observe(outputEl, {childList: true});\n",
       "}}\n",
       "\n",
       "                        })                };                });            </script>        </div>"
      ]
     },
     "metadata": {},
     "output_type": "display_data"
    }
   ],
   "source": [
    "fig = px.histogram(data, x=data['Size'], y=data[\"labor cost (per kg)\"])\n",
    "fig.show()"
   ]
  },
  {
   "cell_type": "code",
   "execution_count": 395,
   "metadata": {},
   "outputs": [
    {
     "data": {
      "text/html": [
       "<div>\n",
       "<style scoped>\n",
       "    .dataframe tbody tr th:only-of-type {\n",
       "        vertical-align: middle;\n",
       "    }\n",
       "\n",
       "    .dataframe tbody tr th {\n",
       "        vertical-align: top;\n",
       "    }\n",
       "\n",
       "    .dataframe thead th {\n",
       "        text-align: right;\n",
       "    }\n",
       "</style>\n",
       "<table border=\"1\" class=\"dataframe\">\n",
       "  <thead>\n",
       "    <tr style=\"text-align: right;\">\n",
       "      <th></th>\n",
       "      <th>Date</th>\n",
       "      <th>Size</th>\n",
       "      <th>Quantity Sold Kgs</th>\n",
       "      <th>cost of material(rs per kg)</th>\n",
       "      <th>labor cost (per kg)</th>\n",
       "      <th>electricity cost (per kg)</th>\n",
       "      <th>selling price (per kg)</th>\n",
       "      <th>Production Cost</th>\n",
       "      <th>Profit</th>\n",
       "      <th>Total Profit</th>\n",
       "    </tr>\n",
       "  </thead>\n",
       "  <tbody>\n",
       "    <tr>\n",
       "      <th>0</th>\n",
       "      <td>2021-10-01</td>\n",
       "      <td>F</td>\n",
       "      <td>187</td>\n",
       "      <td>78</td>\n",
       "      <td>22</td>\n",
       "      <td>8.0</td>\n",
       "      <td>148</td>\n",
       "      <td>108.0</td>\n",
       "      <td>40.0</td>\n",
       "      <td>7480.0</td>\n",
       "    </tr>\n",
       "    <tr>\n",
       "      <th>1</th>\n",
       "      <td>2021-10-01</td>\n",
       "      <td>L</td>\n",
       "      <td>146</td>\n",
       "      <td>78</td>\n",
       "      <td>20</td>\n",
       "      <td>7.0</td>\n",
       "      <td>148</td>\n",
       "      <td>105.0</td>\n",
       "      <td>43.0</td>\n",
       "      <td>6278.0</td>\n",
       "    </tr>\n",
       "    <tr>\n",
       "      <th>2</th>\n",
       "      <td>2021-10-02</td>\n",
       "      <td>E</td>\n",
       "      <td>18</td>\n",
       "      <td>78</td>\n",
       "      <td>22</td>\n",
       "      <td>8.0</td>\n",
       "      <td>148</td>\n",
       "      <td>108.0</td>\n",
       "      <td>40.0</td>\n",
       "      <td>720.0</td>\n",
       "    </tr>\n",
       "    <tr>\n",
       "      <th>3</th>\n",
       "      <td>2021-10-02</td>\n",
       "      <td>S</td>\n",
       "      <td>87</td>\n",
       "      <td>78</td>\n",
       "      <td>12</td>\n",
       "      <td>4.8</td>\n",
       "      <td>148</td>\n",
       "      <td>94.8</td>\n",
       "      <td>53.2</td>\n",
       "      <td>4628.4</td>\n",
       "    </tr>\n",
       "    <tr>\n",
       "      <th>4</th>\n",
       "      <td>2021-10-02</td>\n",
       "      <td>M</td>\n",
       "      <td>5</td>\n",
       "      <td>78</td>\n",
       "      <td>20</td>\n",
       "      <td>7.0</td>\n",
       "      <td>148</td>\n",
       "      <td>105.0</td>\n",
       "      <td>43.0</td>\n",
       "      <td>215.0</td>\n",
       "    </tr>\n",
       "  </tbody>\n",
       "</table>\n",
       "</div>"
      ],
      "text/plain": [
       "        Date Size  Quantity Sold Kgs  cost of material(rs per kg)   \\\n",
       "0 2021-10-01    F                187                            78   \n",
       "1 2021-10-01    L                146                            78   \n",
       "2 2021-10-02    E                 18                            78   \n",
       "3 2021-10-02    S                 87                            78   \n",
       "4 2021-10-02    M                  5                            78   \n",
       "\n",
       "   labor cost (per kg)  electricity cost (per kg)    selling price (per kg)  \\\n",
       "0                   22                        8.0                       148   \n",
       "1                   20                        7.0                       148   \n",
       "2                   22                        8.0                       148   \n",
       "3                   12                        4.8                       148   \n",
       "4                   20                        7.0                       148   \n",
       "\n",
       "   Production Cost  Profit  Total Profit  \n",
       "0            108.0    40.0        7480.0  \n",
       "1            105.0    43.0        6278.0  \n",
       "2            108.0    40.0         720.0  \n",
       "3             94.8    53.2        4628.4  \n",
       "4            105.0    43.0         215.0  "
      ]
     },
     "execution_count": 395,
     "metadata": {},
     "output_type": "execute_result"
    }
   ],
   "source": [
    "data.head()"
   ]
  },
  {
   "cell_type": "code",
   "execution_count": 611,
   "metadata": {},
   "outputs": [
    {
     "name": "stdout",
     "output_type": "stream",
     "text": [
      "Collecting orca\n",
      "  Downloading orca-1.8-py2.py3-none-any.whl (19 kB)\n",
      "Requirement already satisfied: toolz>=0.8.1 in c:\\users\\sejal jadev\\anaconda3\\lib\\site-packages (from orca) (0.11.1)\n",
      "Requirement already satisfied: pandas>=0.15.0 in c:\\users\\sejal jadev\\anaconda3\\lib\\site-packages (from orca) (1.1.3)\n",
      "Requirement already satisfied: tables>=3.1 in c:\\users\\sejal jadev\\anaconda3\\lib\\site-packages (from orca) (3.6.1)\n",
      "Requirement already satisfied: pytz>=2017.2 in c:\\users\\sejal jadev\\anaconda3\\lib\\site-packages (from pandas>=0.15.0->orca) (2020.1)\n",
      "Requirement already satisfied: python-dateutil>=2.7.3 in c:\\users\\sejal jadev\\anaconda3\\lib\\site-packages (from pandas>=0.15.0->orca) (2.8.1)\n",
      "Requirement already satisfied: numpy>=1.15.4 in c:\\users\\sejal jadev\\anaconda3\\lib\\site-packages (from pandas>=0.15.0->orca) (1.19.2)\n",
      "Requirement already satisfied: numexpr>=2.6.2 in c:\\users\\sejal jadev\\anaconda3\\lib\\site-packages (from tables>=3.1->orca) (2.7.1)\n",
      "Requirement already satisfied: six>=1.5 in c:\\users\\sejal jadev\\anaconda3\\lib\\site-packages (from python-dateutil>=2.7.3->pandas>=0.15.0->orca) (1.15.0)\n",
      "Installing collected packages: orca\n",
      "Successfully installed orca-1.8\n"
     ]
    }
   ],
   "source": [
    "!pip install orca"
   ]
  },
  {
   "cell_type": "code",
   "execution_count": 615,
   "metadata": {},
   "outputs": [
    {
     "name": "stdout",
     "output_type": "stream",
     "text": [
      "Collecting kaleido\n",
      "  Downloading kaleido-0.2.1-py2.py3-none-win_amd64.whl (65.9 MB)\n",
      "Installing collected packages: kaleido\n",
      "Successfully installed kaleido-0.2.1\n"
     ]
    }
   ],
   "source": [
    "!pip install kaleido\n"
   ]
  },
  {
   "cell_type": "code",
   "execution_count": 137,
   "metadata": {
    "scrolled": true
   },
   "outputs": [
    {
     "data": {
      "application/vnd.plotly.v1+json": {
       "config": {
        "plotlyServerURL": "https://plot.ly"
       },
       "data": [
        {
         "histfunc": "sum",
         "name": "Sum of Profit",
         "type": "histogram",
         "x": [
          "F",
          "L",
          "E",
          "S",
          "M",
          "A",
          "L",
          "F",
          "M",
          "S",
          "D",
          "G",
          "M",
          "K",
          "M",
          "F",
          "C",
          "M",
          "Q",
          "M",
          "C",
          "E",
          "F",
          "Q",
          "K",
          "Q",
          "G",
          "K",
          "B",
          "M",
          "G",
          "E",
          "M",
          "E",
          "G",
          "L",
          "F",
          "G",
          "E",
          "F",
          "R",
          "M",
          "S",
          "F",
          "A",
          "M",
          "F",
          "E",
          "Q",
          "E",
          "F",
          "S",
          "F",
          "E",
          "G",
          "C",
          "K",
          "N",
          "G",
          "D",
          "N",
          "K",
          "G",
          "L",
          "M",
          "N",
          "C",
          "G",
          "T",
          "B",
          "L",
          "F",
          "F",
          "A",
          "F",
          "C",
          "Q",
          "B",
          "O",
          "M",
          "G",
          "J",
          "C",
          "F",
          "M",
          "L",
          "P",
          "G",
          "J",
          "M",
          "C",
          "B",
          "H",
          "K",
          "B",
          "C",
          "R",
          "B",
          "J",
          "C",
          "R",
          "M",
          "I",
          "M",
          "M",
          "C",
          "R",
          "M",
          "G",
          "H",
          "F",
          "C",
          "F",
          "B",
          "C",
          "E",
          "T",
          "K",
          "L",
          "M",
          "C",
          "K",
          "C",
          "F",
          "B",
          "E",
          "F",
          "F",
          "L",
          "T",
          "C",
          "F",
          "N",
          "G",
          "A",
          "J",
          "F",
          "B",
          "M",
          "F",
          "E",
          "I",
          "H",
          "O",
          "E",
          "S",
          "F",
          "E",
          "L",
          "H",
          "S",
          "B",
          "E",
          "H",
          "K",
          "C",
          "R",
          "P",
          "K",
          "P",
          "B",
          "M",
          "C",
          "B",
          "F",
          "C",
          "A",
          "C",
          "O",
          "L",
          "Q",
          "R",
          "L",
          "I",
          "F",
          "B",
          "E",
          "M",
          "Q",
          "N",
          "S",
          "T",
          "J",
          "C",
          "B",
          "E",
          "O",
          "K",
          "E",
          "H",
          "P",
          "K",
          "F",
          "A",
          "C",
          "S",
          "E",
          "M",
          "B",
          "L",
          "F",
          "C",
          "G",
          "C",
          "F",
          "G",
          "C",
          "E",
          "K",
          "F",
          "L",
          "F",
          "H",
          "Q",
          "A"
         ],
         "y": [
          40,
          43,
          40,
          53.2,
          43,
          31.700000000000003,
          43,
          40,
          43,
          53.2,
          37,
          42,
          43,
          43,
          43,
          40,
          33.8,
          43,
          46.7,
          43,
          33.8,
          40,
          40,
          46.7,
          43,
          50,
          42,
          43,
          33.8,
          43,
          42,
          40,
          43,
          40,
          42,
          43,
          40,
          42,
          40,
          40,
          50,
          43,
          53.2,
          40,
          31.700000000000003,
          43,
          40,
          40,
          50,
          40,
          40,
          53.2,
          40,
          40,
          42,
          33.8,
          43,
          45.2,
          42,
          37,
          45.2,
          43,
          42,
          43,
          43,
          45.2,
          33.8,
          42,
          53.400000000000006,
          33.8,
          43,
          40,
          40,
          31.700000000000003,
          40,
          33.8,
          46.7,
          33.8,
          46.2,
          43,
          42,
          42,
          33.8,
          40,
          43,
          43,
          46.2,
          42,
          42,
          43,
          33.8,
          33.8,
          42,
          43,
          33.8,
          33.8,
          50,
          33.8,
          42,
          33.8,
          50,
          43,
          42,
          43,
          43,
          33.8,
          50,
          43,
          42,
          42,
          40,
          33.8,
          40,
          33.8,
          33.8,
          40,
          53.400000000000006,
          43,
          43,
          43,
          33.8,
          43,
          33.8,
          40,
          33.8,
          40,
          40,
          40,
          43,
          53.400000000000006,
          33.8,
          40,
          45.2,
          42,
          31.700000000000003,
          42,
          40,
          33.8,
          43,
          40,
          40,
          42,
          42,
          46.2,
          40,
          53.2,
          40,
          40,
          43,
          42,
          53.2,
          33.8,
          40,
          42,
          43,
          33.8,
          50,
          46.2,
          43,
          46.2,
          33.8,
          43,
          33.8,
          33.8,
          40,
          33.8,
          31.700000000000003,
          33.8,
          46.2,
          43,
          46.7,
          50,
          43,
          42,
          40,
          33.8,
          40,
          43,
          46.7,
          45.2,
          53.2,
          53.400000000000006,
          42,
          33.8,
          33.8,
          40,
          46.2,
          43,
          40,
          42,
          46.2,
          43,
          40,
          31.700000000000003,
          33.8,
          53.2,
          40,
          43,
          33.8,
          43,
          40,
          33.8,
          42,
          33.8,
          40,
          42,
          33.8,
          40,
          43,
          40,
          43,
          40,
          42,
          50,
          31.700000000000003
         ]
        },
        {
         "histfunc": "sum",
         "name": "Sum of Labour Cost",
         "type": "histogram",
         "x": [
          "F",
          "L",
          "E",
          "S",
          "M",
          "A",
          "L",
          "F",
          "M",
          "S",
          "D",
          "G",
          "M",
          "K",
          "M",
          "F",
          "C",
          "M",
          "Q",
          "M",
          "C",
          "E",
          "F",
          "Q",
          "K",
          "Q",
          "G",
          "K",
          "B",
          "M",
          "G",
          "E",
          "M",
          "E",
          "G",
          "L",
          "F",
          "G",
          "E",
          "F",
          "R",
          "M",
          "S",
          "F",
          "A",
          "M",
          "F",
          "E",
          "Q",
          "E",
          "F",
          "S",
          "F",
          "E",
          "G",
          "C",
          "K",
          "N",
          "G",
          "D",
          "N",
          "K",
          "G",
          "L",
          "M",
          "N",
          "C",
          "G",
          "T",
          "B",
          "L",
          "F",
          "F",
          "A",
          "F",
          "C",
          "Q",
          "B",
          "O",
          "M",
          "G",
          "J",
          "C",
          "F",
          "M",
          "L",
          "P",
          "G",
          "J",
          "M",
          "C",
          "B",
          "H",
          "K",
          "B",
          "C",
          "R",
          "B",
          "J",
          "C",
          "R",
          "M",
          "I",
          "M",
          "M",
          "C",
          "R",
          "M",
          "G",
          "H",
          "F",
          "C",
          "F",
          "B",
          "C",
          "E",
          "T",
          "K",
          "L",
          "M",
          "C",
          "K",
          "C",
          "F",
          "B",
          "E",
          "F",
          "F",
          "L",
          "T",
          "C",
          "F",
          "N",
          "G",
          "A",
          "J",
          "F",
          "B",
          "M",
          "F",
          "E",
          "I",
          "H",
          "O",
          "E",
          "S",
          "F",
          "E",
          "L",
          "H",
          "S",
          "B",
          "E",
          "H",
          "K",
          "C",
          "R",
          "P",
          "K",
          "P",
          "B",
          "M",
          "C",
          "B",
          "F",
          "C",
          "A",
          "C",
          "O",
          "L",
          "Q",
          "R",
          "L",
          "I",
          "F",
          "B",
          "E",
          "M",
          "Q",
          "N",
          "S",
          "T",
          "J",
          "C",
          "B",
          "E",
          "O",
          "K",
          "E",
          "H",
          "P",
          "K",
          "F",
          "A",
          "C",
          "S",
          "E",
          "M",
          "B",
          "L",
          "F",
          "C",
          "G",
          "C",
          "F",
          "G",
          "C",
          "E",
          "K",
          "F",
          "L",
          "F",
          "H",
          "Q",
          "A"
         ],
         "y": [
          22,
          20,
          22,
          12,
          20,
          30,
          20,
          22,
          20,
          12,
          25,
          20,
          20,
          20,
          20,
          22,
          28,
          20,
          15,
          20,
          28,
          22,
          22,
          15,
          20,
          15,
          20,
          20,
          28,
          20,
          20,
          22,
          20,
          22,
          20,
          20,
          22,
          20,
          22,
          22,
          15,
          20,
          12,
          22,
          30,
          20,
          22,
          22,
          15,
          22,
          22,
          12,
          22,
          22,
          20,
          28,
          20,
          18,
          20,
          25,
          18,
          20,
          20,
          20,
          20,
          18,
          28,
          20,
          12,
          28,
          20,
          22,
          22,
          30,
          22,
          28,
          15,
          28,
          18,
          20,
          20,
          20,
          28,
          22,
          20,
          20,
          18,
          20,
          20,
          20,
          28,
          28,
          20,
          20,
          28,
          28,
          15,
          28,
          20,
          28,
          15,
          20,
          20,
          20,
          20,
          28,
          15,
          20,
          20,
          20,
          22,
          28,
          22,
          28,
          28,
          22,
          12,
          20,
          20,
          20,
          28,
          20,
          28,
          22,
          28,
          22,
          22,
          22,
          20,
          12,
          28,
          22,
          18,
          20,
          30,
          20,
          22,
          28,
          20,
          22,
          22,
          20,
          20,
          18,
          22,
          12,
          22,
          22,
          20,
          20,
          12,
          28,
          22,
          20,
          20,
          28,
          15,
          18,
          20,
          18,
          28,
          20,
          28,
          28,
          22,
          28,
          30,
          28,
          18,
          20,
          15,
          15,
          20,
          20,
          22,
          28,
          22,
          20,
          15,
          18,
          12,
          12,
          20,
          28,
          28,
          22,
          18,
          20,
          22,
          20,
          18,
          20,
          22,
          30,
          28,
          12,
          22,
          20,
          28,
          20,
          22,
          28,
          20,
          28,
          22,
          20,
          28,
          22,
          20,
          22,
          20,
          22,
          20,
          15,
          30
         ]
        }
       ],
       "layout": {
        "annotations": [
         {
          "arrowhead": 1,
          "showarrow": false,
          "text": "(The products are in ascending order of their size starting from A)",
          "x": "M",
          "y": 1210
         },
         {
          "arrowhead": 1,
          "showarrow": true,
          "text": "Profit=Cost",
          "x": "B",
          "y": 900
         },
         {
          "arrowhead": 1,
          "showarrow": true,
          "text": "Profit>Cost",
          "x": "O",
          "y": 900
         }
        ],
        "bargap": 0.2,
        "colorway": [
         "#31B404",
         "#82FA58",
         "#FA5858"
        ],
        "font": {
         "color": "black",
         "family": "Courier New"
        },
        "legend": {
         "title": {
          "font": {
           "color": "green"
          }
         }
        },
        "template": {
         "data": {
          "bar": [
           {
            "error_x": {
             "color": "#2a3f5f"
            },
            "error_y": {
             "color": "#2a3f5f"
            },
            "marker": {
             "line": {
              "color": "#E5ECF6",
              "width": 0.5
             },
             "pattern": {
              "fillmode": "overlay",
              "size": 10,
              "solidity": 0.2
             }
            },
            "type": "bar"
           }
          ],
          "barpolar": [
           {
            "marker": {
             "line": {
              "color": "#E5ECF6",
              "width": 0.5
             },
             "pattern": {
              "fillmode": "overlay",
              "size": 10,
              "solidity": 0.2
             }
            },
            "type": "barpolar"
           }
          ],
          "carpet": [
           {
            "aaxis": {
             "endlinecolor": "#2a3f5f",
             "gridcolor": "white",
             "linecolor": "white",
             "minorgridcolor": "white",
             "startlinecolor": "#2a3f5f"
            },
            "baxis": {
             "endlinecolor": "#2a3f5f",
             "gridcolor": "white",
             "linecolor": "white",
             "minorgridcolor": "white",
             "startlinecolor": "#2a3f5f"
            },
            "type": "carpet"
           }
          ],
          "choropleth": [
           {
            "colorbar": {
             "outlinewidth": 0,
             "ticks": ""
            },
            "type": "choropleth"
           }
          ],
          "contour": [
           {
            "colorbar": {
             "outlinewidth": 0,
             "ticks": ""
            },
            "colorscale": [
             [
              0,
              "#0d0887"
             ],
             [
              0.1111111111111111,
              "#46039f"
             ],
             [
              0.2222222222222222,
              "#7201a8"
             ],
             [
              0.3333333333333333,
              "#9c179e"
             ],
             [
              0.4444444444444444,
              "#bd3786"
             ],
             [
              0.5555555555555556,
              "#d8576b"
             ],
             [
              0.6666666666666666,
              "#ed7953"
             ],
             [
              0.7777777777777778,
              "#fb9f3a"
             ],
             [
              0.8888888888888888,
              "#fdca26"
             ],
             [
              1,
              "#f0f921"
             ]
            ],
            "type": "contour"
           }
          ],
          "contourcarpet": [
           {
            "colorbar": {
             "outlinewidth": 0,
             "ticks": ""
            },
            "type": "contourcarpet"
           }
          ],
          "heatmap": [
           {
            "colorbar": {
             "outlinewidth": 0,
             "ticks": ""
            },
            "colorscale": [
             [
              0,
              "#0d0887"
             ],
             [
              0.1111111111111111,
              "#46039f"
             ],
             [
              0.2222222222222222,
              "#7201a8"
             ],
             [
              0.3333333333333333,
              "#9c179e"
             ],
             [
              0.4444444444444444,
              "#bd3786"
             ],
             [
              0.5555555555555556,
              "#d8576b"
             ],
             [
              0.6666666666666666,
              "#ed7953"
             ],
             [
              0.7777777777777778,
              "#fb9f3a"
             ],
             [
              0.8888888888888888,
              "#fdca26"
             ],
             [
              1,
              "#f0f921"
             ]
            ],
            "type": "heatmap"
           }
          ],
          "heatmapgl": [
           {
            "colorbar": {
             "outlinewidth": 0,
             "ticks": ""
            },
            "colorscale": [
             [
              0,
              "#0d0887"
             ],
             [
              0.1111111111111111,
              "#46039f"
             ],
             [
              0.2222222222222222,
              "#7201a8"
             ],
             [
              0.3333333333333333,
              "#9c179e"
             ],
             [
              0.4444444444444444,
              "#bd3786"
             ],
             [
              0.5555555555555556,
              "#d8576b"
             ],
             [
              0.6666666666666666,
              "#ed7953"
             ],
             [
              0.7777777777777778,
              "#fb9f3a"
             ],
             [
              0.8888888888888888,
              "#fdca26"
             ],
             [
              1,
              "#f0f921"
             ]
            ],
            "type": "heatmapgl"
           }
          ],
          "histogram": [
           {
            "marker": {
             "pattern": {
              "fillmode": "overlay",
              "size": 10,
              "solidity": 0.2
             }
            },
            "type": "histogram"
           }
          ],
          "histogram2d": [
           {
            "colorbar": {
             "outlinewidth": 0,
             "ticks": ""
            },
            "colorscale": [
             [
              0,
              "#0d0887"
             ],
             [
              0.1111111111111111,
              "#46039f"
             ],
             [
              0.2222222222222222,
              "#7201a8"
             ],
             [
              0.3333333333333333,
              "#9c179e"
             ],
             [
              0.4444444444444444,
              "#bd3786"
             ],
             [
              0.5555555555555556,
              "#d8576b"
             ],
             [
              0.6666666666666666,
              "#ed7953"
             ],
             [
              0.7777777777777778,
              "#fb9f3a"
             ],
             [
              0.8888888888888888,
              "#fdca26"
             ],
             [
              1,
              "#f0f921"
             ]
            ],
            "type": "histogram2d"
           }
          ],
          "histogram2dcontour": [
           {
            "colorbar": {
             "outlinewidth": 0,
             "ticks": ""
            },
            "colorscale": [
             [
              0,
              "#0d0887"
             ],
             [
              0.1111111111111111,
              "#46039f"
             ],
             [
              0.2222222222222222,
              "#7201a8"
             ],
             [
              0.3333333333333333,
              "#9c179e"
             ],
             [
              0.4444444444444444,
              "#bd3786"
             ],
             [
              0.5555555555555556,
              "#d8576b"
             ],
             [
              0.6666666666666666,
              "#ed7953"
             ],
             [
              0.7777777777777778,
              "#fb9f3a"
             ],
             [
              0.8888888888888888,
              "#fdca26"
             ],
             [
              1,
              "#f0f921"
             ]
            ],
            "type": "histogram2dcontour"
           }
          ],
          "mesh3d": [
           {
            "colorbar": {
             "outlinewidth": 0,
             "ticks": ""
            },
            "type": "mesh3d"
           }
          ],
          "parcoords": [
           {
            "line": {
             "colorbar": {
              "outlinewidth": 0,
              "ticks": ""
             }
            },
            "type": "parcoords"
           }
          ],
          "pie": [
           {
            "automargin": true,
            "type": "pie"
           }
          ],
          "scatter": [
           {
            "marker": {
             "colorbar": {
              "outlinewidth": 0,
              "ticks": ""
             }
            },
            "type": "scatter"
           }
          ],
          "scatter3d": [
           {
            "line": {
             "colorbar": {
              "outlinewidth": 0,
              "ticks": ""
             }
            },
            "marker": {
             "colorbar": {
              "outlinewidth": 0,
              "ticks": ""
             }
            },
            "type": "scatter3d"
           }
          ],
          "scattercarpet": [
           {
            "marker": {
             "colorbar": {
              "outlinewidth": 0,
              "ticks": ""
             }
            },
            "type": "scattercarpet"
           }
          ],
          "scattergeo": [
           {
            "marker": {
             "colorbar": {
              "outlinewidth": 0,
              "ticks": ""
             }
            },
            "type": "scattergeo"
           }
          ],
          "scattergl": [
           {
            "marker": {
             "colorbar": {
              "outlinewidth": 0,
              "ticks": ""
             }
            },
            "type": "scattergl"
           }
          ],
          "scattermapbox": [
           {
            "marker": {
             "colorbar": {
              "outlinewidth": 0,
              "ticks": ""
             }
            },
            "type": "scattermapbox"
           }
          ],
          "scatterpolar": [
           {
            "marker": {
             "colorbar": {
              "outlinewidth": 0,
              "ticks": ""
             }
            },
            "type": "scatterpolar"
           }
          ],
          "scatterpolargl": [
           {
            "marker": {
             "colorbar": {
              "outlinewidth": 0,
              "ticks": ""
             }
            },
            "type": "scatterpolargl"
           }
          ],
          "scatterternary": [
           {
            "marker": {
             "colorbar": {
              "outlinewidth": 0,
              "ticks": ""
             }
            },
            "type": "scatterternary"
           }
          ],
          "surface": [
           {
            "colorbar": {
             "outlinewidth": 0,
             "ticks": ""
            },
            "colorscale": [
             [
              0,
              "#0d0887"
             ],
             [
              0.1111111111111111,
              "#46039f"
             ],
             [
              0.2222222222222222,
              "#7201a8"
             ],
             [
              0.3333333333333333,
              "#9c179e"
             ],
             [
              0.4444444444444444,
              "#bd3786"
             ],
             [
              0.5555555555555556,
              "#d8576b"
             ],
             [
              0.6666666666666666,
              "#ed7953"
             ],
             [
              0.7777777777777778,
              "#fb9f3a"
             ],
             [
              0.8888888888888888,
              "#fdca26"
             ],
             [
              1,
              "#f0f921"
             ]
            ],
            "type": "surface"
           }
          ],
          "table": [
           {
            "cells": {
             "fill": {
              "color": "#EBF0F8"
             },
             "line": {
              "color": "white"
             }
            },
            "header": {
             "fill": {
              "color": "#C8D4E3"
             },
             "line": {
              "color": "white"
             }
            },
            "type": "table"
           }
          ]
         },
         "layout": {
          "annotationdefaults": {
           "arrowcolor": "#2a3f5f",
           "arrowhead": 0,
           "arrowwidth": 1
          },
          "autotypenumbers": "strict",
          "coloraxis": {
           "colorbar": {
            "outlinewidth": 0,
            "ticks": ""
           }
          },
          "colorscale": {
           "diverging": [
            [
             0,
             "#8e0152"
            ],
            [
             0.1,
             "#c51b7d"
            ],
            [
             0.2,
             "#de77ae"
            ],
            [
             0.3,
             "#f1b6da"
            ],
            [
             0.4,
             "#fde0ef"
            ],
            [
             0.5,
             "#f7f7f7"
            ],
            [
             0.6,
             "#e6f5d0"
            ],
            [
             0.7,
             "#b8e186"
            ],
            [
             0.8,
             "#7fbc41"
            ],
            [
             0.9,
             "#4d9221"
            ],
            [
             1,
             "#276419"
            ]
           ],
           "sequential": [
            [
             0,
             "#0d0887"
            ],
            [
             0.1111111111111111,
             "#46039f"
            ],
            [
             0.2222222222222222,
             "#7201a8"
            ],
            [
             0.3333333333333333,
             "#9c179e"
            ],
            [
             0.4444444444444444,
             "#bd3786"
            ],
            [
             0.5555555555555556,
             "#d8576b"
            ],
            [
             0.6666666666666666,
             "#ed7953"
            ],
            [
             0.7777777777777778,
             "#fb9f3a"
            ],
            [
             0.8888888888888888,
             "#fdca26"
            ],
            [
             1,
             "#f0f921"
            ]
           ],
           "sequentialminus": [
            [
             0,
             "#0d0887"
            ],
            [
             0.1111111111111111,
             "#46039f"
            ],
            [
             0.2222222222222222,
             "#7201a8"
            ],
            [
             0.3333333333333333,
             "#9c179e"
            ],
            [
             0.4444444444444444,
             "#bd3786"
            ],
            [
             0.5555555555555556,
             "#d8576b"
            ],
            [
             0.6666666666666666,
             "#ed7953"
            ],
            [
             0.7777777777777778,
             "#fb9f3a"
            ],
            [
             0.8888888888888888,
             "#fdca26"
            ],
            [
             1,
             "#f0f921"
            ]
           ]
          },
          "colorway": [
           "#636efa",
           "#EF553B",
           "#00cc96",
           "#ab63fa",
           "#FFA15A",
           "#19d3f3",
           "#FF6692",
           "#B6E880",
           "#FF97FF",
           "#FECB52"
          ],
          "font": {
           "color": "#2a3f5f"
          },
          "geo": {
           "bgcolor": "white",
           "lakecolor": "white",
           "landcolor": "#E5ECF6",
           "showlakes": true,
           "showland": true,
           "subunitcolor": "white"
          },
          "hoverlabel": {
           "align": "left"
          },
          "hovermode": "closest",
          "mapbox": {
           "style": "light"
          },
          "paper_bgcolor": "white",
          "plot_bgcolor": "#E5ECF6",
          "polar": {
           "angularaxis": {
            "gridcolor": "white",
            "linecolor": "white",
            "ticks": ""
           },
           "bgcolor": "#E5ECF6",
           "radialaxis": {
            "gridcolor": "white",
            "linecolor": "white",
            "ticks": ""
           }
          },
          "scene": {
           "xaxis": {
            "backgroundcolor": "#E5ECF6",
            "gridcolor": "white",
            "gridwidth": 2,
            "linecolor": "white",
            "showbackground": true,
            "ticks": "",
            "zerolinecolor": "white"
           },
           "yaxis": {
            "backgroundcolor": "#E5ECF6",
            "gridcolor": "white",
            "gridwidth": 2,
            "linecolor": "white",
            "showbackground": true,
            "ticks": "",
            "zerolinecolor": "white"
           },
           "zaxis": {
            "backgroundcolor": "#E5ECF6",
            "gridcolor": "white",
            "gridwidth": 2,
            "linecolor": "white",
            "showbackground": true,
            "ticks": "",
            "zerolinecolor": "white"
           }
          },
          "shapedefaults": {
           "line": {
            "color": "#2a3f5f"
           }
          },
          "ternary": {
           "aaxis": {
            "gridcolor": "white",
            "linecolor": "white",
            "ticks": ""
           },
           "baxis": {
            "gridcolor": "white",
            "linecolor": "white",
            "ticks": ""
           },
           "bgcolor": "#E5ECF6",
           "caxis": {
            "gridcolor": "white",
            "linecolor": "white",
            "ticks": ""
           }
          },
          "title": {
           "x": 0.05
          },
          "xaxis": {
           "automargin": true,
           "gridcolor": "white",
           "linecolor": "white",
           "ticks": "",
           "title": {
            "standoff": 15
           },
           "zerolinecolor": "white",
           "zerolinewidth": 2
          },
          "yaxis": {
           "automargin": true,
           "gridcolor": "white",
           "linecolor": "white",
           "ticks": "",
           "title": {
            "standoff": 15
           },
           "zerolinecolor": "white",
           "zerolinewidth": 2
          }
         }
        },
        "title": {
         "font": {
          "color": "black",
          "family": "Bahnschrift Light"
         },
         "text": "Profit Efficient Products"
        },
        "xaxis": {
         "categoryorder": "category ascending",
         "title": {
          "font": {
           "family": "Candara Light"
          },
          "text": "Product"
         }
        },
        "yaxis": {
         "title": {
          "font": {
           "family": "Candara Light"
          },
          "text": "Sum"
         }
        }
       }
      },
      "text/html": [
       "<div>                            <div id=\"106c2440-d9c8-4d57-8b17-f23096320873\" class=\"plotly-graph-div\" style=\"height:525px; width:100%;\"></div>            <script type=\"text/javascript\">                require([\"plotly\"], function(Plotly) {                    window.PLOTLYENV=window.PLOTLYENV || {};                                    if (document.getElementById(\"106c2440-d9c8-4d57-8b17-f23096320873\")) {                    Plotly.newPlot(                        \"106c2440-d9c8-4d57-8b17-f23096320873\",                        [{\"histfunc\":\"sum\",\"name\":\"Sum of Profit\",\"type\":\"histogram\",\"x\":[\"F\",\"L\",\"E\",\"S\",\"M\",\"A\",\"L\",\"F\",\"M\",\"S\",\"D\",\"G\",\"M\",\"K\",\"M\",\"F\",\"C\",\"M\",\"Q\",\"M\",\"C\",\"E\",\"F\",\"Q\",\"K\",\"Q\",\"G\",\"K\",\"B\",\"M\",\"G\",\"E\",\"M\",\"E\",\"G\",\"L\",\"F\",\"G\",\"E\",\"F\",\"R\",\"M\",\"S\",\"F\",\"A\",\"M\",\"F\",\"E\",\"Q\",\"E\",\"F\",\"S\",\"F\",\"E\",\"G\",\"C\",\"K\",\"N\",\"G\",\"D\",\"N\",\"K\",\"G\",\"L\",\"M\",\"N\",\"C\",\"G\",\"T\",\"B\",\"L\",\"F\",\"F\",\"A\",\"F\",\"C\",\"Q\",\"B\",\"O\",\"M\",\"G\",\"J\",\"C\",\"F\",\"M\",\"L\",\"P\",\"G\",\"J\",\"M\",\"C\",\"B\",\"H\",\"K\",\"B\",\"C\",\"R\",\"B\",\"J\",\"C\",\"R\",\"M\",\"I\",\"M\",\"M\",\"C\",\"R\",\"M\",\"G\",\"H\",\"F\",\"C\",\"F\",\"B\",\"C\",\"E\",\"T\",\"K\",\"L\",\"M\",\"C\",\"K\",\"C\",\"F\",\"B\",\"E\",\"F\",\"F\",\"L\",\"T\",\"C\",\"F\",\"N\",\"G\",\"A\",\"J\",\"F\",\"B\",\"M\",\"F\",\"E\",\"I\",\"H\",\"O\",\"E\",\"S\",\"F\",\"E\",\"L\",\"H\",\"S\",\"B\",\"E\",\"H\",\"K\",\"C\",\"R\",\"P\",\"K\",\"P\",\"B\",\"M\",\"C\",\"B\",\"F\",\"C\",\"A\",\"C\",\"O\",\"L\",\"Q\",\"R\",\"L\",\"I\",\"F\",\"B\",\"E\",\"M\",\"Q\",\"N\",\"S\",\"T\",\"J\",\"C\",\"B\",\"E\",\"O\",\"K\",\"E\",\"H\",\"P\",\"K\",\"F\",\"A\",\"C\",\"S\",\"E\",\"M\",\"B\",\"L\",\"F\",\"C\",\"G\",\"C\",\"F\",\"G\",\"C\",\"E\",\"K\",\"F\",\"L\",\"F\",\"H\",\"Q\",\"A\"],\"y\":[40.0,43.0,40.0,53.2,43.0,31.700000000000003,43.0,40.0,43.0,53.2,37.0,42.0,43.0,43.0,43.0,40.0,33.8,43.0,46.7,43.0,33.8,40.0,40.0,46.7,43.0,50.0,42.0,43.0,33.8,43.0,42.0,40.0,43.0,40.0,42.0,43.0,40.0,42.0,40.0,40.0,50.0,43.0,53.2,40.0,31.700000000000003,43.0,40.0,40.0,50.0,40.0,40.0,53.2,40.0,40.0,42.0,33.8,43.0,45.2,42.0,37.0,45.2,43.0,42.0,43.0,43.0,45.2,33.8,42.0,53.400000000000006,33.8,43.0,40.0,40.0,31.700000000000003,40.0,33.8,46.7,33.8,46.2,43.0,42.0,42.0,33.8,40.0,43.0,43.0,46.2,42.0,42.0,43.0,33.8,33.8,42.0,43.0,33.8,33.8,50.0,33.8,42.0,33.8,50.0,43.0,42.0,43.0,43.0,33.8,50.0,43.0,42.0,42.0,40.0,33.8,40.0,33.8,33.8,40.0,53.400000000000006,43.0,43.0,43.0,33.8,43.0,33.8,40.0,33.8,40.0,40.0,40.0,43.0,53.400000000000006,33.8,40.0,45.2,42.0,31.700000000000003,42.0,40.0,33.8,43.0,40.0,40.0,42.0,42.0,46.2,40.0,53.2,40.0,40.0,43.0,42.0,53.2,33.8,40.0,42.0,43.0,33.8,50.0,46.2,43.0,46.2,33.8,43.0,33.8,33.8,40.0,33.8,31.700000000000003,33.8,46.2,43.0,46.7,50.0,43.0,42.0,40.0,33.8,40.0,43.0,46.7,45.2,53.2,53.400000000000006,42.0,33.8,33.8,40.0,46.2,43.0,40.0,42.0,46.2,43.0,40.0,31.700000000000003,33.8,53.2,40.0,43.0,33.8,43.0,40.0,33.8,42.0,33.8,40.0,42.0,33.8,40.0,43.0,40.0,43.0,40.0,42.0,50.0,31.700000000000003]},{\"histfunc\":\"sum\",\"name\":\"Sum of Labour Cost\",\"type\":\"histogram\",\"x\":[\"F\",\"L\",\"E\",\"S\",\"M\",\"A\",\"L\",\"F\",\"M\",\"S\",\"D\",\"G\",\"M\",\"K\",\"M\",\"F\",\"C\",\"M\",\"Q\",\"M\",\"C\",\"E\",\"F\",\"Q\",\"K\",\"Q\",\"G\",\"K\",\"B\",\"M\",\"G\",\"E\",\"M\",\"E\",\"G\",\"L\",\"F\",\"G\",\"E\",\"F\",\"R\",\"M\",\"S\",\"F\",\"A\",\"M\",\"F\",\"E\",\"Q\",\"E\",\"F\",\"S\",\"F\",\"E\",\"G\",\"C\",\"K\",\"N\",\"G\",\"D\",\"N\",\"K\",\"G\",\"L\",\"M\",\"N\",\"C\",\"G\",\"T\",\"B\",\"L\",\"F\",\"F\",\"A\",\"F\",\"C\",\"Q\",\"B\",\"O\",\"M\",\"G\",\"J\",\"C\",\"F\",\"M\",\"L\",\"P\",\"G\",\"J\",\"M\",\"C\",\"B\",\"H\",\"K\",\"B\",\"C\",\"R\",\"B\",\"J\",\"C\",\"R\",\"M\",\"I\",\"M\",\"M\",\"C\",\"R\",\"M\",\"G\",\"H\",\"F\",\"C\",\"F\",\"B\",\"C\",\"E\",\"T\",\"K\",\"L\",\"M\",\"C\",\"K\",\"C\",\"F\",\"B\",\"E\",\"F\",\"F\",\"L\",\"T\",\"C\",\"F\",\"N\",\"G\",\"A\",\"J\",\"F\",\"B\",\"M\",\"F\",\"E\",\"I\",\"H\",\"O\",\"E\",\"S\",\"F\",\"E\",\"L\",\"H\",\"S\",\"B\",\"E\",\"H\",\"K\",\"C\",\"R\",\"P\",\"K\",\"P\",\"B\",\"M\",\"C\",\"B\",\"F\",\"C\",\"A\",\"C\",\"O\",\"L\",\"Q\",\"R\",\"L\",\"I\",\"F\",\"B\",\"E\",\"M\",\"Q\",\"N\",\"S\",\"T\",\"J\",\"C\",\"B\",\"E\",\"O\",\"K\",\"E\",\"H\",\"P\",\"K\",\"F\",\"A\",\"C\",\"S\",\"E\",\"M\",\"B\",\"L\",\"F\",\"C\",\"G\",\"C\",\"F\",\"G\",\"C\",\"E\",\"K\",\"F\",\"L\",\"F\",\"H\",\"Q\",\"A\"],\"y\":[22,20,22,12,20,30,20,22,20,12,25,20,20,20,20,22,28,20,15,20,28,22,22,15,20,15,20,20,28,20,20,22,20,22,20,20,22,20,22,22,15,20,12,22,30,20,22,22,15,22,22,12,22,22,20,28,20,18,20,25,18,20,20,20,20,18,28,20,12,28,20,22,22,30,22,28,15,28,18,20,20,20,28,22,20,20,18,20,20,20,28,28,20,20,28,28,15,28,20,28,15,20,20,20,20,28,15,20,20,20,22,28,22,28,28,22,12,20,20,20,28,20,28,22,28,22,22,22,20,12,28,22,18,20,30,20,22,28,20,22,22,20,20,18,22,12,22,22,20,20,12,28,22,20,20,28,15,18,20,18,28,20,28,28,22,28,30,28,18,20,15,15,20,20,22,28,22,20,15,18,12,12,20,28,28,22,18,20,22,20,18,20,22,30,28,12,22,20,28,20,22,28,20,28,22,20,28,22,20,22,20,22,20,15,30]}],                        {\"annotations\":[{\"arrowhead\":1,\"showarrow\":false,\"text\":\"(The products are in ascending order of their size starting from A)\",\"x\":\"M\",\"y\":1210},{\"arrowhead\":1,\"showarrow\":true,\"text\":\"Profit=Cost\",\"x\":\"B\",\"y\":900},{\"arrowhead\":1,\"showarrow\":true,\"text\":\"Profit>Cost\",\"x\":\"O\",\"y\":900}],\"bargap\":0.2,\"colorway\":[\"#31B404\",\"#82FA58\",\"#FA5858\"],\"font\":{\"color\":\"black\",\"family\":\"Courier New\"},\"legend\":{\"title\":{\"font\":{\"color\":\"green\"}}},\"template\":{\"data\":{\"bar\":[{\"error_x\":{\"color\":\"#2a3f5f\"},\"error_y\":{\"color\":\"#2a3f5f\"},\"marker\":{\"line\":{\"color\":\"#E5ECF6\",\"width\":0.5},\"pattern\":{\"fillmode\":\"overlay\",\"size\":10,\"solidity\":0.2}},\"type\":\"bar\"}],\"barpolar\":[{\"marker\":{\"line\":{\"color\":\"#E5ECF6\",\"width\":0.5},\"pattern\":{\"fillmode\":\"overlay\",\"size\":10,\"solidity\":0.2}},\"type\":\"barpolar\"}],\"carpet\":[{\"aaxis\":{\"endlinecolor\":\"#2a3f5f\",\"gridcolor\":\"white\",\"linecolor\":\"white\",\"minorgridcolor\":\"white\",\"startlinecolor\":\"#2a3f5f\"},\"baxis\":{\"endlinecolor\":\"#2a3f5f\",\"gridcolor\":\"white\",\"linecolor\":\"white\",\"minorgridcolor\":\"white\",\"startlinecolor\":\"#2a3f5f\"},\"type\":\"carpet\"}],\"choropleth\":[{\"colorbar\":{\"outlinewidth\":0,\"ticks\":\"\"},\"type\":\"choropleth\"}],\"contour\":[{\"colorbar\":{\"outlinewidth\":0,\"ticks\":\"\"},\"colorscale\":[[0.0,\"#0d0887\"],[0.1111111111111111,\"#46039f\"],[0.2222222222222222,\"#7201a8\"],[0.3333333333333333,\"#9c179e\"],[0.4444444444444444,\"#bd3786\"],[0.5555555555555556,\"#d8576b\"],[0.6666666666666666,\"#ed7953\"],[0.7777777777777778,\"#fb9f3a\"],[0.8888888888888888,\"#fdca26\"],[1.0,\"#f0f921\"]],\"type\":\"contour\"}],\"contourcarpet\":[{\"colorbar\":{\"outlinewidth\":0,\"ticks\":\"\"},\"type\":\"contourcarpet\"}],\"heatmap\":[{\"colorbar\":{\"outlinewidth\":0,\"ticks\":\"\"},\"colorscale\":[[0.0,\"#0d0887\"],[0.1111111111111111,\"#46039f\"],[0.2222222222222222,\"#7201a8\"],[0.3333333333333333,\"#9c179e\"],[0.4444444444444444,\"#bd3786\"],[0.5555555555555556,\"#d8576b\"],[0.6666666666666666,\"#ed7953\"],[0.7777777777777778,\"#fb9f3a\"],[0.8888888888888888,\"#fdca26\"],[1.0,\"#f0f921\"]],\"type\":\"heatmap\"}],\"heatmapgl\":[{\"colorbar\":{\"outlinewidth\":0,\"ticks\":\"\"},\"colorscale\":[[0.0,\"#0d0887\"],[0.1111111111111111,\"#46039f\"],[0.2222222222222222,\"#7201a8\"],[0.3333333333333333,\"#9c179e\"],[0.4444444444444444,\"#bd3786\"],[0.5555555555555556,\"#d8576b\"],[0.6666666666666666,\"#ed7953\"],[0.7777777777777778,\"#fb9f3a\"],[0.8888888888888888,\"#fdca26\"],[1.0,\"#f0f921\"]],\"type\":\"heatmapgl\"}],\"histogram\":[{\"marker\":{\"pattern\":{\"fillmode\":\"overlay\",\"size\":10,\"solidity\":0.2}},\"type\":\"histogram\"}],\"histogram2d\":[{\"colorbar\":{\"outlinewidth\":0,\"ticks\":\"\"},\"colorscale\":[[0.0,\"#0d0887\"],[0.1111111111111111,\"#46039f\"],[0.2222222222222222,\"#7201a8\"],[0.3333333333333333,\"#9c179e\"],[0.4444444444444444,\"#bd3786\"],[0.5555555555555556,\"#d8576b\"],[0.6666666666666666,\"#ed7953\"],[0.7777777777777778,\"#fb9f3a\"],[0.8888888888888888,\"#fdca26\"],[1.0,\"#f0f921\"]],\"type\":\"histogram2d\"}],\"histogram2dcontour\":[{\"colorbar\":{\"outlinewidth\":0,\"ticks\":\"\"},\"colorscale\":[[0.0,\"#0d0887\"],[0.1111111111111111,\"#46039f\"],[0.2222222222222222,\"#7201a8\"],[0.3333333333333333,\"#9c179e\"],[0.4444444444444444,\"#bd3786\"],[0.5555555555555556,\"#d8576b\"],[0.6666666666666666,\"#ed7953\"],[0.7777777777777778,\"#fb9f3a\"],[0.8888888888888888,\"#fdca26\"],[1.0,\"#f0f921\"]],\"type\":\"histogram2dcontour\"}],\"mesh3d\":[{\"colorbar\":{\"outlinewidth\":0,\"ticks\":\"\"},\"type\":\"mesh3d\"}],\"parcoords\":[{\"line\":{\"colorbar\":{\"outlinewidth\":0,\"ticks\":\"\"}},\"type\":\"parcoords\"}],\"pie\":[{\"automargin\":true,\"type\":\"pie\"}],\"scatter\":[{\"marker\":{\"colorbar\":{\"outlinewidth\":0,\"ticks\":\"\"}},\"type\":\"scatter\"}],\"scatter3d\":[{\"line\":{\"colorbar\":{\"outlinewidth\":0,\"ticks\":\"\"}},\"marker\":{\"colorbar\":{\"outlinewidth\":0,\"ticks\":\"\"}},\"type\":\"scatter3d\"}],\"scattercarpet\":[{\"marker\":{\"colorbar\":{\"outlinewidth\":0,\"ticks\":\"\"}},\"type\":\"scattercarpet\"}],\"scattergeo\":[{\"marker\":{\"colorbar\":{\"outlinewidth\":0,\"ticks\":\"\"}},\"type\":\"scattergeo\"}],\"scattergl\":[{\"marker\":{\"colorbar\":{\"outlinewidth\":0,\"ticks\":\"\"}},\"type\":\"scattergl\"}],\"scattermapbox\":[{\"marker\":{\"colorbar\":{\"outlinewidth\":0,\"ticks\":\"\"}},\"type\":\"scattermapbox\"}],\"scatterpolar\":[{\"marker\":{\"colorbar\":{\"outlinewidth\":0,\"ticks\":\"\"}},\"type\":\"scatterpolar\"}],\"scatterpolargl\":[{\"marker\":{\"colorbar\":{\"outlinewidth\":0,\"ticks\":\"\"}},\"type\":\"scatterpolargl\"}],\"scatterternary\":[{\"marker\":{\"colorbar\":{\"outlinewidth\":0,\"ticks\":\"\"}},\"type\":\"scatterternary\"}],\"surface\":[{\"colorbar\":{\"outlinewidth\":0,\"ticks\":\"\"},\"colorscale\":[[0.0,\"#0d0887\"],[0.1111111111111111,\"#46039f\"],[0.2222222222222222,\"#7201a8\"],[0.3333333333333333,\"#9c179e\"],[0.4444444444444444,\"#bd3786\"],[0.5555555555555556,\"#d8576b\"],[0.6666666666666666,\"#ed7953\"],[0.7777777777777778,\"#fb9f3a\"],[0.8888888888888888,\"#fdca26\"],[1.0,\"#f0f921\"]],\"type\":\"surface\"}],\"table\":[{\"cells\":{\"fill\":{\"color\":\"#EBF0F8\"},\"line\":{\"color\":\"white\"}},\"header\":{\"fill\":{\"color\":\"#C8D4E3\"},\"line\":{\"color\":\"white\"}},\"type\":\"table\"}]},\"layout\":{\"annotationdefaults\":{\"arrowcolor\":\"#2a3f5f\",\"arrowhead\":0,\"arrowwidth\":1},\"autotypenumbers\":\"strict\",\"coloraxis\":{\"colorbar\":{\"outlinewidth\":0,\"ticks\":\"\"}},\"colorscale\":{\"diverging\":[[0,\"#8e0152\"],[0.1,\"#c51b7d\"],[0.2,\"#de77ae\"],[0.3,\"#f1b6da\"],[0.4,\"#fde0ef\"],[0.5,\"#f7f7f7\"],[0.6,\"#e6f5d0\"],[0.7,\"#b8e186\"],[0.8,\"#7fbc41\"],[0.9,\"#4d9221\"],[1,\"#276419\"]],\"sequential\":[[0.0,\"#0d0887\"],[0.1111111111111111,\"#46039f\"],[0.2222222222222222,\"#7201a8\"],[0.3333333333333333,\"#9c179e\"],[0.4444444444444444,\"#bd3786\"],[0.5555555555555556,\"#d8576b\"],[0.6666666666666666,\"#ed7953\"],[0.7777777777777778,\"#fb9f3a\"],[0.8888888888888888,\"#fdca26\"],[1.0,\"#f0f921\"]],\"sequentialminus\":[[0.0,\"#0d0887\"],[0.1111111111111111,\"#46039f\"],[0.2222222222222222,\"#7201a8\"],[0.3333333333333333,\"#9c179e\"],[0.4444444444444444,\"#bd3786\"],[0.5555555555555556,\"#d8576b\"],[0.6666666666666666,\"#ed7953\"],[0.7777777777777778,\"#fb9f3a\"],[0.8888888888888888,\"#fdca26\"],[1.0,\"#f0f921\"]]},\"colorway\":[\"#636efa\",\"#EF553B\",\"#00cc96\",\"#ab63fa\",\"#FFA15A\",\"#19d3f3\",\"#FF6692\",\"#B6E880\",\"#FF97FF\",\"#FECB52\"],\"font\":{\"color\":\"#2a3f5f\"},\"geo\":{\"bgcolor\":\"white\",\"lakecolor\":\"white\",\"landcolor\":\"#E5ECF6\",\"showlakes\":true,\"showland\":true,\"subunitcolor\":\"white\"},\"hoverlabel\":{\"align\":\"left\"},\"hovermode\":\"closest\",\"mapbox\":{\"style\":\"light\"},\"paper_bgcolor\":\"white\",\"plot_bgcolor\":\"#E5ECF6\",\"polar\":{\"angularaxis\":{\"gridcolor\":\"white\",\"linecolor\":\"white\",\"ticks\":\"\"},\"bgcolor\":\"#E5ECF6\",\"radialaxis\":{\"gridcolor\":\"white\",\"linecolor\":\"white\",\"ticks\":\"\"}},\"scene\":{\"xaxis\":{\"backgroundcolor\":\"#E5ECF6\",\"gridcolor\":\"white\",\"gridwidth\":2,\"linecolor\":\"white\",\"showbackground\":true,\"ticks\":\"\",\"zerolinecolor\":\"white\"},\"yaxis\":{\"backgroundcolor\":\"#E5ECF6\",\"gridcolor\":\"white\",\"gridwidth\":2,\"linecolor\":\"white\",\"showbackground\":true,\"ticks\":\"\",\"zerolinecolor\":\"white\"},\"zaxis\":{\"backgroundcolor\":\"#E5ECF6\",\"gridcolor\":\"white\",\"gridwidth\":2,\"linecolor\":\"white\",\"showbackground\":true,\"ticks\":\"\",\"zerolinecolor\":\"white\"}},\"shapedefaults\":{\"line\":{\"color\":\"#2a3f5f\"}},\"ternary\":{\"aaxis\":{\"gridcolor\":\"white\",\"linecolor\":\"white\",\"ticks\":\"\"},\"baxis\":{\"gridcolor\":\"white\",\"linecolor\":\"white\",\"ticks\":\"\"},\"bgcolor\":\"#E5ECF6\",\"caxis\":{\"gridcolor\":\"white\",\"linecolor\":\"white\",\"ticks\":\"\"}},\"title\":{\"x\":0.05},\"xaxis\":{\"automargin\":true,\"gridcolor\":\"white\",\"linecolor\":\"white\",\"ticks\":\"\",\"title\":{\"standoff\":15},\"zerolinecolor\":\"white\",\"zerolinewidth\":2},\"yaxis\":{\"automargin\":true,\"gridcolor\":\"white\",\"linecolor\":\"white\",\"ticks\":\"\",\"title\":{\"standoff\":15},\"zerolinecolor\":\"white\",\"zerolinewidth\":2}}},\"title\":{\"font\":{\"color\":\"black\",\"family\":\"Bahnschrift Light\"},\"text\":\"Profit Efficient Products\"},\"xaxis\":{\"categoryorder\":\"category ascending\",\"title\":{\"font\":{\"family\":\"Candara Light\"},\"text\":\"Product\"}},\"yaxis\":{\"title\":{\"font\":{\"family\":\"Candara Light\"},\"text\":\"Sum\"}}},                        {\"responsive\": true}                    ).then(function(){\n",
       "                            \n",
       "var gd = document.getElementById('106c2440-d9c8-4d57-8b17-f23096320873');\n",
       "var x = new MutationObserver(function (mutations, observer) {{\n",
       "        var display = window.getComputedStyle(gd).display;\n",
       "        if (!display || display === 'none') {{\n",
       "            console.log([gd, 'removed!']);\n",
       "            Plotly.purge(gd);\n",
       "            observer.disconnect();\n",
       "        }}\n",
       "}});\n",
       "\n",
       "// Listen for the removal of the full notebook cells\n",
       "var notebookContainer = gd.closest('#notebook-container');\n",
       "if (notebookContainer) {{\n",
       "    x.observe(notebookContainer, {childList: true});\n",
       "}}\n",
       "\n",
       "// Listen for the clearing of the current output cell\n",
       "var outputEl = gd.closest('.output');\n",
       "if (outputEl) {{\n",
       "    x.observe(outputEl, {childList: true});\n",
       "}}\n",
       "\n",
       "                        })                };                });            </script>        </div>"
      ]
     },
     "metadata": {},
     "output_type": "display_data"
    }
   ],
   "source": [
    "fig = go.Figure()\n",
    "fig.add_trace(go.Histogram(histfunc=\"sum\", x = data[\"Size\"] , y=data[\"Profit\"], name = \"Sum of Profit\" ))\n",
    "fig.add_trace(go.Histogram(histfunc=\"sum\", x = data[\"Size\"] , y=data[\"labor cost (per kg)\"], name=\"Sum of Labour Cost\"))\n",
    "#fig.add_trace(go.Histogram(histfunc=\"sum\", x = data[\"Size\"] , y=data[\"electricity cost (per kg)\"], name=\"Sum of electricity Cost\"))\n",
    "\n",
    "#fig.add_trace(go.Scatter( x = data[\"Size\"] , y=data[\"Profit\"], name = \"Sum of Profit\" ))\n",
    "#fig.add_trace(go.Scatter( x = data[\"Size\"] , y=data[\"labor cost (per kg)\"], name=\"Sum of Labour Cost\"))\n",
    "#fig.add_trace(go.Scatter( x = data[\"Size\"] , y=data[\"electricity cost (per kg)\"], name=\"Sum of electricity Cost\"))\n",
    "\n",
    "\n",
    "fig.update_xaxes(categoryorder='category ascending')\n",
    "fig.update_layout(\n",
    "    bargap=0.2 , colorway =  [\"#31B404\" , '#82FA58' , \"#FA5858\"])\n",
    "# , '#81F7F3'\n",
    "fig.update_xaxes(title = \"Product\" , title_font_family=\"Candara Light\")\n",
    "fig.update_yaxes(title = \"Sum\" , title_font_family=\"Candara Light\")\n",
    "\n",
    "fig.update_layout(\n",
    "    title = \"Profit Efficient Products\",\n",
    "    font_family=\"Courier New\",\n",
    "    font_color=\"black\",\n",
    "    title_font_family=\"Bahnschrift Light\",\n",
    "    title_font_color=\"black\",\n",
    "    legend_title_font_color=\"green\"\n",
    ")\n",
    "\n",
    "fig.add_annotation(x= \"M\", y = 1210,\n",
    "            text=\"(The products are in ascending order of their size starting from A)\",\n",
    "            showarrow=False,\n",
    "            arrowhead=1)\n",
    "\n",
    "fig.add_annotation(x= \"B\", y = 900,\n",
    "            text=\"Profit=Cost\"\n",
    "                   ,\n",
    "            showarrow=True,\n",
    "            arrowhead=1)\n",
    "\n",
    "fig.add_annotation(x= \"O\", y = 900,\n",
    "            text=\"Profit>Cost\",\n",
    "            showarrow=True,\n",
    "            arrowhead=1)\n",
    "\n",
    "plotly.offline.plot(fig, filename=os.getcwd()+ \"\\\\files\" + \".html\")\n",
    "\n",
    "fig.show(render_mode = 'png')\n",
    "\n"
   ]
  },
  {
   "cell_type": "code",
   "execution_count": 623,
   "metadata": {},
   "outputs": [
    {
     "name": "stdout",
     "output_type": "stream",
     "text": [
      "Requirement already up-to-date: kaleido in c:\\users\\sejal jadev\\anaconda3\\lib\\site-packages (0.2.1)\n"
     ]
    }
   ],
   "source": [
    "# automate smallest size is 15 lakhs, as the size increases machinery proce also increases which in turn increases the \n",
    "#automation cost. \n",
    "# so some of the businesses do have the small sized machines. but it isn't pracrical as the machine produces the products \n",
    "# in one day where as the machine produces in one shot. then it has to be stored which can cause rusting.\n",
    "!pip install -U kaleido\n"
   ]
  },
  {
   "cell_type": "code",
   "execution_count": 635,
   "metadata": {
    "scrolled": true
   },
   "outputs": [
    {
     "data": {
      "application/vnd.plotly.v1+json": {
       "config": {
        "plotlyServerURL": "https://plot.ly"
       },
       "data": [
        {
         "domain": {
          "x": [
           0,
           0.45
          ],
          "y": [
           0,
           1
          ]
         },
         "hole": 0.3,
         "hoverinfo": "label+percent+name",
         "labels": [
          "F",
          "M",
          "C",
          "E"
         ],
         "marker": {
          "colors": [
           "gold",
           "mediumturquoise",
           "darkorange",
           "lightgreen"
          ],
          "line": {
           "color": "#000000",
           "width": 2
          }
         },
         "name": "2",
         "scalegroup": "one",
         "textfont": {
          "size": 15
         },
         "textinfo": "label+value",
         "type": "pie",
         "values": [
          1200,
          989,
          811.2,
          760
         ]
        },
        {
         "domain": {
          "x": [
           0.55,
           1
          ],
          "y": [
           0,
           1
          ]
         },
         "hole": 0.3,
         "hoverinfo": "label+percent+name",
         "labels": [
          "D",
          "I",
          "P",
          "O",
          "J",
          "T",
          "A",
          "N",
          "H",
          "R",
          "Q",
          "S",
          "B",
          "K",
          "L",
          "G",
          "E",
          "C",
          "M",
          "F"
         ],
         "marker": {
          "colors": [
           "gold",
           "mediumturquoise",
           "darkorange",
           "lightgreen"
          ],
          "line": {
           "color": "#000000",
           "width": 2
          }
         },
         "name": "1",
         "scalegroup": "one",
         "textfont": {
          "size": 15
         },
         "textinfo": "percent+label",
         "type": "pie",
         "values": [
          74,
          126,
          184.8,
          184.8,
          210,
          213.60000000000002,
          221.89999999999998,
          226,
          294,
          300,
          383.5,
          425.59999999999997,
          507.0000000000001,
          559,
          559,
          630,
          760,
          811.1999999999997,
          989,
          1200
         ]
        }
       ],
       "layout": {
        "annotations": [
         {
          "font": {
           "size": 16
          },
          "showarrow": false,
          "text": "Majority-Profit Products",
          "x": 0.225,
          "xanchor": "center",
          "xref": "paper",
          "y": 1,
          "yanchor": "bottom",
          "yref": "paper"
         },
         {
          "font": {
           "size": 16
          },
          "showarrow": false,
          "text": "Profit Distribution",
          "x": 0.775,
          "xanchor": "center",
          "xref": "paper",
          "y": 1,
          "yanchor": "bottom",
          "yref": "paper"
         }
        ],
        "font": {
         "color": "black",
         "family": "Courier New"
        },
        "legend": {
         "title": {
          "font": {
           "color": "green"
          }
         }
        },
        "showlegend": false,
        "template": {
         "data": {
          "bar": [
           {
            "error_x": {
             "color": "#2a3f5f"
            },
            "error_y": {
             "color": "#2a3f5f"
            },
            "marker": {
             "line": {
              "color": "#E5ECF6",
              "width": 0.5
             },
             "pattern": {
              "fillmode": "overlay",
              "size": 10,
              "solidity": 0.2
             }
            },
            "type": "bar"
           }
          ],
          "barpolar": [
           {
            "marker": {
             "line": {
              "color": "#E5ECF6",
              "width": 0.5
             },
             "pattern": {
              "fillmode": "overlay",
              "size": 10,
              "solidity": 0.2
             }
            },
            "type": "barpolar"
           }
          ],
          "carpet": [
           {
            "aaxis": {
             "endlinecolor": "#2a3f5f",
             "gridcolor": "white",
             "linecolor": "white",
             "minorgridcolor": "white",
             "startlinecolor": "#2a3f5f"
            },
            "baxis": {
             "endlinecolor": "#2a3f5f",
             "gridcolor": "white",
             "linecolor": "white",
             "minorgridcolor": "white",
             "startlinecolor": "#2a3f5f"
            },
            "type": "carpet"
           }
          ],
          "choropleth": [
           {
            "colorbar": {
             "outlinewidth": 0,
             "ticks": ""
            },
            "type": "choropleth"
           }
          ],
          "contour": [
           {
            "colorbar": {
             "outlinewidth": 0,
             "ticks": ""
            },
            "colorscale": [
             [
              0,
              "#0d0887"
             ],
             [
              0.1111111111111111,
              "#46039f"
             ],
             [
              0.2222222222222222,
              "#7201a8"
             ],
             [
              0.3333333333333333,
              "#9c179e"
             ],
             [
              0.4444444444444444,
              "#bd3786"
             ],
             [
              0.5555555555555556,
              "#d8576b"
             ],
             [
              0.6666666666666666,
              "#ed7953"
             ],
             [
              0.7777777777777778,
              "#fb9f3a"
             ],
             [
              0.8888888888888888,
              "#fdca26"
             ],
             [
              1,
              "#f0f921"
             ]
            ],
            "type": "contour"
           }
          ],
          "contourcarpet": [
           {
            "colorbar": {
             "outlinewidth": 0,
             "ticks": ""
            },
            "type": "contourcarpet"
           }
          ],
          "heatmap": [
           {
            "colorbar": {
             "outlinewidth": 0,
             "ticks": ""
            },
            "colorscale": [
             [
              0,
              "#0d0887"
             ],
             [
              0.1111111111111111,
              "#46039f"
             ],
             [
              0.2222222222222222,
              "#7201a8"
             ],
             [
              0.3333333333333333,
              "#9c179e"
             ],
             [
              0.4444444444444444,
              "#bd3786"
             ],
             [
              0.5555555555555556,
              "#d8576b"
             ],
             [
              0.6666666666666666,
              "#ed7953"
             ],
             [
              0.7777777777777778,
              "#fb9f3a"
             ],
             [
              0.8888888888888888,
              "#fdca26"
             ],
             [
              1,
              "#f0f921"
             ]
            ],
            "type": "heatmap"
           }
          ],
          "heatmapgl": [
           {
            "colorbar": {
             "outlinewidth": 0,
             "ticks": ""
            },
            "colorscale": [
             [
              0,
              "#0d0887"
             ],
             [
              0.1111111111111111,
              "#46039f"
             ],
             [
              0.2222222222222222,
              "#7201a8"
             ],
             [
              0.3333333333333333,
              "#9c179e"
             ],
             [
              0.4444444444444444,
              "#bd3786"
             ],
             [
              0.5555555555555556,
              "#d8576b"
             ],
             [
              0.6666666666666666,
              "#ed7953"
             ],
             [
              0.7777777777777778,
              "#fb9f3a"
             ],
             [
              0.8888888888888888,
              "#fdca26"
             ],
             [
              1,
              "#f0f921"
             ]
            ],
            "type": "heatmapgl"
           }
          ],
          "histogram": [
           {
            "marker": {
             "pattern": {
              "fillmode": "overlay",
              "size": 10,
              "solidity": 0.2
             }
            },
            "type": "histogram"
           }
          ],
          "histogram2d": [
           {
            "colorbar": {
             "outlinewidth": 0,
             "ticks": ""
            },
            "colorscale": [
             [
              0,
              "#0d0887"
             ],
             [
              0.1111111111111111,
              "#46039f"
             ],
             [
              0.2222222222222222,
              "#7201a8"
             ],
             [
              0.3333333333333333,
              "#9c179e"
             ],
             [
              0.4444444444444444,
              "#bd3786"
             ],
             [
              0.5555555555555556,
              "#d8576b"
             ],
             [
              0.6666666666666666,
              "#ed7953"
             ],
             [
              0.7777777777777778,
              "#fb9f3a"
             ],
             [
              0.8888888888888888,
              "#fdca26"
             ],
             [
              1,
              "#f0f921"
             ]
            ],
            "type": "histogram2d"
           }
          ],
          "histogram2dcontour": [
           {
            "colorbar": {
             "outlinewidth": 0,
             "ticks": ""
            },
            "colorscale": [
             [
              0,
              "#0d0887"
             ],
             [
              0.1111111111111111,
              "#46039f"
             ],
             [
              0.2222222222222222,
              "#7201a8"
             ],
             [
              0.3333333333333333,
              "#9c179e"
             ],
             [
              0.4444444444444444,
              "#bd3786"
             ],
             [
              0.5555555555555556,
              "#d8576b"
             ],
             [
              0.6666666666666666,
              "#ed7953"
             ],
             [
              0.7777777777777778,
              "#fb9f3a"
             ],
             [
              0.8888888888888888,
              "#fdca26"
             ],
             [
              1,
              "#f0f921"
             ]
            ],
            "type": "histogram2dcontour"
           }
          ],
          "mesh3d": [
           {
            "colorbar": {
             "outlinewidth": 0,
             "ticks": ""
            },
            "type": "mesh3d"
           }
          ],
          "parcoords": [
           {
            "line": {
             "colorbar": {
              "outlinewidth": 0,
              "ticks": ""
             }
            },
            "type": "parcoords"
           }
          ],
          "pie": [
           {
            "automargin": true,
            "type": "pie"
           }
          ],
          "scatter": [
           {
            "marker": {
             "colorbar": {
              "outlinewidth": 0,
              "ticks": ""
             }
            },
            "type": "scatter"
           }
          ],
          "scatter3d": [
           {
            "line": {
             "colorbar": {
              "outlinewidth": 0,
              "ticks": ""
             }
            },
            "marker": {
             "colorbar": {
              "outlinewidth": 0,
              "ticks": ""
             }
            },
            "type": "scatter3d"
           }
          ],
          "scattercarpet": [
           {
            "marker": {
             "colorbar": {
              "outlinewidth": 0,
              "ticks": ""
             }
            },
            "type": "scattercarpet"
           }
          ],
          "scattergeo": [
           {
            "marker": {
             "colorbar": {
              "outlinewidth": 0,
              "ticks": ""
             }
            },
            "type": "scattergeo"
           }
          ],
          "scattergl": [
           {
            "marker": {
             "colorbar": {
              "outlinewidth": 0,
              "ticks": ""
             }
            },
            "type": "scattergl"
           }
          ],
          "scattermapbox": [
           {
            "marker": {
             "colorbar": {
              "outlinewidth": 0,
              "ticks": ""
             }
            },
            "type": "scattermapbox"
           }
          ],
          "scatterpolar": [
           {
            "marker": {
             "colorbar": {
              "outlinewidth": 0,
              "ticks": ""
             }
            },
            "type": "scatterpolar"
           }
          ],
          "scatterpolargl": [
           {
            "marker": {
             "colorbar": {
              "outlinewidth": 0,
              "ticks": ""
             }
            },
            "type": "scatterpolargl"
           }
          ],
          "scatterternary": [
           {
            "marker": {
             "colorbar": {
              "outlinewidth": 0,
              "ticks": ""
             }
            },
            "type": "scatterternary"
           }
          ],
          "surface": [
           {
            "colorbar": {
             "outlinewidth": 0,
             "ticks": ""
            },
            "colorscale": [
             [
              0,
              "#0d0887"
             ],
             [
              0.1111111111111111,
              "#46039f"
             ],
             [
              0.2222222222222222,
              "#7201a8"
             ],
             [
              0.3333333333333333,
              "#9c179e"
             ],
             [
              0.4444444444444444,
              "#bd3786"
             ],
             [
              0.5555555555555556,
              "#d8576b"
             ],
             [
              0.6666666666666666,
              "#ed7953"
             ],
             [
              0.7777777777777778,
              "#fb9f3a"
             ],
             [
              0.8888888888888888,
              "#fdca26"
             ],
             [
              1,
              "#f0f921"
             ]
            ],
            "type": "surface"
           }
          ],
          "table": [
           {
            "cells": {
             "fill": {
              "color": "#EBF0F8"
             },
             "line": {
              "color": "white"
             }
            },
            "header": {
             "fill": {
              "color": "#C8D4E3"
             },
             "line": {
              "color": "white"
             }
            },
            "type": "table"
           }
          ]
         },
         "layout": {
          "annotationdefaults": {
           "arrowcolor": "#2a3f5f",
           "arrowhead": 0,
           "arrowwidth": 1
          },
          "autotypenumbers": "strict",
          "coloraxis": {
           "colorbar": {
            "outlinewidth": 0,
            "ticks": ""
           }
          },
          "colorscale": {
           "diverging": [
            [
             0,
             "#8e0152"
            ],
            [
             0.1,
             "#c51b7d"
            ],
            [
             0.2,
             "#de77ae"
            ],
            [
             0.3,
             "#f1b6da"
            ],
            [
             0.4,
             "#fde0ef"
            ],
            [
             0.5,
             "#f7f7f7"
            ],
            [
             0.6,
             "#e6f5d0"
            ],
            [
             0.7,
             "#b8e186"
            ],
            [
             0.8,
             "#7fbc41"
            ],
            [
             0.9,
             "#4d9221"
            ],
            [
             1,
             "#276419"
            ]
           ],
           "sequential": [
            [
             0,
             "#0d0887"
            ],
            [
             0.1111111111111111,
             "#46039f"
            ],
            [
             0.2222222222222222,
             "#7201a8"
            ],
            [
             0.3333333333333333,
             "#9c179e"
            ],
            [
             0.4444444444444444,
             "#bd3786"
            ],
            [
             0.5555555555555556,
             "#d8576b"
            ],
            [
             0.6666666666666666,
             "#ed7953"
            ],
            [
             0.7777777777777778,
             "#fb9f3a"
            ],
            [
             0.8888888888888888,
             "#fdca26"
            ],
            [
             1,
             "#f0f921"
            ]
           ],
           "sequentialminus": [
            [
             0,
             "#0d0887"
            ],
            [
             0.1111111111111111,
             "#46039f"
            ],
            [
             0.2222222222222222,
             "#7201a8"
            ],
            [
             0.3333333333333333,
             "#9c179e"
            ],
            [
             0.4444444444444444,
             "#bd3786"
            ],
            [
             0.5555555555555556,
             "#d8576b"
            ],
            [
             0.6666666666666666,
             "#ed7953"
            ],
            [
             0.7777777777777778,
             "#fb9f3a"
            ],
            [
             0.8888888888888888,
             "#fdca26"
            ],
            [
             1,
             "#f0f921"
            ]
           ]
          },
          "colorway": [
           "#636efa",
           "#EF553B",
           "#00cc96",
           "#ab63fa",
           "#FFA15A",
           "#19d3f3",
           "#FF6692",
           "#B6E880",
           "#FF97FF",
           "#FECB52"
          ],
          "font": {
           "color": "#2a3f5f"
          },
          "geo": {
           "bgcolor": "white",
           "lakecolor": "white",
           "landcolor": "#E5ECF6",
           "showlakes": true,
           "showland": true,
           "subunitcolor": "white"
          },
          "hoverlabel": {
           "align": "left"
          },
          "hovermode": "closest",
          "mapbox": {
           "style": "light"
          },
          "paper_bgcolor": "white",
          "plot_bgcolor": "#E5ECF6",
          "polar": {
           "angularaxis": {
            "gridcolor": "white",
            "linecolor": "white",
            "ticks": ""
           },
           "bgcolor": "#E5ECF6",
           "radialaxis": {
            "gridcolor": "white",
            "linecolor": "white",
            "ticks": ""
           }
          },
          "scene": {
           "xaxis": {
            "backgroundcolor": "#E5ECF6",
            "gridcolor": "white",
            "gridwidth": 2,
            "linecolor": "white",
            "showbackground": true,
            "ticks": "",
            "zerolinecolor": "white"
           },
           "yaxis": {
            "backgroundcolor": "#E5ECF6",
            "gridcolor": "white",
            "gridwidth": 2,
            "linecolor": "white",
            "showbackground": true,
            "ticks": "",
            "zerolinecolor": "white"
           },
           "zaxis": {
            "backgroundcolor": "#E5ECF6",
            "gridcolor": "white",
            "gridwidth": 2,
            "linecolor": "white",
            "showbackground": true,
            "ticks": "",
            "zerolinecolor": "white"
           }
          },
          "shapedefaults": {
           "line": {
            "color": "#2a3f5f"
           }
          },
          "ternary": {
           "aaxis": {
            "gridcolor": "white",
            "linecolor": "white",
            "ticks": ""
           },
           "baxis": {
            "gridcolor": "white",
            "linecolor": "white",
            "ticks": ""
           },
           "bgcolor": "#E5ECF6",
           "caxis": {
            "gridcolor": "white",
            "linecolor": "white",
            "ticks": ""
           }
          },
          "title": {
           "x": 0.05
          },
          "xaxis": {
           "automargin": true,
           "gridcolor": "white",
           "linecolor": "white",
           "ticks": "",
           "title": {
            "standoff": 15
           },
           "zerolinecolor": "white",
           "zerolinewidth": 2
          },
          "yaxis": {
           "automargin": true,
           "gridcolor": "white",
           "linecolor": "white",
           "ticks": "",
           "title": {
            "standoff": 15
           },
           "zerolinecolor": "white",
           "zerolinewidth": 2
          }
         }
        },
        "title": {
         "font": {
          "color": "black",
          "family": "Bahnschrift Light"
         }
        }
       }
      },
      "text/html": [
       "<div>                            <div id=\"b041a4e2-0298-4b6e-a40e-9628871ee225\" class=\"plotly-graph-div\" style=\"height:525px; width:100%;\"></div>            <script type=\"text/javascript\">                require([\"plotly\"], function(Plotly) {                    window.PLOTLYENV=window.PLOTLYENV || {};                                    if (document.getElementById(\"b041a4e2-0298-4b6e-a40e-9628871ee225\")) {                    Plotly.newPlot(                        \"b041a4e2-0298-4b6e-a40e-9628871ee225\",                        [{\"domain\":{\"x\":[0.0,0.45],\"y\":[0.0,1.0]},\"hole\":0.3,\"hoverinfo\":\"label+percent+name\",\"labels\":[\"F\",\"M\",\"C\",\"E\"],\"marker\":{\"colors\":[\"gold\",\"mediumturquoise\",\"darkorange\",\"lightgreen\"],\"line\":{\"color\":\"#000000\",\"width\":2}},\"name\":\"2\",\"scalegroup\":\"one\",\"textfont\":{\"size\":15},\"textinfo\":\"label+value\",\"type\":\"pie\",\"values\":[1200,989,811.2,760.0]},{\"domain\":{\"x\":[0.55,1.0],\"y\":[0.0,1.0]},\"hole\":0.3,\"hoverinfo\":\"label+percent+name\",\"labels\":[\"D\",\"I\",\"P\",\"O\",\"J\",\"T\",\"A\",\"N\",\"H\",\"R\",\"Q\",\"S\",\"B\",\"K\",\"L\",\"G\",\"E\",\"C\",\"M\",\"F\"],\"marker\":{\"colors\":[\"gold\",\"mediumturquoise\",\"darkorange\",\"lightgreen\"],\"line\":{\"color\":\"#000000\",\"width\":2}},\"name\":\"1\",\"scalegroup\":\"one\",\"textfont\":{\"size\":15},\"textinfo\":\"percent+label\",\"type\":\"pie\",\"values\":[74.0,126.0,184.8,184.8,210.0,213.60000000000002,221.89999999999998,226.0,294.0,300.0,383.5,425.59999999999997,507.0000000000001,559.0,559.0,630.0,760.0,811.1999999999997,989.0,1200.0]}],                        {\"annotations\":[{\"font\":{\"size\":16},\"showarrow\":false,\"text\":\"Majority-Profit Products\",\"x\":0.225,\"xanchor\":\"center\",\"xref\":\"paper\",\"y\":1.0,\"yanchor\":\"bottom\",\"yref\":\"paper\"},{\"font\":{\"size\":16},\"showarrow\":false,\"text\":\"Profit Distribution\",\"x\":0.775,\"xanchor\":\"center\",\"xref\":\"paper\",\"y\":1.0,\"yanchor\":\"bottom\",\"yref\":\"paper\"}],\"font\":{\"color\":\"black\",\"family\":\"Courier New\"},\"legend\":{\"title\":{\"font\":{\"color\":\"green\"}}},\"showlegend\":false,\"template\":{\"data\":{\"bar\":[{\"error_x\":{\"color\":\"#2a3f5f\"},\"error_y\":{\"color\":\"#2a3f5f\"},\"marker\":{\"line\":{\"color\":\"#E5ECF6\",\"width\":0.5},\"pattern\":{\"fillmode\":\"overlay\",\"size\":10,\"solidity\":0.2}},\"type\":\"bar\"}],\"barpolar\":[{\"marker\":{\"line\":{\"color\":\"#E5ECF6\",\"width\":0.5},\"pattern\":{\"fillmode\":\"overlay\",\"size\":10,\"solidity\":0.2}},\"type\":\"barpolar\"}],\"carpet\":[{\"aaxis\":{\"endlinecolor\":\"#2a3f5f\",\"gridcolor\":\"white\",\"linecolor\":\"white\",\"minorgridcolor\":\"white\",\"startlinecolor\":\"#2a3f5f\"},\"baxis\":{\"endlinecolor\":\"#2a3f5f\",\"gridcolor\":\"white\",\"linecolor\":\"white\",\"minorgridcolor\":\"white\",\"startlinecolor\":\"#2a3f5f\"},\"type\":\"carpet\"}],\"choropleth\":[{\"colorbar\":{\"outlinewidth\":0,\"ticks\":\"\"},\"type\":\"choropleth\"}],\"contour\":[{\"colorbar\":{\"outlinewidth\":0,\"ticks\":\"\"},\"colorscale\":[[0.0,\"#0d0887\"],[0.1111111111111111,\"#46039f\"],[0.2222222222222222,\"#7201a8\"],[0.3333333333333333,\"#9c179e\"],[0.4444444444444444,\"#bd3786\"],[0.5555555555555556,\"#d8576b\"],[0.6666666666666666,\"#ed7953\"],[0.7777777777777778,\"#fb9f3a\"],[0.8888888888888888,\"#fdca26\"],[1.0,\"#f0f921\"]],\"type\":\"contour\"}],\"contourcarpet\":[{\"colorbar\":{\"outlinewidth\":0,\"ticks\":\"\"},\"type\":\"contourcarpet\"}],\"heatmap\":[{\"colorbar\":{\"outlinewidth\":0,\"ticks\":\"\"},\"colorscale\":[[0.0,\"#0d0887\"],[0.1111111111111111,\"#46039f\"],[0.2222222222222222,\"#7201a8\"],[0.3333333333333333,\"#9c179e\"],[0.4444444444444444,\"#bd3786\"],[0.5555555555555556,\"#d8576b\"],[0.6666666666666666,\"#ed7953\"],[0.7777777777777778,\"#fb9f3a\"],[0.8888888888888888,\"#fdca26\"],[1.0,\"#f0f921\"]],\"type\":\"heatmap\"}],\"heatmapgl\":[{\"colorbar\":{\"outlinewidth\":0,\"ticks\":\"\"},\"colorscale\":[[0.0,\"#0d0887\"],[0.1111111111111111,\"#46039f\"],[0.2222222222222222,\"#7201a8\"],[0.3333333333333333,\"#9c179e\"],[0.4444444444444444,\"#bd3786\"],[0.5555555555555556,\"#d8576b\"],[0.6666666666666666,\"#ed7953\"],[0.7777777777777778,\"#fb9f3a\"],[0.8888888888888888,\"#fdca26\"],[1.0,\"#f0f921\"]],\"type\":\"heatmapgl\"}],\"histogram\":[{\"marker\":{\"pattern\":{\"fillmode\":\"overlay\",\"size\":10,\"solidity\":0.2}},\"type\":\"histogram\"}],\"histogram2d\":[{\"colorbar\":{\"outlinewidth\":0,\"ticks\":\"\"},\"colorscale\":[[0.0,\"#0d0887\"],[0.1111111111111111,\"#46039f\"],[0.2222222222222222,\"#7201a8\"],[0.3333333333333333,\"#9c179e\"],[0.4444444444444444,\"#bd3786\"],[0.5555555555555556,\"#d8576b\"],[0.6666666666666666,\"#ed7953\"],[0.7777777777777778,\"#fb9f3a\"],[0.8888888888888888,\"#fdca26\"],[1.0,\"#f0f921\"]],\"type\":\"histogram2d\"}],\"histogram2dcontour\":[{\"colorbar\":{\"outlinewidth\":0,\"ticks\":\"\"},\"colorscale\":[[0.0,\"#0d0887\"],[0.1111111111111111,\"#46039f\"],[0.2222222222222222,\"#7201a8\"],[0.3333333333333333,\"#9c179e\"],[0.4444444444444444,\"#bd3786\"],[0.5555555555555556,\"#d8576b\"],[0.6666666666666666,\"#ed7953\"],[0.7777777777777778,\"#fb9f3a\"],[0.8888888888888888,\"#fdca26\"],[1.0,\"#f0f921\"]],\"type\":\"histogram2dcontour\"}],\"mesh3d\":[{\"colorbar\":{\"outlinewidth\":0,\"ticks\":\"\"},\"type\":\"mesh3d\"}],\"parcoords\":[{\"line\":{\"colorbar\":{\"outlinewidth\":0,\"ticks\":\"\"}},\"type\":\"parcoords\"}],\"pie\":[{\"automargin\":true,\"type\":\"pie\"}],\"scatter\":[{\"marker\":{\"colorbar\":{\"outlinewidth\":0,\"ticks\":\"\"}},\"type\":\"scatter\"}],\"scatter3d\":[{\"line\":{\"colorbar\":{\"outlinewidth\":0,\"ticks\":\"\"}},\"marker\":{\"colorbar\":{\"outlinewidth\":0,\"ticks\":\"\"}},\"type\":\"scatter3d\"}],\"scattercarpet\":[{\"marker\":{\"colorbar\":{\"outlinewidth\":0,\"ticks\":\"\"}},\"type\":\"scattercarpet\"}],\"scattergeo\":[{\"marker\":{\"colorbar\":{\"outlinewidth\":0,\"ticks\":\"\"}},\"type\":\"scattergeo\"}],\"scattergl\":[{\"marker\":{\"colorbar\":{\"outlinewidth\":0,\"ticks\":\"\"}},\"type\":\"scattergl\"}],\"scattermapbox\":[{\"marker\":{\"colorbar\":{\"outlinewidth\":0,\"ticks\":\"\"}},\"type\":\"scattermapbox\"}],\"scatterpolar\":[{\"marker\":{\"colorbar\":{\"outlinewidth\":0,\"ticks\":\"\"}},\"type\":\"scatterpolar\"}],\"scatterpolargl\":[{\"marker\":{\"colorbar\":{\"outlinewidth\":0,\"ticks\":\"\"}},\"type\":\"scatterpolargl\"}],\"scatterternary\":[{\"marker\":{\"colorbar\":{\"outlinewidth\":0,\"ticks\":\"\"}},\"type\":\"scatterternary\"}],\"surface\":[{\"colorbar\":{\"outlinewidth\":0,\"ticks\":\"\"},\"colorscale\":[[0.0,\"#0d0887\"],[0.1111111111111111,\"#46039f\"],[0.2222222222222222,\"#7201a8\"],[0.3333333333333333,\"#9c179e\"],[0.4444444444444444,\"#bd3786\"],[0.5555555555555556,\"#d8576b\"],[0.6666666666666666,\"#ed7953\"],[0.7777777777777778,\"#fb9f3a\"],[0.8888888888888888,\"#fdca26\"],[1.0,\"#f0f921\"]],\"type\":\"surface\"}],\"table\":[{\"cells\":{\"fill\":{\"color\":\"#EBF0F8\"},\"line\":{\"color\":\"white\"}},\"header\":{\"fill\":{\"color\":\"#C8D4E3\"},\"line\":{\"color\":\"white\"}},\"type\":\"table\"}]},\"layout\":{\"annotationdefaults\":{\"arrowcolor\":\"#2a3f5f\",\"arrowhead\":0,\"arrowwidth\":1},\"autotypenumbers\":\"strict\",\"coloraxis\":{\"colorbar\":{\"outlinewidth\":0,\"ticks\":\"\"}},\"colorscale\":{\"diverging\":[[0,\"#8e0152\"],[0.1,\"#c51b7d\"],[0.2,\"#de77ae\"],[0.3,\"#f1b6da\"],[0.4,\"#fde0ef\"],[0.5,\"#f7f7f7\"],[0.6,\"#e6f5d0\"],[0.7,\"#b8e186\"],[0.8,\"#7fbc41\"],[0.9,\"#4d9221\"],[1,\"#276419\"]],\"sequential\":[[0.0,\"#0d0887\"],[0.1111111111111111,\"#46039f\"],[0.2222222222222222,\"#7201a8\"],[0.3333333333333333,\"#9c179e\"],[0.4444444444444444,\"#bd3786\"],[0.5555555555555556,\"#d8576b\"],[0.6666666666666666,\"#ed7953\"],[0.7777777777777778,\"#fb9f3a\"],[0.8888888888888888,\"#fdca26\"],[1.0,\"#f0f921\"]],\"sequentialminus\":[[0.0,\"#0d0887\"],[0.1111111111111111,\"#46039f\"],[0.2222222222222222,\"#7201a8\"],[0.3333333333333333,\"#9c179e\"],[0.4444444444444444,\"#bd3786\"],[0.5555555555555556,\"#d8576b\"],[0.6666666666666666,\"#ed7953\"],[0.7777777777777778,\"#fb9f3a\"],[0.8888888888888888,\"#fdca26\"],[1.0,\"#f0f921\"]]},\"colorway\":[\"#636efa\",\"#EF553B\",\"#00cc96\",\"#ab63fa\",\"#FFA15A\",\"#19d3f3\",\"#FF6692\",\"#B6E880\",\"#FF97FF\",\"#FECB52\"],\"font\":{\"color\":\"#2a3f5f\"},\"geo\":{\"bgcolor\":\"white\",\"lakecolor\":\"white\",\"landcolor\":\"#E5ECF6\",\"showlakes\":true,\"showland\":true,\"subunitcolor\":\"white\"},\"hoverlabel\":{\"align\":\"left\"},\"hovermode\":\"closest\",\"mapbox\":{\"style\":\"light\"},\"paper_bgcolor\":\"white\",\"plot_bgcolor\":\"#E5ECF6\",\"polar\":{\"angularaxis\":{\"gridcolor\":\"white\",\"linecolor\":\"white\",\"ticks\":\"\"},\"bgcolor\":\"#E5ECF6\",\"radialaxis\":{\"gridcolor\":\"white\",\"linecolor\":\"white\",\"ticks\":\"\"}},\"scene\":{\"xaxis\":{\"backgroundcolor\":\"#E5ECF6\",\"gridcolor\":\"white\",\"gridwidth\":2,\"linecolor\":\"white\",\"showbackground\":true,\"ticks\":\"\",\"zerolinecolor\":\"white\"},\"yaxis\":{\"backgroundcolor\":\"#E5ECF6\",\"gridcolor\":\"white\",\"gridwidth\":2,\"linecolor\":\"white\",\"showbackground\":true,\"ticks\":\"\",\"zerolinecolor\":\"white\"},\"zaxis\":{\"backgroundcolor\":\"#E5ECF6\",\"gridcolor\":\"white\",\"gridwidth\":2,\"linecolor\":\"white\",\"showbackground\":true,\"ticks\":\"\",\"zerolinecolor\":\"white\"}},\"shapedefaults\":{\"line\":{\"color\":\"#2a3f5f\"}},\"ternary\":{\"aaxis\":{\"gridcolor\":\"white\",\"linecolor\":\"white\",\"ticks\":\"\"},\"baxis\":{\"gridcolor\":\"white\",\"linecolor\":\"white\",\"ticks\":\"\"},\"bgcolor\":\"#E5ECF6\",\"caxis\":{\"gridcolor\":\"white\",\"linecolor\":\"white\",\"ticks\":\"\"}},\"title\":{\"x\":0.05},\"xaxis\":{\"automargin\":true,\"gridcolor\":\"white\",\"linecolor\":\"white\",\"ticks\":\"\",\"title\":{\"standoff\":15},\"zerolinecolor\":\"white\",\"zerolinewidth\":2},\"yaxis\":{\"automargin\":true,\"gridcolor\":\"white\",\"linecolor\":\"white\",\"ticks\":\"\",\"title\":{\"standoff\":15},\"zerolinecolor\":\"white\",\"zerolinewidth\":2}}},\"title\":{\"font\":{\"color\":\"black\",\"family\":\"Bahnschrift Light\"}}},                        {\"responsive\": true}                    ).then(function(){\n",
       "                            \n",
       "var gd = document.getElementById('b041a4e2-0298-4b6e-a40e-9628871ee225');\n",
       "var x = new MutationObserver(function (mutations, observer) {{\n",
       "        var display = window.getComputedStyle(gd).display;\n",
       "        if (!display || display === 'none') {{\n",
       "            console.log([gd, 'removed!']);\n",
       "            Plotly.purge(gd);\n",
       "            observer.disconnect();\n",
       "        }}\n",
       "}});\n",
       "\n",
       "// Listen for the removal of the full notebook cells\n",
       "var notebookContainer = gd.closest('#notebook-container');\n",
       "if (notebookContainer) {{\n",
       "    x.observe(notebookContainer, {childList: true});\n",
       "}}\n",
       "\n",
       "// Listen for the clearing of the current output cell\n",
       "var outputEl = gd.closest('.output');\n",
       "if (outputEl) {{\n",
       "    x.observe(outputEl, {childList: true});\n",
       "}}\n",
       "\n",
       "                        })                };                });            </script>        </div>"
      ]
     },
     "metadata": {},
     "output_type": "display_data"
    },
    {
     "data": {
      "text/plain": [
       "'C:\\\\Users\\\\sejal Jadev\\\\files.html'"
      ]
     },
     "execution_count": 635,
     "metadata": {},
     "output_type": "execute_result"
    }
   ],
   "source": [
    "import plotly.graph_objects as go\n",
    "from plotly.subplots import make_subplots\n",
    "\n",
    "\n",
    "fig = make_subplots(rows=1, cols=2, specs=[[{'type':'domain'}, {'type':'domain'}]] ,\n",
    "                   subplot_titles = [\"Majority-Profit Products\" , \"Profit Distribution\" ])\n",
    "\n",
    "fig.add_trace(go.Pie(labels=['F','M','C','E'], values=[1200,989,811.2,760.0 ], name=\"2\",scalegroup = \"one\" , \n",
    "                     textinfo= \"label+value\"),\n",
    "              1, 1)\n",
    "\n",
    "\n",
    "colors = ['gold', 'mediumturquoise', 'darkorange', 'lightgreen']\n",
    "\n",
    "\n",
    "fig.add_trace(go.Pie(labels=data_pie[\"Size\"], values=data_pie[\"Profit\"], name=\"1\", scalegroup = \"one\" , \n",
    "                    textinfo='percent+label'),\n",
    "              1, 2)\n",
    "\n",
    "fig.update_traces( textfont_size=15,\n",
    "                  marker=dict(colors=colors, line=dict(color='#000000', width=2)))\n",
    "\n",
    "fig.update_traces(hole=.3, hoverinfo=\"label+percent+name\")\n",
    "\n",
    "\n",
    "fig.update_layout(\n",
    "    font_family=\"Courier New\",\n",
    "    font_color=\"black\",\n",
    "    title_font_family=\"Bahnschrift Light\",\n",
    "    title_font_color=\"black\",\n",
    "    legend_title_font_color=\"green\"\n",
    ")\n",
    "fig.update_layout(showlegend=False)\n",
    "\n",
    "\n",
    "fig.show(render_mode = 'svg')\n",
    "plotly.offline.plot(fig, filename=os.getcwd()+ \"\\\\files\" + \".html\")\n"
   ]
  },
  {
   "cell_type": "code",
   "execution_count": 629,
   "metadata": {},
   "outputs": [
    {
     "data": {
      "text/plain": [
       "'C:\\\\Users\\\\sejal Jadev\\\\files.html'"
      ]
     },
     "execution_count": 629,
     "metadata": {},
     "output_type": "execute_result"
    }
   ],
   "source": [
    "import plotly\n",
    "plotly.offline.plot(fig, filename=os.getcwd()+ \"\\\\files\" + \".html\")\n"
   ]
  },
  {
   "cell_type": "code",
   "execution_count": 525,
   "metadata": {},
   "outputs": [
    {
     "data": {
      "text/html": [
       "<div>\n",
       "<style scoped>\n",
       "    .dataframe tbody tr th:only-of-type {\n",
       "        vertical-align: middle;\n",
       "    }\n",
       "\n",
       "    .dataframe tbody tr th {\n",
       "        vertical-align: top;\n",
       "    }\n",
       "\n",
       "    .dataframe thead th {\n",
       "        text-align: right;\n",
       "    }\n",
       "</style>\n",
       "<table border=\"1\" class=\"dataframe\">\n",
       "  <thead>\n",
       "    <tr style=\"text-align: right;\">\n",
       "      <th></th>\n",
       "      <th>Size</th>\n",
       "      <th>Profit</th>\n",
       "    </tr>\n",
       "  </thead>\n",
       "  <tbody>\n",
       "    <tr>\n",
       "      <th>0</th>\n",
       "      <td>F</td>\n",
       "      <td>40.0</td>\n",
       "    </tr>\n",
       "    <tr>\n",
       "      <th>1</th>\n",
       "      <td>L</td>\n",
       "      <td>43.0</td>\n",
       "    </tr>\n",
       "    <tr>\n",
       "      <th>2</th>\n",
       "      <td>E</td>\n",
       "      <td>40.0</td>\n",
       "    </tr>\n",
       "    <tr>\n",
       "      <th>3</th>\n",
       "      <td>S</td>\n",
       "      <td>53.2</td>\n",
       "    </tr>\n",
       "    <tr>\n",
       "      <th>4</th>\n",
       "      <td>M</td>\n",
       "      <td>43.0</td>\n",
       "    </tr>\n",
       "  </tbody>\n",
       "</table>\n",
       "</div>"
      ],
      "text/plain": [
       "  Size  Profit\n",
       "0    F    40.0\n",
       "1    L    43.0\n",
       "2    E    40.0\n",
       "3    S    53.2\n",
       "4    M    43.0"
      ]
     },
     "execution_count": 525,
     "metadata": {},
     "output_type": "execute_result"
    }
   ],
   "source": [
    "data_pie = data.iloc[: , [1 , 8]] ; data_pie.head()"
   ]
  },
  {
   "cell_type": "code",
   "execution_count": 526,
   "metadata": {},
   "outputs": [],
   "source": [
    "data_pie = data_pie.groupby(['Size'] , as_index = False).sum()"
   ]
  },
  {
   "cell_type": "code",
   "execution_count": 528,
   "metadata": {},
   "outputs": [],
   "source": [
    "data_pie = data_pie.sort_values(\"Profit\")"
   ]
  },
  {
   "cell_type": "code",
   "execution_count": 606,
   "metadata": {
    "scrolled": false
   },
   "outputs": [
    {
     "data": {
      "text/html": [
       "<div>\n",
       "<style scoped>\n",
       "    .dataframe tbody tr th:only-of-type {\n",
       "        vertical-align: middle;\n",
       "    }\n",
       "\n",
       "    .dataframe tbody tr th {\n",
       "        vertical-align: top;\n",
       "    }\n",
       "\n",
       "    .dataframe thead th {\n",
       "        text-align: right;\n",
       "    }\n",
       "</style>\n",
       "<table border=\"1\" class=\"dataframe\">\n",
       "  <thead>\n",
       "    <tr style=\"text-align: right;\">\n",
       "      <th></th>\n",
       "      <th>Size</th>\n",
       "      <th>Profit</th>\n",
       "    </tr>\n",
       "  </thead>\n",
       "  <tbody>\n",
       "    <tr>\n",
       "      <th>3</th>\n",
       "      <td>D</td>\n",
       "      <td>74.0</td>\n",
       "    </tr>\n",
       "    <tr>\n",
       "      <th>8</th>\n",
       "      <td>I</td>\n",
       "      <td>126.0</td>\n",
       "    </tr>\n",
       "    <tr>\n",
       "      <th>15</th>\n",
       "      <td>P</td>\n",
       "      <td>184.8</td>\n",
       "    </tr>\n",
       "    <tr>\n",
       "      <th>14</th>\n",
       "      <td>O</td>\n",
       "      <td>184.8</td>\n",
       "    </tr>\n",
       "    <tr>\n",
       "      <th>9</th>\n",
       "      <td>J</td>\n",
       "      <td>210.0</td>\n",
       "    </tr>\n",
       "    <tr>\n",
       "      <th>19</th>\n",
       "      <td>T</td>\n",
       "      <td>213.6</td>\n",
       "    </tr>\n",
       "    <tr>\n",
       "      <th>0</th>\n",
       "      <td>A</td>\n",
       "      <td>221.9</td>\n",
       "    </tr>\n",
       "    <tr>\n",
       "      <th>13</th>\n",
       "      <td>N</td>\n",
       "      <td>226.0</td>\n",
       "    </tr>\n",
       "    <tr>\n",
       "      <th>7</th>\n",
       "      <td>H</td>\n",
       "      <td>294.0</td>\n",
       "    </tr>\n",
       "    <tr>\n",
       "      <th>17</th>\n",
       "      <td>R</td>\n",
       "      <td>300.0</td>\n",
       "    </tr>\n",
       "    <tr>\n",
       "      <th>16</th>\n",
       "      <td>Q</td>\n",
       "      <td>383.5</td>\n",
       "    </tr>\n",
       "    <tr>\n",
       "      <th>18</th>\n",
       "      <td>S</td>\n",
       "      <td>425.6</td>\n",
       "    </tr>\n",
       "    <tr>\n",
       "      <th>1</th>\n",
       "      <td>B</td>\n",
       "      <td>507.0</td>\n",
       "    </tr>\n",
       "    <tr>\n",
       "      <th>10</th>\n",
       "      <td>K</td>\n",
       "      <td>559.0</td>\n",
       "    </tr>\n",
       "    <tr>\n",
       "      <th>11</th>\n",
       "      <td>L</td>\n",
       "      <td>559.0</td>\n",
       "    </tr>\n",
       "    <tr>\n",
       "      <th>6</th>\n",
       "      <td>G</td>\n",
       "      <td>630.0</td>\n",
       "    </tr>\n",
       "    <tr>\n",
       "      <th>4</th>\n",
       "      <td>E</td>\n",
       "      <td>760.0</td>\n",
       "    </tr>\n",
       "    <tr>\n",
       "      <th>2</th>\n",
       "      <td>C</td>\n",
       "      <td>811.2</td>\n",
       "    </tr>\n",
       "    <tr>\n",
       "      <th>12</th>\n",
       "      <td>M</td>\n",
       "      <td>989.0</td>\n",
       "    </tr>\n",
       "    <tr>\n",
       "      <th>5</th>\n",
       "      <td>F</td>\n",
       "      <td>1200.0</td>\n",
       "    </tr>\n",
       "  </tbody>\n",
       "</table>\n",
       "</div>"
      ],
      "text/plain": [
       "   Size  Profit\n",
       "3     D    74.0\n",
       "8     I   126.0\n",
       "15    P   184.8\n",
       "14    O   184.8\n",
       "9     J   210.0\n",
       "19    T   213.6\n",
       "0     A   221.9\n",
       "13    N   226.0\n",
       "7     H   294.0\n",
       "17    R   300.0\n",
       "16    Q   383.5\n",
       "18    S   425.6\n",
       "1     B   507.0\n",
       "10    K   559.0\n",
       "11    L   559.0\n",
       "6     G   630.0\n",
       "4     E   760.0\n",
       "2     C   811.2\n",
       "12    M   989.0\n",
       "5     F  1200.0"
      ]
     },
     "execution_count": 606,
     "metadata": {},
     "output_type": "execute_result"
    }
   ],
   "source": [
    "data_pie.sort_values(\"Profit\")"
   ]
  },
  {
   "cell_type": "code",
   "execution_count": 600,
   "metadata": {},
   "outputs": [],
   "source": [
    "l = []\n",
    "for i in data_pie[\"Profit\"]:\n",
    "    l.append(i)\n"
   ]
  },
  {
   "cell_type": "code",
   "execution_count": 602,
   "metadata": {},
   "outputs": [
    {
     "data": {
      "text/plain": [
       "5433.599999999999"
      ]
     },
     "execution_count": 602,
     "metadata": {},
     "output_type": "execute_result"
    }
   ],
   "source": [
    "sum(l)-1200-989-811.2-425.6"
   ]
  },
  {
   "cell_type": "code",
   "execution_count": 10,
   "metadata": {},
   "outputs": [],
   "source": [
    "import seaborn as sns"
   ]
  },
  {
   "cell_type": "code",
   "execution_count": 15,
   "metadata": {},
   "outputs": [
    {
     "data": {
      "text/plain": [
       "Index(['Date', 'Size', 'Quantity Sold Kgs', 'cost of material(rs per kg) ',\n",
       "       'labor cost (per kg)', 'electricity cost (per kg)',\n",
       "       '  selling price (per kg)', 'Production Cost', 'Profit',\n",
       "       'Total Profit'],\n",
       "      dtype='object')"
      ]
     },
     "execution_count": 15,
     "metadata": {},
     "output_type": "execute_result"
    }
   ],
   "source": [
    "data.columns"
   ]
  },
  {
   "cell_type": "code",
   "execution_count": null,
   "metadata": {},
   "outputs": [],
   "source": []
  },
  {
   "cell_type": "code",
   "execution_count": 22,
   "metadata": {},
   "outputs": [
    {
     "data": {
      "text/plain": [
       "Text(0.5, 1.0, 'Product Sales per Hour')"
      ]
     },
     "execution_count": 22,
     "metadata": {},
     "output_type": "execute_result"
    },
    {
     "data": {
      "image/png": "[encoded data removed]",
      "text/plain": [
       "<Figure size 432x288 with 1 Axes>"
      ]
     },
     "metadata": {
      "needs_background": "light"
     },
     "output_type": "display_data"
    }
   ],
   "source": [
    "sns.lineplot(x=\"Profit\",  y = 'Quantity Sold Kgs',data =data).set_title(\"Product Sales per Hour\")"
   ]
  },
  {
   "cell_type": "code",
   "execution_count": 98,
   "metadata": {},
   "outputs": [],
   "source": [
    "data = pd.read_excel(\"bdm.xlsx\" , \"Sheet4\")"
   ]
  },
  {
   "cell_type": "code",
   "execution_count": 99,
   "metadata": {},
   "outputs": [
    {
     "data": {
      "text/plain": [
       "Index(['Size', 'Quantity Sold Kgs', 'Quantity Sold gms', 'Number of products',\n",
       "       'cost of material(rs per kg) ', 'labor cost (per kg)',\n",
       "       'electricity cost (per kg)', '  selling price (per kg)',\n",
       "       'Production Cost (per kg)', 'Profit', 'Total Profit'],\n",
       "      dtype='object')"
      ]
     },
     "execution_count": 99,
     "metadata": {},
     "output_type": "execute_result"
    }
   ],
   "source": [
    "data.columns"
   ]
  },
  {
   "cell_type": "code",
   "execution_count": 100,
   "metadata": {},
   "outputs": [],
   "source": [
    "data.Size.replace('73 X 38' , \"A\" , inplace = True)\n",
    "data.Size.replace('87 X 48' , \"B\" , inplace = True)\n",
    "data.Size.replace('87 X 52' , \"C\" , inplace = True)\n",
    "data.Size.replace('V 4' , \"D\" , inplace = True)\n",
    "data.Size.replace('105 X 58' , \"E\" , inplace = True)\n",
    "data.Size.replace('105 X 63' , \"F\" , inplace = True)\n",
    "data.Size.replace('126 X 72' , \"G\" , inplace = True)\n",
    "data.Size.replace('126 X 63' , \"H\" , inplace = True)\n",
    "data.Size.replace('126 X 80' , \"I\" , inplace = True)\n",
    "data.Size.replace('V 6' , \"J\" , inplace = True)\n",
    "data.Size.replace('140 X 70' , \"K\" , inplace = True)\n",
    "data.Size.replace('140 X 76' , \"L\" , inplace = True)\n",
    "data.Size.replace('140 X 88' , \"M\" , inplace = True)\n",
    "data.Size.replace('150 X 100' , \"N\" , inplace = True)\n",
    "#data.Size.replace('L X 56' , \"O\" , inplace = True)\n",
    "data.Size.replace('165 X 85' , \"O\" , inplace = True)\n",
    "data.Size.replace('165 X 104' , \"P\" , inplace = True)\n",
    "data.Size.replace('180 X 95 ' , \"Q\" , inplace = True)\n",
    "data.Size.replace('180 X 115' , \"R\" , inplace = True)\n",
    "data.Size.replace('210 X 135' , \"S\" , inplace = True)\n",
    "data.Size.replace('222 X 120' , \"T\" , inplace = True)\n",
    "data.Size.replace('180 X 95' , \"Q\" , inplace = True)\n"
   ]
  },
  {
   "cell_type": "code",
   "execution_count": 101,
   "metadata": {},
   "outputs": [
    {
     "data": {
      "text/plain": [
       "array(['A', 'D', 'C', 'B', 'S', 'Q', 'R', 'T'], dtype=object)"
      ]
     },
     "execution_count": 101,
     "metadata": {},
     "output_type": "execute_result"
    }
   ],
   "source": [
    "data.Size.unique()"
   ]
  },
  {
   "cell_type": "code",
   "execution_count": 12,
   "metadata": {},
   "outputs": [
    {
     "data": {
      "text/plain": [
       "Text(0.5, 1.0, 'Product Sales per Hour')"
      ]
     },
     "execution_count": 12,
     "metadata": {},
     "output_type": "execute_result"
    },
    {
     "data": {
      "image/png": "[encoded data removed]",
      "text/plain": [
       "<Figure size 432x288 with 1 Axes>"
      ]
     },
     "metadata": {
      "needs_background": "light"
     },
     "output_type": "display_data"
    }
   ],
   "source": [
    "sns.barplot(x=\"Quantity Sold Kgs\",  y = 'Number of products',data =data).set_title(\"Product Sales per Hour\")"
   ]
  },
  {
   "cell_type": "code",
   "execution_count": 31,
   "metadata": {},
   "outputs": [
    {
     "data": {
      "application/vnd.plotly.v1+json": {
       "config": {
        "plotlyServerURL": "https://plot.ly"
       },
       "data": [
        {
         "alignmentgroup": "True",
         "hovertemplate": "Quantity Sold Kgs=%{x}<br>Number of products=%{y}<extra></extra>",
         "legendgroup": "",
         "marker": {
          "color": "#636efa",
          "pattern": {
           "shape": ""
          }
         },
         "name": "",
         "offsetgroup": "",
         "orientation": "v",
         "showlegend": false,
         "textposition": "auto",
         "type": "bar",
         "x": [
          36,
          266,
          76,
          27,
          32,
          20,
          30,
          93,
          50,
          147,
          72,
          18,
          82,
          12,
          26,
          39,
          32,
          66,
          60,
          11,
          84,
          20,
          30,
          44,
          18,
          60,
          35,
          35,
          28,
          20,
          93,
          40,
          50,
          90,
          38,
          20,
          25,
          120,
          25,
          60,
          29,
          73,
          112,
          6,
          63,
          72,
          80,
          8,
          87,
          15,
          226,
          95,
          222,
          41,
          201,
          67,
          31,
          251,
          200,
          263,
          80,
          76,
          316,
          87,
          201,
          281,
          38,
          16,
          108,
          200,
          79,
          26,
          26,
          192
         ],
         "xaxis": "x",
         "y": [
          12000,
          66500,
          21715,
          7714,
          9143,
          5714,
          8571,
          26571,
          14286,
          42000,
          20571,
          5143,
          23429,
          3429,
          7429,
          11143,
          9143,
          18857,
          17143,
          3143,
          24000,
          5714,
          8571,
          12571,
          5143,
          17143,
          10000,
          10000,
          8000,
          5714,
          26571,
          11429,
          14286,
          25714,
          10857,
          5714,
          7143,
          34286,
          7143,
          17143,
          8286,
          20857,
          32000,
          1714,
          18000,
          20571,
          22857,
          2286,
          24857,
          4286,
          64571,
          27143,
          63429,
          11714,
          57429,
          19143,
          8857,
          71714,
          57143,
          75143,
          22857,
          21714,
          90286,
          24857,
          57429,
          80286,
          10857,
          4571,
          30857,
          57143,
          22571,
          7429,
          7429,
          54857
         ],
         "yaxis": "y"
        }
       ],
       "layout": {
        "barmode": "relative",
        "legend": {
         "tracegroupgap": 0
        },
        "margin": {
         "t": 60
        },
        "template": {
         "data": {
          "bar": [
           {
            "error_x": {
             "color": "#2a3f5f"
            },
            "error_y": {
             "color": "#2a3f5f"
            },
            "marker": {
             "line": {
              "color": "#E5ECF6",
              "width": 0.5
             },
             "pattern": {
              "fillmode": "overlay",
              "size": 10,
              "solidity": 0.2
             }
            },
            "type": "bar"
           }
          ],
          "barpolar": [
           {
            "marker": {
             "line": {
              "color": "#E5ECF6",
              "width": 0.5
             },
             "pattern": {
              "fillmode": "overlay",
              "size": 10,
              "solidity": 0.2
             }
            },
            "type": "barpolar"
           }
          ],
          "carpet": [
           {
            "aaxis": {
             "endlinecolor": "#2a3f5f",
             "gridcolor": "white",
             "linecolor": "white",
             "minorgridcolor": "white",
             "startlinecolor": "#2a3f5f"
            },
            "baxis": {
             "endlinecolor": "#2a3f5f",
             "gridcolor": "white",
             "linecolor": "white",
             "minorgridcolor": "white",
             "startlinecolor": "#2a3f5f"
            },
            "type": "carpet"
           }
          ],
          "choropleth": [
           {
            "colorbar": {
             "outlinewidth": 0,
             "ticks": ""
            },
            "type": "choropleth"
           }
          ],
          "contour": [
           {
            "colorbar": {
             "outlinewidth": 0,
             "ticks": ""
            },
            "colorscale": [
             [
              0,
              "#0d0887"
             ],
             [
              0.1111111111111111,
              "#46039f"
             ],
             [
              0.2222222222222222,
              "#7201a8"
             ],
             [
              0.3333333333333333,
              "#9c179e"
             ],
             [
              0.4444444444444444,
              "#bd3786"
             ],
             [
              0.5555555555555556,
              "#d8576b"
             ],
             [
              0.6666666666666666,
              "#ed7953"
             ],
             [
              0.7777777777777778,
              "#fb9f3a"
             ],
             [
              0.8888888888888888,
              "#fdca26"
             ],
             [
              1,
              "#f0f921"
             ]
            ],
            "type": "contour"
           }
          ],
          "contourcarpet": [
           {
            "colorbar": {
             "outlinewidth": 0,
             "ticks": ""
            },
            "type": "contourcarpet"
           }
          ],
          "heatmap": [
           {
            "colorbar": {
             "outlinewidth": 0,
             "ticks": ""
            },
            "colorscale": [
             [
              0,
              "#0d0887"
             ],
             [
              0.1111111111111111,
              "#46039f"
             ],
             [
              0.2222222222222222,
              "#7201a8"
             ],
             [
              0.3333333333333333,
              "#9c179e"
             ],
             [
              0.4444444444444444,
              "#bd3786"
             ],
             [
              0.5555555555555556,
              "#d8576b"
             ],
             [
              0.6666666666666666,
              "#ed7953"
             ],
             [
              0.7777777777777778,
              "#fb9f3a"
             ],
             [
              0.8888888888888888,
              "#fdca26"
             ],
             [
              1,
              "#f0f921"
             ]
            ],
            "type": "heatmap"
           }
          ],
          "heatmapgl": [
           {
            "colorbar": {
             "outlinewidth": 0,
             "ticks": ""
            },
            "colorscale": [
             [
              0,
              "#0d0887"
             ],
             [
              0.1111111111111111,
              "#46039f"
             ],
             [
              0.2222222222222222,
              "#7201a8"
             ],
             [
              0.3333333333333333,
              "#9c179e"
             ],
             [
              0.4444444444444444,
              "#bd3786"
             ],
             [
              0.5555555555555556,
              "#d8576b"
             ],
             [
              0.6666666666666666,
              "#ed7953"
             ],
             [
              0.7777777777777778,
              "#fb9f3a"
             ],
             [
              0.8888888888888888,
              "#fdca26"
             ],
             [
              1,
              "#f0f921"
             ]
            ],
            "type": "heatmapgl"
           }
          ],
          "histogram": [
           {
            "marker": {
             "pattern": {
              "fillmode": "overlay",
              "size": 10,
              "solidity": 0.2
             }
            },
            "type": "histogram"
           }
          ],
          "histogram2d": [
           {
            "colorbar": {
             "outlinewidth": 0,
             "ticks": ""
            },
            "colorscale": [
             [
              0,
              "#0d0887"
             ],
             [
              0.1111111111111111,
              "#46039f"
             ],
             [
              0.2222222222222222,
              "#7201a8"
             ],
             [
              0.3333333333333333,
              "#9c179e"
             ],
             [
              0.4444444444444444,
              "#bd3786"
             ],
             [
              0.5555555555555556,
              "#d8576b"
             ],
             [
              0.6666666666666666,
              "#ed7953"
             ],
             [
              0.7777777777777778,
              "#fb9f3a"
             ],
             [
              0.8888888888888888,
              "#fdca26"
             ],
             [
              1,
              "#f0f921"
             ]
            ],
            "type": "histogram2d"
           }
          ],
          "histogram2dcontour": [
           {
            "colorbar": {
             "outlinewidth": 0,
             "ticks": ""
            },
            "colorscale": [
             [
              0,
              "#0d0887"
             ],
             [
              0.1111111111111111,
              "#46039f"
             ],
             [
              0.2222222222222222,
              "#7201a8"
             ],
             [
              0.3333333333333333,
              "#9c179e"
             ],
             [
              0.4444444444444444,
              "#bd3786"
             ],
             [
              0.5555555555555556,
              "#d8576b"
             ],
             [
              0.6666666666666666,
              "#ed7953"
             ],
             [
              0.7777777777777778,
              "#fb9f3a"
             ],
             [
              0.8888888888888888,
              "#fdca26"
             ],
             [
              1,
              "#f0f921"
             ]
            ],
            "type": "histogram2dcontour"
           }
          ],
          "mesh3d": [
           {
            "colorbar": {
             "outlinewidth": 0,
             "ticks": ""
            },
            "type": "mesh3d"
           }
          ],
          "parcoords": [
           {
            "line": {
             "colorbar": {
              "outlinewidth": 0,
              "ticks": ""
             }
            },
            "type": "parcoords"
           }
          ],
          "pie": [
           {
            "automargin": true,
            "type": "pie"
           }
          ],
          "scatter": [
           {
            "marker": {
             "colorbar": {
              "outlinewidth": 0,
              "ticks": ""
             }
            },
            "type": "scatter"
           }
          ],
          "scatter3d": [
           {
            "line": {
             "colorbar": {
              "outlinewidth": 0,
              "ticks": ""
             }
            },
            "marker": {
             "colorbar": {
              "outlinewidth": 0,
              "ticks": ""
             }
            },
            "type": "scatter3d"
           }
          ],
          "scattercarpet": [
           {
            "marker": {
             "colorbar": {
              "outlinewidth": 0,
              "ticks": ""
             }
            },
            "type": "scattercarpet"
           }
          ],
          "scattergeo": [
           {
            "marker": {
             "colorbar": {
              "outlinewidth": 0,
              "ticks": ""
             }
            },
            "type": "scattergeo"
           }
          ],
          "scattergl": [
           {
            "marker": {
             "colorbar": {
              "outlinewidth": 0,
              "ticks": ""
             }
            },
            "type": "scattergl"
           }
          ],
          "scattermapbox": [
           {
            "marker": {
             "colorbar": {
              "outlinewidth": 0,
              "ticks": ""
             }
            },
            "type": "scattermapbox"
           }
          ],
          "scatterpolar": [
           {
            "marker": {
             "colorbar": {
              "outlinewidth": 0,
              "ticks": ""
             }
            },
            "type": "scatterpolar"
           }
          ],
          "scatterpolargl": [
           {
            "marker": {
             "colorbar": {
              "outlinewidth": 0,
              "ticks": ""
             }
            },
            "type": "scatterpolargl"
           }
          ],
          "scatterternary": [
           {
            "marker": {
             "colorbar": {
              "outlinewidth": 0,
              "ticks": ""
             }
            },
            "type": "scatterternary"
           }
          ],
          "surface": [
           {
            "colorbar": {
             "outlinewidth": 0,
             "ticks": ""
            },
            "colorscale": [
             [
              0,
              "#0d0887"
             ],
             [
              0.1111111111111111,
              "#46039f"
             ],
             [
              0.2222222222222222,
              "#7201a8"
             ],
             [
              0.3333333333333333,
              "#9c179e"
             ],
             [
              0.4444444444444444,
              "#bd3786"
             ],
             [
              0.5555555555555556,
              "#d8576b"
             ],
             [
              0.6666666666666666,
              "#ed7953"
             ],
             [
              0.7777777777777778,
              "#fb9f3a"
             ],
             [
              0.8888888888888888,
              "#fdca26"
             ],
             [
              1,
              "#f0f921"
             ]
            ],
            "type": "surface"
           }
          ],
          "table": [
           {
            "cells": {
             "fill": {
              "color": "#EBF0F8"
             },
             "line": {
              "color": "white"
             }
            },
            "header": {
             "fill": {
              "color": "#C8D4E3"
             },
             "line": {
              "color": "white"
             }
            },
            "type": "table"
           }
          ]
         },
         "layout": {
          "annotationdefaults": {
           "arrowcolor": "#2a3f5f",
           "arrowhead": 0,
           "arrowwidth": 1
          },
          "autotypenumbers": "strict",
          "coloraxis": {
           "colorbar": {
            "outlinewidth": 0,
            "ticks": ""
           }
          },
          "colorscale": {
           "diverging": [
            [
             0,
             "#8e0152"
            ],
            [
             0.1,
             "#c51b7d"
            ],
            [
             0.2,
             "#de77ae"
            ],
            [
             0.3,
             "#f1b6da"
            ],
            [
             0.4,
             "#fde0ef"
            ],
            [
             0.5,
             "#f7f7f7"
            ],
            [
             0.6,
             "#e6f5d0"
            ],
            [
             0.7,
             "#b8e186"
            ],
            [
             0.8,
             "#7fbc41"
            ],
            [
             0.9,
             "#4d9221"
            ],
            [
             1,
             "#276419"
            ]
           ],
           "sequential": [
            [
             0,
             "#0d0887"
            ],
            [
             0.1111111111111111,
             "#46039f"
            ],
            [
             0.2222222222222222,
             "#7201a8"
            ],
            [
             0.3333333333333333,
             "#9c179e"
            ],
            [
             0.4444444444444444,
             "#bd3786"
            ],
            [
             0.5555555555555556,
             "#d8576b"
            ],
            [
             0.6666666666666666,
             "#ed7953"
            ],
            [
             0.7777777777777778,
             "#fb9f3a"
            ],
            [
             0.8888888888888888,
             "#fdca26"
            ],
            [
             1,
             "#f0f921"
            ]
           ],
           "sequentialminus": [
            [
             0,
             "#0d0887"
            ],
            [
             0.1111111111111111,
             "#46039f"
            ],
            [
             0.2222222222222222,
             "#7201a8"
            ],
            [
             0.3333333333333333,
             "#9c179e"
            ],
            [
             0.4444444444444444,
             "#bd3786"
            ],
            [
             0.5555555555555556,
             "#d8576b"
            ],
            [
             0.6666666666666666,
             "#ed7953"
            ],
            [
             0.7777777777777778,
             "#fb9f3a"
            ],
            [
             0.8888888888888888,
             "#fdca26"
            ],
            [
             1,
             "#f0f921"
            ]
           ]
          },
          "colorway": [
           "#636efa",
           "#EF553B",
           "#00cc96",
           "#ab63fa",
           "#FFA15A",
           "#19d3f3",
           "#FF6692",
           "#B6E880",
           "#FF97FF",
           "#FECB52"
          ],
          "font": {
           "color": "#2a3f5f"
          },
          "geo": {
           "bgcolor": "white",
           "lakecolor": "white",
           "landcolor": "#E5ECF6",
           "showlakes": true,
           "showland": true,
           "subunitcolor": "white"
          },
          "hoverlabel": {
           "align": "left"
          },
          "hovermode": "closest",
          "mapbox": {
           "style": "light"
          },
          "paper_bgcolor": "white",
          "plot_bgcolor": "#E5ECF6",
          "polar": {
           "angularaxis": {
            "gridcolor": "white",
            "linecolor": "white",
            "ticks": ""
           },
           "bgcolor": "#E5ECF6",
           "radialaxis": {
            "gridcolor": "white",
            "linecolor": "white",
            "ticks": ""
           }
          },
          "scene": {
           "xaxis": {
            "backgroundcolor": "#E5ECF6",
            "gridcolor": "white",
            "gridwidth": 2,
            "linecolor": "white",
            "showbackground": true,
            "ticks": "",
            "zerolinecolor": "white"
           },
           "yaxis": {
            "backgroundcolor": "#E5ECF6",
            "gridcolor": "white",
            "gridwidth": 2,
            "linecolor": "white",
            "showbackground": true,
            "ticks": "",
            "zerolinecolor": "white"
           },
           "zaxis": {
            "backgroundcolor": "#E5ECF6",
            "gridcolor": "white",
            "gridwidth": 2,
            "linecolor": "white",
            "showbackground": true,
            "ticks": "",
            "zerolinecolor": "white"
           }
          },
          "shapedefaults": {
           "line": {
            "color": "#2a3f5f"
           }
          },
          "ternary": {
           "aaxis": {
            "gridcolor": "white",
            "linecolor": "white",
            "ticks": ""
           },
           "baxis": {
            "gridcolor": "white",
            "linecolor": "white",
            "ticks": ""
           },
           "bgcolor": "#E5ECF6",
           "caxis": {
            "gridcolor": "white",
            "linecolor": "white",
            "ticks": ""
           }
          },
          "title": {
           "x": 0.05
          },
          "xaxis": {
           "automargin": true,
           "gridcolor": "white",
           "linecolor": "white",
           "ticks": "",
           "title": {
            "standoff": 15
           },
           "zerolinecolor": "white",
           "zerolinewidth": 2
          },
          "yaxis": {
           "automargin": true,
           "gridcolor": "white",
           "linecolor": "white",
           "ticks": "",
           "title": {
            "standoff": 15
           },
           "zerolinecolor": "white",
           "zerolinewidth": 2
          }
         }
        },
        "xaxis": {
         "anchor": "y",
         "domain": [
          0,
          1
         ],
         "title": {
          "text": "Quantity Sold Kgs"
         }
        },
        "yaxis": {
         "anchor": "x",
         "domain": [
          0,
          1
         ],
         "title": {
          "text": "Number of products"
         }
        }
       }
      },
      "text/html": [
       "<div>                            <div id=\"ee9619c9-36cf-4ae3-99fc-e7172f6988b6\" class=\"plotly-graph-div\" style=\"height:525px; width:100%;\"></div>            <script type=\"text/javascript\">                require([\"plotly\"], function(Plotly) {                    window.PLOTLYENV=window.PLOTLYENV || {};                                    if (document.getElementById(\"ee9619c9-36cf-4ae3-99fc-e7172f6988b6\")) {                    Plotly.newPlot(                        \"ee9619c9-36cf-4ae3-99fc-e7172f6988b6\",                        [{\"alignmentgroup\":\"True\",\"hovertemplate\":\"Quantity Sold Kgs=%{x}<br>Number of products=%{y}<extra></extra>\",\"legendgroup\":\"\",\"marker\":{\"color\":\"#636efa\",\"pattern\":{\"shape\":\"\"}},\"name\":\"\",\"offsetgroup\":\"\",\"orientation\":\"v\",\"showlegend\":false,\"textposition\":\"auto\",\"type\":\"bar\",\"x\":[36,266,76,27,32,20,30,93,50,147,72,18,82,12,26,39,32,66,60,11,84,20,30,44,18,60,35,35,28,20,93,40,50,90,38,20,25,120,25,60,29,73,112,6,63,72,80,8,87,15,226,95,222,41,201,67,31,251,200,263,80,76,316,87,201,281,38,16,108,200,79,26,26,192],\"xaxis\":\"x\",\"y\":[12000,66500,21715,7714,9143,5714,8571,26571,14286,42000,20571,5143,23429,3429,7429,11143,9143,18857,17143,3143,24000,5714,8571,12571,5143,17143,10000,10000,8000,5714,26571,11429,14286,25714,10857,5714,7143,34286,7143,17143,8286,20857,32000,1714,18000,20571,22857,2286,24857,4286,64571,27143,63429,11714,57429,19143,8857,71714,57143,75143,22857,21714,90286,24857,57429,80286,10857,4571,30857,57143,22571,7429,7429,54857],\"yaxis\":\"y\"}],                        {\"barmode\":\"relative\",\"legend\":{\"tracegroupgap\":0},\"margin\":{\"t\":60},\"template\":{\"data\":{\"bar\":[{\"error_x\":{\"color\":\"#2a3f5f\"},\"error_y\":{\"color\":\"#2a3f5f\"},\"marker\":{\"line\":{\"color\":\"#E5ECF6\",\"width\":0.5},\"pattern\":{\"fillmode\":\"overlay\",\"size\":10,\"solidity\":0.2}},\"type\":\"bar\"}],\"barpolar\":[{\"marker\":{\"line\":{\"color\":\"#E5ECF6\",\"width\":0.5},\"pattern\":{\"fillmode\":\"overlay\",\"size\":10,\"solidity\":0.2}},\"type\":\"barpolar\"}],\"carpet\":[{\"aaxis\":{\"endlinecolor\":\"#2a3f5f\",\"gridcolor\":\"white\",\"linecolor\":\"white\",\"minorgridcolor\":\"white\",\"startlinecolor\":\"#2a3f5f\"},\"baxis\":{\"endlinecolor\":\"#2a3f5f\",\"gridcolor\":\"white\",\"linecolor\":\"white\",\"minorgridcolor\":\"white\",\"startlinecolor\":\"#2a3f5f\"},\"type\":\"carpet\"}],\"choropleth\":[{\"colorbar\":{\"outlinewidth\":0,\"ticks\":\"\"},\"type\":\"choropleth\"}],\"contour\":[{\"colorbar\":{\"outlinewidth\":0,\"ticks\":\"\"},\"colorscale\":[[0.0,\"#0d0887\"],[0.1111111111111111,\"#46039f\"],[0.2222222222222222,\"#7201a8\"],[0.3333333333333333,\"#9c179e\"],[0.4444444444444444,\"#bd3786\"],[0.5555555555555556,\"#d8576b\"],[0.6666666666666666,\"#ed7953\"],[0.7777777777777778,\"#fb9f3a\"],[0.8888888888888888,\"#fdca26\"],[1.0,\"#f0f921\"]],\"type\":\"contour\"}],\"contourcarpet\":[{\"colorbar\":{\"outlinewidth\":0,\"ticks\":\"\"},\"type\":\"contourcarpet\"}],\"heatmap\":[{\"colorbar\":{\"outlinewidth\":0,\"ticks\":\"\"},\"colorscale\":[[0.0,\"#0d0887\"],[0.1111111111111111,\"#46039f\"],[0.2222222222222222,\"#7201a8\"],[0.3333333333333333,\"#9c179e\"],[0.4444444444444444,\"#bd3786\"],[0.5555555555555556,\"#d8576b\"],[0.6666666666666666,\"#ed7953\"],[0.7777777777777778,\"#fb9f3a\"],[0.8888888888888888,\"#fdca26\"],[1.0,\"#f0f921\"]],\"type\":\"heatmap\"}],\"heatmapgl\":[{\"colorbar\":{\"outlinewidth\":0,\"ticks\":\"\"},\"colorscale\":[[0.0,\"#0d0887\"],[0.1111111111111111,\"#46039f\"],[0.2222222222222222,\"#7201a8\"],[0.3333333333333333,\"#9c179e\"],[0.4444444444444444,\"#bd3786\"],[0.5555555555555556,\"#d8576b\"],[0.6666666666666666,\"#ed7953\"],[0.7777777777777778,\"#fb9f3a\"],[0.8888888888888888,\"#fdca26\"],[1.0,\"#f0f921\"]],\"type\":\"heatmapgl\"}],\"histogram\":[{\"marker\":{\"pattern\":{\"fillmode\":\"overlay\",\"size\":10,\"solidity\":0.2}},\"type\":\"histogram\"}],\"histogram2d\":[{\"colorbar\":{\"outlinewidth\":0,\"ticks\":\"\"},\"colorscale\":[[0.0,\"#0d0887\"],[0.1111111111111111,\"#46039f\"],[0.2222222222222222,\"#7201a8\"],[0.3333333333333333,\"#9c179e\"],[0.4444444444444444,\"#bd3786\"],[0.5555555555555556,\"#d8576b\"],[0.6666666666666666,\"#ed7953\"],[0.7777777777777778,\"#fb9f3a\"],[0.8888888888888888,\"#fdca26\"],[1.0,\"#f0f921\"]],\"type\":\"histogram2d\"}],\"histogram2dcontour\":[{\"colorbar\":{\"outlinewidth\":0,\"ticks\":\"\"},\"colorscale\":[[0.0,\"#0d0887\"],[0.1111111111111111,\"#46039f\"],[0.2222222222222222,\"#7201a8\"],[0.3333333333333333,\"#9c179e\"],[0.4444444444444444,\"#bd3786\"],[0.5555555555555556,\"#d8576b\"],[0.6666666666666666,\"#ed7953\"],[0.7777777777777778,\"#fb9f3a\"],[0.8888888888888888,\"#fdca26\"],[1.0,\"#f0f921\"]],\"type\":\"histogram2dcontour\"}],\"mesh3d\":[{\"colorbar\":{\"outlinewidth\":0,\"ticks\":\"\"},\"type\":\"mesh3d\"}],\"parcoords\":[{\"line\":{\"colorbar\":{\"outlinewidth\":0,\"ticks\":\"\"}},\"type\":\"parcoords\"}],\"pie\":[{\"automargin\":true,\"type\":\"pie\"}],\"scatter\":[{\"marker\":{\"colorbar\":{\"outlinewidth\":0,\"ticks\":\"\"}},\"type\":\"scatter\"}],\"scatter3d\":[{\"line\":{\"colorbar\":{\"outlinewidth\":0,\"ticks\":\"\"}},\"marker\":{\"colorbar\":{\"outlinewidth\":0,\"ticks\":\"\"}},\"type\":\"scatter3d\"}],\"scattercarpet\":[{\"marker\":{\"colorbar\":{\"outlinewidth\":0,\"ticks\":\"\"}},\"type\":\"scattercarpet\"}],\"scattergeo\":[{\"marker\":{\"colorbar\":{\"outlinewidth\":0,\"ticks\":\"\"}},\"type\":\"scattergeo\"}],\"scattergl\":[{\"marker\":{\"colorbar\":{\"outlinewidth\":0,\"ticks\":\"\"}},\"type\":\"scattergl\"}],\"scattermapbox\":[{\"marker\":{\"colorbar\":{\"outlinewidth\":0,\"ticks\":\"\"}},\"type\":\"scattermapbox\"}],\"scatterpolar\":[{\"marker\":{\"colorbar\":{\"outlinewidth\":0,\"ticks\":\"\"}},\"type\":\"scatterpolar\"}],\"scatterpolargl\":[{\"marker\":{\"colorbar\":{\"outlinewidth\":0,\"ticks\":\"\"}},\"type\":\"scatterpolargl\"}],\"scatterternary\":[{\"marker\":{\"colorbar\":{\"outlinewidth\":0,\"ticks\":\"\"}},\"type\":\"scatterternary\"}],\"surface\":[{\"colorbar\":{\"outlinewidth\":0,\"ticks\":\"\"},\"colorscale\":[[0.0,\"#0d0887\"],[0.1111111111111111,\"#46039f\"],[0.2222222222222222,\"#7201a8\"],[0.3333333333333333,\"#9c179e\"],[0.4444444444444444,\"#bd3786\"],[0.5555555555555556,\"#d8576b\"],[0.6666666666666666,\"#ed7953\"],[0.7777777777777778,\"#fb9f3a\"],[0.8888888888888888,\"#fdca26\"],[1.0,\"#f0f921\"]],\"type\":\"surface\"}],\"table\":[{\"cells\":{\"fill\":{\"color\":\"#EBF0F8\"},\"line\":{\"color\":\"white\"}},\"header\":{\"fill\":{\"color\":\"#C8D4E3\"},\"line\":{\"color\":\"white\"}},\"type\":\"table\"}]},\"layout\":{\"annotationdefaults\":{\"arrowcolor\":\"#2a3f5f\",\"arrowhead\":0,\"arrowwidth\":1},\"autotypenumbers\":\"strict\",\"coloraxis\":{\"colorbar\":{\"outlinewidth\":0,\"ticks\":\"\"}},\"colorscale\":{\"diverging\":[[0,\"#8e0152\"],[0.1,\"#c51b7d\"],[0.2,\"#de77ae\"],[0.3,\"#f1b6da\"],[0.4,\"#fde0ef\"],[0.5,\"#f7f7f7\"],[0.6,\"#e6f5d0\"],[0.7,\"#b8e186\"],[0.8,\"#7fbc41\"],[0.9,\"#4d9221\"],[1,\"#276419\"]],\"sequential\":[[0.0,\"#0d0887\"],[0.1111111111111111,\"#46039f\"],[0.2222222222222222,\"#7201a8\"],[0.3333333333333333,\"#9c179e\"],[0.4444444444444444,\"#bd3786\"],[0.5555555555555556,\"#d8576b\"],[0.6666666666666666,\"#ed7953\"],[0.7777777777777778,\"#fb9f3a\"],[0.8888888888888888,\"#fdca26\"],[1.0,\"#f0f921\"]],\"sequentialminus\":[[0.0,\"#0d0887\"],[0.1111111111111111,\"#46039f\"],[0.2222222222222222,\"#7201a8\"],[0.3333333333333333,\"#9c179e\"],[0.4444444444444444,\"#bd3786\"],[0.5555555555555556,\"#d8576b\"],[0.6666666666666666,\"#ed7953\"],[0.7777777777777778,\"#fb9f3a\"],[0.8888888888888888,\"#fdca26\"],[1.0,\"#f0f921\"]]},\"colorway\":[\"#636efa\",\"#EF553B\",\"#00cc96\",\"#ab63fa\",\"#FFA15A\",\"#19d3f3\",\"#FF6692\",\"#B6E880\",\"#FF97FF\",\"#FECB52\"],\"font\":{\"color\":\"#2a3f5f\"},\"geo\":{\"bgcolor\":\"white\",\"lakecolor\":\"white\",\"landcolor\":\"#E5ECF6\",\"showlakes\":true,\"showland\":true,\"subunitcolor\":\"white\"},\"hoverlabel\":{\"align\":\"left\"},\"hovermode\":\"closest\",\"mapbox\":{\"style\":\"light\"},\"paper_bgcolor\":\"white\",\"plot_bgcolor\":\"#E5ECF6\",\"polar\":{\"angularaxis\":{\"gridcolor\":\"white\",\"linecolor\":\"white\",\"ticks\":\"\"},\"bgcolor\":\"#E5ECF6\",\"radialaxis\":{\"gridcolor\":\"white\",\"linecolor\":\"white\",\"ticks\":\"\"}},\"scene\":{\"xaxis\":{\"backgroundcolor\":\"#E5ECF6\",\"gridcolor\":\"white\",\"gridwidth\":2,\"linecolor\":\"white\",\"showbackground\":true,\"ticks\":\"\",\"zerolinecolor\":\"white\"},\"yaxis\":{\"backgroundcolor\":\"#E5ECF6\",\"gridcolor\":\"white\",\"gridwidth\":2,\"linecolor\":\"white\",\"showbackground\":true,\"ticks\":\"\",\"zerolinecolor\":\"white\"},\"zaxis\":{\"backgroundcolor\":\"#E5ECF6\",\"gridcolor\":\"white\",\"gridwidth\":2,\"linecolor\":\"white\",\"showbackground\":true,\"ticks\":\"\",\"zerolinecolor\":\"white\"}},\"shapedefaults\":{\"line\":{\"color\":\"#2a3f5f\"}},\"ternary\":{\"aaxis\":{\"gridcolor\":\"white\",\"linecolor\":\"white\",\"ticks\":\"\"},\"baxis\":{\"gridcolor\":\"white\",\"linecolor\":\"white\",\"ticks\":\"\"},\"bgcolor\":\"#E5ECF6\",\"caxis\":{\"gridcolor\":\"white\",\"linecolor\":\"white\",\"ticks\":\"\"}},\"title\":{\"x\":0.05},\"xaxis\":{\"automargin\":true,\"gridcolor\":\"white\",\"linecolor\":\"white\",\"ticks\":\"\",\"title\":{\"standoff\":15},\"zerolinecolor\":\"white\",\"zerolinewidth\":2},\"yaxis\":{\"automargin\":true,\"gridcolor\":\"white\",\"linecolor\":\"white\",\"ticks\":\"\",\"title\":{\"standoff\":15},\"zerolinecolor\":\"white\",\"zerolinewidth\":2}}},\"xaxis\":{\"anchor\":\"y\",\"domain\":[0.0,1.0],\"title\":{\"text\":\"Quantity Sold Kgs\"}},\"yaxis\":{\"anchor\":\"x\",\"domain\":[0.0,1.0],\"title\":{\"text\":\"Number of products\"}}},                        {\"responsive\": true}                    ).then(function(){\n",
       "                            \n",
       "var gd = document.getElementById('ee9619c9-36cf-4ae3-99fc-e7172f6988b6');\n",
       "var x = new MutationObserver(function (mutations, observer) {{\n",
       "        var display = window.getComputedStyle(gd).display;\n",
       "        if (!display || display === 'none') {{\n",
       "            console.log([gd, 'removed!']);\n",
       "            Plotly.purge(gd);\n",
       "            observer.disconnect();\n",
       "        }}\n",
       "}});\n",
       "\n",
       "// Listen for the removal of the full notebook cells\n",
       "var notebookContainer = gd.closest('#notebook-container');\n",
       "if (notebookContainer) {{\n",
       "    x.observe(notebookContainer, {childList: true});\n",
       "}}\n",
       "\n",
       "// Listen for the clearing of the current output cell\n",
       "var outputEl = gd.closest('.output');\n",
       "if (outputEl) {{\n",
       "    x.observe(outputEl, {childList: true});\n",
       "}}\n",
       "\n",
       "                        })                };                });            </script>        </div>"
      ]
     },
     "metadata": {},
     "output_type": "display_data"
    }
   ],
   "source": [
    "import plotly.express as px\n",
    "fig = px.bar(data, x=data[\"Quantity Sold Kgs\"],  y = data['Number of products'])\n",
    "fig.show()"
   ]
  },
  {
   "cell_type": "code",
   "execution_count": 36,
   "metadata": {},
   "outputs": [
    {
     "data": {
      "text/html": [
       "<div>\n",
       "<style scoped>\n",
       "    .dataframe tbody tr th:only-of-type {\n",
       "        vertical-align: middle;\n",
       "    }\n",
       "\n",
       "    .dataframe tbody tr th {\n",
       "        vertical-align: top;\n",
       "    }\n",
       "\n",
       "    .dataframe thead th {\n",
       "        text-align: right;\n",
       "    }\n",
       "</style>\n",
       "<table border=\"1\" class=\"dataframe\">\n",
       "  <thead>\n",
       "    <tr style=\"text-align: right;\">\n",
       "      <th></th>\n",
       "      <th>Size</th>\n",
       "      <th>Quantity Sold Kgs</th>\n",
       "      <th>Quantity Sold gms</th>\n",
       "      <th>Number of products</th>\n",
       "      <th>cost of material(rs per kg)</th>\n",
       "      <th>labor cost (per kg)</th>\n",
       "      <th>electricity cost (per kg)</th>\n",
       "      <th>selling price (per kg)</th>\n",
       "      <th>Production Cost (per kg)</th>\n",
       "      <th>Profit</th>\n",
       "      <th>Total Profit</th>\n",
       "    </tr>\n",
       "  </thead>\n",
       "  <tbody>\n",
       "    <tr>\n",
       "      <th>0</th>\n",
       "      <td>A</td>\n",
       "      <td>36</td>\n",
       "      <td>36000</td>\n",
       "      <td>12000</td>\n",
       "      <td>78</td>\n",
       "      <td>30</td>\n",
       "      <td>8.3</td>\n",
       "      <td>148</td>\n",
       "      <td>116.3</td>\n",
       "      <td>31.7</td>\n",
       "      <td>1141.2</td>\n",
       "    </tr>\n",
       "    <tr>\n",
       "      <th>1</th>\n",
       "      <td>D</td>\n",
       "      <td>266</td>\n",
       "      <td>266000</td>\n",
       "      <td>66500</td>\n",
       "      <td>78</td>\n",
       "      <td>25</td>\n",
       "      <td>8.0</td>\n",
       "      <td>148</td>\n",
       "      <td>111.0</td>\n",
       "      <td>37.0</td>\n",
       "      <td>9842.0</td>\n",
       "    </tr>\n",
       "    <tr>\n",
       "      <th>2</th>\n",
       "      <td>C</td>\n",
       "      <td>76</td>\n",
       "      <td>76000</td>\n",
       "      <td>21715</td>\n",
       "      <td>78</td>\n",
       "      <td>28</td>\n",
       "      <td>8.2</td>\n",
       "      <td>148</td>\n",
       "      <td>114.2</td>\n",
       "      <td>33.8</td>\n",
       "      <td>2568.8</td>\n",
       "    </tr>\n",
       "    <tr>\n",
       "      <th>3</th>\n",
       "      <td>C</td>\n",
       "      <td>27</td>\n",
       "      <td>27000</td>\n",
       "      <td>7714</td>\n",
       "      <td>78</td>\n",
       "      <td>28</td>\n",
       "      <td>8.2</td>\n",
       "      <td>148</td>\n",
       "      <td>114.2</td>\n",
       "      <td>33.8</td>\n",
       "      <td>912.6</td>\n",
       "    </tr>\n",
       "    <tr>\n",
       "      <th>4</th>\n",
       "      <td>B</td>\n",
       "      <td>32</td>\n",
       "      <td>32000</td>\n",
       "      <td>9143</td>\n",
       "      <td>78</td>\n",
       "      <td>28</td>\n",
       "      <td>8.2</td>\n",
       "      <td>148</td>\n",
       "      <td>114.2</td>\n",
       "      <td>33.8</td>\n",
       "      <td>1081.6</td>\n",
       "    </tr>\n",
       "  </tbody>\n",
       "</table>\n",
       "</div>"
      ],
      "text/plain": [
       "  Size  Quantity Sold Kgs  Quantity Sold gms  Number of products  \\\n",
       "0    A                 36              36000               12000   \n",
       "1    D                266             266000               66500   \n",
       "2    C                 76              76000               21715   \n",
       "3    C                 27              27000                7714   \n",
       "4    B                 32              32000                9143   \n",
       "\n",
       "   cost of material(rs per kg)   labor cost (per kg)  \\\n",
       "0                            78                   30   \n",
       "1                            78                   25   \n",
       "2                            78                   28   \n",
       "3                            78                   28   \n",
       "4                            78                   28   \n",
       "\n",
       "   electricity cost (per kg)    selling price (per kg)  \\\n",
       "0                        8.3                       148   \n",
       "1                        8.0                       148   \n",
       "2                        8.2                       148   \n",
       "3                        8.2                       148   \n",
       "4                        8.2                       148   \n",
       "\n",
       "   Production Cost (per kg)  Profit  Total Profit  \n",
       "0                     116.3    31.7        1141.2  \n",
       "1                     111.0    37.0        9842.0  \n",
       "2                     114.2    33.8        2568.8  \n",
       "3                     114.2    33.8         912.6  \n",
       "4                     114.2    33.8        1081.6  "
      ]
     },
     "execution_count": 36,
     "metadata": {},
     "output_type": "execute_result"
    }
   ],
   "source": [
    "data.head()"
   ]
  },
  {
   "cell_type": "code",
   "execution_count": 35,
   "metadata": {},
   "outputs": [
    {
     "data": {
      "application/vnd.plotly.v1+json": {
       "config": {
        "plotlyServerURL": "https://plot.ly"
       },
       "data": [
        {
         "hovertemplate": "Size=%{text}<br>Number of products=%{marker.color}<br>Quantity Sold Kgs=%{marker.size}<extra></extra>",
         "legendgroup": "",
         "marker": {
          "color": [
           12000,
           66500,
           21715,
           7714,
           9143,
           5714,
           8571,
           26571,
           14286,
           42000,
           20571,
           5143,
           23429,
           3429,
           7429,
           11143,
           9143,
           18857,
           17143,
           3143,
           24000,
           5714,
           8571,
           12571,
           5143,
           17143,
           10000,
           10000,
           8000,
           5714,
           26571,
           11429,
           14286,
           25714,
           10857,
           5714,
           7143,
           34286,
           7143,
           17143,
           8286,
           20857,
           32000,
           1714,
           18000,
           20571,
           22857,
           2286,
           24857,
           4286,
           64571,
           27143,
           63429,
           11714,
           57429,
           19143,
           8857,
           71714,
           57143,
           75143,
           22857,
           21714,
           90286,
           24857,
           57429,
           80286,
           10857,
           4571,
           30857,
           57143,
           22571,
           7429,
           7429,
           54857
          ],
          "coloraxis": "coloraxis",
          "size": [
           36,
           266,
           76,
           27,
           32,
           20,
           30,
           93,
           50,
           147,
           72,
           18,
           82,
           12,
           26,
           39,
           32,
           66,
           60,
           11,
           84,
           20,
           30,
           44,
           18,
           60,
           35,
           35,
           28,
           20,
           93,
           40,
           50,
           90,
           38,
           20,
           25,
           120,
           25,
           60,
           29,
           73,
           112,
           6,
           63,
           72,
           80,
           8,
           87,
           15,
           226,
           95,
           222,
           41,
           201,
           67,
           31,
           251,
           200,
           263,
           80,
           76,
           316,
           87,
           201,
           281,
           38,
           16,
           108,
           200,
           79,
           26,
           26,
           192
          ],
          "sizemode": "area",
          "sizeref": 0.79,
          "symbol": "circle"
         },
         "mode": "markers+text",
         "name": "",
         "orientation": "v",
         "showlegend": false,
         "text": [
          "A",
          "D",
          "C",
          "C",
          "B",
          "A",
          "C",
          "D",
          "C",
          "B",
          "A",
          "C",
          "B",
          "C",
          "C",
          "B",
          "B",
          "C",
          "B",
          "C",
          "C",
          "C",
          "B",
          "C",
          "C",
          "C",
          "B",
          "C",
          "A",
          "B",
          "B",
          "C",
          "B",
          "C",
          "B",
          "C",
          "A",
          "C",
          "B",
          "C",
          "B",
          "A",
          "C",
          "B",
          "C",
          "C",
          "C",
          "A",
          "S",
          "S",
          "Q",
          "Q",
          "Q",
          "R",
          "S",
          "Q",
          "S",
          "T",
          "Q",
          "R",
          "R",
          "R",
          "T",
          "T",
          "S",
          "S",
          "R",
          "Q",
          "R",
          "Q",
          "S",
          "T",
          "S",
          "Q"
         ],
         "type": "scatter",
         "x": [
          "A",
          "D",
          "C",
          "C",
          "B",
          "A",
          "C",
          "D",
          "C",
          "B",
          "A",
          "C",
          "B",
          "C",
          "C",
          "B",
          "B",
          "C",
          "B",
          "C",
          "C",
          "C",
          "B",
          "C",
          "C",
          "C",
          "B",
          "C",
          "A",
          "B",
          "B",
          "C",
          "B",
          "C",
          "B",
          "C",
          "A",
          "C",
          "B",
          "C",
          "B",
          "A",
          "C",
          "B",
          "C",
          "C",
          "C",
          "A",
          "S",
          "S",
          "Q",
          "Q",
          "Q",
          "R",
          "S",
          "Q",
          "S",
          "T",
          "Q",
          "R",
          "R",
          "R",
          "T",
          "T",
          "S",
          "S",
          "R",
          "Q",
          "R",
          "Q",
          "S",
          "T",
          "S",
          "Q"
         ],
         "xaxis": "x",
         "y": [
          12000,
          66500,
          21715,
          7714,
          9143,
          5714,
          8571,
          26571,
          14286,
          42000,
          20571,
          5143,
          23429,
          3429,
          7429,
          11143,
          9143,
          18857,
          17143,
          3143,
          24000,
          5714,
          8571,
          12571,
          5143,
          17143,
          10000,
          10000,
          8000,
          5714,
          26571,
          11429,
          14286,
          25714,
          10857,
          5714,
          7143,
          34286,
          7143,
          17143,
          8286,
          20857,
          32000,
          1714,
          18000,
          20571,
          22857,
          2286,
          24857,
          4286,
          64571,
          27143,
          63429,
          11714,
          57429,
          19143,
          8857,
          71714,
          57143,
          75143,
          22857,
          21714,
          90286,
          24857,
          57429,
          80286,
          10857,
          4571,
          30857,
          57143,
          22571,
          7429,
          7429,
          54857
         ],
         "yaxis": "y"
        }
       ],
       "layout": {
        "coloraxis": {
         "colorbar": {
          "title": {
           "text": "Number of products"
          }
         },
         "colorscale": [
          [
           0,
           "#0d0887"
          ],
          [
           0.1111111111111111,
           "#46039f"
          ],
          [
           0.2222222222222222,
           "#7201a8"
          ],
          [
           0.3333333333333333,
           "#9c179e"
          ],
          [
           0.4444444444444444,
           "#bd3786"
          ],
          [
           0.5555555555555556,
           "#d8576b"
          ],
          [
           0.6666666666666666,
           "#ed7953"
          ],
          [
           0.7777777777777778,
           "#fb9f3a"
          ],
          [
           0.8888888888888888,
           "#fdca26"
          ],
          [
           1,
           "#f0f921"
          ]
         ]
        },
        "font": {
         "color": "black",
         "family": "Courier New"
        },
        "legend": {
         "itemsizing": "constant",
         "title": {
          "font": {
           "color": "green"
          }
         },
         "tracegroupgap": 0
        },
        "template": {
         "data": {
          "bar": [
           {
            "error_x": {
             "color": "#2a3f5f"
            },
            "error_y": {
             "color": "#2a3f5f"
            },
            "marker": {
             "line": {
              "color": "#E5ECF6",
              "width": 0.5
             },
             "pattern": {
              "fillmode": "overlay",
              "size": 10,
              "solidity": 0.2
             }
            },
            "type": "bar"
           }
          ],
          "barpolar": [
           {
            "marker": {
             "line": {
              "color": "#E5ECF6",
              "width": 0.5
             },
             "pattern": {
              "fillmode": "overlay",
              "size": 10,
              "solidity": 0.2
             }
            },
            "type": "barpolar"
           }
          ],
          "carpet": [
           {
            "aaxis": {
             "endlinecolor": "#2a3f5f",
             "gridcolor": "white",
             "linecolor": "white",
             "minorgridcolor": "white",
             "startlinecolor": "#2a3f5f"
            },
            "baxis": {
             "endlinecolor": "#2a3f5f",
             "gridcolor": "white",
             "linecolor": "white",
             "minorgridcolor": "white",
             "startlinecolor": "#2a3f5f"
            },
            "type": "carpet"
           }
          ],
          "choropleth": [
           {
            "colorbar": {
             "outlinewidth": 0,
             "ticks": ""
            },
            "type": "choropleth"
           }
          ],
          "contour": [
           {
            "colorbar": {
             "outlinewidth": 0,
             "ticks": ""
            },
            "colorscale": [
             [
              0,
              "#0d0887"
             ],
             [
              0.1111111111111111,
              "#46039f"
             ],
             [
              0.2222222222222222,
              "#7201a8"
             ],
             [
              0.3333333333333333,
              "#9c179e"
             ],
             [
              0.4444444444444444,
              "#bd3786"
             ],
             [
              0.5555555555555556,
              "#d8576b"
             ],
             [
              0.6666666666666666,
              "#ed7953"
             ],
             [
              0.7777777777777778,
              "#fb9f3a"
             ],
             [
              0.8888888888888888,
              "#fdca26"
             ],
             [
              1,
              "#f0f921"
             ]
            ],
            "type": "contour"
           }
          ],
          "contourcarpet": [
           {
            "colorbar": {
             "outlinewidth": 0,
             "ticks": ""
            },
            "type": "contourcarpet"
           }
          ],
          "heatmap": [
           {
            "colorbar": {
             "outlinewidth": 0,
             "ticks": ""
            },
            "colorscale": [
             [
              0,
              "#0d0887"
             ],
             [
              0.1111111111111111,
              "#46039f"
             ],
             [
              0.2222222222222222,
              "#7201a8"
             ],
             [
              0.3333333333333333,
              "#9c179e"
             ],
             [
              0.4444444444444444,
              "#bd3786"
             ],
             [
              0.5555555555555556,
              "#d8576b"
             ],
             [
              0.6666666666666666,
              "#ed7953"
             ],
             [
              0.7777777777777778,
              "#fb9f3a"
             ],
             [
              0.8888888888888888,
              "#fdca26"
             ],
             [
              1,
              "#f0f921"
             ]
            ],
            "type": "heatmap"
           }
          ],
          "heatmapgl": [
           {
            "colorbar": {
             "outlinewidth": 0,
             "ticks": ""
            },
            "colorscale": [
             [
              0,
              "#0d0887"
             ],
             [
              0.1111111111111111,
              "#46039f"
             ],
             [
              0.2222222222222222,
              "#7201a8"
             ],
             [
              0.3333333333333333,
              "#9c179e"
             ],
             [
              0.4444444444444444,
              "#bd3786"
             ],
             [
              0.5555555555555556,
              "#d8576b"
             ],
             [
              0.6666666666666666,
              "#ed7953"
             ],
             [
              0.7777777777777778,
              "#fb9f3a"
             ],
             [
              0.8888888888888888,
              "#fdca26"
             ],
             [
              1,
              "#f0f921"
             ]
            ],
            "type": "heatmapgl"
           }
          ],
          "histogram": [
           {
            "marker": {
             "pattern": {
              "fillmode": "overlay",
              "size": 10,
              "solidity": 0.2
             }
            },
            "type": "histogram"
           }
          ],
          "histogram2d": [
           {
            "colorbar": {
             "outlinewidth": 0,
             "ticks": ""
            },
            "colorscale": [
             [
              0,
              "#0d0887"
             ],
             [
              0.1111111111111111,
              "#46039f"
             ],
             [
              0.2222222222222222,
              "#7201a8"
             ],
             [
              0.3333333333333333,
              "#9c179e"
             ],
             [
              0.4444444444444444,
              "#bd3786"
             ],
             [
              0.5555555555555556,
              "#d8576b"
             ],
             [
              0.6666666666666666,
              "#ed7953"
             ],
             [
              0.7777777777777778,
              "#fb9f3a"
             ],
             [
              0.8888888888888888,
              "#fdca26"
             ],
             [
              1,
              "#f0f921"
             ]
            ],
            "type": "histogram2d"
           }
          ],
          "histogram2dcontour": [
           {
            "colorbar": {
             "outlinewidth": 0,
             "ticks": ""
            },
            "colorscale": [
             [
              0,
              "#0d0887"
             ],
             [
              0.1111111111111111,
              "#46039f"
             ],
             [
              0.2222222222222222,
              "#7201a8"
             ],
             [
              0.3333333333333333,
              "#9c179e"
             ],
             [
              0.4444444444444444,
              "#bd3786"
             ],
             [
              0.5555555555555556,
              "#d8576b"
             ],
             [
              0.6666666666666666,
              "#ed7953"
             ],
             [
              0.7777777777777778,
              "#fb9f3a"
             ],
             [
              0.8888888888888888,
              "#fdca26"
             ],
             [
              1,
              "#f0f921"
             ]
            ],
            "type": "histogram2dcontour"
           }
          ],
          "mesh3d": [
           {
            "colorbar": {
             "outlinewidth": 0,
             "ticks": ""
            },
            "type": "mesh3d"
           }
          ],
          "parcoords": [
           {
            "line": {
             "colorbar": {
              "outlinewidth": 0,
              "ticks": ""
             }
            },
            "type": "parcoords"
           }
          ],
          "pie": [
           {
            "automargin": true,
            "type": "pie"
           }
          ],
          "scatter": [
           {
            "marker": {
             "colorbar": {
              "outlinewidth": 0,
              "ticks": ""
             }
            },
            "type": "scatter"
           }
          ],
          "scatter3d": [
           {
            "line": {
             "colorbar": {
              "outlinewidth": 0,
              "ticks": ""
             }
            },
            "marker": {
             "colorbar": {
              "outlinewidth": 0,
              "ticks": ""
             }
            },
            "type": "scatter3d"
           }
          ],
          "scattercarpet": [
           {
            "marker": {
             "colorbar": {
              "outlinewidth": 0,
              "ticks": ""
             }
            },
            "type": "scattercarpet"
           }
          ],
          "scattergeo": [
           {
            "marker": {
             "colorbar": {
              "outlinewidth": 0,
              "ticks": ""
             }
            },
            "type": "scattergeo"
           }
          ],
          "scattergl": [
           {
            "marker": {
             "colorbar": {
              "outlinewidth": 0,
              "ticks": ""
             }
            },
            "type": "scattergl"
           }
          ],
          "scattermapbox": [
           {
            "marker": {
             "colorbar": {
              "outlinewidth": 0,
              "ticks": ""
             }
            },
            "type": "scattermapbox"
           }
          ],
          "scatterpolar": [
           {
            "marker": {
             "colorbar": {
              "outlinewidth": 0,
              "ticks": ""
             }
            },
            "type": "scatterpolar"
           }
          ],
          "scatterpolargl": [
           {
            "marker": {
             "colorbar": {
              "outlinewidth": 0,
              "ticks": ""
             }
            },
            "type": "scatterpolargl"
           }
          ],
          "scatterternary": [
           {
            "marker": {
             "colorbar": {
              "outlinewidth": 0,
              "ticks": ""
             }
            },
            "type": "scatterternary"
           }
          ],
          "surface": [
           {
            "colorbar": {
             "outlinewidth": 0,
             "ticks": ""
            },
            "colorscale": [
             [
              0,
              "#0d0887"
             ],
             [
              0.1111111111111111,
              "#46039f"
             ],
             [
              0.2222222222222222,
              "#7201a8"
             ],
             [
              0.3333333333333333,
              "#9c179e"
             ],
             [
              0.4444444444444444,
              "#bd3786"
             ],
             [
              0.5555555555555556,
              "#d8576b"
             ],
             [
              0.6666666666666666,
              "#ed7953"
             ],
             [
              0.7777777777777778,
              "#fb9f3a"
             ],
             [
              0.8888888888888888,
              "#fdca26"
             ],
             [
              1,
              "#f0f921"
             ]
            ],
            "type": "surface"
           }
          ],
          "table": [
           {
            "cells": {
             "fill": {
              "color": "#EBF0F8"
             },
             "line": {
              "color": "white"
             }
            },
            "header": {
             "fill": {
              "color": "#C8D4E3"
             },
             "line": {
              "color": "white"
             }
            },
            "type": "table"
           }
          ]
         },
         "layout": {
          "annotationdefaults": {
           "arrowcolor": "#2a3f5f",
           "arrowhead": 0,
           "arrowwidth": 1
          },
          "autotypenumbers": "strict",
          "coloraxis": {
           "colorbar": {
            "outlinewidth": 0,
            "ticks": ""
           }
          },
          "colorscale": {
           "diverging": [
            [
             0,
             "#8e0152"
            ],
            [
             0.1,
             "#c51b7d"
            ],
            [
             0.2,
             "#de77ae"
            ],
            [
             0.3,
             "#f1b6da"
            ],
            [
             0.4,
             "#fde0ef"
            ],
            [
             0.5,
             "#f7f7f7"
            ],
            [
             0.6,
             "#e6f5d0"
            ],
            [
             0.7,
             "#b8e186"
            ],
            [
             0.8,
             "#7fbc41"
            ],
            [
             0.9,
             "#4d9221"
            ],
            [
             1,
             "#276419"
            ]
           ],
           "sequential": [
            [
             0,
             "#0d0887"
            ],
            [
             0.1111111111111111,
             "#46039f"
            ],
            [
             0.2222222222222222,
             "#7201a8"
            ],
            [
             0.3333333333333333,
             "#9c179e"
            ],
            [
             0.4444444444444444,
             "#bd3786"
            ],
            [
             0.5555555555555556,
             "#d8576b"
            ],
            [
             0.6666666666666666,
             "#ed7953"
            ],
            [
             0.7777777777777778,
             "#fb9f3a"
            ],
            [
             0.8888888888888888,
             "#fdca26"
            ],
            [
             1,
             "#f0f921"
            ]
           ],
           "sequentialminus": [
            [
             0,
             "#0d0887"
            ],
            [
             0.1111111111111111,
             "#46039f"
            ],
            [
             0.2222222222222222,
             "#7201a8"
            ],
            [
             0.3333333333333333,
             "#9c179e"
            ],
            [
             0.4444444444444444,
             "#bd3786"
            ],
            [
             0.5555555555555556,
             "#d8576b"
            ],
            [
             0.6666666666666666,
             "#ed7953"
            ],
            [
             0.7777777777777778,
             "#fb9f3a"
            ],
            [
             0.8888888888888888,
             "#fdca26"
            ],
            [
             1,
             "#f0f921"
            ]
           ]
          },
          "colorway": [
           "#636efa",
           "#EF553B",
           "#00cc96",
           "#ab63fa",
           "#FFA15A",
           "#19d3f3",
           "#FF6692",
           "#B6E880",
           "#FF97FF",
           "#FECB52"
          ],
          "font": {
           "color": "#2a3f5f"
          },
          "geo": {
           "bgcolor": "white",
           "lakecolor": "white",
           "landcolor": "#E5ECF6",
           "showlakes": true,
           "showland": true,
           "subunitcolor": "white"
          },
          "hoverlabel": {
           "align": "left"
          },
          "hovermode": "closest",
          "mapbox": {
           "style": "light"
          },
          "paper_bgcolor": "white",
          "plot_bgcolor": "#E5ECF6",
          "polar": {
           "angularaxis": {
            "gridcolor": "white",
            "linecolor": "white",
            "ticks": ""
           },
           "bgcolor": "#E5ECF6",
           "radialaxis": {
            "gridcolor": "white",
            "linecolor": "white",
            "ticks": ""
           }
          },
          "scene": {
           "xaxis": {
            "backgroundcolor": "#E5ECF6",
            "gridcolor": "white",
            "gridwidth": 2,
            "linecolor": "white",
            "showbackground": true,
            "ticks": "",
            "zerolinecolor": "white"
           },
           "yaxis": {
            "backgroundcolor": "#E5ECF6",
            "gridcolor": "white",
            "gridwidth": 2,
            "linecolor": "white",
            "showbackground": true,
            "ticks": "",
            "zerolinecolor": "white"
           },
           "zaxis": {
            "backgroundcolor": "#E5ECF6",
            "gridcolor": "white",
            "gridwidth": 2,
            "linecolor": "white",
            "showbackground": true,
            "ticks": "",
            "zerolinecolor": "white"
           }
          },
          "shapedefaults": {
           "line": {
            "color": "#2a3f5f"
           }
          },
          "ternary": {
           "aaxis": {
            "gridcolor": "white",
            "linecolor": "white",
            "ticks": ""
           },
           "baxis": {
            "gridcolor": "white",
            "linecolor": "white",
            "ticks": ""
           },
           "bgcolor": "#E5ECF6",
           "caxis": {
            "gridcolor": "white",
            "linecolor": "white",
            "ticks": ""
           }
          },
          "title": {
           "x": 0.05
          },
          "xaxis": {
           "automargin": true,
           "gridcolor": "white",
           "linecolor": "white",
           "ticks": "",
           "title": {
            "standoff": 15
           },
           "zerolinecolor": "white",
           "zerolinewidth": 2
          },
          "yaxis": {
           "automargin": true,
           "gridcolor": "white",
           "linecolor": "white",
           "ticks": "",
           "title": {
            "standoff": 15
           },
           "zerolinecolor": "white",
           "zerolinewidth": 2
          }
         }
        },
        "title": {
         "font": {
          "color": "black",
          "family": "Bahnschrift Light"
         },
         "text": "Sales in Winter"
        },
        "xaxis": {
         "anchor": "y",
         "categoryorder": "category ascending",
         "domain": [
          0,
          1
         ],
         "title": {
          "font": {
           "family": "Candara Light"
          },
          "text": "Size"
         }
        },
        "yaxis": {
         "anchor": "x",
         "domain": [
          0,
          1
         ],
         "title": {
          "font": {
           "family": "Candara Light"
          },
          "text": "Number of products"
         }
        }
       }
      },
      "text/html": [
       "<div>                            <div id=\"32ebf7af-f8c9-41de-9474-393e9c7f3ac2\" class=\"plotly-graph-div\" style=\"height:525px; width:100%;\"></div>            <script type=\"text/javascript\">                require([\"plotly\"], function(Plotly) {                    window.PLOTLYENV=window.PLOTLYENV || {};                                    if (document.getElementById(\"32ebf7af-f8c9-41de-9474-393e9c7f3ac2\")) {                    Plotly.newPlot(                        \"32ebf7af-f8c9-41de-9474-393e9c7f3ac2\",                        [{\"hovertemplate\":\"Size=%{text}<br>Number of products=%{marker.color}<br>Quantity Sold Kgs=%{marker.size}<extra></extra>\",\"legendgroup\":\"\",\"marker\":{\"color\":[12000,66500,21715,7714,9143,5714,8571,26571,14286,42000,20571,5143,23429,3429,7429,11143,9143,18857,17143,3143,24000,5714,8571,12571,5143,17143,10000,10000,8000,5714,26571,11429,14286,25714,10857,5714,7143,34286,7143,17143,8286,20857,32000,1714,18000,20571,22857,2286,24857,4286,64571,27143,63429,11714,57429,19143,8857,71714,57143,75143,22857,21714,90286,24857,57429,80286,10857,4571,30857,57143,22571,7429,7429,54857],\"coloraxis\":\"coloraxis\",\"size\":[36,266,76,27,32,20,30,93,50,147,72,18,82,12,26,39,32,66,60,11,84,20,30,44,18,60,35,35,28,20,93,40,50,90,38,20,25,120,25,60,29,73,112,6,63,72,80,8,87,15,226,95,222,41,201,67,31,251,200,263,80,76,316,87,201,281,38,16,108,200,79,26,26,192],\"sizemode\":\"area\",\"sizeref\":0.79,\"symbol\":\"circle\"},\"mode\":\"markers+text\",\"name\":\"\",\"orientation\":\"v\",\"showlegend\":false,\"text\":[\"A\",\"D\",\"C\",\"C\",\"B\",\"A\",\"C\",\"D\",\"C\",\"B\",\"A\",\"C\",\"B\",\"C\",\"C\",\"B\",\"B\",\"C\",\"B\",\"C\",\"C\",\"C\",\"B\",\"C\",\"C\",\"C\",\"B\",\"C\",\"A\",\"B\",\"B\",\"C\",\"B\",\"C\",\"B\",\"C\",\"A\",\"C\",\"B\",\"C\",\"B\",\"A\",\"C\",\"B\",\"C\",\"C\",\"C\",\"A\",\"S\",\"S\",\"Q\",\"Q\",\"Q\",\"R\",\"S\",\"Q\",\"S\",\"T\",\"Q\",\"R\",\"R\",\"R\",\"T\",\"T\",\"S\",\"S\",\"R\",\"Q\",\"R\",\"Q\",\"S\",\"T\",\"S\",\"Q\"],\"type\":\"scatter\",\"x\":[\"A\",\"D\",\"C\",\"C\",\"B\",\"A\",\"C\",\"D\",\"C\",\"B\",\"A\",\"C\",\"B\",\"C\",\"C\",\"B\",\"B\",\"C\",\"B\",\"C\",\"C\",\"C\",\"B\",\"C\",\"C\",\"C\",\"B\",\"C\",\"A\",\"B\",\"B\",\"C\",\"B\",\"C\",\"B\",\"C\",\"A\",\"C\",\"B\",\"C\",\"B\",\"A\",\"C\",\"B\",\"C\",\"C\",\"C\",\"A\",\"S\",\"S\",\"Q\",\"Q\",\"Q\",\"R\",\"S\",\"Q\",\"S\",\"T\",\"Q\",\"R\",\"R\",\"R\",\"T\",\"T\",\"S\",\"S\",\"R\",\"Q\",\"R\",\"Q\",\"S\",\"T\",\"S\",\"Q\"],\"xaxis\":\"x\",\"y\":[12000,66500,21715,7714,9143,5714,8571,26571,14286,42000,20571,5143,23429,3429,7429,11143,9143,18857,17143,3143,24000,5714,8571,12571,5143,17143,10000,10000,8000,5714,26571,11429,14286,25714,10857,5714,7143,34286,7143,17143,8286,20857,32000,1714,18000,20571,22857,2286,24857,4286,64571,27143,63429,11714,57429,19143,8857,71714,57143,75143,22857,21714,90286,24857,57429,80286,10857,4571,30857,57143,22571,7429,7429,54857],\"yaxis\":\"y\"}],                        {\"coloraxis\":{\"colorbar\":{\"title\":{\"text\":\"Number of products\"}},\"colorscale\":[[0.0,\"#0d0887\"],[0.1111111111111111,\"#46039f\"],[0.2222222222222222,\"#7201a8\"],[0.3333333333333333,\"#9c179e\"],[0.4444444444444444,\"#bd3786\"],[0.5555555555555556,\"#d8576b\"],[0.6666666666666666,\"#ed7953\"],[0.7777777777777778,\"#fb9f3a\"],[0.8888888888888888,\"#fdca26\"],[1.0,\"#f0f921\"]]},\"font\":{\"color\":\"black\",\"family\":\"Courier New\"},\"legend\":{\"itemsizing\":\"constant\",\"title\":{\"font\":{\"color\":\"green\"}},\"tracegroupgap\":0},\"template\":{\"data\":{\"bar\":[{\"error_x\":{\"color\":\"#2a3f5f\"},\"error_y\":{\"color\":\"#2a3f5f\"},\"marker\":{\"line\":{\"color\":\"#E5ECF6\",\"width\":0.5},\"pattern\":{\"fillmode\":\"overlay\",\"size\":10,\"solidity\":0.2}},\"type\":\"bar\"}],\"barpolar\":[{\"marker\":{\"line\":{\"color\":\"#E5ECF6\",\"width\":0.5},\"pattern\":{\"fillmode\":\"overlay\",\"size\":10,\"solidity\":0.2}},\"type\":\"barpolar\"}],\"carpet\":[{\"aaxis\":{\"endlinecolor\":\"#2a3f5f\",\"gridcolor\":\"white\",\"linecolor\":\"white\",\"minorgridcolor\":\"white\",\"startlinecolor\":\"#2a3f5f\"},\"baxis\":{\"endlinecolor\":\"#2a3f5f\",\"gridcolor\":\"white\",\"linecolor\":\"white\",\"minorgridcolor\":\"white\",\"startlinecolor\":\"#2a3f5f\"},\"type\":\"carpet\"}],\"choropleth\":[{\"colorbar\":{\"outlinewidth\":0,\"ticks\":\"\"},\"type\":\"choropleth\"}],\"contour\":[{\"colorbar\":{\"outlinewidth\":0,\"ticks\":\"\"},\"colorscale\":[[0.0,\"#0d0887\"],[0.1111111111111111,\"#46039f\"],[0.2222222222222222,\"#7201a8\"],[0.3333333333333333,\"#9c179e\"],[0.4444444444444444,\"#bd3786\"],[0.5555555555555556,\"#d8576b\"],[0.6666666666666666,\"#ed7953\"],[0.7777777777777778,\"#fb9f3a\"],[0.8888888888888888,\"#fdca26\"],[1.0,\"#f0f921\"]],\"type\":\"contour\"}],\"contourcarpet\":[{\"colorbar\":{\"outlinewidth\":0,\"ticks\":\"\"},\"type\":\"contourcarpet\"}],\"heatmap\":[{\"colorbar\":{\"outlinewidth\":0,\"ticks\":\"\"},\"colorscale\":[[0.0,\"#0d0887\"],[0.1111111111111111,\"#46039f\"],[0.2222222222222222,\"#7201a8\"],[0.3333333333333333,\"#9c179e\"],[0.4444444444444444,\"#bd3786\"],[0.5555555555555556,\"#d8576b\"],[0.6666666666666666,\"#ed7953\"],[0.7777777777777778,\"#fb9f3a\"],[0.8888888888888888,\"#fdca26\"],[1.0,\"#f0f921\"]],\"type\":\"heatmap\"}],\"heatmapgl\":[{\"colorbar\":{\"outlinewidth\":0,\"ticks\":\"\"},\"colorscale\":[[0.0,\"#0d0887\"],[0.1111111111111111,\"#46039f\"],[0.2222222222222222,\"#7201a8\"],[0.3333333333333333,\"#9c179e\"],[0.4444444444444444,\"#bd3786\"],[0.5555555555555556,\"#d8576b\"],[0.6666666666666666,\"#ed7953\"],[0.7777777777777778,\"#fb9f3a\"],[0.8888888888888888,\"#fdca26\"],[1.0,\"#f0f921\"]],\"type\":\"heatmapgl\"}],\"histogram\":[{\"marker\":{\"pattern\":{\"fillmode\":\"overlay\",\"size\":10,\"solidity\":0.2}},\"type\":\"histogram\"}],\"histogram2d\":[{\"colorbar\":{\"outlinewidth\":0,\"ticks\":\"\"},\"colorscale\":[[0.0,\"#0d0887\"],[0.1111111111111111,\"#46039f\"],[0.2222222222222222,\"#7201a8\"],[0.3333333333333333,\"#9c179e\"],[0.4444444444444444,\"#bd3786\"],[0.5555555555555556,\"#d8576b\"],[0.6666666666666666,\"#ed7953\"],[0.7777777777777778,\"#fb9f3a\"],[0.8888888888888888,\"#fdca26\"],[1.0,\"#f0f921\"]],\"type\":\"histogram2d\"}],\"histogram2dcontour\":[{\"colorbar\":{\"outlinewidth\":0,\"ticks\":\"\"},\"colorscale\":[[0.0,\"#0d0887\"],[0.1111111111111111,\"#46039f\"],[0.2222222222222222,\"#7201a8\"],[0.3333333333333333,\"#9c179e\"],[0.4444444444444444,\"#bd3786\"],[0.5555555555555556,\"#d8576b\"],[0.6666666666666666,\"#ed7953\"],[0.7777777777777778,\"#fb9f3a\"],[0.8888888888888888,\"#fdca26\"],[1.0,\"#f0f921\"]],\"type\":\"histogram2dcontour\"}],\"mesh3d\":[{\"colorbar\":{\"outlinewidth\":0,\"ticks\":\"\"},\"type\":\"mesh3d\"}],\"parcoords\":[{\"line\":{\"colorbar\":{\"outlinewidth\":0,\"ticks\":\"\"}},\"type\":\"parcoords\"}],\"pie\":[{\"automargin\":true,\"type\":\"pie\"}],\"scatter\":[{\"marker\":{\"colorbar\":{\"outlinewidth\":0,\"ticks\":\"\"}},\"type\":\"scatter\"}],\"scatter3d\":[{\"line\":{\"colorbar\":{\"outlinewidth\":0,\"ticks\":\"\"}},\"marker\":{\"colorbar\":{\"outlinewidth\":0,\"ticks\":\"\"}},\"type\":\"scatter3d\"}],\"scattercarpet\":[{\"marker\":{\"colorbar\":{\"outlinewidth\":0,\"ticks\":\"\"}},\"type\":\"scattercarpet\"}],\"scattergeo\":[{\"marker\":{\"colorbar\":{\"outlinewidth\":0,\"ticks\":\"\"}},\"type\":\"scattergeo\"}],\"scattergl\":[{\"marker\":{\"colorbar\":{\"outlinewidth\":0,\"ticks\":\"\"}},\"type\":\"scattergl\"}],\"scattermapbox\":[{\"marker\":{\"colorbar\":{\"outlinewidth\":0,\"ticks\":\"\"}},\"type\":\"scattermapbox\"}],\"scatterpolar\":[{\"marker\":{\"colorbar\":{\"outlinewidth\":0,\"ticks\":\"\"}},\"type\":\"scatterpolar\"}],\"scatterpolargl\":[{\"marker\":{\"colorbar\":{\"outlinewidth\":0,\"ticks\":\"\"}},\"type\":\"scatterpolargl\"}],\"scatterternary\":[{\"marker\":{\"colorbar\":{\"outlinewidth\":0,\"ticks\":\"\"}},\"type\":\"scatterternary\"}],\"surface\":[{\"colorbar\":{\"outlinewidth\":0,\"ticks\":\"\"},\"colorscale\":[[0.0,\"#0d0887\"],[0.1111111111111111,\"#46039f\"],[0.2222222222222222,\"#7201a8\"],[0.3333333333333333,\"#9c179e\"],[0.4444444444444444,\"#bd3786\"],[0.5555555555555556,\"#d8576b\"],[0.6666666666666666,\"#ed7953\"],[0.7777777777777778,\"#fb9f3a\"],[0.8888888888888888,\"#fdca26\"],[1.0,\"#f0f921\"]],\"type\":\"surface\"}],\"table\":[{\"cells\":{\"fill\":{\"color\":\"#EBF0F8\"},\"line\":{\"color\":\"white\"}},\"header\":{\"fill\":{\"color\":\"#C8D4E3\"},\"line\":{\"color\":\"white\"}},\"type\":\"table\"}]},\"layout\":{\"annotationdefaults\":{\"arrowcolor\":\"#2a3f5f\",\"arrowhead\":0,\"arrowwidth\":1},\"autotypenumbers\":\"strict\",\"coloraxis\":{\"colorbar\":{\"outlinewidth\":0,\"ticks\":\"\"}},\"colorscale\":{\"diverging\":[[0,\"#8e0152\"],[0.1,\"#c51b7d\"],[0.2,\"#de77ae\"],[0.3,\"#f1b6da\"],[0.4,\"#fde0ef\"],[0.5,\"#f7f7f7\"],[0.6,\"#e6f5d0\"],[0.7,\"#b8e186\"],[0.8,\"#7fbc41\"],[0.9,\"#4d9221\"],[1,\"#276419\"]],\"sequential\":[[0.0,\"#0d0887\"],[0.1111111111111111,\"#46039f\"],[0.2222222222222222,\"#7201a8\"],[0.3333333333333333,\"#9c179e\"],[0.4444444444444444,\"#bd3786\"],[0.5555555555555556,\"#d8576b\"],[0.6666666666666666,\"#ed7953\"],[0.7777777777777778,\"#fb9f3a\"],[0.8888888888888888,\"#fdca26\"],[1.0,\"#f0f921\"]],\"sequentialminus\":[[0.0,\"#0d0887\"],[0.1111111111111111,\"#46039f\"],[0.2222222222222222,\"#7201a8\"],[0.3333333333333333,\"#9c179e\"],[0.4444444444444444,\"#bd3786\"],[0.5555555555555556,\"#d8576b\"],[0.6666666666666666,\"#ed7953\"],[0.7777777777777778,\"#fb9f3a\"],[0.8888888888888888,\"#fdca26\"],[1.0,\"#f0f921\"]]},\"colorway\":[\"#636efa\",\"#EF553B\",\"#00cc96\",\"#ab63fa\",\"#FFA15A\",\"#19d3f3\",\"#FF6692\",\"#B6E880\",\"#FF97FF\",\"#FECB52\"],\"font\":{\"color\":\"#2a3f5f\"},\"geo\":{\"bgcolor\":\"white\",\"lakecolor\":\"white\",\"landcolor\":\"#E5ECF6\",\"showlakes\":true,\"showland\":true,\"subunitcolor\":\"white\"},\"hoverlabel\":{\"align\":\"left\"},\"hovermode\":\"closest\",\"mapbox\":{\"style\":\"light\"},\"paper_bgcolor\":\"white\",\"plot_bgcolor\":\"#E5ECF6\",\"polar\":{\"angularaxis\":{\"gridcolor\":\"white\",\"linecolor\":\"white\",\"ticks\":\"\"},\"bgcolor\":\"#E5ECF6\",\"radialaxis\":{\"gridcolor\":\"white\",\"linecolor\":\"white\",\"ticks\":\"\"}},\"scene\":{\"xaxis\":{\"backgroundcolor\":\"#E5ECF6\",\"gridcolor\":\"white\",\"gridwidth\":2,\"linecolor\":\"white\",\"showbackground\":true,\"ticks\":\"\",\"zerolinecolor\":\"white\"},\"yaxis\":{\"backgroundcolor\":\"#E5ECF6\",\"gridcolor\":\"white\",\"gridwidth\":2,\"linecolor\":\"white\",\"showbackground\":true,\"ticks\":\"\",\"zerolinecolor\":\"white\"},\"zaxis\":{\"backgroundcolor\":\"#E5ECF6\",\"gridcolor\":\"white\",\"gridwidth\":2,\"linecolor\":\"white\",\"showbackground\":true,\"ticks\":\"\",\"zerolinecolor\":\"white\"}},\"shapedefaults\":{\"line\":{\"color\":\"#2a3f5f\"}},\"ternary\":{\"aaxis\":{\"gridcolor\":\"white\",\"linecolor\":\"white\",\"ticks\":\"\"},\"baxis\":{\"gridcolor\":\"white\",\"linecolor\":\"white\",\"ticks\":\"\"},\"bgcolor\":\"#E5ECF6\",\"caxis\":{\"gridcolor\":\"white\",\"linecolor\":\"white\",\"ticks\":\"\"}},\"title\":{\"x\":0.05},\"xaxis\":{\"automargin\":true,\"gridcolor\":\"white\",\"linecolor\":\"white\",\"ticks\":\"\",\"title\":{\"standoff\":15},\"zerolinecolor\":\"white\",\"zerolinewidth\":2},\"yaxis\":{\"automargin\":true,\"gridcolor\":\"white\",\"linecolor\":\"white\",\"ticks\":\"\",\"title\":{\"standoff\":15},\"zerolinecolor\":\"white\",\"zerolinewidth\":2}}},\"title\":{\"font\":{\"color\":\"black\",\"family\":\"Bahnschrift Light\"},\"text\":\"Sales in Winter\"},\"xaxis\":{\"anchor\":\"y\",\"categoryorder\":\"category ascending\",\"domain\":[0.0,1.0],\"title\":{\"font\":{\"family\":\"Candara Light\"},\"text\":\"Size\"}},\"yaxis\":{\"anchor\":\"x\",\"domain\":[0.0,1.0],\"title\":{\"font\":{\"family\":\"Candara Light\"},\"text\":\"Number of products\"}}},                        {\"responsive\": true}                    ).then(function(){\n",
       "                            \n",
       "var gd = document.getElementById('32ebf7af-f8c9-41de-9474-393e9c7f3ac2');\n",
       "var x = new MutationObserver(function (mutations, observer) {{\n",
       "        var display = window.getComputedStyle(gd).display;\n",
       "        if (!display || display === 'none') {{\n",
       "            console.log([gd, 'removed!']);\n",
       "            Plotly.purge(gd);\n",
       "            observer.disconnect();\n",
       "        }}\n",
       "}});\n",
       "\n",
       "// Listen for the removal of the full notebook cells\n",
       "var notebookContainer = gd.closest('#notebook-container');\n",
       "if (notebookContainer) {{\n",
       "    x.observe(notebookContainer, {childList: true});\n",
       "}}\n",
       "\n",
       "// Listen for the clearing of the current output cell\n",
       "var outputEl = gd.closest('.output');\n",
       "if (outputEl) {{\n",
       "    x.observe(outputEl, {childList: true});\n",
       "}}\n",
       "\n",
       "                        })                };                });            </script>        </div>"
      ]
     },
     "metadata": {},
     "output_type": "display_data"
    }
   ],
   "source": [
    "fig = px.scatter( data  , x=data[\"Size\"], y=  data['Number of products'],\n",
    "\t         size=data['Quantity Sold Kgs'], color='Number of products' ,\n",
    "                 title = \"Sales in Winter\" , \n",
    "                labels = dict( x= \"Date\" , y= \"Quantity Sold kgs\") , \n",
    "                text = data.Size)\n",
    "fig.update_xaxes(title_font_family=\"Candara Light\")\n",
    "fig.update_yaxes(title_font_family=\"Candara Light\")\n",
    "\n",
    "fig.update_layout(\n",
    "    font_family=\"Courier New\",\n",
    "    font_color=\"black\",\n",
    "    title_font_family=\"Bahnschrift Light\",\n",
    "    title_font_color=\"black\",\n",
    "    legend_title_font_color=\"green\"\n",
    ")\n",
    "fig.update_xaxes(categoryorder='category ascending')\n",
    "\n",
    "fig.show()"
   ]
  },
  {
   "cell_type": "code",
   "execution_count": 103,
   "metadata": {},
   "outputs": [
    {
     "data": {
      "text/html": [
       "<div>\n",
       "<style scoped>\n",
       "    .dataframe tbody tr th:only-of-type {\n",
       "        vertical-align: middle;\n",
       "    }\n",
       "\n",
       "    .dataframe tbody tr th {\n",
       "        vertical-align: top;\n",
       "    }\n",
       "\n",
       "    .dataframe thead th {\n",
       "        text-align: right;\n",
       "    }\n",
       "</style>\n",
       "<table border=\"1\" class=\"dataframe\">\n",
       "  <thead>\n",
       "    <tr style=\"text-align: right;\">\n",
       "      <th></th>\n",
       "      <th>Size</th>\n",
       "      <th>Quantity Sold Kgs</th>\n",
       "      <th>Quantity Sold gms</th>\n",
       "      <th>Number of products</th>\n",
       "      <th>cost of material(rs per kg)</th>\n",
       "      <th>labor cost (per kg)</th>\n",
       "      <th>electricity cost (per kg)</th>\n",
       "      <th>selling price (per kg)</th>\n",
       "      <th>Production Cost (per kg)</th>\n",
       "      <th>Profit</th>\n",
       "      <th>Total Profit</th>\n",
       "    </tr>\n",
       "  </thead>\n",
       "  <tbody>\n",
       "    <tr>\n",
       "      <th>0</th>\n",
       "      <td>A</td>\n",
       "      <td>262</td>\n",
       "      <td>262000</td>\n",
       "      <td>87336</td>\n",
       "      <td>546</td>\n",
       "      <td>210</td>\n",
       "      <td>58.1</td>\n",
       "      <td>1036</td>\n",
       "      <td>814.1</td>\n",
       "      <td>221.9</td>\n",
       "      <td>8305.4</td>\n",
       "    </tr>\n",
       "    <tr>\n",
       "      <th>1</th>\n",
       "      <td>B</td>\n",
       "      <td>718</td>\n",
       "      <td>718000</td>\n",
       "      <td>205143</td>\n",
       "      <td>1170</td>\n",
       "      <td>420</td>\n",
       "      <td>123.0</td>\n",
       "      <td>2220</td>\n",
       "      <td>1713.0</td>\n",
       "      <td>507.0</td>\n",
       "      <td>24268.4</td>\n",
       "    </tr>\n",
       "    <tr>\n",
       "      <th>2</th>\n",
       "      <td>C</td>\n",
       "      <td>1234</td>\n",
       "      <td>1234000</td>\n",
       "      <td>324747</td>\n",
       "      <td>1872</td>\n",
       "      <td>672</td>\n",
       "      <td>196.8</td>\n",
       "      <td>3552</td>\n",
       "      <td>2740.8</td>\n",
       "      <td>811.2</td>\n",
       "      <td>41709.2</td>\n",
       "    </tr>\n",
       "    <tr>\n",
       "      <th>3</th>\n",
       "      <td>D</td>\n",
       "      <td>359</td>\n",
       "      <td>359000</td>\n",
       "      <td>89750</td>\n",
       "      <td>156</td>\n",
       "      <td>50</td>\n",
       "      <td>16.0</td>\n",
       "      <td>296</td>\n",
       "      <td>222.0</td>\n",
       "      <td>74.0</td>\n",
       "      <td>13283.0</td>\n",
       "    </tr>\n",
       "    <tr>\n",
       "      <th>4</th>\n",
       "      <td>Q</td>\n",
       "      <td>1218</td>\n",
       "      <td>1218000</td>\n",
       "      <td>22144</td>\n",
       "      <td>624</td>\n",
       "      <td>120</td>\n",
       "      <td>56.5</td>\n",
       "      <td>1184</td>\n",
       "      <td>800.5</td>\n",
       "      <td>383.5</td>\n",
       "      <td>58467.9</td>\n",
       "    </tr>\n",
       "    <tr>\n",
       "      <th>5</th>\n",
       "      <td>R</td>\n",
       "      <td>606</td>\n",
       "      <td>606000</td>\n",
       "      <td>10632</td>\n",
       "      <td>468</td>\n",
       "      <td>90</td>\n",
       "      <td>30.0</td>\n",
       "      <td>888</td>\n",
       "      <td>588.0</td>\n",
       "      <td>300.0</td>\n",
       "      <td>30300.0</td>\n",
       "    </tr>\n",
       "    <tr>\n",
       "      <th>6</th>\n",
       "      <td>S</td>\n",
       "      <td>921</td>\n",
       "      <td>921000</td>\n",
       "      <td>15880</td>\n",
       "      <td>624</td>\n",
       "      <td>96</td>\n",
       "      <td>38.4</td>\n",
       "      <td>1184</td>\n",
       "      <td>758.4</td>\n",
       "      <td>425.6</td>\n",
       "      <td>48997.2</td>\n",
       "    </tr>\n",
       "    <tr>\n",
       "      <th>7</th>\n",
       "      <td>T</td>\n",
       "      <td>680</td>\n",
       "      <td>680000</td>\n",
       "      <td>11333</td>\n",
       "      <td>312</td>\n",
       "      <td>48</td>\n",
       "      <td>18.4</td>\n",
       "      <td>592</td>\n",
       "      <td>378.4</td>\n",
       "      <td>213.6</td>\n",
       "      <td>36312.0</td>\n",
       "    </tr>\n",
       "  </tbody>\n",
       "</table>\n",
       "</div>"
      ],
      "text/plain": [
       "  Size  Quantity Sold Kgs  Quantity Sold gms  Number of products  \\\n",
       "0    A                262             262000               87336   \n",
       "1    B                718             718000              205143   \n",
       "2    C               1234            1234000              324747   \n",
       "3    D                359             359000               89750   \n",
       "4    Q               1218            1218000               22144   \n",
       "5    R                606             606000               10632   \n",
       "6    S                921             921000               15880   \n",
       "7    T                680             680000               11333   \n",
       "\n",
       "   cost of material(rs per kg)   labor cost (per kg)  \\\n",
       "0                           546                  210   \n",
       "1                          1170                  420   \n",
       "2                          1872                  672   \n",
       "3                           156                   50   \n",
       "4                           624                  120   \n",
       "5                           468                   90   \n",
       "6                           624                   96   \n",
       "7                           312                   48   \n",
       "\n",
       "   electricity cost (per kg)    selling price (per kg)  \\\n",
       "0                       58.1                      1036   \n",
       "1                      123.0                      2220   \n",
       "2                      196.8                      3552   \n",
       "3                       16.0                       296   \n",
       "4                       56.5                      1184   \n",
       "5                       30.0                       888   \n",
       "6                       38.4                      1184   \n",
       "7                       18.4                       592   \n",
       "\n",
       "   Production Cost (per kg)  Profit  Total Profit  \n",
       "0                     814.1   221.9        8305.4  \n",
       "1                    1713.0   507.0       24268.4  \n",
       "2                    2740.8   811.2       41709.2  \n",
       "3                     222.0    74.0       13283.0  \n",
       "4                     800.5   383.5       58467.9  \n",
       "5                     588.0   300.0       30300.0  \n",
       "6                     758.4   425.6       48997.2  \n",
       "7                     378.4   213.6       36312.0  "
      ]
     },
     "execution_count": 103,
     "metadata": {},
     "output_type": "execute_result"
    }
   ],
   "source": [
    "data1 = data.groupby(['Size'] , as_index = False).sum() ; data1"
   ]
  },
  {
   "cell_type": "code",
   "execution_count": 51,
   "metadata": {},
   "outputs": [],
   "source": [
    "data1.drop([4 , 5 , 6 , 7] , inplace = True)"
   ]
  },
  {
   "cell_type": "code",
   "execution_count": 90,
   "metadata": {},
   "outputs": [
    {
     "data": {
      "text/html": [
       "<div>\n",
       "<style scoped>\n",
       "    .dataframe tbody tr th:only-of-type {\n",
       "        vertical-align: middle;\n",
       "    }\n",
       "\n",
       "    .dataframe tbody tr th {\n",
       "        vertical-align: top;\n",
       "    }\n",
       "\n",
       "    .dataframe thead th {\n",
       "        text-align: right;\n",
       "    }\n",
       "</style>\n",
       "<table border=\"1\" class=\"dataframe\">\n",
       "  <thead>\n",
       "    <tr style=\"text-align: right;\">\n",
       "      <th></th>\n",
       "      <th>Size</th>\n",
       "      <th>Quantity Sold Kgs</th>\n",
       "      <th>Quantity Sold gms</th>\n",
       "      <th>Number of products</th>\n",
       "      <th>cost of material(rs per kg)</th>\n",
       "      <th>labor cost (per kg)</th>\n",
       "      <th>electricity cost (per kg)</th>\n",
       "      <th>selling price (per kg)</th>\n",
       "      <th>Production Cost (per kg)</th>\n",
       "      <th>Profit</th>\n",
       "      <th>Total Profit</th>\n",
       "    </tr>\n",
       "  </thead>\n",
       "  <tbody>\n",
       "    <tr>\n",
       "      <th>0</th>\n",
       "      <td>A</td>\n",
       "      <td>262</td>\n",
       "      <td>262000</td>\n",
       "      <td>76571</td>\n",
       "      <td>546</td>\n",
       "      <td>210</td>\n",
       "      <td>58.1</td>\n",
       "      <td>1036</td>\n",
       "      <td>814.1</td>\n",
       "      <td>221.9</td>\n",
       "      <td>8305.4</td>\n",
       "    </tr>\n",
       "    <tr>\n",
       "      <th>1</th>\n",
       "      <td>B</td>\n",
       "      <td>718</td>\n",
       "      <td>718000</td>\n",
       "      <td>205143</td>\n",
       "      <td>1170</td>\n",
       "      <td>420</td>\n",
       "      <td>123.0</td>\n",
       "      <td>2220</td>\n",
       "      <td>1713.0</td>\n",
       "      <td>507.0</td>\n",
       "      <td>24268.4</td>\n",
       "    </tr>\n",
       "    <tr>\n",
       "      <th>2</th>\n",
       "      <td>C</td>\n",
       "      <td>1234</td>\n",
       "      <td>1234000</td>\n",
       "      <td>352572</td>\n",
       "      <td>1872</td>\n",
       "      <td>672</td>\n",
       "      <td>196.8</td>\n",
       "      <td>3552</td>\n",
       "      <td>2740.8</td>\n",
       "      <td>811.2</td>\n",
       "      <td>41709.2</td>\n",
       "    </tr>\n",
       "    <tr>\n",
       "      <th>3</th>\n",
       "      <td>D</td>\n",
       "      <td>359</td>\n",
       "      <td>359000</td>\n",
       "      <td>93071</td>\n",
       "      <td>156</td>\n",
       "      <td>50</td>\n",
       "      <td>16.0</td>\n",
       "      <td>296</td>\n",
       "      <td>222.0</td>\n",
       "      <td>74.0</td>\n",
       "      <td>13283.0</td>\n",
       "    </tr>\n",
       "    <tr>\n",
       "      <th>4</th>\n",
       "      <td>Q</td>\n",
       "      <td>1218</td>\n",
       "      <td>1218000</td>\n",
       "      <td>348000</td>\n",
       "      <td>624</td>\n",
       "      <td>120</td>\n",
       "      <td>56.5</td>\n",
       "      <td>1184</td>\n",
       "      <td>800.5</td>\n",
       "      <td>383.5</td>\n",
       "      <td>58467.9</td>\n",
       "    </tr>\n",
       "    <tr>\n",
       "      <th>5</th>\n",
       "      <td>R</td>\n",
       "      <td>606</td>\n",
       "      <td>606000</td>\n",
       "      <td>173142</td>\n",
       "      <td>468</td>\n",
       "      <td>90</td>\n",
       "      <td>30.0</td>\n",
       "      <td>888</td>\n",
       "      <td>588.0</td>\n",
       "      <td>300.0</td>\n",
       "      <td>30300.0</td>\n",
       "    </tr>\n",
       "    <tr>\n",
       "      <th>6</th>\n",
       "      <td>S</td>\n",
       "      <td>921</td>\n",
       "      <td>921000</td>\n",
       "      <td>263144</td>\n",
       "      <td>624</td>\n",
       "      <td>96</td>\n",
       "      <td>38.4</td>\n",
       "      <td>1184</td>\n",
       "      <td>758.4</td>\n",
       "      <td>425.6</td>\n",
       "      <td>48997.2</td>\n",
       "    </tr>\n",
       "    <tr>\n",
       "      <th>7</th>\n",
       "      <td>T</td>\n",
       "      <td>680</td>\n",
       "      <td>680000</td>\n",
       "      <td>194286</td>\n",
       "      <td>312</td>\n",
       "      <td>48</td>\n",
       "      <td>18.4</td>\n",
       "      <td>592</td>\n",
       "      <td>378.4</td>\n",
       "      <td>213.6</td>\n",
       "      <td>36312.0</td>\n",
       "    </tr>\n",
       "  </tbody>\n",
       "</table>\n",
       "</div>"
      ],
      "text/plain": [
       "  Size  Quantity Sold Kgs  Quantity Sold gms  Number of products  \\\n",
       "0    A                262             262000               76571   \n",
       "1    B                718             718000              205143   \n",
       "2    C               1234            1234000              352572   \n",
       "3    D                359             359000               93071   \n",
       "4    Q               1218            1218000              348000   \n",
       "5    R                606             606000              173142   \n",
       "6    S                921             921000              263144   \n",
       "7    T                680             680000              194286   \n",
       "\n",
       "   cost of material(rs per kg)   labor cost (per kg)  \\\n",
       "0                           546                  210   \n",
       "1                          1170                  420   \n",
       "2                          1872                  672   \n",
       "3                           156                   50   \n",
       "4                           624                  120   \n",
       "5                           468                   90   \n",
       "6                           624                   96   \n",
       "7                           312                   48   \n",
       "\n",
       "   electricity cost (per kg)    selling price (per kg)  \\\n",
       "0                       58.1                      1036   \n",
       "1                      123.0                      2220   \n",
       "2                      196.8                      3552   \n",
       "3                       16.0                       296   \n",
       "4                       56.5                      1184   \n",
       "5                       30.0                       888   \n",
       "6                       38.4                      1184   \n",
       "7                       18.4                       592   \n",
       "\n",
       "   Production Cost (per kg)  Profit  Total Profit  \n",
       "0                     814.1   221.9        8305.4  \n",
       "1                    1713.0   507.0       24268.4  \n",
       "2                    2740.8   811.2       41709.2  \n",
       "3                     222.0    74.0       13283.0  \n",
       "4                     800.5   383.5       58467.9  \n",
       "5                     588.0   300.0       30300.0  \n",
       "6                     758.4   425.6       48997.2  \n",
       "7                     378.4   213.6       36312.0  "
      ]
     },
     "execution_count": 90,
     "metadata": {},
     "output_type": "execute_result"
    }
   ],
   "source": [
    "data1"
   ]
  },
  {
   "cell_type": "code",
   "execution_count": 91,
   "metadata": {},
   "outputs": [
    {
     "ename": "SyntaxError",
     "evalue": "unexpected EOF while parsing (<ipython-input-91-a58997b6e807>, line 25)",
     "output_type": "error",
     "traceback": [
      "\u001b[1;36m  File \u001b[1;32m\"<ipython-input-91-a58997b6e807>\"\u001b[1;36m, line \u001b[1;32m25\u001b[0m\n\u001b[1;33m    fig.show()\u001b[0m\n\u001b[1;37m              ^\u001b[0m\n\u001b[1;31mSyntaxError\u001b[0m\u001b[1;31m:\u001b[0m unexpected EOF while parsing\n"
     ]
    }
   ],
   "source": [
    "import plotly.graph_objects as go\n",
    "from plotly.subplots import make_subplots\n",
    "\n",
    "fig = go.Figure()\n",
    "fig.add_trace(go.line(data1 , x = data1[\"Size\"] , y=data1[\"Number of products\"], name = \"Number of products\" ))\n",
    "fig.add_trace(go.Bar(data1, x = data1[\"Size\"] , y=data1[\"Quantity Sold Kgs\"], name=\"Quantity Sold Kgs\"))\n",
    "#fig.add_trace(go.Histogram(histfunc=\"sum\", x = data[\"Size\"] , y=data[\"electricity cost (per kg)\"], name=\"Sum of electricity Cost\"))\n",
    "\n",
    "fig.update_xaxes(categoryorder='category ascending')\n",
    "#fig.update_layout(\n",
    "#    bargap=0.2 , colorway =  ['#3A01DF', '#DF0101' , \"#FA5858\"])\n",
    "\n",
    "#fig.update_xaxes(title = \"Product\" , title_font_family=\"Candara Light\")\n",
    "#fig.update_yaxes(title = \"Sum\" , title_font_family=\"Candara Light\")\n",
    "\n",
    "fig.update_layout(\n",
    "    title = \"Profit Efficient Products\",\n",
    "    font_family=\"Courier New\",\n",
    "    font_color=\"black\",\n",
    "    title_font_family=\"Bahnschrift Light\",\n",
    "\n",
    "#plotly.offline.plot(fig, filename=os.getcwd()+ \"\\\\files\" + \".html\")\n",
    "\n",
    "#fig.show(render_mode = 'png')\n",
    "fig.show()"
   ]
  },
  {
   "cell_type": "code",
   "execution_count": 119,
   "metadata": {},
   "outputs": [
    {
     "data": {
      "application/vnd.plotly.v1+json": {
       "config": {
        "plotlyServerURL": "https://plot.ly"
       },
       "data": [
        {
         "name": "Number of products",
         "type": "scatter",
         "x": [
          "A",
          "B",
          "C",
          "D",
          "Q",
          "R",
          "S",
          "T"
         ],
         "y": [
          87336,
          205143,
          324747,
          89750,
          22144,
          10632,
          15880,
          11333
         ]
        },
        {
         "name": "Quantity Sold Kgs",
         "type": "scatter",
         "x": [
          "A",
          "B",
          "C",
          "D",
          "Q",
          "R",
          "S",
          "T"
         ],
         "y": [
          262000,
          718000,
          1234000,
          359000,
          1218000,
          606000,
          921000,
          680000
         ]
        }
       ],
       "layout": {
        "colorway": [
         "#3A01DF",
         "#DF0101",
         "#FA5858"
        ],
        "font": {
         "color": "black",
         "family": "Courier New"
        },
        "legend": {
         "title": {
          "font": {
           "color": "green"
          }
         }
        },
        "template": {
         "data": {
          "bar": [
           {
            "error_x": {
             "color": "#2a3f5f"
            },
            "error_y": {
             "color": "#2a3f5f"
            },
            "marker": {
             "line": {
              "color": "#E5ECF6",
              "width": 0.5
             },
             "pattern": {
              "fillmode": "overlay",
              "size": 10,
              "solidity": 0.2
             }
            },
            "type": "bar"
           }
          ],
          "barpolar": [
           {
            "marker": {
             "line": {
              "color": "#E5ECF6",
              "width": 0.5
             },
             "pattern": {
              "fillmode": "overlay",
              "size": 10,
              "solidity": 0.2
             }
            },
            "type": "barpolar"
           }
          ],
          "carpet": [
           {
            "aaxis": {
             "endlinecolor": "#2a3f5f",
             "gridcolor": "white",
             "linecolor": "white",
             "minorgridcolor": "white",
             "startlinecolor": "#2a3f5f"
            },
            "baxis": {
             "endlinecolor": "#2a3f5f",
             "gridcolor": "white",
             "linecolor": "white",
             "minorgridcolor": "white",
             "startlinecolor": "#2a3f5f"
            },
            "type": "carpet"
           }
          ],
          "choropleth": [
           {
            "colorbar": {
             "outlinewidth": 0,
             "ticks": ""
            },
            "type": "choropleth"
           }
          ],
          "contour": [
           {
            "colorbar": {
             "outlinewidth": 0,
             "ticks": ""
            },
            "colorscale": [
             [
              0,
              "#0d0887"
             ],
             [
              0.1111111111111111,
              "#46039f"
             ],
             [
              0.2222222222222222,
              "#7201a8"
             ],
             [
              0.3333333333333333,
              "#9c179e"
             ],
             [
              0.4444444444444444,
              "#bd3786"
             ],
             [
              0.5555555555555556,
              "#d8576b"
             ],
             [
              0.6666666666666666,
              "#ed7953"
             ],
             [
              0.7777777777777778,
              "#fb9f3a"
             ],
             [
              0.8888888888888888,
              "#fdca26"
             ],
             [
              1,
              "#f0f921"
             ]
            ],
            "type": "contour"
           }
          ],
          "contourcarpet": [
           {
            "colorbar": {
             "outlinewidth": 0,
             "ticks": ""
            },
            "type": "contourcarpet"
           }
          ],
          "heatmap": [
           {
            "colorbar": {
             "outlinewidth": 0,
             "ticks": ""
            },
            "colorscale": [
             [
              0,
              "#0d0887"
             ],
             [
              0.1111111111111111,
              "#46039f"
             ],
             [
              0.2222222222222222,
              "#7201a8"
             ],
             [
              0.3333333333333333,
              "#9c179e"
             ],
             [
              0.4444444444444444,
              "#bd3786"
             ],
             [
              0.5555555555555556,
              "#d8576b"
             ],
             [
              0.6666666666666666,
              "#ed7953"
             ],
             [
              0.7777777777777778,
              "#fb9f3a"
             ],
             [
              0.8888888888888888,
              "#fdca26"
             ],
             [
              1,
              "#f0f921"
             ]
            ],
            "type": "heatmap"
           }
          ],
          "heatmapgl": [
           {
            "colorbar": {
             "outlinewidth": 0,
             "ticks": ""
            },
            "colorscale": [
             [
              0,
              "#0d0887"
             ],
             [
              0.1111111111111111,
              "#46039f"
             ],
             [
              0.2222222222222222,
              "#7201a8"
             ],
             [
              0.3333333333333333,
              "#9c179e"
             ],
             [
              0.4444444444444444,
              "#bd3786"
             ],
             [
              0.5555555555555556,
              "#d8576b"
             ],
             [
              0.6666666666666666,
              "#ed7953"
             ],
             [
              0.7777777777777778,
              "#fb9f3a"
             ],
             [
              0.8888888888888888,
              "#fdca26"
             ],
             [
              1,
              "#f0f921"
             ]
            ],
            "type": "heatmapgl"
           }
          ],
          "histogram": [
           {
            "marker": {
             "pattern": {
              "fillmode": "overlay",
              "size": 10,
              "solidity": 0.2
             }
            },
            "type": "histogram"
           }
          ],
          "histogram2d": [
           {
            "colorbar": {
             "outlinewidth": 0,
             "ticks": ""
            },
            "colorscale": [
             [
              0,
              "#0d0887"
             ],
             [
              0.1111111111111111,
              "#46039f"
             ],
             [
              0.2222222222222222,
              "#7201a8"
             ],
             [
              0.3333333333333333,
              "#9c179e"
             ],
             [
              0.4444444444444444,
              "#bd3786"
             ],
             [
              0.5555555555555556,
              "#d8576b"
             ],
             [
              0.6666666666666666,
              "#ed7953"
             ],
             [
              0.7777777777777778,
              "#fb9f3a"
             ],
             [
              0.8888888888888888,
              "#fdca26"
             ],
             [
              1,
              "#f0f921"
             ]
            ],
            "type": "histogram2d"
           }
          ],
          "histogram2dcontour": [
           {
            "colorbar": {
             "outlinewidth": 0,
             "ticks": ""
            },
            "colorscale": [
             [
              0,
              "#0d0887"
             ],
             [
              0.1111111111111111,
              "#46039f"
             ],
             [
              0.2222222222222222,
              "#7201a8"
             ],
             [
              0.3333333333333333,
              "#9c179e"
             ],
             [
              0.4444444444444444,
              "#bd3786"
             ],
             [
              0.5555555555555556,
              "#d8576b"
             ],
             [
              0.6666666666666666,
              "#ed7953"
             ],
             [
              0.7777777777777778,
              "#fb9f3a"
             ],
             [
              0.8888888888888888,
              "#fdca26"
             ],
             [
              1,
              "#f0f921"
             ]
            ],
            "type": "histogram2dcontour"
           }
          ],
          "mesh3d": [
           {
            "colorbar": {
             "outlinewidth": 0,
             "ticks": ""
            },
            "type": "mesh3d"
           }
          ],
          "parcoords": [
           {
            "line": {
             "colorbar": {
              "outlinewidth": 0,
              "ticks": ""
             }
            },
            "type": "parcoords"
           }
          ],
          "pie": [
           {
            "automargin": true,
            "type": "pie"
           }
          ],
          "scatter": [
           {
            "marker": {
             "colorbar": {
              "outlinewidth": 0,
              "ticks": ""
             }
            },
            "type": "scatter"
           }
          ],
          "scatter3d": [
           {
            "line": {
             "colorbar": {
              "outlinewidth": 0,
              "ticks": ""
             }
            },
            "marker": {
             "colorbar": {
              "outlinewidth": 0,
              "ticks": ""
             }
            },
            "type": "scatter3d"
           }
          ],
          "scattercarpet": [
           {
            "marker": {
             "colorbar": {
              "outlinewidth": 0,
              "ticks": ""
             }
            },
            "type": "scattercarpet"
           }
          ],
          "scattergeo": [
           {
            "marker": {
             "colorbar": {
              "outlinewidth": 0,
              "ticks": ""
             }
            },
            "type": "scattergeo"
           }
          ],
          "scattergl": [
           {
            "marker": {
             "colorbar": {
              "outlinewidth": 0,
              "ticks": ""
             }
            },
            "type": "scattergl"
           }
          ],
          "scattermapbox": [
           {
            "marker": {
             "colorbar": {
              "outlinewidth": 0,
              "ticks": ""
             }
            },
            "type": "scattermapbox"
           }
          ],
          "scatterpolar": [
           {
            "marker": {
             "colorbar": {
              "outlinewidth": 0,
              "ticks": ""
             }
            },
            "type": "scatterpolar"
           }
          ],
          "scatterpolargl": [
           {
            "marker": {
             "colorbar": {
              "outlinewidth": 0,
              "ticks": ""
             }
            },
            "type": "scatterpolargl"
           }
          ],
          "scatterternary": [
           {
            "marker": {
             "colorbar": {
              "outlinewidth": 0,
              "ticks": ""
             }
            },
            "type": "scatterternary"
           }
          ],
          "surface": [
           {
            "colorbar": {
             "outlinewidth": 0,
             "ticks": ""
            },
            "colorscale": [
             [
              0,
              "#0d0887"
             ],
             [
              0.1111111111111111,
              "#46039f"
             ],
             [
              0.2222222222222222,
              "#7201a8"
             ],
             [
              0.3333333333333333,
              "#9c179e"
             ],
             [
              0.4444444444444444,
              "#bd3786"
             ],
             [
              0.5555555555555556,
              "#d8576b"
             ],
             [
              0.6666666666666666,
              "#ed7953"
             ],
             [
              0.7777777777777778,
              "#fb9f3a"
             ],
             [
              0.8888888888888888,
              "#fdca26"
             ],
             [
              1,
              "#f0f921"
             ]
            ],
            "type": "surface"
           }
          ],
          "table": [
           {
            "cells": {
             "fill": {
              "color": "#EBF0F8"
             },
             "line": {
              "color": "white"
             }
            },
            "header": {
             "fill": {
              "color": "#C8D4E3"
             },
             "line": {
              "color": "white"
             }
            },
            "type": "table"
           }
          ]
         },
         "layout": {
          "annotationdefaults": {
           "arrowcolor": "#2a3f5f",
           "arrowhead": 0,
           "arrowwidth": 1
          },
          "autotypenumbers": "strict",
          "coloraxis": {
           "colorbar": {
            "outlinewidth": 0,
            "ticks": ""
           }
          },
          "colorscale": {
           "diverging": [
            [
             0,
             "#8e0152"
            ],
            [
             0.1,
             "#c51b7d"
            ],
            [
             0.2,
             "#de77ae"
            ],
            [
             0.3,
             "#f1b6da"
            ],
            [
             0.4,
             "#fde0ef"
            ],
            [
             0.5,
             "#f7f7f7"
            ],
            [
             0.6,
             "#e6f5d0"
            ],
            [
             0.7,
             "#b8e186"
            ],
            [
             0.8,
             "#7fbc41"
            ],
            [
             0.9,
             "#4d9221"
            ],
            [
             1,
             "#276419"
            ]
           ],
           "sequential": [
            [
             0,
             "#0d0887"
            ],
            [
             0.1111111111111111,
             "#46039f"
            ],
            [
             0.2222222222222222,
             "#7201a8"
            ],
            [
             0.3333333333333333,
             "#9c179e"
            ],
            [
             0.4444444444444444,
             "#bd3786"
            ],
            [
             0.5555555555555556,
             "#d8576b"
            ],
            [
             0.6666666666666666,
             "#ed7953"
            ],
            [
             0.7777777777777778,
             "#fb9f3a"
            ],
            [
             0.8888888888888888,
             "#fdca26"
            ],
            [
             1,
             "#f0f921"
            ]
           ],
           "sequentialminus": [
            [
             0,
             "#0d0887"
            ],
            [
             0.1111111111111111,
             "#46039f"
            ],
            [
             0.2222222222222222,
             "#7201a8"
            ],
            [
             0.3333333333333333,
             "#9c179e"
            ],
            [
             0.4444444444444444,
             "#bd3786"
            ],
            [
             0.5555555555555556,
             "#d8576b"
            ],
            [
             0.6666666666666666,
             "#ed7953"
            ],
            [
             0.7777777777777778,
             "#fb9f3a"
            ],
            [
             0.8888888888888888,
             "#fdca26"
            ],
            [
             1,
             "#f0f921"
            ]
           ]
          },
          "colorway": [
           "#636efa",
           "#EF553B",
           "#00cc96",
           "#ab63fa",
           "#FFA15A",
           "#19d3f3",
           "#FF6692",
           "#B6E880",
           "#FF97FF",
           "#FECB52"
          ],
          "font": {
           "color": "#2a3f5f"
          },
          "geo": {
           "bgcolor": "white",
           "lakecolor": "white",
           "landcolor": "#E5ECF6",
           "showlakes": true,
           "showland": true,
           "subunitcolor": "white"
          },
          "hoverlabel": {
           "align": "left"
          },
          "hovermode": "closest",
          "mapbox": {
           "style": "light"
          },
          "paper_bgcolor": "white",
          "plot_bgcolor": "#E5ECF6",
          "polar": {
           "angularaxis": {
            "gridcolor": "white",
            "linecolor": "white",
            "ticks": ""
           },
           "bgcolor": "#E5ECF6",
           "radialaxis": {
            "gridcolor": "white",
            "linecolor": "white",
            "ticks": ""
           }
          },
          "scene": {
           "xaxis": {
            "backgroundcolor": "#E5ECF6",
            "gridcolor": "white",
            "gridwidth": 2,
            "linecolor": "white",
            "showbackground": true,
            "ticks": "",
            "zerolinecolor": "white"
           },
           "yaxis": {
            "backgroundcolor": "#E5ECF6",
            "gridcolor": "white",
            "gridwidth": 2,
            "linecolor": "white",
            "showbackground": true,
            "ticks": "",
            "zerolinecolor": "white"
           },
           "zaxis": {
            "backgroundcolor": "#E5ECF6",
            "gridcolor": "white",
            "gridwidth": 2,
            "linecolor": "white",
            "showbackground": true,
            "ticks": "",
            "zerolinecolor": "white"
           }
          },
          "shapedefaults": {
           "line": {
            "color": "#2a3f5f"
           }
          },
          "ternary": {
           "aaxis": {
            "gridcolor": "white",
            "linecolor": "white",
            "ticks": ""
           },
           "baxis": {
            "gridcolor": "white",
            "linecolor": "white",
            "ticks": ""
           },
           "bgcolor": "#E5ECF6",
           "caxis": {
            "gridcolor": "white",
            "linecolor": "white",
            "ticks": ""
           }
          },
          "title": {
           "x": 0.05
          },
          "xaxis": {
           "automargin": true,
           "gridcolor": "white",
           "linecolor": "white",
           "ticks": "",
           "title": {
            "standoff": 15
           },
           "zerolinecolor": "white",
           "zerolinewidth": 2
          },
          "yaxis": {
           "automargin": true,
           "gridcolor": "white",
           "linecolor": "white",
           "ticks": "",
           "title": {
            "standoff": 15
           },
           "zerolinecolor": "white",
           "zerolinewidth": 2
          }
         }
        },
        "title": {
         "font": {
          "color": "black",
          "family": "Bahnschrift Light"
         },
         "text": "Time Consuming Products"
        },
        "xaxis": {
         "categoryorder": "category ascending",
         "title": {
          "font": {
           "family": "Candara Light"
          },
          "text": "Product"
         }
        },
        "yaxis": {
         "title": {
          "font": {
           "family": "Candara Light"
          },
          "text": "Number of Products & Qunatity sold (gms)"
         }
        }
       }
      },
      "text/html": [
       "<div>                            <div id=\"088e2ad2-75d8-4a76-b406-d604407146f9\" class=\"plotly-graph-div\" style=\"height:525px; width:100%;\"></div>            <script type=\"text/javascript\">                require([\"plotly\"], function(Plotly) {                    window.PLOTLYENV=window.PLOTLYENV || {};                                    if (document.getElementById(\"088e2ad2-75d8-4a76-b406-d604407146f9\")) {                    Plotly.newPlot(                        \"088e2ad2-75d8-4a76-b406-d604407146f9\",                        [{\"name\":\"Number of products\",\"type\":\"scatter\",\"x\":[\"A\",\"B\",\"C\",\"D\",\"Q\",\"R\",\"S\",\"T\"],\"y\":[87336,205143,324747,89750,22144,10632,15880,11333]},{\"name\":\"Quantity Sold Kgs\",\"type\":\"scatter\",\"x\":[\"A\",\"B\",\"C\",\"D\",\"Q\",\"R\",\"S\",\"T\"],\"y\":[262000,718000,1234000,359000,1218000,606000,921000,680000]}],                        {\"colorway\":[\"#3A01DF\",\"#DF0101\",\"#FA5858\"],\"font\":{\"color\":\"black\",\"family\":\"Courier New\"},\"legend\":{\"title\":{\"font\":{\"color\":\"green\"}}},\"template\":{\"data\":{\"bar\":[{\"error_x\":{\"color\":\"#2a3f5f\"},\"error_y\":{\"color\":\"#2a3f5f\"},\"marker\":{\"line\":{\"color\":\"#E5ECF6\",\"width\":0.5},\"pattern\":{\"fillmode\":\"overlay\",\"size\":10,\"solidity\":0.2}},\"type\":\"bar\"}],\"barpolar\":[{\"marker\":{\"line\":{\"color\":\"#E5ECF6\",\"width\":0.5},\"pattern\":{\"fillmode\":\"overlay\",\"size\":10,\"solidity\":0.2}},\"type\":\"barpolar\"}],\"carpet\":[{\"aaxis\":{\"endlinecolor\":\"#2a3f5f\",\"gridcolor\":\"white\",\"linecolor\":\"white\",\"minorgridcolor\":\"white\",\"startlinecolor\":\"#2a3f5f\"},\"baxis\":{\"endlinecolor\":\"#2a3f5f\",\"gridcolor\":\"white\",\"linecolor\":\"white\",\"minorgridcolor\":\"white\",\"startlinecolor\":\"#2a3f5f\"},\"type\":\"carpet\"}],\"choropleth\":[{\"colorbar\":{\"outlinewidth\":0,\"ticks\":\"\"},\"type\":\"choropleth\"}],\"contour\":[{\"colorbar\":{\"outlinewidth\":0,\"ticks\":\"\"},\"colorscale\":[[0.0,\"#0d0887\"],[0.1111111111111111,\"#46039f\"],[0.2222222222222222,\"#7201a8\"],[0.3333333333333333,\"#9c179e\"],[0.4444444444444444,\"#bd3786\"],[0.5555555555555556,\"#d8576b\"],[0.6666666666666666,\"#ed7953\"],[0.7777777777777778,\"#fb9f3a\"],[0.8888888888888888,\"#fdca26\"],[1.0,\"#f0f921\"]],\"type\":\"contour\"}],\"contourcarpet\":[{\"colorbar\":{\"outlinewidth\":0,\"ticks\":\"\"},\"type\":\"contourcarpet\"}],\"heatmap\":[{\"colorbar\":{\"outlinewidth\":0,\"ticks\":\"\"},\"colorscale\":[[0.0,\"#0d0887\"],[0.1111111111111111,\"#46039f\"],[0.2222222222222222,\"#7201a8\"],[0.3333333333333333,\"#9c179e\"],[0.4444444444444444,\"#bd3786\"],[0.5555555555555556,\"#d8576b\"],[0.6666666666666666,\"#ed7953\"],[0.7777777777777778,\"#fb9f3a\"],[0.8888888888888888,\"#fdca26\"],[1.0,\"#f0f921\"]],\"type\":\"heatmap\"}],\"heatmapgl\":[{\"colorbar\":{\"outlinewidth\":0,\"ticks\":\"\"},\"colorscale\":[[0.0,\"#0d0887\"],[0.1111111111111111,\"#46039f\"],[0.2222222222222222,\"#7201a8\"],[0.3333333333333333,\"#9c179e\"],[0.4444444444444444,\"#bd3786\"],[0.5555555555555556,\"#d8576b\"],[0.6666666666666666,\"#ed7953\"],[0.7777777777777778,\"#fb9f3a\"],[0.8888888888888888,\"#fdca26\"],[1.0,\"#f0f921\"]],\"type\":\"heatmapgl\"}],\"histogram\":[{\"marker\":{\"pattern\":{\"fillmode\":\"overlay\",\"size\":10,\"solidity\":0.2}},\"type\":\"histogram\"}],\"histogram2d\":[{\"colorbar\":{\"outlinewidth\":0,\"ticks\":\"\"},\"colorscale\":[[0.0,\"#0d0887\"],[0.1111111111111111,\"#46039f\"],[0.2222222222222222,\"#7201a8\"],[0.3333333333333333,\"#9c179e\"],[0.4444444444444444,\"#bd3786\"],[0.5555555555555556,\"#d8576b\"],[0.6666666666666666,\"#ed7953\"],[0.7777777777777778,\"#fb9f3a\"],[0.8888888888888888,\"#fdca26\"],[1.0,\"#f0f921\"]],\"type\":\"histogram2d\"}],\"histogram2dcontour\":[{\"colorbar\":{\"outlinewidth\":0,\"ticks\":\"\"},\"colorscale\":[[0.0,\"#0d0887\"],[0.1111111111111111,\"#46039f\"],[0.2222222222222222,\"#7201a8\"],[0.3333333333333333,\"#9c179e\"],[0.4444444444444444,\"#bd3786\"],[0.5555555555555556,\"#d8576b\"],[0.6666666666666666,\"#ed7953\"],[0.7777777777777778,\"#fb9f3a\"],[0.8888888888888888,\"#fdca26\"],[1.0,\"#f0f921\"]],\"type\":\"histogram2dcontour\"}],\"mesh3d\":[{\"colorbar\":{\"outlinewidth\":0,\"ticks\":\"\"},\"type\":\"mesh3d\"}],\"parcoords\":[{\"line\":{\"colorbar\":{\"outlinewidth\":0,\"ticks\":\"\"}},\"type\":\"parcoords\"}],\"pie\":[{\"automargin\":true,\"type\":\"pie\"}],\"scatter\":[{\"marker\":{\"colorbar\":{\"outlinewidth\":0,\"ticks\":\"\"}},\"type\":\"scatter\"}],\"scatter3d\":[{\"line\":{\"colorbar\":{\"outlinewidth\":0,\"ticks\":\"\"}},\"marker\":{\"colorbar\":{\"outlinewidth\":0,\"ticks\":\"\"}},\"type\":\"scatter3d\"}],\"scattercarpet\":[{\"marker\":{\"colorbar\":{\"outlinewidth\":0,\"ticks\":\"\"}},\"type\":\"scattercarpet\"}],\"scattergeo\":[{\"marker\":{\"colorbar\":{\"outlinewidth\":0,\"ticks\":\"\"}},\"type\":\"scattergeo\"}],\"scattergl\":[{\"marker\":{\"colorbar\":{\"outlinewidth\":0,\"ticks\":\"\"}},\"type\":\"scattergl\"}],\"scattermapbox\":[{\"marker\":{\"colorbar\":{\"outlinewidth\":0,\"ticks\":\"\"}},\"type\":\"scattermapbox\"}],\"scatterpolar\":[{\"marker\":{\"colorbar\":{\"outlinewidth\":0,\"ticks\":\"\"}},\"type\":\"scatterpolar\"}],\"scatterpolargl\":[{\"marker\":{\"colorbar\":{\"outlinewidth\":0,\"ticks\":\"\"}},\"type\":\"scatterpolargl\"}],\"scatterternary\":[{\"marker\":{\"colorbar\":{\"outlinewidth\":0,\"ticks\":\"\"}},\"type\":\"scatterternary\"}],\"surface\":[{\"colorbar\":{\"outlinewidth\":0,\"ticks\":\"\"},\"colorscale\":[[0.0,\"#0d0887\"],[0.1111111111111111,\"#46039f\"],[0.2222222222222222,\"#7201a8\"],[0.3333333333333333,\"#9c179e\"],[0.4444444444444444,\"#bd3786\"],[0.5555555555555556,\"#d8576b\"],[0.6666666666666666,\"#ed7953\"],[0.7777777777777778,\"#fb9f3a\"],[0.8888888888888888,\"#fdca26\"],[1.0,\"#f0f921\"]],\"type\":\"surface\"}],\"table\":[{\"cells\":{\"fill\":{\"color\":\"#EBF0F8\"},\"line\":{\"color\":\"white\"}},\"header\":{\"fill\":{\"color\":\"#C8D4E3\"},\"line\":{\"color\":\"white\"}},\"type\":\"table\"}]},\"layout\":{\"annotationdefaults\":{\"arrowcolor\":\"#2a3f5f\",\"arrowhead\":0,\"arrowwidth\":1},\"autotypenumbers\":\"strict\",\"coloraxis\":{\"colorbar\":{\"outlinewidth\":0,\"ticks\":\"\"}},\"colorscale\":{\"diverging\":[[0,\"#8e0152\"],[0.1,\"#c51b7d\"],[0.2,\"#de77ae\"],[0.3,\"#f1b6da\"],[0.4,\"#fde0ef\"],[0.5,\"#f7f7f7\"],[0.6,\"#e6f5d0\"],[0.7,\"#b8e186\"],[0.8,\"#7fbc41\"],[0.9,\"#4d9221\"],[1,\"#276419\"]],\"sequential\":[[0.0,\"#0d0887\"],[0.1111111111111111,\"#46039f\"],[0.2222222222222222,\"#7201a8\"],[0.3333333333333333,\"#9c179e\"],[0.4444444444444444,\"#bd3786\"],[0.5555555555555556,\"#d8576b\"],[0.6666666666666666,\"#ed7953\"],[0.7777777777777778,\"#fb9f3a\"],[0.8888888888888888,\"#fdca26\"],[1.0,\"#f0f921\"]],\"sequentialminus\":[[0.0,\"#0d0887\"],[0.1111111111111111,\"#46039f\"],[0.2222222222222222,\"#7201a8\"],[0.3333333333333333,\"#9c179e\"],[0.4444444444444444,\"#bd3786\"],[0.5555555555555556,\"#d8576b\"],[0.6666666666666666,\"#ed7953\"],[0.7777777777777778,\"#fb9f3a\"],[0.8888888888888888,\"#fdca26\"],[1.0,\"#f0f921\"]]},\"colorway\":[\"#636efa\",\"#EF553B\",\"#00cc96\",\"#ab63fa\",\"#FFA15A\",\"#19d3f3\",\"#FF6692\",\"#B6E880\",\"#FF97FF\",\"#FECB52\"],\"font\":{\"color\":\"#2a3f5f\"},\"geo\":{\"bgcolor\":\"white\",\"lakecolor\":\"white\",\"landcolor\":\"#E5ECF6\",\"showlakes\":true,\"showland\":true,\"subunitcolor\":\"white\"},\"hoverlabel\":{\"align\":\"left\"},\"hovermode\":\"closest\",\"mapbox\":{\"style\":\"light\"},\"paper_bgcolor\":\"white\",\"plot_bgcolor\":\"#E5ECF6\",\"polar\":{\"angularaxis\":{\"gridcolor\":\"white\",\"linecolor\":\"white\",\"ticks\":\"\"},\"bgcolor\":\"#E5ECF6\",\"radialaxis\":{\"gridcolor\":\"white\",\"linecolor\":\"white\",\"ticks\":\"\"}},\"scene\":{\"xaxis\":{\"backgroundcolor\":\"#E5ECF6\",\"gridcolor\":\"white\",\"gridwidth\":2,\"linecolor\":\"white\",\"showbackground\":true,\"ticks\":\"\",\"zerolinecolor\":\"white\"},\"yaxis\":{\"backgroundcolor\":\"#E5ECF6\",\"gridcolor\":\"white\",\"gridwidth\":2,\"linecolor\":\"white\",\"showbackground\":true,\"ticks\":\"\",\"zerolinecolor\":\"white\"},\"zaxis\":{\"backgroundcolor\":\"#E5ECF6\",\"gridcolor\":\"white\",\"gridwidth\":2,\"linecolor\":\"white\",\"showbackground\":true,\"ticks\":\"\",\"zerolinecolor\":\"white\"}},\"shapedefaults\":{\"line\":{\"color\":\"#2a3f5f\"}},\"ternary\":{\"aaxis\":{\"gridcolor\":\"white\",\"linecolor\":\"white\",\"ticks\":\"\"},\"baxis\":{\"gridcolor\":\"white\",\"linecolor\":\"white\",\"ticks\":\"\"},\"bgcolor\":\"#E5ECF6\",\"caxis\":{\"gridcolor\":\"white\",\"linecolor\":\"white\",\"ticks\":\"\"}},\"title\":{\"x\":0.05},\"xaxis\":{\"automargin\":true,\"gridcolor\":\"white\",\"linecolor\":\"white\",\"ticks\":\"\",\"title\":{\"standoff\":15},\"zerolinecolor\":\"white\",\"zerolinewidth\":2},\"yaxis\":{\"automargin\":true,\"gridcolor\":\"white\",\"linecolor\":\"white\",\"ticks\":\"\",\"title\":{\"standoff\":15},\"zerolinecolor\":\"white\",\"zerolinewidth\":2}}},\"title\":{\"font\":{\"color\":\"black\",\"family\":\"Bahnschrift Light\"},\"text\":\"Time Consuming Products\"},\"xaxis\":{\"categoryorder\":\"category ascending\",\"title\":{\"font\":{\"family\":\"Candara Light\"},\"text\":\"Product\"}},\"yaxis\":{\"title\":{\"font\":{\"family\":\"Candara Light\"},\"text\":\"Number of Products & Qunatity sold (gms)\"}}},                        {\"responsive\": true}                    ).then(function(){\n",
       "                            \n",
       "var gd = document.getElementById('088e2ad2-75d8-4a76-b406-d604407146f9');\n",
       "var x = new MutationObserver(function (mutations, observer) {{\n",
       "        var display = window.getComputedStyle(gd).display;\n",
       "        if (!display || display === 'none') {{\n",
       "            console.log([gd, 'removed!']);\n",
       "            Plotly.purge(gd);\n",
       "            observer.disconnect();\n",
       "        }}\n",
       "}});\n",
       "\n",
       "// Listen for the removal of the full notebook cells\n",
       "var notebookContainer = gd.closest('#notebook-container');\n",
       "if (notebookContainer) {{\n",
       "    x.observe(notebookContainer, {childList: true});\n",
       "}}\n",
       "\n",
       "// Listen for the clearing of the current output cell\n",
       "var outputEl = gd.closest('.output');\n",
       "if (outputEl) {{\n",
       "    x.observe(outputEl, {childList: true});\n",
       "}}\n",
       "\n",
       "                        })                };                });            </script>        </div>"
      ]
     },
     "metadata": {},
     "output_type": "display_data"
    }
   ],
   "source": [
    "import plotly\n",
    "fig = go.Figure()\n",
    "fig.add_trace(go.Scatter( x = data1[\"Size\"] , y=data1[\"Number of products\"], name = \"Number of products\" ))\n",
    "fig.add_trace(go.Scatter( x = data1[\"Size\"] , y=data1[\"Quantity Sold gms\"], name=\"Quantity Sold Kgs\"))\n",
    "\n",
    "fig.update_xaxes(categoryorder='category ascending')\n",
    "\n",
    "fig.update_layout(colorway =  ['#3A01DF', '#DF0101' , \"#FA5858\"])\n",
    "\n",
    "fig.update_xaxes(title = \"Product\" , title_font_family=\"Candara Light\")\n",
    "fig.update_yaxes(title = \"Number of Products & Qunatity sold (gms)\" , title_font_family=\"Candara Light\")\n",
    "\n",
    "fig.update_layout(\n",
    "    title = \"Time Consuming Products\",\n",
    "    font_family=\"Courier New\",\n",
    "    font_color=\"black\",\n",
    "    title_font_family=\"Bahnschrift Light\",\n",
    "    title_font_color=\"black\",\n",
    "    legend_title_font_color=\"green\"\n",
    ")\n",
    "\n",
    "\n",
    "\n",
    "plotly.offline.plot(fig, filename=os.getcwd()+ \"\\\\files\" + \".html\")\n",
    "\n",
    "fig.show(render_mode = 'png')\n"
   ]
  },
  {
   "cell_type": "code",
   "execution_count": 106,
   "metadata": {},
   "outputs": [
    {
     "data": {
      "text/plain": [
       "Text(0.5, 1.0, 'Product Sales per Hour')"
      ]
     },
     "execution_count": 106,
     "metadata": {},
     "output_type": "execute_result"
    },
    {
     "data": {
      "image/png": "[encoded data removed]",
      "text/plain": [
       "<Figure size 432x288 with 1 Axes>"
      ]
     },
     "metadata": {
      "needs_background": "light"
     },
     "output_type": "display_data"
    }
   ],
   "source": [
    "sns.lineplot(x = data1[\"Size\"] , y=data1[\"Number of products\"] , data =data1).set_title(\"Product Sales per Hour\")"
   ]
  },
  {
   "cell_type": "code",
   "execution_count": 105,
   "metadata": {},
   "outputs": [
    {
     "data": {
      "application/vnd.plotly.v1+json": {
       "config": {
        "plotlyServerURL": "https://plot.ly"
       },
       "data": [
        {
         "name": "Number of products",
         "type": "bar",
         "x": [
          "A",
          "B",
          "C",
          "D",
          "Q",
          "R",
          "S",
          "T"
         ],
         "y": [
          87336,
          205143,
          324747,
          89750,
          22144,
          10632,
          15880,
          11333
         ]
        },
        {
         "name": "Quantity Sold Kgs",
         "type": "bar",
         "x": [
          "A",
          "B",
          "C",
          "D",
          "Q",
          "R",
          "S",
          "T"
         ],
         "y": [
          262000,
          718000,
          1234000,
          359000,
          1218000,
          606000,
          921000,
          680000
         ]
        }
       ],
       "layout": {
        "template": {
         "data": {
          "bar": [
           {
            "error_x": {
             "color": "#2a3f5f"
            },
            "error_y": {
             "color": "#2a3f5f"
            },
            "marker": {
             "line": {
              "color": "#E5ECF6",
              "width": 0.5
             },
             "pattern": {
              "fillmode": "overlay",
              "size": 10,
              "solidity": 0.2
             }
            },
            "type": "bar"
           }
          ],
          "barpolar": [
           {
            "marker": {
             "line": {
              "color": "#E5ECF6",
              "width": 0.5
             },
             "pattern": {
              "fillmode": "overlay",
              "size": 10,
              "solidity": 0.2
             }
            },
            "type": "barpolar"
           }
          ],
          "carpet": [
           {
            "aaxis": {
             "endlinecolor": "#2a3f5f",
             "gridcolor": "white",
             "linecolor": "white",
             "minorgridcolor": "white",
             "startlinecolor": "#2a3f5f"
            },
            "baxis": {
             "endlinecolor": "#2a3f5f",
             "gridcolor": "white",
             "linecolor": "white",
             "minorgridcolor": "white",
             "startlinecolor": "#2a3f5f"
            },
            "type": "carpet"
           }
          ],
          "choropleth": [
           {
            "colorbar": {
             "outlinewidth": 0,
             "ticks": ""
            },
            "type": "choropleth"
           }
          ],
          "contour": [
           {
            "colorbar": {
             "outlinewidth": 0,
             "ticks": ""
            },
            "colorscale": [
             [
              0,
              "#0d0887"
             ],
             [
              0.1111111111111111,
              "#46039f"
             ],
             [
              0.2222222222222222,
              "#7201a8"
             ],
             [
              0.3333333333333333,
              "#9c179e"
             ],
             [
              0.4444444444444444,
              "#bd3786"
             ],
             [
              0.5555555555555556,
              "#d8576b"
             ],
             [
              0.6666666666666666,
              "#ed7953"
             ],
             [
              0.7777777777777778,
              "#fb9f3a"
             ],
             [
              0.8888888888888888,
              "#fdca26"
             ],
             [
              1,
              "#f0f921"
             ]
            ],
            "type": "contour"
           }
          ],
          "contourcarpet": [
           {
            "colorbar": {
             "outlinewidth": 0,
             "ticks": ""
            },
            "type": "contourcarpet"
           }
          ],
          "heatmap": [
           {
            "colorbar": {
             "outlinewidth": 0,
             "ticks": ""
            },
            "colorscale": [
             [
              0,
              "#0d0887"
             ],
             [
              0.1111111111111111,
              "#46039f"
             ],
             [
              0.2222222222222222,
              "#7201a8"
             ],
             [
              0.3333333333333333,
              "#9c179e"
             ],
             [
              0.4444444444444444,
              "#bd3786"
             ],
             [
              0.5555555555555556,
              "#d8576b"
             ],
             [
              0.6666666666666666,
              "#ed7953"
             ],
             [
              0.7777777777777778,
              "#fb9f3a"
             ],
             [
              0.8888888888888888,
              "#fdca26"
             ],
             [
              1,
              "#f0f921"
             ]
            ],
            "type": "heatmap"
           }
          ],
          "heatmapgl": [
           {
            "colorbar": {
             "outlinewidth": 0,
             "ticks": ""
            },
            "colorscale": [
             [
              0,
              "#0d0887"
             ],
             [
              0.1111111111111111,
              "#46039f"
             ],
             [
              0.2222222222222222,
              "#7201a8"
             ],
             [
              0.3333333333333333,
              "#9c179e"
             ],
             [
              0.4444444444444444,
              "#bd3786"
             ],
             [
              0.5555555555555556,
              "#d8576b"
             ],
             [
              0.6666666666666666,
              "#ed7953"
             ],
             [
              0.7777777777777778,
              "#fb9f3a"
             ],
             [
              0.8888888888888888,
              "#fdca26"
             ],
             [
              1,
              "#f0f921"
             ]
            ],
            "type": "heatmapgl"
           }
          ],
          "histogram": [
           {
            "marker": {
             "pattern": {
              "fillmode": "overlay",
              "size": 10,
              "solidity": 0.2
             }
            },
            "type": "histogram"
           }
          ],
          "histogram2d": [
           {
            "colorbar": {
             "outlinewidth": 0,
             "ticks": ""
            },
            "colorscale": [
             [
              0,
              "#0d0887"
             ],
             [
              0.1111111111111111,
              "#46039f"
             ],
             [
              0.2222222222222222,
              "#7201a8"
             ],
             [
              0.3333333333333333,
              "#9c179e"
             ],
             [
              0.4444444444444444,
              "#bd3786"
             ],
             [
              0.5555555555555556,
              "#d8576b"
             ],
             [
              0.6666666666666666,
              "#ed7953"
             ],
             [
              0.7777777777777778,
              "#fb9f3a"
             ],
             [
              0.8888888888888888,
              "#fdca26"
             ],
             [
              1,
              "#f0f921"
             ]
            ],
            "type": "histogram2d"
           }
          ],
          "histogram2dcontour": [
           {
            "colorbar": {
             "outlinewidth": 0,
             "ticks": ""
            },
            "colorscale": [
             [
              0,
              "#0d0887"
             ],
             [
              0.1111111111111111,
              "#46039f"
             ],
             [
              0.2222222222222222,
              "#7201a8"
             ],
             [
              0.3333333333333333,
              "#9c179e"
             ],
             [
              0.4444444444444444,
              "#bd3786"
             ],
             [
              0.5555555555555556,
              "#d8576b"
             ],
             [
              0.6666666666666666,
              "#ed7953"
             ],
             [
              0.7777777777777778,
              "#fb9f3a"
             ],
             [
              0.8888888888888888,
              "#fdca26"
             ],
             [
              1,
              "#f0f921"
             ]
            ],
            "type": "histogram2dcontour"
           }
          ],
          "mesh3d": [
           {
            "colorbar": {
             "outlinewidth": 0,
             "ticks": ""
            },
            "type": "mesh3d"
           }
          ],
          "parcoords": [
           {
            "line": {
             "colorbar": {
              "outlinewidth": 0,
              "ticks": ""
             }
            },
            "type": "parcoords"
           }
          ],
          "pie": [
           {
            "automargin": true,
            "type": "pie"
           }
          ],
          "scatter": [
           {
            "marker": {
             "colorbar": {
              "outlinewidth": 0,
              "ticks": ""
             }
            },
            "type": "scatter"
           }
          ],
          "scatter3d": [
           {
            "line": {
             "colorbar": {
              "outlinewidth": 0,
              "ticks": ""
             }
            },
            "marker": {
             "colorbar": {
              "outlinewidth": 0,
              "ticks": ""
             }
            },
            "type": "scatter3d"
           }
          ],
          "scattercarpet": [
           {
            "marker": {
             "colorbar": {
              "outlinewidth": 0,
              "ticks": ""
             }
            },
            "type": "scattercarpet"
           }
          ],
          "scattergeo": [
           {
            "marker": {
             "colorbar": {
              "outlinewidth": 0,
              "ticks": ""
             }
            },
            "type": "scattergeo"
           }
          ],
          "scattergl": [
           {
            "marker": {
             "colorbar": {
              "outlinewidth": 0,
              "ticks": ""
             }
            },
            "type": "scattergl"
           }
          ],
          "scattermapbox": [
           {
            "marker": {
             "colorbar": {
              "outlinewidth": 0,
              "ticks": ""
             }
            },
            "type": "scattermapbox"
           }
          ],
          "scatterpolar": [
           {
            "marker": {
             "colorbar": {
              "outlinewidth": 0,
              "ticks": ""
             }
            },
            "type": "scatterpolar"
           }
          ],
          "scatterpolargl": [
           {
            "marker": {
             "colorbar": {
              "outlinewidth": 0,
              "ticks": ""
             }
            },
            "type": "scatterpolargl"
           }
          ],
          "scatterternary": [
           {
            "marker": {
             "colorbar": {
              "outlinewidth": 0,
              "ticks": ""
             }
            },
            "type": "scatterternary"
           }
          ],
          "surface": [
           {
            "colorbar": {
             "outlinewidth": 0,
             "ticks": ""
            },
            "colorscale": [
             [
              0,
              "#0d0887"
             ],
             [
              0.1111111111111111,
              "#46039f"
             ],
             [
              0.2222222222222222,
              "#7201a8"
             ],
             [
              0.3333333333333333,
              "#9c179e"
             ],
             [
              0.4444444444444444,
              "#bd3786"
             ],
             [
              0.5555555555555556,
              "#d8576b"
             ],
             [
              0.6666666666666666,
              "#ed7953"
             ],
             [
              0.7777777777777778,
              "#fb9f3a"
             ],
             [
              0.8888888888888888,
              "#fdca26"
             ],
             [
              1,
              "#f0f921"
             ]
            ],
            "type": "surface"
           }
          ],
          "table": [
           {
            "cells": {
             "fill": {
              "color": "#EBF0F8"
             },
             "line": {
              "color": "white"
             }
            },
            "header": {
             "fill": {
              "color": "#C8D4E3"
             },
             "line": {
              "color": "white"
             }
            },
            "type": "table"
           }
          ]
         },
         "layout": {
          "annotationdefaults": {
           "arrowcolor": "#2a3f5f",
           "arrowhead": 0,
           "arrowwidth": 1
          },
          "autotypenumbers": "strict",
          "coloraxis": {
           "colorbar": {
            "outlinewidth": 0,
            "ticks": ""
           }
          },
          "colorscale": {
           "diverging": [
            [
             0,
             "#8e0152"
            ],
            [
             0.1,
             "#c51b7d"
            ],
            [
             0.2,
             "#de77ae"
            ],
            [
             0.3,
             "#f1b6da"
            ],
            [
             0.4,
             "#fde0ef"
            ],
            [
             0.5,
             "#f7f7f7"
            ],
            [
             0.6,
             "#e6f5d0"
            ],
            [
             0.7,
             "#b8e186"
            ],
            [
             0.8,
             "#7fbc41"
            ],
            [
             0.9,
             "#4d9221"
            ],
            [
             1,
             "#276419"
            ]
           ],
           "sequential": [
            [
             0,
             "#0d0887"
            ],
            [
             0.1111111111111111,
             "#46039f"
            ],
            [
             0.2222222222222222,
             "#7201a8"
            ],
            [
             0.3333333333333333,
             "#9c179e"
            ],
            [
             0.4444444444444444,
             "#bd3786"
            ],
            [
             0.5555555555555556,
             "#d8576b"
            ],
            [
             0.6666666666666666,
             "#ed7953"
            ],
            [
             0.7777777777777778,
             "#fb9f3a"
            ],
            [
             0.8888888888888888,
             "#fdca26"
            ],
            [
             1,
             "#f0f921"
            ]
           ],
           "sequentialminus": [
            [
             0,
             "#0d0887"
            ],
            [
             0.1111111111111111,
             "#46039f"
            ],
            [
             0.2222222222222222,
             "#7201a8"
            ],
            [
             0.3333333333333333,
             "#9c179e"
            ],
            [
             0.4444444444444444,
             "#bd3786"
            ],
            [
             0.5555555555555556,
             "#d8576b"
            ],
            [
             0.6666666666666666,
             "#ed7953"
            ],
            [
             0.7777777777777778,
             "#fb9f3a"
            ],
            [
             0.8888888888888888,
             "#fdca26"
            ],
            [
             1,
             "#f0f921"
            ]
           ]
          },
          "colorway": [
           "#636efa",
           "#EF553B",
           "#00cc96",
           "#ab63fa",
           "#FFA15A",
           "#19d3f3",
           "#FF6692",
           "#B6E880",
           "#FF97FF",
           "#FECB52"
          ],
          "font": {
           "color": "#2a3f5f"
          },
          "geo": {
           "bgcolor": "white",
           "lakecolor": "white",
           "landcolor": "#E5ECF6",
           "showlakes": true,
           "showland": true,
           "subunitcolor": "white"
          },
          "hoverlabel": {
           "align": "left"
          },
          "hovermode": "closest",
          "mapbox": {
           "style": "light"
          },
          "paper_bgcolor": "white",
          "plot_bgcolor": "#E5ECF6",
          "polar": {
           "angularaxis": {
            "gridcolor": "white",
            "linecolor": "white",
            "ticks": ""
           },
           "bgcolor": "#E5ECF6",
           "radialaxis": {
            "gridcolor": "white",
            "linecolor": "white",
            "ticks": ""
           }
          },
          "scene": {
           "xaxis": {
            "backgroundcolor": "#E5ECF6",
            "gridcolor": "white",
            "gridwidth": 2,
            "linecolor": "white",
            "showbackground": true,
            "ticks": "",
            "zerolinecolor": "white"
           },
           "yaxis": {
            "backgroundcolor": "#E5ECF6",
            "gridcolor": "white",
            "gridwidth": 2,
            "linecolor": "white",
            "showbackground": true,
            "ticks": "",
            "zerolinecolor": "white"
           },
           "zaxis": {
            "backgroundcolor": "#E5ECF6",
            "gridcolor": "white",
            "gridwidth": 2,
            "linecolor": "white",
            "showbackground": true,
            "ticks": "",
            "zerolinecolor": "white"
           }
          },
          "shapedefaults": {
           "line": {
            "color": "#2a3f5f"
           }
          },
          "ternary": {
           "aaxis": {
            "gridcolor": "white",
            "linecolor": "white",
            "ticks": ""
           },
           "baxis": {
            "gridcolor": "white",
            "linecolor": "white",
            "ticks": ""
           },
           "bgcolor": "#E5ECF6",
           "caxis": {
            "gridcolor": "white",
            "linecolor": "white",
            "ticks": ""
           }
          },
          "title": {
           "x": 0.05
          },
          "xaxis": {
           "automargin": true,
           "gridcolor": "white",
           "linecolor": "white",
           "ticks": "",
           "title": {
            "standoff": 15
           },
           "zerolinecolor": "white",
           "zerolinewidth": 2
          },
          "yaxis": {
           "automargin": true,
           "gridcolor": "white",
           "linecolor": "white",
           "ticks": "",
           "title": {
            "standoff": 15
           },
           "zerolinecolor": "white",
           "zerolinewidth": 2
          }
         }
        }
       }
      },
      "text/html": [
       "<div>                            <div id=\"99f58ea1-4d5b-46dc-8bfe-e29b61da98f2\" class=\"plotly-graph-div\" style=\"height:525px; width:100%;\"></div>            <script type=\"text/javascript\">                require([\"plotly\"], function(Plotly) {                    window.PLOTLYENV=window.PLOTLYENV || {};                                    if (document.getElementById(\"99f58ea1-4d5b-46dc-8bfe-e29b61da98f2\")) {                    Plotly.newPlot(                        \"99f58ea1-4d5b-46dc-8bfe-e29b61da98f2\",                        [{\"name\":\"Number of products\",\"type\":\"bar\",\"x\":[\"A\",\"B\",\"C\",\"D\",\"Q\",\"R\",\"S\",\"T\"],\"y\":[87336,205143,324747,89750,22144,10632,15880,11333]},{\"name\":\"Quantity Sold Kgs\",\"type\":\"bar\",\"x\":[\"A\",\"B\",\"C\",\"D\",\"Q\",\"R\",\"S\",\"T\"],\"y\":[262000,718000,1234000,359000,1218000,606000,921000,680000]}],                        {\"template\":{\"data\":{\"bar\":[{\"error_x\":{\"color\":\"#2a3f5f\"},\"error_y\":{\"color\":\"#2a3f5f\"},\"marker\":{\"line\":{\"color\":\"#E5ECF6\",\"width\":0.5},\"pattern\":{\"fillmode\":\"overlay\",\"size\":10,\"solidity\":0.2}},\"type\":\"bar\"}],\"barpolar\":[{\"marker\":{\"line\":{\"color\":\"#E5ECF6\",\"width\":0.5},\"pattern\":{\"fillmode\":\"overlay\",\"size\":10,\"solidity\":0.2}},\"type\":\"barpolar\"}],\"carpet\":[{\"aaxis\":{\"endlinecolor\":\"#2a3f5f\",\"gridcolor\":\"white\",\"linecolor\":\"white\",\"minorgridcolor\":\"white\",\"startlinecolor\":\"#2a3f5f\"},\"baxis\":{\"endlinecolor\":\"#2a3f5f\",\"gridcolor\":\"white\",\"linecolor\":\"white\",\"minorgridcolor\":\"white\",\"startlinecolor\":\"#2a3f5f\"},\"type\":\"carpet\"}],\"choropleth\":[{\"colorbar\":{\"outlinewidth\":0,\"ticks\":\"\"},\"type\":\"choropleth\"}],\"contour\":[{\"colorbar\":{\"outlinewidth\":0,\"ticks\":\"\"},\"colorscale\":[[0.0,\"#0d0887\"],[0.1111111111111111,\"#46039f\"],[0.2222222222222222,\"#7201a8\"],[0.3333333333333333,\"#9c179e\"],[0.4444444444444444,\"#bd3786\"],[0.5555555555555556,\"#d8576b\"],[0.6666666666666666,\"#ed7953\"],[0.7777777777777778,\"#fb9f3a\"],[0.8888888888888888,\"#fdca26\"],[1.0,\"#f0f921\"]],\"type\":\"contour\"}],\"contourcarpet\":[{\"colorbar\":{\"outlinewidth\":0,\"ticks\":\"\"},\"type\":\"contourcarpet\"}],\"heatmap\":[{\"colorbar\":{\"outlinewidth\":0,\"ticks\":\"\"},\"colorscale\":[[0.0,\"#0d0887\"],[0.1111111111111111,\"#46039f\"],[0.2222222222222222,\"#7201a8\"],[0.3333333333333333,\"#9c179e\"],[0.4444444444444444,\"#bd3786\"],[0.5555555555555556,\"#d8576b\"],[0.6666666666666666,\"#ed7953\"],[0.7777777777777778,\"#fb9f3a\"],[0.8888888888888888,\"#fdca26\"],[1.0,\"#f0f921\"]],\"type\":\"heatmap\"}],\"heatmapgl\":[{\"colorbar\":{\"outlinewidth\":0,\"ticks\":\"\"},\"colorscale\":[[0.0,\"#0d0887\"],[0.1111111111111111,\"#46039f\"],[0.2222222222222222,\"#7201a8\"],[0.3333333333333333,\"#9c179e\"],[0.4444444444444444,\"#bd3786\"],[0.5555555555555556,\"#d8576b\"],[0.6666666666666666,\"#ed7953\"],[0.7777777777777778,\"#fb9f3a\"],[0.8888888888888888,\"#fdca26\"],[1.0,\"#f0f921\"]],\"type\":\"heatmapgl\"}],\"histogram\":[{\"marker\":{\"pattern\":{\"fillmode\":\"overlay\",\"size\":10,\"solidity\":0.2}},\"type\":\"histogram\"}],\"histogram2d\":[{\"colorbar\":{\"outlinewidth\":0,\"ticks\":\"\"},\"colorscale\":[[0.0,\"#0d0887\"],[0.1111111111111111,\"#46039f\"],[0.2222222222222222,\"#7201a8\"],[0.3333333333333333,\"#9c179e\"],[0.4444444444444444,\"#bd3786\"],[0.5555555555555556,\"#d8576b\"],[0.6666666666666666,\"#ed7953\"],[0.7777777777777778,\"#fb9f3a\"],[0.8888888888888888,\"#fdca26\"],[1.0,\"#f0f921\"]],\"type\":\"histogram2d\"}],\"histogram2dcontour\":[{\"colorbar\":{\"outlinewidth\":0,\"ticks\":\"\"},\"colorscale\":[[0.0,\"#0d0887\"],[0.1111111111111111,\"#46039f\"],[0.2222222222222222,\"#7201a8\"],[0.3333333333333333,\"#9c179e\"],[0.4444444444444444,\"#bd3786\"],[0.5555555555555556,\"#d8576b\"],[0.6666666666666666,\"#ed7953\"],[0.7777777777777778,\"#fb9f3a\"],[0.8888888888888888,\"#fdca26\"],[1.0,\"#f0f921\"]],\"type\":\"histogram2dcontour\"}],\"mesh3d\":[{\"colorbar\":{\"outlinewidth\":0,\"ticks\":\"\"},\"type\":\"mesh3d\"}],\"parcoords\":[{\"line\":{\"colorbar\":{\"outlinewidth\":0,\"ticks\":\"\"}},\"type\":\"parcoords\"}],\"pie\":[{\"automargin\":true,\"type\":\"pie\"}],\"scatter\":[{\"marker\":{\"colorbar\":{\"outlinewidth\":0,\"ticks\":\"\"}},\"type\":\"scatter\"}],\"scatter3d\":[{\"line\":{\"colorbar\":{\"outlinewidth\":0,\"ticks\":\"\"}},\"marker\":{\"colorbar\":{\"outlinewidth\":0,\"ticks\":\"\"}},\"type\":\"scatter3d\"}],\"scattercarpet\":[{\"marker\":{\"colorbar\":{\"outlinewidth\":0,\"ticks\":\"\"}},\"type\":\"scattercarpet\"}],\"scattergeo\":[{\"marker\":{\"colorbar\":{\"outlinewidth\":0,\"ticks\":\"\"}},\"type\":\"scattergeo\"}],\"scattergl\":[{\"marker\":{\"colorbar\":{\"outlinewidth\":0,\"ticks\":\"\"}},\"type\":\"scattergl\"}],\"scattermapbox\":[{\"marker\":{\"colorbar\":{\"outlinewidth\":0,\"ticks\":\"\"}},\"type\":\"scattermapbox\"}],\"scatterpolar\":[{\"marker\":{\"colorbar\":{\"outlinewidth\":0,\"ticks\":\"\"}},\"type\":\"scatterpolar\"}],\"scatterpolargl\":[{\"marker\":{\"colorbar\":{\"outlinewidth\":0,\"ticks\":\"\"}},\"type\":\"scatterpolargl\"}],\"scatterternary\":[{\"marker\":{\"colorbar\":{\"outlinewidth\":0,\"ticks\":\"\"}},\"type\":\"scatterternary\"}],\"surface\":[{\"colorbar\":{\"outlinewidth\":0,\"ticks\":\"\"},\"colorscale\":[[0.0,\"#0d0887\"],[0.1111111111111111,\"#46039f\"],[0.2222222222222222,\"#7201a8\"],[0.3333333333333333,\"#9c179e\"],[0.4444444444444444,\"#bd3786\"],[0.5555555555555556,\"#d8576b\"],[0.6666666666666666,\"#ed7953\"],[0.7777777777777778,\"#fb9f3a\"],[0.8888888888888888,\"#fdca26\"],[1.0,\"#f0f921\"]],\"type\":\"surface\"}],\"table\":[{\"cells\":{\"fill\":{\"color\":\"#EBF0F8\"},\"line\":{\"color\":\"white\"}},\"header\":{\"fill\":{\"color\":\"#C8D4E3\"},\"line\":{\"color\":\"white\"}},\"type\":\"table\"}]},\"layout\":{\"annotationdefaults\":{\"arrowcolor\":\"#2a3f5f\",\"arrowhead\":0,\"arrowwidth\":1},\"autotypenumbers\":\"strict\",\"coloraxis\":{\"colorbar\":{\"outlinewidth\":0,\"ticks\":\"\"}},\"colorscale\":{\"diverging\":[[0,\"#8e0152\"],[0.1,\"#c51b7d\"],[0.2,\"#de77ae\"],[0.3,\"#f1b6da\"],[0.4,\"#fde0ef\"],[0.5,\"#f7f7f7\"],[0.6,\"#e6f5d0\"],[0.7,\"#b8e186\"],[0.8,\"#7fbc41\"],[0.9,\"#4d9221\"],[1,\"#276419\"]],\"sequential\":[[0.0,\"#0d0887\"],[0.1111111111111111,\"#46039f\"],[0.2222222222222222,\"#7201a8\"],[0.3333333333333333,\"#9c179e\"],[0.4444444444444444,\"#bd3786\"],[0.5555555555555556,\"#d8576b\"],[0.6666666666666666,\"#ed7953\"],[0.7777777777777778,\"#fb9f3a\"],[0.8888888888888888,\"#fdca26\"],[1.0,\"#f0f921\"]],\"sequentialminus\":[[0.0,\"#0d0887\"],[0.1111111111111111,\"#46039f\"],[0.2222222222222222,\"#7201a8\"],[0.3333333333333333,\"#9c179e\"],[0.4444444444444444,\"#bd3786\"],[0.5555555555555556,\"#d8576b\"],[0.6666666666666666,\"#ed7953\"],[0.7777777777777778,\"#fb9f3a\"],[0.8888888888888888,\"#fdca26\"],[1.0,\"#f0f921\"]]},\"colorway\":[\"#636efa\",\"#EF553B\",\"#00cc96\",\"#ab63fa\",\"#FFA15A\",\"#19d3f3\",\"#FF6692\",\"#B6E880\",\"#FF97FF\",\"#FECB52\"],\"font\":{\"color\":\"#2a3f5f\"},\"geo\":{\"bgcolor\":\"white\",\"lakecolor\":\"white\",\"landcolor\":\"#E5ECF6\",\"showlakes\":true,\"showland\":true,\"subunitcolor\":\"white\"},\"hoverlabel\":{\"align\":\"left\"},\"hovermode\":\"closest\",\"mapbox\":{\"style\":\"light\"},\"paper_bgcolor\":\"white\",\"plot_bgcolor\":\"#E5ECF6\",\"polar\":{\"angularaxis\":{\"gridcolor\":\"white\",\"linecolor\":\"white\",\"ticks\":\"\"},\"bgcolor\":\"#E5ECF6\",\"radialaxis\":{\"gridcolor\":\"white\",\"linecolor\":\"white\",\"ticks\":\"\"}},\"scene\":{\"xaxis\":{\"backgroundcolor\":\"#E5ECF6\",\"gridcolor\":\"white\",\"gridwidth\":2,\"linecolor\":\"white\",\"showbackground\":true,\"ticks\":\"\",\"zerolinecolor\":\"white\"},\"yaxis\":{\"backgroundcolor\":\"#E5ECF6\",\"gridcolor\":\"white\",\"gridwidth\":2,\"linecolor\":\"white\",\"showbackground\":true,\"ticks\":\"\",\"zerolinecolor\":\"white\"},\"zaxis\":{\"backgroundcolor\":\"#E5ECF6\",\"gridcolor\":\"white\",\"gridwidth\":2,\"linecolor\":\"white\",\"showbackground\":true,\"ticks\":\"\",\"zerolinecolor\":\"white\"}},\"shapedefaults\":{\"line\":{\"color\":\"#2a3f5f\"}},\"ternary\":{\"aaxis\":{\"gridcolor\":\"white\",\"linecolor\":\"white\",\"ticks\":\"\"},\"baxis\":{\"gridcolor\":\"white\",\"linecolor\":\"white\",\"ticks\":\"\"},\"bgcolor\":\"#E5ECF6\",\"caxis\":{\"gridcolor\":\"white\",\"linecolor\":\"white\",\"ticks\":\"\"}},\"title\":{\"x\":0.05},\"xaxis\":{\"automargin\":true,\"gridcolor\":\"white\",\"linecolor\":\"white\",\"ticks\":\"\",\"title\":{\"standoff\":15},\"zerolinecolor\":\"white\",\"zerolinewidth\":2},\"yaxis\":{\"automargin\":true,\"gridcolor\":\"white\",\"linecolor\":\"white\",\"ticks\":\"\",\"title\":{\"standoff\":15},\"zerolinecolor\":\"white\",\"zerolinewidth\":2}}}},                        {\"responsive\": true}                    ).then(function(){\n",
       "                            \n",
       "var gd = document.getElementById('99f58ea1-4d5b-46dc-8bfe-e29b61da98f2');\n",
       "var x = new MutationObserver(function (mutations, observer) {{\n",
       "        var display = window.getComputedStyle(gd).display;\n",
       "        if (!display || display === 'none') {{\n",
       "            console.log([gd, 'removed!']);\n",
       "            Plotly.purge(gd);\n",
       "            observer.disconnect();\n",
       "        }}\n",
       "}});\n",
       "\n",
       "// Listen for the removal of the full notebook cells\n",
       "var notebookContainer = gd.closest('#notebook-container');\n",
       "if (notebookContainer) {{\n",
       "    x.observe(notebookContainer, {childList: true});\n",
       "}}\n",
       "\n",
       "// Listen for the clearing of the current output cell\n",
       "var outputEl = gd.closest('.output');\n",
       "if (outputEl) {{\n",
       "    x.observe(outputEl, {childList: true});\n",
       "}}\n",
       "\n",
       "                        })                };                });            </script>        </div>"
      ]
     },
     "metadata": {},
     "output_type": "display_data"
    }
   ],
   "source": [
    "fig = go.Figure()\n",
    "fig.add_trace(go.Bar( x = data1[\"Size\"] , y=data1[\"Number of products\"], name = \"Number of products\" ))\n",
    "fig.add_trace(go.Bar( x = data1[\"Size\"] , y=data1[\"Quantity Sold gms\"], name=\"Quantity Sold Kgs\"))"
   ]
  },
  {
   "cell_type": "code",
   "execution_count": null,
   "metadata": {},
   "outputs": [],
   "source": []
  }
 ],
 "metadata": {
  "kernelspec": {
   "display_name": "Python 3",
   "language": "python",
   "name": "python3"
  },
  "language_info": {
   "codemirror_mode": {
    "name": "ipython",
    "version": 3
   },
   "file_extension": ".py",
   "mimetype": "text/x-python",
   "name": "python",
   "nbconvert_exporter": "python",
   "pygments_lexer": "ipython3",
   "version": "3.8.5"
  }
 },
 "nbformat": 4,
 "nbformat_minor": 4
}
